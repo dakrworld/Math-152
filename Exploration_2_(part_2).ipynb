{
  "nbformat": 4,
  "nbformat_minor": 0,
  "metadata": {
    "colab": {
      "name": "Exploration 2 (part 2).ipynb",
      "provenance": [],
      "collapsed_sections": [],
      "authorship_tag": "ABX9TyOk9EaXGFOO5R1ac1DXdK69",
      "include_colab_link": true
    },
    "kernelspec": {
      "name": "python3",
      "display_name": "Python 3"
    },
    "language_info": {
      "name": "python"
    }
  },
  "cells": [
    {
      "cell_type": "markdown",
      "metadata": {
        "id": "view-in-github",
        "colab_type": "text"
      },
      "source": [
        "<a href=\"https://colab.research.google.com/github/dakrworld/Math-152/blob/main/Exploration_2_(part_2).ipynb\" target=\"_parent\"><img src=\"https://colab.research.google.com/assets/colab-badge.svg\" alt=\"Open In Colab\"/></a>"
      ]
    },
    {
      "cell_type": "code",
      "metadata": {
        "id": "0CLhZCbrpybM"
      },
      "source": [
        "import numpy as np\n",
        "import matplotlib.pyplot as plt\n",
        "from PIL import Image"
      ],
      "execution_count": 6,
      "outputs": []
    },
    {
      "cell_type": "markdown",
      "metadata": {
        "id": "HFhFz5JdJ5s2"
      },
      "source": [
        "For the second and last part of our exploration, we analyze the rate of convergence of Newton's method. We should qualify this statement, though. Given a guess x, the rate of convergence of x is the number of iterations of Newton's method before the sequence associated with x converges to a root of the function being considered (which is the same as in the first part). That is, if x is the first term of the sequence, the rate of convergence is the number of terms that separate it from the first term that is a root. \n",
        "\n",
        "As in the first part, we start by modelling Newton's method. We do this somewhat differently this time. Consider the following function:\n"
      ]
    },
    {
      "cell_type": "code",
      "metadata": {
        "id": "Zg7Q-xogprGs"
      },
      "source": [
        "def newton(x,n):\n",
        "  j=0\n",
        "  while j<n:\n",
        "    x=x-((x**3+x**2-2*x)/(3*x**2+2*x-2))\n",
        "    j=j+1\n",
        "  return x"
      ],
      "execution_count": 2,
      "outputs": []
    },
    {
      "cell_type": "markdown",
      "metadata": {
        "id": "4clMpEGaMIFS"
      },
      "source": [
        "It takes a complex number x and a natural number n as its inputs, and returns the nth term of the sequence associated with x as its output. \n",
        "\n",
        "If all we cared about were the rates of convergence of individual complex numbers, then we'd be done. We, however, want to analyze the rates of conergence of large numbers of complex numbers. For this, we need the following functions:"
      ]
    },
    {
      "cell_type": "code",
      "metadata": {
        "id": "N_ZX9sCYpjc4"
      },
      "source": [
        "def newton_one(x):\n",
        "  j=1\n",
        "  while newton(x,j)!=1:\n",
        "    j=j+1\n",
        "    if j>30:\n",
        "      return None\n",
        "  return j\n",
        "def newton_zero(x):\n",
        "  j=1\n",
        "  while newton(x,j)!=0:\n",
        "    j=j+1\n",
        "    if j>30:\n",
        "      return None\n",
        "  return j\n",
        "def newton_negtwo(x):\n",
        "  j=1\n",
        "  while newton(x,j)!=-2:\n",
        "    j=j+1\n",
        "    if j>30:\n",
        "      return None\n",
        "  return j\n",
        "\n"
      ],
      "execution_count": 42,
      "outputs": []
    },
    {
      "cell_type": "markdown",
      "metadata": {
        "id": "APPXP-cnNDim"
      },
      "source": [
        "All three do roughly the same thing, but for different roots. Thus, we can get the whole picture just by looking at one of them. Consider newton_one(n). It takes as its input a complex number. It then checks the first thirty terms of the sequence associated with x. If any of those terms equal 1, the sequence converges to the root 1; and so 1 is returned. If none of the thirty terms equal 1, then it can be safely said that the sequence does not converge to 1. (Based on our observations, complex numbers a reasonable distance from 1 virtually always converge to 1 within 30 iterations if they converge to 1 at all. Thus, we feel this is an appropriate way to determining whether a number converges to a root. Of course, large values of x that are far from 1 may take a considerable number of iterations to convergen to 1. In this case, the code can be adjusted accordingly.) Analogious statements can be made about the other two functions. \n",
        "\n",
        "Nest, we use these funtions to the rates of convergence of the complex numbers whose real and imaginary parts are between 0 and 10 (we can consider any square subset of the complex plane. Just adjust the ranges below accordingly). How we do this is, we think, clear: consider each point, compute its rate of convergence, and then add it to a list (L, in this case)."
      ]
    },
    {
      "cell_type": "code",
      "metadata": {
        "id": "oQzLbDN4pXyZ"
      },
      "source": [
        "\n",
        "G=[]\n",
        "for x in range(0,10):\n",
        "  for y in range(0,10):\n",
        "    G.append(x+y*1j)\n",
        "L=[]\n",
        "for s in G:\n",
        "  if newton_one(s)!=None:\n",
        "    L.append(newton_one(s))\n",
        "  if newton_zero(s)!=None:\n",
        "    L.append(newton_zero(s))\n",
        "  if newton_negtwo(s)!=None:\n",
        "    L.append(newton_negtwo(s))              "
      ],
      "execution_count": 37,
      "outputs": []
    },
    {
      "cell_type": "markdown",
      "metadata": {
        "id": "YLkGHD1-Pl6H"
      },
      "source": [
        "At this point, we have a list of rates of converge. To tease out any patterns, we plot these values using a histogram:"
      ]
    },
    {
      "cell_type": "code",
      "metadata": {
        "colab": {
          "base_uri": "https://localhost:8080/",
          "height": 729
        },
        "id": "TR8sCNlkpaW7",
        "outputId": "4c85df94-64f2-44cb-8abd-202ab75d628f"
      },
      "source": [
        "bins=list(range(1,max(L)))\n",
        "average=sum(L)/len(L)\n",
        "\n",
        "plt.figure(figsize=(10,10))\n",
        "plt.hist(L, bins, edgecolor='black') # Divide the range of numbers into 10 \"bins\".\n",
        "plt.grid()\n",
        "plt.title(\"Distribution of Various Rates of Convergence\")\n",
        "plt.xlabel(\"Number of Iterations Needed for Convergence\")\n",
        "plt.ylabel(\"Total Number of Points\")\n",
        "plt.tight_layout()\n",
        "plt.axhline(average, color='red', linewidth=5, label='Average')\n",
        "plt.legend()\n",
        "plt.show()"
      ],
      "execution_count": 43,
      "outputs": [
        {
          "output_type": "display_data",
          "data": {
            "image/png": "[encoded data removed]",
            "text/plain": [
              "<Figure size 720x720 with 1 Axes>"
            ]
          },
          "metadata": {
            "tags": [],
            "needs_background": "light"
          }
        }
      ]
    },
    {
      "cell_type": "markdown",
      "metadata": {
        "id": "ujIjVG39QCLa"
      },
      "source": [
        "The distribution appears to be roughly normal"
      ]
    },
    {
      "cell_type": "code",
      "metadata": {
        "id": "zscipwDorT6z"
      },
      "source": [
        ""
      ],
      "execution_count": null,
      "outputs": []
    }
  ]
}