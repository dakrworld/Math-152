{
  "nbformat": 4,
  "nbformat_minor": 0,
  "metadata": {
    "kernelspec": {
      "display_name": "Python 3",
      "language": "python",
      "name": "python3"
    },
    "language_info": {
      "codemirror_mode": {
        "name": "ipython",
        "version": 3
      },
      "file_extension": ".py",
      "mimetype": "text/x-python",
      "name": "python",
      "nbconvert_exporter": "python",
      "pygments_lexer": "ipython3",
      "version": "3.6.7"
    },
    "colab": {
      "name": "Copy of P4M Notebook 3.ipynb",
      "provenance": [],
      "collapsed_sections": [
        "k3Isc4hVo1Nm",
        "Gk4qkCSEo1No",
        "2dTiwVYho1Nr"
      ],
      "toc_visible": true,
      "include_colab_link": true
    }
  },
  "cells": [
    {
      "cell_type": "markdown",
      "metadata": {
        "id": "view-in-github",
        "colab_type": "text"
      },
      "source": [
        "<a href=\"https://colab.research.google.com/github/dakrworld/Math-152/blob/main/Copy_of_P4M_Notebook_3.ipynb\" target=\"_parent\"><img src=\"https://colab.research.google.com/assets/colab-badge.svg\" alt=\"Open In Colab\"/></a>"
      ]
    },
    {
      "cell_type": "markdown",
      "metadata": {
        "id": "6wh71ZCco1Nc"
      },
      "source": [
        "# Part 3:  Lists\n",
        "\n",
        "Python provides a powerful set of tools to create and manipulate lists of data. In this part, we take a deep dive into the Python list type.  This includes mutability, list methods, and slicing.\n",
        "\n",
        "\n",
        "Then we use Python lists to implement and optimize the Sieve of Eratosthenes, which will produce a list of all prime numbers up to a big number (like 10 million) in a snap. Along the way, we introduce some Python techniques for data analysis and visualization."
      ]
    },
    {
      "cell_type": "markdown",
      "metadata": {
        "id": "V1d8-qavo1Ng"
      },
      "source": [
        "## Primality testing"
      ]
    },
    {
      "cell_type": "markdown",
      "metadata": {
        "id": "o8GcrfMBo1Ng"
      },
      "source": [
        "Before diving into lists, we recall the **brute force** primality test that we created in the last lesson.  To test whether a number `n` is prime, we can simply check for factors.  This yields the following primality test."
      ]
    },
    {
      "cell_type": "code",
      "metadata": {
        "id": "PmShUfrWo1Nh"
      },
      "source": [
        "def is_prime(n):\n",
        "    '''\n",
        "    Checks whether the argument n is a prime number.\n",
        "    Uses a brute force search for factors between 1 and n.\n",
        "    '''\n",
        "    for j in range(2,n):  # the range of numbers 2,3,...,n-1.\n",
        "        if n%j == 0:  # is n divisible by j?\n",
        "            print(\"{} is a factor of {}.\".format(j,n))\n",
        "            return False\n",
        "    return True"
      ],
      "execution_count": null,
      "outputs": []
    },
    {
      "cell_type": "markdown",
      "metadata": {
        "id": "ps6dGQ_lo1Nh"
      },
      "source": [
        "We can also implement this test with a **while loop** instead of a for loop.  This doesn't make much of a difference, in Python 3.x.  (In Python 2.x, this would save memory)."
      ]
    },
    {
      "cell_type": "code",
      "metadata": {
        "id": "uyU1DxPjo1Nh"
      },
      "source": [
        "def is_prime(n):\n",
        "    '''\n",
        "    Checks whether the argument n is a prime number.\n",
        "    Uses a brute force search for factors between 1 and n.\n",
        "    '''\n",
        "    j = 2\n",
        "    while j < n:  # j will proceed through the list of numbers 2,3,...,n-1.\n",
        "        if n%j == 0:  # is n divisible by j?\n",
        "            print(\"{} is a factor of {}.\".format(j,n))\n",
        "            return False\n",
        "        j = j + 1  # There's a Python abbreviation for this:  j += 1.\n",
        "    return True"
      ],
      "execution_count": null,
      "outputs": []
    },
    {
      "cell_type": "code",
      "metadata": {
        "id": "n8VNDo3Ro1Nh",
        "colab": {
          "base_uri": "https://localhost:8080/"
        },
        "outputId": "bae141fb-133b-4ee5-b87d-c394feb11306"
      },
      "source": [
        "is_prime(10001)"
      ],
      "execution_count": null,
      "outputs": [
        {
          "output_type": "stream",
          "text": [
            "73 is a factor of 10001.\n"
          ],
          "name": "stdout"
        },
        {
          "output_type": "execute_result",
          "data": {
            "text/plain": [
              "False"
            ]
          },
          "metadata": {
            "tags": []
          },
          "execution_count": 3
        }
      ]
    },
    {
      "cell_type": "code",
      "metadata": {
        "id": "EwsTzmDJo1Nh"
      },
      "source": [
        "%timeit is_prime(8)"
      ],
      "execution_count": null,
      "outputs": []
    },
    {
      "cell_type": "markdown",
      "metadata": {
        "id": "LMiisxZko1Ni"
      },
      "source": [
        "If $n$ is a prime number, then the `is_prime(n)` function will iterate through all the numbers between $2$ and $n-1$.  But this is overkill!  Indeed, if $n$ is not prime, it will have a factor between $2$ and the square root of $n$.  This is because factors come in pairs:  if $ab = n$, then one of the factors, $a$ or $b$, must be less than or equal to the square root of $n$.  So it suffices to search for factors up to (and including) the square root of $n$."
      ]
    },
    {
      "cell_type": "markdown",
      "metadata": {
        "id": "QlS5mEtko1Ni"
      },
      "source": [
        "Even though we've made our own sqrt function, we load a fast one from the [standard math package](https://docs.python.org/3/library/math.html).  You can use this for square roots, trig functions, logs, and more.  Click the previous link for documentation.  This package doesn't load automatically when you start Python, so you have to load it with a little Python code."
      ]
    },
    {
      "cell_type": "code",
      "metadata": {
        "id": "StYgB3R2o1Ni"
      },
      "source": [
        "from math import sqrt"
      ],
      "execution_count": 3,
      "outputs": []
    },
    {
      "cell_type": "markdown",
      "metadata": {
        "id": "g5qCsftto1Ni"
      },
      "source": [
        "This command **imports** the square root function (`sqrt`) from the **package** called `math`.  Now you can find square roots."
      ]
    },
    {
      "cell_type": "code",
      "metadata": {
        "id": "yky_CASQo1Ni",
        "colab": {
          "base_uri": "https://localhost:8080/"
        },
        "outputId": "e430d680-8a8e-4bd9-c0e2-0c429d953685"
      },
      "source": [
        "sqrt(1000)"
      ],
      "execution_count": 4,
      "outputs": [
        {
          "output_type": "execute_result",
          "data": {
            "text/plain": [
              "31.622776601683793"
            ]
          },
          "metadata": {
            "tags": []
          },
          "execution_count": 4
        }
      ]
    },
    {
      "cell_type": "markdown",
      "metadata": {
        "id": "G6KIJi-Go1Ni"
      },
      "source": [
        "There are a few different ways to import functions from packages.  The above syntax is a good starting point, but sometimes problems can arise if different packages have functions with the same name.  Here are a few methods of importing the `sqrt` function and how they differ.\n",
        "\n",
        "`from math import sqrt`:  After this command, `sqrt` will refer to the function from the `math` package (overriding any previous definition).\n",
        "\n",
        "`import math`:  After this command, all the functions from the `math` package will be imported.  But to call `sqrt`, you would type a command like `math.sqrt(1000)`.  This is convenient if there are potential conflicts with other packages.\n",
        "\n",
        "`from math import *`:  After this command, all the functions from the `math` package will be imported.  To call them, you can access them directly with a command like `sqrt(1000)`.  This can easily cause conflicts with other packages, since packages can have hundreds of functions in them!\n",
        "\n",
        "`import math as mth`:  Some people like abbreviations.  This imports all the functions from the `math` package.  To call one, you type a command like `mth.sqrt(1000)`. "
      ]
    },
    {
      "cell_type": "code",
      "metadata": {
        "id": "DkMBWCH2o1Nj"
      },
      "source": [
        "import math"
      ],
      "execution_count": null,
      "outputs": []
    },
    {
      "cell_type": "code",
      "metadata": {
        "id": "JCOkoqBJo1Nj",
        "colab": {
          "base_uri": "https://localhost:8080/",
          "height": 164
        },
        "outputId": "bb2e86e3-c3f0-41af-829c-7d954910e9be"
      },
      "source": [
        "math.sqrt(1000)"
      ],
      "execution_count": 5,
      "outputs": [
        {
          "output_type": "error",
          "ename": "NameError",
          "evalue": "ignored",
          "traceback": [
            "\u001b[0;31m---------------------------------------------------------------------------\u001b[0m",
            "\u001b[0;31mNameError\u001b[0m                                 Traceback (most recent call last)",
            "\u001b[0;32m<ipython-input-5-11a28c5aa2ec>\u001b[0m in \u001b[0;36m<module>\u001b[0;34m()\u001b[0m\n\u001b[0;32m----> 1\u001b[0;31m \u001b[0mmath\u001b[0m\u001b[0;34m.\u001b[0m\u001b[0msqrt\u001b[0m\u001b[0;34m(\u001b[0m\u001b[0;36m1000\u001b[0m\u001b[0;34m)\u001b[0m\u001b[0;34m\u001b[0m\u001b[0;34m\u001b[0m\u001b[0m\n\u001b[0m",
            "\u001b[0;31mNameError\u001b[0m: name 'math' is not defined"
          ]
        }
      ]
    },
    {
      "cell_type": "code",
      "metadata": {
        "id": "1wHHxCBvo1Nj",
        "colab": {
          "base_uri": "https://localhost:8080/",
          "height": 164
        },
        "outputId": "b7fa78e9-d824-427e-87a7-965881f220a5"
      },
      "source": [
        "factorial(10)  # This will cause an error!"
      ],
      "execution_count": null,
      "outputs": [
        {
          "output_type": "error",
          "ename": "NameError",
          "evalue": "ignored",
          "traceback": [
            "\u001b[0;31m---------------------------------------------------------------------------\u001b[0m",
            "\u001b[0;31mNameError\u001b[0m                                 Traceback (most recent call last)",
            "\u001b[0;32m<ipython-input-10-e379444d4994>\u001b[0m in \u001b[0;36m<module>\u001b[0;34m()\u001b[0m\n\u001b[0;32m----> 1\u001b[0;31m \u001b[0mfactorial\u001b[0m\u001b[0;34m(\u001b[0m\u001b[0;36m10\u001b[0m\u001b[0;34m)\u001b[0m  \u001b[0;31m# This will cause an error!\u001b[0m\u001b[0;34m\u001b[0m\u001b[0;34m\u001b[0m\u001b[0m\n\u001b[0m",
            "\u001b[0;31mNameError\u001b[0m: name 'factorial' is not defined"
          ]
        }
      ]
    },
    {
      "cell_type": "code",
      "metadata": {
        "id": "q3_f65bdo1Nj",
        "colab": {
          "base_uri": "https://localhost:8080/"
        },
        "outputId": "2856ba18-f196-42e4-a027-05601325c254"
      },
      "source": [
        "math.factorial(10)  # This is ok, since the math package comes with a function called factorial."
      ],
      "execution_count": null,
      "outputs": [
        {
          "output_type": "execute_result",
          "data": {
            "text/plain": [
              "3628800"
            ]
          },
          "metadata": {
            "tags": []
          },
          "execution_count": 11
        }
      ]
    },
    {
      "cell_type": "markdown",
      "metadata": {
        "id": "PercB7IRo1Nj"
      },
      "source": [
        "Now let's improve our `is_prime(n)` function by searching for factors only up to the square root of the number `n`.  We consider two options."
      ]
    },
    {
      "cell_type": "code",
      "metadata": {
        "id": "1jFrsNtvo1Nj"
      },
      "source": [
        "def is_prime_slow(n):\n",
        "    '''\n",
        "    Checks whether the argument n is a prime number.\n",
        "    Uses a brute force search for factors between 1 and n.\n",
        "    '''\n",
        "    j = 2\n",
        "    while j <= sqrt(n):  # j will proceed through the list of numbers 2,3,... up to sqrt(n).\n",
        "        if n%j == 0:  # is n divisible by j?\n",
        "            print(\"{} is a factor of {}.\".format(j,n))\n",
        "            return False\n",
        "        j = j + 1  # There's a Python abbreviation for this:  j += 1.\n",
        "    return True"
      ],
      "execution_count": null,
      "outputs": []
    },
    {
      "cell_type": "code",
      "metadata": {
        "id": "kivEWwP8o1Nj"
      },
      "source": [
        "def is_prime_fast(n):\n",
        "    '''\n",
        "    Checks whether the argument n is a prime number.\n",
        "    Uses a brute force search for factors between 1 and n.\n",
        "    '''\n",
        "    j = 2\n",
        "    root_n = sqrt(n)\n",
        "    while j <= root_n:  # j will proceed through the list of numbers 2,3,... up to sqrt(n).\n",
        "        if n%j == 0:  # is n divisible by j?\n",
        "            print(\"{} is a factor of {}.\".format(j,n))\n",
        "            return False\n",
        "        j = j + 1  # There's a Python abbreviation for this:  j += 1.\n",
        "    return True"
      ],
      "execution_count": 10,
      "outputs": []
    },
    {
      "cell_type": "code",
      "metadata": {
        "id": "MYRn_kwAo1Nk",
        "colab": {
          "base_uri": "https://localhost:8080/"
        },
        "outputId": "eebec1cd-7b92-467d-b6a9-3831d6a5d404"
      },
      "source": [
        "is_prime_fast(0)"
      ],
      "execution_count": 18,
      "outputs": [
        {
          "output_type": "execute_result",
          "data": {
            "text/plain": [
              "True"
            ]
          },
          "metadata": {
            "tags": []
          },
          "execution_count": 18
        }
      ]
    },
    {
      "cell_type": "code",
      "metadata": {
        "id": "CycTNs3Yo1Nk",
        "colab": {
          "base_uri": "https://localhost:8080/",
          "height": 164
        },
        "outputId": "7d102ba6-ebb0-4adc-c05f-eb44f4a24dcc"
      },
      "source": [
        "is_prime_slow(3)"
      ],
      "execution_count": 15,
      "outputs": [
        {
          "output_type": "error",
          "ename": "NameError",
          "evalue": "ignored",
          "traceback": [
            "\u001b[0;31m---------------------------------------------------------------------------\u001b[0m",
            "\u001b[0;31mNameError\u001b[0m                                 Traceback (most recent call last)",
            "\u001b[0;32m<ipython-input-15-a844d830c52c>\u001b[0m in \u001b[0;36m<module>\u001b[0;34m()\u001b[0m\n\u001b[0;32m----> 1\u001b[0;31m \u001b[0mis_prime_slow\u001b[0m\u001b[0;34m(\u001b[0m\u001b[0;36m3\u001b[0m\u001b[0;34m)\u001b[0m\u001b[0;34m\u001b[0m\u001b[0;34m\u001b[0m\u001b[0m\n\u001b[0m",
            "\u001b[0;31mNameError\u001b[0m: name 'is_prime_slow' is not defined"
          ]
        }
      ]
    },
    {
      "cell_type": "markdown",
      "metadata": {
        "id": "a2_C-DRco1Nk"
      },
      "source": [
        "I've chosen function names with \"fast\" and \"slow\" in them.  But what makes them faster or slower?  Are they faster than the original?  And how can we tell?\n",
        "\n",
        "Python comes with a great set of tools for these questions.  The simplest (for the user) are the time utilities.  By placing the **magic** `%timeit` before a command, Python does something like the following:\n",
        "\n",
        "1.  Python makes a little container in your computer devoted to the computations, to avoid interference from other running programs if possible.\n",
        "2.  Python executes the command lots and lots of times.\n",
        "3.  Python averages the amount of time taken for each execution.  \n",
        "\n",
        "Give it a try below, to compare the speed of the functions `is_prime` (the original) with the new `is_prime_fast` and `is_prime_slow`.  Note that the `%timeit` commands might take a little while."
      ]
    },
    {
      "cell_type": "markdown",
      "metadata": {
        "id": "gBRDJBA3a2U9"
      },
      "source": [
        "*Warning!*  Before running the is_prime_fast and is_prime_slow functions within %timeit, please *remove* all print statements from the functions and recompile them.  Otherwise, you might end up printing a million things in your browser window, possibly crashing your computer."
      ]
    },
    {
      "cell_type": "code",
      "metadata": {
        "id": "9362eqX8o1Nk",
        "colab": {
          "base_uri": "https://localhost:8080/"
        },
        "outputId": "7ea4dfe8-86a3-459d-d461-920acba3c019"
      },
      "source": [
        "\n"
      ],
      "execution_count": null,
      "outputs": [
        {
          "output_type": "stream",
          "text": [
            "The slowest run took 4.93 times longer than the fastest. This could mean that an intermediate result is being cached.\n",
            "10000 loops, best of 3: 114 µs per loop\n"
          ],
          "name": "stdout"
        }
      ]
    },
    {
      "cell_type": "code",
      "metadata": {
        "id": "GlQqgs6Fo1Nk",
        "colab": {
          "base_uri": "https://localhost:8080/"
        },
        "outputId": "67d5836c-9e00-4510-b76b-64257ba1cc25"
      },
      "source": [
        "%timeit is_prime_slow(1000003)"
      ],
      "execution_count": null,
      "outputs": [
        {
          "output_type": "stream",
          "text": [
            "10000 loops, best of 3: 170 µs per loop\n"
          ],
          "name": "stdout"
        }
      ]
    },
    {
      "cell_type": "markdown",
      "metadata": {
        "id": "uR7IkJbEo1Nk"
      },
      "source": [
        "Time is measured in seconds, milliseconds (1 ms = 1/1000 second), microseconds (1 µs = 1/1,000,000 second), and nanoseconds (1 ns = 1/1,000,000,000 second).  So it might appear at first that `is_prime` is the fastest, or about the same speed.  But check the units!  The other two approaches are about a thousand times faster!  How much faster were they on your computer?"
      ]
    },
    {
      "cell_type": "code",
      "metadata": {
        "id": "hPOknCuUo1Nk",
        "colab": {
          "base_uri": "https://localhost:8080/"
        },
        "outputId": "5e2780b6-3405-4d10-81b6-5ecbe97791fb"
      },
      "source": [
        "is_prime_fast(10000000000037)  # Don't try this with `is_prime` unless you want to wait for a long time!"
      ],
      "execution_count": null,
      "outputs": [
        {
          "output_type": "execute_result",
          "data": {
            "text/plain": [
              "True"
            ]
          },
          "metadata": {
            "tags": []
          },
          "execution_count": 19
        }
      ]
    },
    {
      "cell_type": "markdown",
      "metadata": {
        "id": "YtkronFFo1Nl"
      },
      "source": [
        "Indeed, the `is_prime_fast(n)` function will go through a loop of length about `sqrt(n)` when `n` is prime.  But `is_prime(n)` will go through a loop of length about `n`.  Since `sqrt(n)` is much less than `n`, especially when `n` is large, the `is_prime_fast(n)` function is much faster.\n",
        "\n",
        "Between `is_prime_fast` and `is_prime_slow`, the difference is that the `fast` version **precomputes** the square root `sqrt(n)` before going through the loop, where the `slow` version repeats the `sqrt(n)` every time the loop is repeated.  Indeed, writing `while j <= sqrt(n):` suggests that Python might execute `sqrt(n)` every time to check.  This *might* lead to Python computing the same square root a million times... unnecessarily!  \n",
        "\n",
        "A basic principle of programming is to **avoid repetition**.  If you have the memory space, just compute once and store the result.  It will probably be faster to pull the result out of memory than to compute it again.\n",
        "\n",
        "Python does tend to be pretty smart, however.  It's possible that Python **is precomputing** `sqrt(n)` even in the slow loop, just because it's clever enough to tell in advance that the same thing is being computed over and over again.  This depends on your Python version and takes place behind the scenes.  If you want to figure it out, there's a whole set of tools (for advanced programmers) like the [disassembler](https://docs.python.org/3/library/dis.html) to figure out what Python is doing.\n",
        "\n",
        "If you feel like looking under the hood, the next few lines will display the `is_prime_fast` and `is_prime_slow` functions to bytecode.  Can you see how the `sqrt(n)` computation is carried out differently?"
      ]
    },
    {
      "cell_type": "code",
      "metadata": {
        "id": "hislzK3Lo1Nl"
      },
      "source": [
        "from dis import dis"
      ],
      "execution_count": null,
      "outputs": []
    },
    {
      "cell_type": "code",
      "metadata": {
        "id": "wQX1FSObo1Nl",
        "colab": {
          "base_uri": "https://localhost:8080/"
        },
        "outputId": "ee5064a7-ef55-442d-96f1-8cba1d4aa248"
      },
      "source": [
        "dis(is_prime_fast)"
      ],
      "execution_count": null,
      "outputs": [
        {
          "output_type": "stream",
          "text": [
            "  6           0 LOAD_CONST               1 (2)\n",
            "              2 STORE_FAST               1 (j)\n",
            "\n",
            "  7           4 LOAD_GLOBAL              0 (sqrt)\n",
            "              6 LOAD_FAST                0 (n)\n",
            "              8 CALL_FUNCTION            1\n",
            "             10 STORE_FAST               2 (root_n)\n",
            "\n",
            "  8          12 SETUP_LOOP              52 (to 66)\n",
            "        >>   14 LOAD_FAST                1 (j)\n",
            "             16 LOAD_FAST                2 (root_n)\n",
            "             18 COMPARE_OP               1 (<=)\n",
            "             20 POP_JUMP_IF_FALSE       64\n",
            "\n",
            "  9          22 LOAD_FAST                0 (n)\n",
            "             24 LOAD_FAST                1 (j)\n",
            "             26 BINARY_MODULO\n",
            "             28 LOAD_CONST               2 (0)\n",
            "             30 COMPARE_OP               2 (==)\n",
            "             32 POP_JUMP_IF_FALSE       54\n",
            "\n",
            " 10          34 LOAD_GLOBAL              1 (print)\n",
            "             36 LOAD_CONST               3 ('{} is a factor of {}.')\n",
            "             38 LOAD_ATTR                2 (format)\n",
            "             40 LOAD_FAST                1 (j)\n",
            "             42 LOAD_FAST                0 (n)\n",
            "             44 CALL_FUNCTION            2\n",
            "             46 CALL_FUNCTION            1\n",
            "             48 POP_TOP\n",
            "\n",
            " 11          50 LOAD_CONST               4 (False)\n",
            "             52 RETURN_VALUE\n",
            "\n",
            " 12     >>   54 LOAD_FAST                1 (j)\n",
            "             56 LOAD_CONST               5 (1)\n",
            "             58 BINARY_ADD\n",
            "             60 STORE_FAST               1 (j)\n",
            "             62 JUMP_ABSOLUTE           14\n",
            "        >>   64 POP_BLOCK\n",
            "\n",
            " 13     >>   66 LOAD_CONST               6 (True)\n",
            "             68 RETURN_VALUE\n"
          ],
          "name": "stdout"
        }
      ]
    },
    {
      "cell_type": "code",
      "metadata": {
        "id": "M_T0805ko1Nl",
        "colab": {
          "base_uri": "https://localhost:8080/"
        },
        "outputId": "14688fe7-1bd7-4368-d9dc-1e060a40da04"
      },
      "source": [
        "dis(is_prime_slow)"
      ],
      "execution_count": null,
      "outputs": [
        {
          "output_type": "stream",
          "text": [
            "  6           0 LOAD_CONST               1 (2)\n",
            "              2 STORE_FAST               1 (j)\n",
            "\n",
            "  7           4 SETUP_LOOP              56 (to 62)\n",
            "        >>    6 LOAD_FAST                1 (j)\n",
            "              8 LOAD_GLOBAL              0 (sqrt)\n",
            "             10 LOAD_FAST                0 (n)\n",
            "             12 CALL_FUNCTION            1\n",
            "             14 COMPARE_OP               1 (<=)\n",
            "             16 POP_JUMP_IF_FALSE       60\n",
            "\n",
            "  8          18 LOAD_FAST                0 (n)\n",
            "             20 LOAD_FAST                1 (j)\n",
            "             22 BINARY_MODULO\n",
            "             24 LOAD_CONST               2 (0)\n",
            "             26 COMPARE_OP               2 (==)\n",
            "             28 POP_JUMP_IF_FALSE       50\n",
            "\n",
            "  9          30 LOAD_GLOBAL              1 (print)\n",
            "             32 LOAD_CONST               3 ('{} is a factor of {}.')\n",
            "             34 LOAD_ATTR                2 (format)\n",
            "             36 LOAD_FAST                1 (j)\n",
            "             38 LOAD_FAST                0 (n)\n",
            "             40 CALL_FUNCTION            2\n",
            "             42 CALL_FUNCTION            1\n",
            "             44 POP_TOP\n",
            "\n",
            " 10          46 LOAD_CONST               4 (False)\n",
            "             48 RETURN_VALUE\n",
            "\n",
            " 11     >>   50 LOAD_FAST                1 (j)\n",
            "             52 LOAD_CONST               5 (1)\n",
            "             54 BINARY_ADD\n",
            "             56 STORE_FAST               1 (j)\n",
            "             58 JUMP_ABSOLUTE            6\n",
            "        >>   60 POP_BLOCK\n",
            "\n",
            " 12     >>   62 LOAD_CONST               6 (True)\n",
            "             64 RETURN_VALUE\n"
          ],
          "name": "stdout"
        }
      ]
    },
    {
      "cell_type": "code",
      "metadata": {
        "id": "1mendW3Uo1Nl",
        "colab": {
          "base_uri": "https://localhost:8080/"
        },
        "outputId": "04e118cb-087a-4918-c2a7-bafe798b2aef"
      },
      "source": [
        "is_prime_fast(10**14 + 37) # This might get a bit of delay."
      ],
      "execution_count": null,
      "outputs": [
        {
          "output_type": "stream",
          "text": [
            "1858741 is a factor of 100000000000037.\n"
          ],
          "name": "stdout"
        },
        {
          "output_type": "execute_result",
          "data": {
            "text/plain": [
              "False"
            ]
          },
          "metadata": {
            "tags": []
          },
          "execution_count": 24
        }
      ]
    },
    {
      "cell_type": "markdown",
      "metadata": {
        "id": "DUEOKxtoo1Nm"
      },
      "source": [
        "Now we have a function `is_prime_fast(n)` that is speedy for numbers `n` in the trillions!  You'll probably start to hit a delay around $10^{15}$ or so, and the delays will become intolerable if you add too many more digits.  In a future lesson, we will see a different primality test that will be essentially instant even for numbers around $10^{1000}$!  "
      ]
    },
    {
      "cell_type": "markdown",
      "metadata": {
        "id": "NCv3bAIco1Nm"
      },
      "source": [
        "### Exercises\n",
        "\n",
        "1.  To check whether a number `n` is prime, you can first check whether `n` is even, and then check whether `n` has any odd factors.  Change the `is_prime_fast` function by implementing this improvement.  How much of a speedup did you get?\n",
        "\n",
        "2.  Use the `%timeit` tool to study the speed of `is_prime_fast` for various sizes of `n`.  Using about 10 data points, relate the size of `n` to the time taken by the `is_prime_fast` function.\n",
        "\n",
        "3.  Write a function `is_square(n)` to test whether a given integer `n` is a perfect square (like 0, 1, 4, 9, 16, etc.).  How fast can you make it run?  Describe the different approaches you try and which are fastest."
      ]
    },
    {
      "cell_type": "code",
      "metadata": {
        "id": "itvQfFqdcHe1"
      },
      "source": [
        "1.\n",
        "def is_prime_fast(n):\n",
        "  j=3\n",
        "  root_n=sqrt(n)\n",
        "\n",
        "  if n%2==0:\n",
        "    print(\"{} is even.\".format(n))\n",
        "    return False \n",
        "\n",
        "  else:\n",
        "    while j <= root_n:\n",
        "      if n%j == 0:\n",
        "        print(\"{} is a factor of {}.\".format(j,n))\n",
        "        return False\n",
        "      j=j+2  \n",
        "  return True    \n",
        "\n",
        "     "
      ],
      "execution_count": 52,
      "outputs": []
    },
    {
      "cell_type": "code",
      "metadata": {
        "id": "zVy__owoyfGJ"
      },
      "source": [
        "def is_prime_fast(n):\n",
        "  j=3\n",
        "  root_n=sqrt(n)\n",
        "\n",
        "  if n%2==0:\n",
        "    \n",
        "    return False \n",
        "\n",
        "  else:\n",
        "    while j <= root_n:\n",
        "      if n%j == 0:\n",
        "        \n",
        "        return False\n",
        "      j=j+2  \n",
        "  return True    \n"
      ],
      "execution_count": 164,
      "outputs": []
    },
    {
      "cell_type": "markdown",
      "metadata": {
        "id": "PKxfAnb3UrH5"
      },
      "source": [
        "The size of the speedup is substantially dependent on our choice of n. For composite numbers such as n=9 and n=1001, the speedup is only about 2 µs. Conversely, the speedup for prime numbers like n=97 is on the order of 300 ns.\n",
        "\n",
        "This is precisely what we would expect. With our code, the number of iterations required to determine if a number has odd factors is roughly halved. That, however, only makes a big difference if the initial number of iterations is large. Numbers like 9 and 1001 have small odd factors (3 and 7, respectively), so the number of iterations required for the original code is small--say six. This means that if the number of iterations is halved, it becomes three, which is not too much smaller than six as far as code is concerned. On the other hand, 97 is prime, so quite a few iterations are needed (the floor of its squareroot, specifically). Thus, to halve the number of iterations is rather significant. This accounts for our findings. \n"
      ]
    },
    {
      "cell_type": "code",
      "metadata": {
        "id": "glQv3K0fCKMW",
        "colab": {
          "base_uri": "https://localhost:8080/"
        },
        "outputId": "ecf4e83c-d5e3-4dc4-9987-30aab4f0d346"
      },
      "source": [
        "2.\n",
        "%timeit is_prime_fast(5)\n",
        "%timeit is_prime_fast(49)\n",
        "%timeit is_prime_fast(61)\n",
        "%timeit is_prime_fast(97)\n",
        "%timeit is_prime_fast(502)\n",
        "%timeit is_prime_fast(803)\n",
        "%timeit is_prime_fast(9864)\n",
        "%timeit is_prime_fast(10268)\n",
        "%timeit is_prime_fast(2333)\n",
        "%timeit is_prime_fast(1000000)\n"
      ],
      "execution_count": 170,
      "outputs": [
        {
          "output_type": "stream",
          "text": [
            "The slowest run took 35.19 times longer than the fastest. This could mean that an intermediate result is being cached.\n",
            "1000000 loops, best of 3: 201 ns per loop\n",
            "The slowest run took 6.45 times longer than the fastest. This could mean that an intermediate result is being cached.\n",
            "1000000 loops, best of 3: 432 ns per loop\n",
            "The slowest run took 6.95 times longer than the fastest. This could mean that an intermediate result is being cached.\n",
            "1000000 loops, best of 3: 507 ns per loop\n",
            "The slowest run took 6.97 times longer than the fastest. This could mean that an intermediate result is being cached.\n",
            "1000000 loops, best of 3: 605 ns per loop\n",
            "The slowest run took 17.61 times longer than the fastest. This could mean that an intermediate result is being cached.\n",
            "10000000 loops, best of 3: 159 ns per loop\n",
            "The slowest run took 16.63 times longer than the fastest. This could mean that an intermediate result is being cached.\n",
            "1000000 loops, best of 3: 646 ns per loop\n",
            "The slowest run took 19.97 times longer than the fastest. This could mean that an intermediate result is being cached.\n",
            "10000000 loops, best of 3: 159 ns per loop\n",
            "The slowest run took 15.82 times longer than the fastest. This could mean that an intermediate result is being cached.\n",
            "10000000 loops, best of 3: 158 ns per loop\n",
            "100000 loops, best of 3: 2.47 µs per loop\n",
            "The slowest run took 19.93 times longer than the fastest. This could mean that an intermediate result is being cached.\n",
            "10000000 loops, best of 3: 159 ns per loop\n"
          ],
          "name": "stdout"
        }
      ]
    },
    {
      "cell_type": "markdown",
      "metadata": {
        "id": "x39lUmAy0IEe"
      },
      "source": [
        "These results clearly show that the size of n has nothing to do with the time taken by the is_prime_function to determine if it is prime or not. This, as we touched on in problem 1, is due to the fact that it is the size of n's smallest factor that matters. A number like 1000000 can be dealt with quickly because its smallest factor is 2 and is, therefore, identified quickly. On the other hand, 61 is prime, so the is_prime_function has to check 1,2,3,... all the way up to sqrt(61) (or rather, the largeset integer less than sqrt(61)). That is a length process in comparison."
      ]
    },
    {
      "cell_type": "code",
      "metadata": {
        "colab": {
          "base_uri": "https://localhost:8080/"
        },
        "id": "46ratJEny6v-",
        "outputId": "77d4ade1-22ec-49ef-dc02-1db1b6a2da39"
      },
      "source": [
        "%timeit is_prime_fast(100000)"
      ],
      "execution_count": 169,
      "outputs": [
        {
          "output_type": "stream",
          "text": [
            "The slowest run took 20.97 times longer than the fastest. This could mean that an intermediate result is being cached.\n",
            "10000000 loops, best of 3: 158 ns per loop\n"
          ],
          "name": "stdout"
        }
      ]
    },
    {
      "cell_type": "code",
      "metadata": {
        "id": "yypTagyeda4g"
      },
      "source": [
        "3.\n",
        "def is_square(n):\n",
        "  j=0\n",
        "  while j<=n:\n",
        "    if n==j**2:\n",
        "      print('square')\n",
        "      return None\n",
        "    j=j+1    \n",
        "  print('not square') \n"
      ],
      "execution_count": 72,
      "outputs": []
    },
    {
      "cell_type": "code",
      "metadata": {
        "id": "cg5XOukUrWfl"
      },
      "source": [
        "def is_square(n):\n",
        "  j=0\n",
        "  while j<=sqrt(n):\n",
        "    if n==j**2:\n",
        "      print('square')\n",
        "      return None\n",
        "    j=j+1    \n",
        "  print('not square')"
      ],
      "execution_count": 159,
      "outputs": []
    },
    {
      "cell_type": "code",
      "metadata": {
        "id": "Ck-F0bKErTtQ"
      },
      "source": [
        "def is_square(n):\n",
        "  j=0\n",
        "  root_n=sqrt(n)\n",
        "  while j<=root_n:\n",
        "    if n==j**2:\n",
        "      print('square')\n",
        "      return None\n",
        "    j=j+1    \n",
        "  print('not square')  "
      ],
      "execution_count": 161,
      "outputs": []
    },
    {
      "cell_type": "code",
      "metadata": {
        "id": "uMJ4iISujkWw"
      },
      "source": [
        "def is_square(n):\n",
        "  root_n=sqrt(n)\n",
        "  if n%2==0:\n",
        "    j=0\n",
        "    while j<=root_n:\n",
        "      if n==j**2:\n",
        "        print('square')\n",
        "        return None\n",
        "      j=j+2\n",
        "    print('not square')      \n",
        "  \n",
        "  else:\n",
        "    j=1\n",
        "    while j<=root_n:\n",
        "      if n==j**2:\n",
        "        print('square')\n",
        "        return None\n",
        "      j=j+2    \n",
        "    print('not square')\n"
      ],
      "execution_count": 155,
      "outputs": []
    },
    {
      "cell_type": "markdown",
      "metadata": {
        "id": "tr8FyHj5ekoO"
      },
      "source": [
        "This first approach is, in my opinion, the most intuitive. The code checks every nonnegative integer less than or equal to n-1 see if it is the square root of n. If it is, the code ceases, and if it is not, the code moves on to another integer. \n",
        "\n",
        "The second approach is more or less the same as the first approach, the only difference being that, instead of checking every integer between 0 and n-1, it checks every nonnegative integer less than or equal to n-1. This makes sense in light of the fact that if j is such that j^2=n, then j<=sqrt(n) (this is obvious). \n",
        "\n",
        "The third aporoach is also very similar to the first (and therefore, the second). All we did for this one was set root_n equal to sqrt(n). This, as was explained above, leads to sqrt(n) not having to be computed over and over again (it gets computed once and only once at the beginning of the code).\n",
        "\n",
        "This last draws on the previous ones, but is also inspired by problem 1. Since the square roots of even and odd numbers are even and odd, respectively, we only check even numbers if n is even, odd numbers is n is odd. This has more or less the same effect as in problem 1.\n",
        "\n",
        "It is not entirely clear which approach is the fastest, which is surprising, as one would expecft the last one to be the fastest seeing as how the technique it makes use of significantly sped up the is_prime_fast function we considered in problem 1. \n",
        "\n",
        "It is pretty clear that the last approach is the fastest (for n=80, it beats out the others by approximately 8 us, and for n=10001, it beats them out by approximately 50 us). Next is the second to last approach, after that the the third to last approach, and dead last is the first approach. These are the results we were expecting. Interestingly, though, the second approach is faster than the third for some small numbers."
      ]
    },
    {
      "cell_type": "code",
      "metadata": {
        "colab": {
          "base_uri": "https://localhost:8080/"
        },
        "id": "CcyMji7Sdw4i",
        "outputId": "791646b4-2d36-4164-a6cf-8c93a1a3f9f3"
      },
      "source": [
        "is_square(9)"
      ],
      "execution_count": 73,
      "outputs": [
        {
          "output_type": "stream",
          "text": [
            "square\n"
          ],
          "name": "stdout"
        }
      ]
    },
    {
      "cell_type": "markdown",
      "metadata": {
        "id": "7Wd7YSnxo1Nm"
      },
      "source": [
        "We have already (briefly) encountered the `list` type in Python.  Recall that the `range` command produces a range, which can be used to produce a list.  For example, `list(range(10))` produces the list `[0,1,2,3,4,5,6,7,8,9]`.  You can also create your own list by a writing out its terms, e.g. `L = [4,7,10]`.\n",
        "\n",
        "Here we work with lists, and a very Pythonic approach to list manipulation.  With practice, this can be a powerful tool to write fast algorithms, exploiting the hard-wired capability of your computer to shift and slice large chunks of data.  Our eventual application will be to implement the Sieve of Eratosthenes, producing a long list of prime numbers (without using any `is_prime` test along the way)."
      ]
    },
    {
      "cell_type": "markdown",
      "metadata": {
        "id": "60AyLZgto1Nm"
      },
      "source": [
        "We begin by creating a list to play with.  We mix numbers and strings... just for fun."
      ]
    },
    {
      "cell_type": "code",
      "metadata": {
        "id": "LqlPEQ6jo1Nm"
      },
      "source": [
        "L = [0,'one',2,'three',4,'five',6,'seven',8,'nine',10]"
      ],
      "execution_count": null,
      "outputs": []
    },
    {
      "cell_type": "markdown",
      "metadata": {
        "id": "k3Isc4hVo1Nm"
      },
      "source": [
        "### List terms and indices\n",
        "\n",
        "Notice that the entries in a list can be of any type.  The above list `L` has some integer entries and some string entries.  Lists are **ordered** in Python, **starting at zero**.  One can access the $n^{th}$ entry in a list with a command like `L[n]`.  "
      ]
    },
    {
      "cell_type": "code",
      "metadata": {
        "id": "P6pVVcg7o1Nn",
        "colab": {
          "base_uri": "https://localhost:8080/",
          "height": 35
        },
        "outputId": "e38e7869-f077-43fd-8216-8f69e348f0e4"
      },
      "source": [
        "L[3]"
      ],
      "execution_count": null,
      "outputs": [
        {
          "output_type": "execute_result",
          "data": {
            "application/vnd.google.colaboratory.intrinsic+json": {
              "type": "string"
            },
            "text/plain": [
              "'three'"
            ]
          },
          "metadata": {
            "tags": []
          },
          "execution_count": 69
        }
      ]
    },
    {
      "cell_type": "code",
      "metadata": {
        "id": "jX8qwH8Co1Nn",
        "colab": {
          "base_uri": "https://localhost:8080/"
        },
        "outputId": "6bf7e3fb-31fb-4a62-84d1-f8c05b1e135c"
      },
      "source": [
        "print(L[3])  # Note that Python has slightly different approaches to the print-function, and the output above."
      ],
      "execution_count": null,
      "outputs": [
        {
          "output_type": "stream",
          "text": [
            "three\n"
          ],
          "name": "stdout"
        }
      ]
    },
    {
      "cell_type": "code",
      "metadata": {
        "id": "SrEwDHyRo1Nn",
        "colab": {
          "base_uri": "https://localhost:8080/"
        },
        "outputId": "c6e84ad6-c3a8-4bd6-923a-dafcfedce86c"
      },
      "source": [
        "print(L[4])  # We will use the print function, because it makes our printing intentions clear."
      ],
      "execution_count": null,
      "outputs": [
        {
          "output_type": "stream",
          "text": [
            "4\n"
          ],
          "name": "stdout"
        }
      ]
    },
    {
      "cell_type": "code",
      "metadata": {
        "id": "Z-ZCNLx4o1Nn",
        "colab": {
          "base_uri": "https://localhost:8080/"
        },
        "outputId": "d6787550-d009-44a0-d63e-6da8b45fcaf1"
      },
      "source": [
        "print(L[0])"
      ],
      "execution_count": null,
      "outputs": [
        {
          "output_type": "stream",
          "text": [
            "0\n"
          ],
          "name": "stdout"
        }
      ]
    },
    {
      "cell_type": "markdown",
      "metadata": {
        "id": "9Rd1gPF9o1Nn"
      },
      "source": [
        "The location of an entry is called its **index**.  So *at* the index 3, the list `L` stores the entry `three`.  Note that the same entry can occur in many places in a list.  E.g. `[7,7,7]` is a list with 7 at the zeroth, first, and second index."
      ]
    },
    {
      "cell_type": "code",
      "metadata": {
        "id": "SHWaHBmAo1Nn",
        "colab": {
          "base_uri": "https://localhost:8080/"
        },
        "outputId": "e6703a13-24ac-469a-fe22-301277f3da8a"
      },
      "source": [
        "print(L[-1])\n",
        "print(L[-2])"
      ],
      "execution_count": null,
      "outputs": [
        {
          "output_type": "stream",
          "text": [
            "10\n",
            "nine\n"
          ],
          "name": "stdout"
        }
      ]
    },
    {
      "cell_type": "markdown",
      "metadata": {
        "id": "N8U8KO9Do1Nn"
      },
      "source": [
        "The last bit of code demonstrates a cool Python trick.  The \"-1st\" entry in a list refers to the last entry. The \"-2nd entry\" refers to the second-to-last entry, and so on.  It gives a convenient way to access both sides of the list, even if you don't know how long it is.\n",
        "\n",
        "Of course, you can use Python to find out how long a list is."
      ]
    },
    {
      "cell_type": "code",
      "metadata": {
        "id": "U69qteuto1Nn",
        "colab": {
          "base_uri": "https://localhost:8080/"
        },
        "outputId": "25b64de2-57d5-46ed-cc71-317723d82a37"
      },
      "source": [
        "len(L)"
      ],
      "execution_count": null,
      "outputs": [
        {
          "output_type": "execute_result",
          "data": {
            "text/plain": [
              "11"
            ]
          },
          "metadata": {
            "tags": []
          },
          "execution_count": 74
        }
      ]
    },
    {
      "cell_type": "markdown",
      "metadata": {
        "id": "pVI66GEIo1No"
      },
      "source": [
        "You can also use Python to find the sum of a list of numbers."
      ]
    },
    {
      "cell_type": "code",
      "metadata": {
        "id": "XmBojrfto1No",
        "colab": {
          "base_uri": "https://localhost:8080/"
        },
        "outputId": "3a5ef80a-65a2-4b33-8ccc-4723723e4360"
      },
      "source": [
        "sum([1,2,3,4,5])"
      ],
      "execution_count": null,
      "outputs": [
        {
          "output_type": "execute_result",
          "data": {
            "text/plain": [
              "15"
            ]
          },
          "metadata": {
            "tags": []
          },
          "execution_count": 75
        }
      ]
    },
    {
      "cell_type": "code",
      "metadata": {
        "id": "7vO8uSwho1No",
        "colab": {
          "base_uri": "https://localhost:8080/"
        },
        "outputId": "38986580-81c6-4a12-8080-0859b356055e"
      },
      "source": [
        "sum(range(100))  # Be careful.  This is the sum of which numbers?  # The sum function can take lists or ranges."
      ],
      "execution_count": null,
      "outputs": [
        {
          "output_type": "execute_result",
          "data": {
            "text/plain": [
              "4950"
            ]
          },
          "metadata": {
            "tags": []
          },
          "execution_count": 76
        }
      ]
    },
    {
      "cell_type": "markdown",
      "metadata": {
        "id": "Gk4qkCSEo1No"
      },
      "source": [
        "### List slicing\n",
        "\n",
        "**Slicing** lists allows us to create new lists (or ranges) from old lists (or ranges), by chopping off one end or the other, or even slicing out entries at a fixed interval.  The simplest syntax has the form `L[a:b]` where `a` denotes the index of the starting entry and index of the final entry is one less than `b`.  It is best to try a few examples to get a feel for it.\n",
        "\n",
        "Slicing a list with a command like `L[a:b]` doesn't actually *change* the original list `L`.  It just extracts some terms from the list and outputs those terms.  Soon enough, we will change the list `L` using a list assignment."
      ]
    },
    {
      "cell_type": "code",
      "metadata": {
        "id": "8QNDpqJ9o1No",
        "colab": {
          "base_uri": "https://localhost:8080/"
        },
        "outputId": "edb4d2a7-31e6-4ab8-ff96-17345ec01016"
      },
      "source": [
        "L[0:5]"
      ],
      "execution_count": null,
      "outputs": [
        {
          "output_type": "execute_result",
          "data": {
            "text/plain": [
              "[0, 'one', 2, 'three', 4]"
            ]
          },
          "metadata": {
            "tags": []
          },
          "execution_count": 77
        }
      ]
    },
    {
      "cell_type": "code",
      "metadata": {
        "id": "gzEnfHqvo1No",
        "colab": {
          "base_uri": "https://localhost:8080/"
        },
        "outputId": "fe6f11c3-adb8-4312-9bbc-94c050027f56"
      },
      "source": [
        "L[5:11]  # Notice that L[0:5] and L[5:11] together recover the whole list."
      ],
      "execution_count": null,
      "outputs": [
        {
          "output_type": "execute_result",
          "data": {
            "text/plain": [
              "['five', 6, 'seven', 8, 'nine', 10]"
            ]
          },
          "metadata": {
            "tags": []
          },
          "execution_count": 78
        }
      ]
    },
    {
      "cell_type": "code",
      "metadata": {
        "id": "MOzb4reTo1No",
        "colab": {
          "base_uri": "https://localhost:8080/"
        },
        "outputId": "aefc6b9c-dc4e-44a5-a89e-89c9e75f6509"
      },
      "source": [
        "L[3:7]"
      ],
      "execution_count": null,
      "outputs": [
        {
          "output_type": "execute_result",
          "data": {
            "text/plain": [
              "['three', 4, 'five', 6]"
            ]
          },
          "metadata": {
            "tags": []
          },
          "execution_count": 79
        }
      ]
    },
    {
      "cell_type": "markdown",
      "metadata": {
        "id": "Z1VPqRtoo1No"
      },
      "source": [
        "This continues the strange (for beginners) Python convention of starting at the first number and ending just before the last number.  Compare to `range(3,7)`, for example.  "
      ]
    },
    {
      "cell_type": "markdown",
      "metadata": {
        "id": "MrnvG511o1No"
      },
      "source": [
        "The command `L[0:5]` can be replaced by `L[:5]` to abbreviate.  The empty opening index tells Python to start at the beginning.  Similarly, the command `L[5:11]` can be replaced by `L[5:]`.  The empty closing index tells Python to end the slice and the end.  This is helpful if one doesn't know where the list ends."
      ]
    },
    {
      "cell_type": "code",
      "metadata": {
        "id": "-jgLcoWWo1Nq",
        "colab": {
          "base_uri": "https://localhost:8080/"
        },
        "outputId": "814c9790-8834-47ac-b043-e3d52511a7cd"
      },
      "source": [
        "L[:5]"
      ],
      "execution_count": null,
      "outputs": [
        {
          "output_type": "execute_result",
          "data": {
            "text/plain": [
              "[0, 'one', 2, 'three', 4]"
            ]
          },
          "metadata": {
            "tags": []
          },
          "execution_count": 80
        }
      ]
    },
    {
      "cell_type": "code",
      "metadata": {
        "id": "RC8VS_66o1Nq",
        "colab": {
          "base_uri": "https://localhost:8080/"
        },
        "outputId": "3d36f049-5583-4b19-afc6-0e683ecececb"
      },
      "source": [
        "L[3:]"
      ],
      "execution_count": null,
      "outputs": [
        {
          "output_type": "execute_result",
          "data": {
            "text/plain": [
              "['three', 4, 'five', 6, 'seven', 8, 'nine', 10]"
            ]
          },
          "metadata": {
            "tags": []
          },
          "execution_count": 81
        }
      ]
    },
    {
      "cell_type": "markdown",
      "metadata": {
        "id": "NNnM3hfOo1Nq"
      },
      "source": [
        "Just like the `range` command, list slicing can take an optional third argument to give a step size.  To understand this, try the command below."
      ]
    },
    {
      "cell_type": "code",
      "metadata": {
        "id": "zoxAvxDdo1Nq",
        "colab": {
          "base_uri": "https://localhost:8080/"
        },
        "outputId": "7e4d04e8-086c-4f47-e8d7-93954c15ecda"
      },
      "source": [
        "L[2:10]"
      ],
      "execution_count": null,
      "outputs": [
        {
          "output_type": "execute_result",
          "data": {
            "text/plain": [
              "[2, 'three', 4, 'five', 6, 'seven', 8, 'nine']"
            ]
          },
          "metadata": {
            "tags": []
          },
          "execution_count": 82
        }
      ]
    },
    {
      "cell_type": "code",
      "metadata": {
        "id": "81Afdz7do1Nq",
        "colab": {
          "base_uri": "https://localhost:8080/"
        },
        "outputId": "bce35096-a5ac-44d0-ff2b-32aa4d5516a8"
      },
      "source": [
        "L[2:10:3]"
      ],
      "execution_count": null,
      "outputs": [
        {
          "output_type": "execute_result",
          "data": {
            "text/plain": [
              "[2, 'five', 8]"
            ]
          },
          "metadata": {
            "tags": []
          },
          "execution_count": 83
        }
      ]
    },
    {
      "cell_type": "markdown",
      "metadata": {
        "id": "Ge3CcbYbo1Nq"
      },
      "source": [
        "If, in this three-argument syntax, the first or second argument is absent, then the slice starts at the beginning of the list or ends at the end of the list accordingly."
      ]
    },
    {
      "cell_type": "code",
      "metadata": {
        "id": "qpComE9ao1Nq",
        "colab": {
          "base_uri": "https://localhost:8080/"
        },
        "outputId": "f8318ff6-8ce1-4c9e-9747-0d0609a5726c"
      },
      "source": [
        "L  # Just a reminder.  We haven't modified the original list!"
      ],
      "execution_count": null,
      "outputs": [
        {
          "output_type": "execute_result",
          "data": {
            "text/plain": [
              "[0, 'one', 2, 'three', 4, 'five', 6, 'seven', 8, 'nine', 10]"
            ]
          },
          "metadata": {
            "tags": []
          },
          "execution_count": 84
        }
      ]
    },
    {
      "cell_type": "code",
      "metadata": {
        "id": "4tDS36jCo1Nr",
        "colab": {
          "base_uri": "https://localhost:8080/"
        },
        "outputId": "44df163b-0762-4e7f-cb96-4dc8c1c83915"
      },
      "source": [
        "L[:9:3]  # Start at zero, go up to (but not including) 9, by steps of 3."
      ],
      "execution_count": null,
      "outputs": [
        {
          "output_type": "execute_result",
          "data": {
            "text/plain": [
              "[0, 'three', 6]"
            ]
          },
          "metadata": {
            "tags": []
          },
          "execution_count": 85
        }
      ]
    },
    {
      "cell_type": "code",
      "metadata": {
        "id": "MFr4nObSo1Nr",
        "colab": {
          "base_uri": "https://localhost:8080/"
        },
        "outputId": "32c7173c-b26f-4e24-e587-63deba2b28ee"
      },
      "source": [
        "L[2: :3] # Start at two, go up through the end of the list, by steps of 3."
      ],
      "execution_count": null,
      "outputs": [
        {
          "output_type": "execute_result",
          "data": {
            "text/plain": [
              "[2, 'five', 8]"
            ]
          },
          "metadata": {
            "tags": []
          },
          "execution_count": 86
        }
      ]
    },
    {
      "cell_type": "code",
      "metadata": {
        "id": "X-EpKfF4o1Nr",
        "colab": {
          "base_uri": "https://localhost:8080/"
        },
        "outputId": "9f3671f4-c2ed-4449-be3c-10b76a7c207b"
      },
      "source": [
        "L[::3]  # Start at zero, go up through the end of the list, by steps of 3."
      ],
      "execution_count": null,
      "outputs": [
        {
          "output_type": "execute_result",
          "data": {
            "text/plain": [
              "[0, 'three', 6, 'nine']"
            ]
          },
          "metadata": {
            "tags": []
          },
          "execution_count": 87
        }
      ]
    },
    {
      "cell_type": "markdown",
      "metadata": {
        "id": "2dTiwVYho1Nr"
      },
      "source": [
        "### Changing list slices"
      ]
    },
    {
      "cell_type": "markdown",
      "metadata": {
        "id": "4y5zku1Mo1Nr"
      },
      "source": [
        "Not only can we extract and study terms or slices of a list, we can change them by assignment.  The simplest case would be changing a single term of a list."
      ]
    },
    {
      "cell_type": "code",
      "metadata": {
        "id": "OfPbYfsPo1Nr",
        "colab": {
          "base_uri": "https://localhost:8080/"
        },
        "outputId": "163429ec-a381-4c36-83c8-bb6c2375eca6"
      },
      "source": [
        "print(L) # Start with the list L."
      ],
      "execution_count": null,
      "outputs": [
        {
          "output_type": "stream",
          "text": [
            "[0, 'one', 2, 'three', 4, 'five', 6, 'seven', 8, 'nine', 10]\n"
          ],
          "name": "stdout"
        }
      ]
    },
    {
      "cell_type": "code",
      "metadata": {
        "id": "UIvNYPDDo1Nr"
      },
      "source": [
        "L[5] = 'Bacon!'"
      ],
      "execution_count": null,
      "outputs": []
    },
    {
      "cell_type": "code",
      "metadata": {
        "id": "RLd45i_No1Nr",
        "colab": {
          "base_uri": "https://localhost:8080/"
        },
        "outputId": "8d942248-5a98-4f7d-cbe7-31e4ee739ee3"
      },
      "source": [
        "print(L)  # What do you think L is now?"
      ],
      "execution_count": null,
      "outputs": [
        {
          "output_type": "stream",
          "text": [
            "[0, 'one', 2, 'three', 4, 'Bacon!', 6, 'seven', 8, 'nine', 10]\n"
          ],
          "name": "stdout"
        }
      ]
    },
    {
      "cell_type": "code",
      "metadata": {
        "id": "B6G0Uga9o1Nr",
        "colab": {
          "base_uri": "https://localhost:8080/"
        },
        "outputId": "b21bdfe3-ffde-40d8-9988-7f366f63bbe4"
      },
      "source": [
        "print(L[2::3]) # What do you think this will do?"
      ],
      "execution_count": null,
      "outputs": [
        {
          "output_type": "stream",
          "text": [
            "[2, 'Bacon!', 8]\n"
          ],
          "name": "stdout"
        }
      ]
    },
    {
      "cell_type": "markdown",
      "metadata": {
        "id": "uGennJ2qo1Nr"
      },
      "source": [
        "We can change an entire slice of a list with a single assignment.  Let's change the first two terms of `L` in one line."
      ]
    },
    {
      "cell_type": "code",
      "metadata": {
        "id": "y2qRmtGpo1Nr"
      },
      "source": [
        "L[:2] = ['Pancakes', 'Ham']  # What was L[:2] before?"
      ],
      "execution_count": null,
      "outputs": []
    },
    {
      "cell_type": "code",
      "metadata": {
        "id": "ovOM7CW5o1Ns",
        "colab": {
          "base_uri": "https://localhost:8080/"
        },
        "outputId": "802d8b51-4091-4557-b923-b33b76b6bc2d"
      },
      "source": [
        "print(L) # Oh... what have we done!"
      ],
      "execution_count": null,
      "outputs": [
        {
          "output_type": "stream",
          "text": [
            "['Pancakes', 'Ham', 2, 'three', 4, 'Bacon!', 6, 'seven', 8, 'nine', 10]\n"
          ],
          "name": "stdout"
        }
      ]
    },
    {
      "cell_type": "code",
      "metadata": {
        "id": "xaVOdSGdo1Ns",
        "colab": {
          "base_uri": "https://localhost:8080/",
          "height": 35
        },
        "outputId": "39bb58ad-bedd-465b-86b6-e84172934d4a"
      },
      "source": [
        "L[0]"
      ],
      "execution_count": null,
      "outputs": [
        {
          "output_type": "execute_result",
          "data": {
            "application/vnd.google.colaboratory.intrinsic+json": {
              "type": "string"
            },
            "text/plain": [
              "'Pancakes'"
            ]
          },
          "metadata": {
            "tags": []
          },
          "execution_count": 96
        }
      ]
    },
    {
      "cell_type": "code",
      "metadata": {
        "id": "7VzDxYkvo1Ns",
        "colab": {
          "base_uri": "https://localhost:8080/",
          "height": 35
        },
        "outputId": "90e88e0e-595a-42bc-a8c5-a744bfdd0d29"
      },
      "source": [
        "L[1]"
      ],
      "execution_count": null,
      "outputs": [
        {
          "output_type": "execute_result",
          "data": {
            "application/vnd.google.colaboratory.intrinsic+json": {
              "type": "string"
            },
            "text/plain": [
              "'Ham'"
            ]
          },
          "metadata": {
            "tags": []
          },
          "execution_count": 95
        }
      ]
    },
    {
      "cell_type": "code",
      "metadata": {
        "id": "XEExh5vko1Ns",
        "colab": {
          "base_uri": "https://localhost:8080/"
        },
        "outputId": "824d5ae1-9c59-4e9c-8dd6-1bdb55714827"
      },
      "source": [
        "L[2]"
      ],
      "execution_count": null,
      "outputs": [
        {
          "output_type": "execute_result",
          "data": {
            "text/plain": [
              "2"
            ]
          },
          "metadata": {
            "tags": []
          },
          "execution_count": 97
        }
      ]
    },
    {
      "cell_type": "markdown",
      "metadata": {
        "id": "G5jugoLbo1Ns"
      },
      "source": [
        "We can change a slice of a list with a single assignment, even when that slice does not consist of consecutive terms.  Try to predict what the following commands will do."
      ]
    },
    {
      "cell_type": "code",
      "metadata": {
        "id": "U9HQud-4o1Ns",
        "colab": {
          "base_uri": "https://localhost:8080/"
        },
        "outputId": "10344acd-da73-4a80-bcef-b3507072a7a3"
      },
      "source": [
        "print(L)  # Let's see what the list looks like before."
      ],
      "execution_count": null,
      "outputs": [
        {
          "output_type": "stream",
          "text": [
            "['Pancakes', 'Ham', 2, 'three', 4, 'Bacon!', 6, 'seven', 8, 'nine', 10]\n"
          ],
          "name": "stdout"
        }
      ]
    },
    {
      "cell_type": "code",
      "metadata": {
        "id": "WaeNsMU8o1Ns"
      },
      "source": [
        "L[::2] = ['A','B','C','D','E','F']  # What was L[::2] before this assignment? "
      ],
      "execution_count": null,
      "outputs": []
    },
    {
      "cell_type": "code",
      "metadata": {
        "id": "e4DFQ2ZBo1Ns",
        "colab": {
          "base_uri": "https://localhost:8080/"
        },
        "outputId": "3f5a10a5-1b72-4b2c-e341-ba6780fadee2"
      },
      "source": [
        "print(L)  # What do you predict?"
      ],
      "execution_count": null,
      "outputs": [
        {
          "output_type": "stream",
          "text": [
            "['A', 'Ham', 'B', 'three', 'C', 'Bacon!', 'D', 'seven', 'E', 'nine', 'F']\n"
          ],
          "name": "stdout"
        }
      ]
    },
    {
      "cell_type": "markdown",
      "metadata": {
        "id": "g7PBhl-1o1Ns"
      },
      "source": [
        "## List methods"
      ]
    },
    {
      "cell_type": "markdown",
      "metadata": {
        "id": "E4_oZBZYo1Ns"
      },
      "source": [
        "A method is a function that is attached to an object.  We have already used one method:  the `format` method that is attached to all strings.  You might have seen the `replace` method for strings too.  Note that single-quotes `'Hello'` or double-quotes `\"Hello\"` can be used for strings."
      ]
    },
    {
      "cell_type": "code",
      "metadata": {
        "id": "A9ZJsXNFo1Ns",
        "colab": {
          "base_uri": "https://localhost:8080/",
          "height": 35
        },
        "outputId": "3662ffa1-eb3f-492f-b74f-743bbb5efa72"
      },
      "source": [
        "\"Hello {}!\".format('programming student')"
      ],
      "execution_count": null,
      "outputs": [
        {
          "output_type": "execute_result",
          "data": {
            "application/vnd.google.colaboratory.intrinsic+json": {
              "type": "string"
            },
            "text/plain": [
              "'Hello programming student!'"
            ]
          },
          "metadata": {
            "tags": []
          },
          "execution_count": 101
        }
      ]
    },
    {
      "cell_type": "code",
      "metadata": {
        "id": "rWpWVH7eo1Nt",
        "colab": {
          "base_uri": "https://localhost:8080/",
          "height": 35
        },
        "outputId": "759cba21-053d-4d56-ea96-d678c8056bdf"
      },
      "source": [
        "\"Programming is fun!\".replace('fun','lit')"
      ],
      "execution_count": null,
      "outputs": [
        {
          "output_type": "execute_result",
          "data": {
            "application/vnd.google.colaboratory.intrinsic+json": {
              "type": "string"
            },
            "text/plain": [
              "'Programming is lit!'"
            ]
          },
          "metadata": {
            "tags": []
          },
          "execution_count": 102
        }
      ]
    },
    {
      "cell_type": "markdown",
      "metadata": {
        "id": "o_HBkyp_o1Nt"
      },
      "source": [
        "List methods are functions attached to lists.  Some useful methods include `append` and `sort`.  A fuller listing can be found at [the official documentation](https://docs.python.org/3/tutorial/datastructures.html)."
      ]
    },
    {
      "cell_type": "code",
      "metadata": {
        "id": "_KkgeG-yo1Nt",
        "colab": {
          "base_uri": "https://localhost:8080/"
        },
        "outputId": "6394b134-b69e-45fb-ea22-066f5d7b42f2"
      },
      "source": [
        "L = [1,2,3]\n",
        "L.append(4)\n",
        "print(L)"
      ],
      "execution_count": null,
      "outputs": [
        {
          "output_type": "stream",
          "text": [
            "[1, 2, 3, 4]\n"
          ],
          "name": "stdout"
        }
      ]
    },
    {
      "cell_type": "markdown",
      "metadata": {
        "id": "VjkSU8Eyo1Nt"
      },
      "source": [
        "The `append` method can be used to add new items to the end of a list.  But be careful if you want to add multiple items!"
      ]
    },
    {
      "cell_type": "code",
      "metadata": {
        "id": "aS1Nuu84o1Nt",
        "colab": {
          "base_uri": "https://localhost:8080/"
        },
        "outputId": "9179ffbb-f074-49e7-9aff-0c329b03f67c"
      },
      "source": [
        "L.append([5,6])\n",
        "print(L)"
      ],
      "execution_count": null,
      "outputs": [
        {
          "output_type": "stream",
          "text": [
            "[1, 2, 3, 4, [5, 6]]\n"
          ],
          "name": "stdout"
        }
      ]
    },
    {
      "cell_type": "markdown",
      "metadata": {
        "id": "THb1IcA6o1Nt"
      },
      "source": [
        "Behind the scenes, methods are functions which have a special input parameter called `self`.  So when you use a command like `L.append(4)`, you are effectively running `append(L, 4)`.  The `self` parameter is the object the method is attached to.\n",
        "\n",
        "Like all functions, methods have outputs too.  But what can be confusing is that methods can *modify* `self` and can sometimes *return* `None`.  "
      ]
    },
    {
      "cell_type": "code",
      "metadata": {
        "id": "TdOwNbHvo1Nt",
        "colab": {
          "base_uri": "https://localhost:8080/"
        },
        "outputId": "bd5ad9d1-6081-4807-a820-a6ccf6cd735c"
      },
      "source": [
        "print([1,2,3].append(4))\n",
        "print(\"123\".replace(\"3\",\"4\"))"
      ],
      "execution_count": null,
      "outputs": [
        {
          "output_type": "stream",
          "text": [
            "None\n",
            "124\n"
          ],
          "name": "stdout"
        }
      ]
    },
    {
      "cell_type": "markdown",
      "metadata": {
        "id": "CNutNo0ro1Nt"
      },
      "source": [
        "This is very confusing at first!  The list `append` method *does* change `self` by appending something to `self`.  But as a function, it returns `None`.  \n",
        "\n",
        "On the other hand, the string `replace` method *does not* change `self` and instead *returns* the modified string.\n",
        "\n",
        "This will make more sense after we study *mutable* and *immutable* types.  Lists are mutable (and thus are often changed by their methods).  Strings are immutable, and so changes are effected by producing new strings.  Another example of a string method is `sort()`.  The only parameter of `sort` is `self`, and so nothing needs to go between the paraentheses."
      ]
    },
    {
      "cell_type": "code",
      "metadata": {
        "id": "iOJkQ3cIo1Nt",
        "colab": {
          "base_uri": "https://localhost:8080/"
        },
        "outputId": "4c91cb22-d5f4-42bb-882a-ecfefe556e3e"
      },
      "source": [
        "L = [4,2,1]  # Make a list.\n",
        "L.sort()  # Sort the list.  This *changes* L and returns None.\n",
        "print(L)  # Let's see what L is now."
      ],
      "execution_count": null,
      "outputs": [
        {
          "output_type": "stream",
          "text": [
            "[1, 2, 4]\n"
          ],
          "name": "stdout"
        }
      ]
    },
    {
      "cell_type": "code",
      "metadata": {
        "id": "ZDaPzUUjo1Nt",
        "colab": {
          "base_uri": "https://localhost:8080/"
        },
        "outputId": "57c8bc74-03e4-4455-e105-f1d0bfe64549"
      },
      "source": [
        "L = ['Ukelele', 'Apple', 'Dog', 'Cat' ]\n",
        "L.sort()\n",
        "print(L)"
      ],
      "execution_count": null,
      "outputs": [
        {
          "output_type": "stream",
          "text": [
            "['Apple', 'Cat', 'Dog', 'Ukelele']\n"
          ],
          "name": "stdout"
        }
      ]
    },
    {
      "cell_type": "markdown",
      "metadata": {
        "id": "2ibPAiCCo1Nu"
      },
      "source": [
        "Sorting numbers is possible, because the Python operator `<` is defined for numbers.  Sorting strings is possible, because the Python operator `<` is interpreted alphabetically among strings.  If you mix types, Python might not know how to behave... you'll get a TypeError."
      ]
    },
    {
      "cell_type": "code",
      "metadata": {
        "id": "EmIGZqSQo1Nu",
        "colab": {
          "base_uri": "https://localhost:8080/",
          "height": 181
        },
        "outputId": "311c0e8e-62d7-4432-ed8b-124f24a54bf5"
      },
      "source": [
        "L = [1,'Apple', 3.14]"
      ],
      "execution_count": null,
      "outputs": [
        {
          "output_type": "error",
          "ename": "IndexError",
          "evalue": "ignored",
          "traceback": [
            "\u001b[0;31m---------------------------------------------------------------------------\u001b[0m",
            "\u001b[0;31mIndexError\u001b[0m                                Traceback (most recent call last)",
            "\u001b[0;32m<ipython-input-113-0bbcd09c0a07>\u001b[0m in \u001b[0;36m<module>\u001b[0;34m()\u001b[0m\n\u001b[1;32m      1\u001b[0m \u001b[0mL\u001b[0m \u001b[0;34m=\u001b[0m \u001b[0;34m[\u001b[0m\u001b[0;36m1\u001b[0m\u001b[0;34m,\u001b[0m\u001b[0;34m'Apple'\u001b[0m\u001b[0;34m,\u001b[0m \u001b[0;36m3.14\u001b[0m\u001b[0;34m]\u001b[0m\u001b[0;34m\u001b[0m\u001b[0;34m\u001b[0m\u001b[0m\n\u001b[0;32m----> 2\u001b[0;31m \u001b[0mprint\u001b[0m\u001b[0;34m(\u001b[0m\u001b[0mL\u001b[0m\u001b[0;34m[\u001b[0m\u001b[0;36m50\u001b[0m\u001b[0;34m]\u001b[0m\u001b[0;34m)\u001b[0m\u001b[0;34m\u001b[0m\u001b[0;34m\u001b[0m\u001b[0m\n\u001b[0m",
            "\u001b[0;31mIndexError\u001b[0m: list index out of range"
          ]
        }
      ]
    },
    {
      "cell_type": "markdown",
      "metadata": {
        "id": "RMN4XjXHo1Nu"
      },
      "source": [
        "### Exercises\n",
        "\n",
        "1.  Create a list L with L = [1,2,3,...,100] (all the numbers from 1 to 100).  What is L[50]?\n",
        "\n",
        "2.  Take the same list L, and extract a slice of the form [5,10,15,...,95] with a command of the form L[a:b:c].\n",
        "\n",
        "3.  Take the same list L, and change all the even numbers to zeros, so that L looks like [1,0,3,0,5,0,...,99,0].  Hint:  You might wish to use the list [0]*50.\n",
        "\n",
        "4.  Try the command `L[-1::-1]` on a list.  What does it do?  Can you guess before executing it?  Can you understand why?  In fact, strings are indexed like lists.  Try setting `L = 'Hello'` and the previous command.\n",
        "\n",
        "5.  Create the list [1,100,3,98,5,96,...,99,2], where the odd terms are in order and the even terms are in reverse order.  There are multiple methods!\n",
        "\n",
        "6.  Use the append method with a loop to create a list of perfect squares, [0,1,4,9,16,25,...,10000].\n",
        "\n",
        "7.  Create a list of 52 \"cards\" to resemble a standard card deck.  The suits can be denoted C,S,D,H for clubs, spades, diamonds, and hearts.  The numbers can be denoted 1-13 (with Ace = 1, Jack = 11, Queen = 12, King = 13).  So \"9H\" would be the 9 of hearts, and 12S the queen of spades.  Your list L should contain every card.  \n",
        "\n",
        "8.  Challenge:  write a function which performs a \"perfect riffle shuffle\" on a list of cards.  This shuffle should have the effect of dividing the deck into two equal pieces, and then precisely interlacing the two pieces to form a new list.  E.g., an input list of `[1,2,3,4,5,6]` should be broken into `[1,2,3]` and `[4,5,6]` and then interlaced as `[1,4,2,5,3,6]`."
      ]
    },
    {
      "cell_type": "code",
      "metadata": {
        "id": "OKrhpM1Ez9iW",
        "colab": {
          "base_uri": "https://localhost:8080/"
        },
        "outputId": "8898f6ba-cfc6-4ac3-d290-7960607dc4c8"
      },
      "source": [
        "1.\n",
        "L=list(range(1,101))\n",
        "print(L)"
      ],
      "execution_count": 190,
      "outputs": [
        {
          "output_type": "stream",
          "text": [
            "[1, 2, 3, 4, 5, 6, 7, 8, 9, 10, 11, 12, 13, 14, 15, 16, 17, 18, 19, 20, 21, 22, 23, 24, 25, 26, 27, 28, 29, 30, 31, 32, 33, 34, 35, 36, 37, 38, 39, 40, 41, 42, 43, 44, 45, 46, 47, 48, 49, 50, 51, 52, 53, 54, 55, 56, 57, 58, 59, 60, 61, 62, 63, 64, 65, 66, 67, 68, 69, 70, 71, 72, 73, 74, 75, 76, 77, 78, 79, 80, 81, 82, 83, 84, 85, 86, 87, 88, 89, 90, 91, 92, 93, 94, 95, 96, 97, 98, 99, 100]\n"
          ],
          "name": "stdout"
        }
      ]
    },
    {
      "cell_type": "code",
      "metadata": {
        "id": "zeKjo8JPUjjY",
        "colab": {
          "base_uri": "https://localhost:8080/"
        },
        "outputId": "3eddca71-91c5-407b-bed1-7607a52bff56"
      },
      "source": [
        "print(L[50])"
      ],
      "execution_count": null,
      "outputs": [
        {
          "output_type": "stream",
          "text": [
            "51\n"
          ],
          "name": "stdout"
        }
      ]
    },
    {
      "cell_type": "code",
      "metadata": {
        "id": "Hw0MSg7R0KTs",
        "colab": {
          "base_uri": "https://localhost:8080/"
        },
        "outputId": "ee91f096-a16f-412c-cd10-b5d279b1dc21"
      },
      "source": [
        "2.\n",
        "L[4:99:5]"
      ],
      "execution_count": 188,
      "outputs": [
        {
          "output_type": "execute_result",
          "data": {
            "text/plain": [
              "[5, 10, 15, 20, 25, 30, 35, 40, 45, 50, 55, 60, 65, 70, 75, 80, 85, 90, 95]"
            ]
          },
          "metadata": {
            "tags": []
          },
          "execution_count": 188
        }
      ]
    },
    {
      "cell_type": "code",
      "metadata": {
        "id": "jvKflBWv1G8g",
        "colab": {
          "base_uri": "https://localhost:8080/"
        },
        "outputId": "a61570a4-5599-417e-e1ae-4fc23aec2e0b"
      },
      "source": [
        "3.\n",
        "L[1:100:2]=[0]*50\n",
        "print(L)"
      ],
      "execution_count": null,
      "outputs": [
        {
          "output_type": "stream",
          "text": [
            "[1, 0, 3, 0, 5, 0, 7, 0, 9, 0, 11, 0, 13, 0, 15, 0, 17, 0, 19, 0, 21, 0, 23, 0, 25, 0, 27, 0, 29, 0, 31, 0, 33, 0, 35, 0, 37, 0, 39, 0, 41, 0, 43, 0, 45, 0, 47, 0, 49, 0, 51, 0, 53, 0, 55, 0, 57, 0, 59, 0, 61, 0, 63, 0, 65, 0, 67, 0, 69, 0, 71, 0, 73, 0, 75, 0, 77, 0, 79, 0, 81, 0, 83, 0, 85, 0, 87, 0, 89, 0, 91, 0, 93, 0, 95, 0, 97, 0, 99, 0]\n"
          ],
          "name": "stdout"
        }
      ]
    },
    {
      "cell_type": "code",
      "metadata": {
        "id": "O_tbTcc12hrr",
        "colab": {
          "base_uri": "https://localhost:8080/"
        },
        "outputId": "ece99c18-7245-4a5d-8d44-7d50960a873d"
      },
      "source": [
        "4.\n",
        "print(L[-1::-1])"
      ],
      "execution_count": 196,
      "outputs": [
        {
          "output_type": "stream",
          "text": [
            "[100, 99, 98, 97, 96, 95, 94, 93, 92, 91, 90, 89, 88, 87, 86, 85, 84, 83, 82, 81, 80, 79, 78, 77, 76, 75, 74, 73, 72, 71, 70, 69, 68, 67, 66, 65, 64, 63, 62, 61, 60, 59, 58, 57, 56, 55, 54, 53, 52, 51, 50, 49, 48, 47, 46, 45, 44, 43, 42, 41, 40, 39, 38, 37, 36, 35, 34, 33, 32, 31, 30, 29, 28, 27, 26, 25, 24, 23, 22, 21, 20, 19, 18, 17, 16, 15, 14, 13, 12, 11, 10, 9, 8, 7, 6, 5, 4, 3, 2, 1]\n"
          ],
          "name": "stdout"
        }
      ]
    },
    {
      "cell_type": "markdown",
      "metadata": {
        "id": "FB3tID363Qbs"
      },
      "source": [
        "This command reverses the order of the list it is applied to. That this is what it does is fairly obvious. The first argument is -1 and the slot where the second argument would normally go is empty, so the slice begins at the end of the list, ends at the beginning of the list, and, since the third argument is -1, does not delete any entries (see note). \n",
        "\n",
        "Note: The third argument, which is a sort of step size for the slice, does not directly indicate which entires are to be deleted (i.e. letting the third argument be 4 would not result in every fourth entry being deleted). Rather, it indicates which elements are to be preserved. Thus, since the third argument in our command is -1, every first entry going from the end of our list to the beginning (we \"travel\" in this direction because of the minus sign) is preserved, the result of which is that no entries are deleted."
      ]
    },
    {
      "cell_type": "code",
      "metadata": {
        "id": "-BAriHK-80Ew",
        "colab": {
          "base_uri": "https://localhost:8080/"
        },
        "outputId": "2b49263b-76bc-4c29-8fd1-e4169af526b3"
      },
      "source": [
        "L=['Hello']\n",
        "L[-1::-1]\n",
        "print(L)"
      ],
      "execution_count": null,
      "outputs": [
        {
          "output_type": "stream",
          "text": [
            "['Hello']\n"
          ],
          "name": "stdout"
        }
      ]
    },
    {
      "cell_type": "code",
      "metadata": {
        "id": "Ux7E66sb9nwz",
        "colab": {
          "base_uri": "https://localhost:8080/"
        },
        "outputId": "4f3174b1-66f5-4274-ac2a-cad4f53c8ec4"
      },
      "source": [
        "5.\n",
        "L=list(range(1,101))\n",
        "L[1:100:2]=L[-1::-2]\n",
        "print(L)"
      ],
      "execution_count": null,
      "outputs": [
        {
          "output_type": "stream",
          "text": [
            "[1, 100, 3, 98, 5, 96, 7, 94, 9, 92, 11, 90, 13, 88, 15, 86, 17, 84, 19, 82, 21, 80, 23, 78, 25, 76, 27, 74, 29, 72, 31, 70, 33, 68, 35, 66, 37, 64, 39, 62, 41, 60, 43, 58, 45, 56, 47, 54, 49, 52, 51, 50, 53, 48, 55, 46, 57, 44, 59, 42, 61, 40, 63, 38, 65, 36, 67, 34, 69, 32, 71, 30, 73, 28, 75, 26, 77, 24, 79, 22, 81, 20, 83, 18, 85, 16, 87, 14, 89, 12, 91, 10, 93, 8, 95, 6, 97, 4, 99, 2]\n"
          ],
          "name": "stdout"
        }
      ]
    },
    {
      "cell_type": "code",
      "metadata": {
        "id": "UnCJ2pNp-plq",
        "colab": {
          "base_uri": "https://localhost:8080/"
        },
        "outputId": "4e16cc87-6a55-4728-a88e-10ffbdb12a16"
      },
      "source": [
        "6.\n",
        "L=[]\n",
        "for n in range(1,101):\n",
        "  L.append(n**2)\n",
        "print(L)\n",
        "\n"
      ],
      "execution_count": null,
      "outputs": [
        {
          "output_type": "stream",
          "text": [
            "[1, 4, 9, 16, 25, 36, 49, 64, 81, 100, 121, 144, 169, 196, 225, 256, 289, 324, 361, 400, 441, 484, 529, 576, 625, 676, 729, 784, 841, 900, 961, 1024, 1089, 1156, 1225, 1296, 1369, 1444, 1521, 1600, 1681, 1764, 1849, 1936, 2025, 2116, 2209, 2304, 2401, 2500, 2601, 2704, 2809, 2916, 3025, 3136, 3249, 3364, 3481, 3600, 3721, 3844, 3969, 4096, 4225, 4356, 4489, 4624, 4761, 4900, 5041, 5184, 5329, 5476, 5625, 5776, 5929, 6084, 6241, 6400, 6561, 6724, 6889, 7056, 7225, 7396, 7569, 7744, 7921, 8100, 8281, 8464, 8649, 8836, 9025, 9216, 9409, 9604, 9801, 10000]\n"
          ],
          "name": "stdout"
        }
      ]
    },
    {
      "cell_type": "code",
      "metadata": {
        "id": "k8f5yiz2BMaR",
        "colab": {
          "base_uri": "https://localhost:8080/"
        },
        "outputId": "0f6387aa-7b41-4c8d-9184-afa0dbec5611"
      },
      "source": [
        "7.\n",
        "L=[]\n",
        "for n in range(1,14):\n",
        "  L.append(\"{}H\".format(n))\n",
        "for n in range(1,14):\n",
        "  L.append(\"{}D\".format(n))\n",
        "for n in range(1,14):\n",
        "  L.append(\"{}S\".format(n))\n",
        "for n in range(1,14):\n",
        "  L.append(\"{}C\".format(n))\n",
        "\n",
        "print(L)  \n"
      ],
      "execution_count": 197,
      "outputs": [
        {
          "output_type": "stream",
          "text": [
            "['1H', '2H', '3H', '4H', '5H', '6H', '7H', '8H', '9H', '10H', '11H', '12H', '13H', '1D', '2D', '3D', '4D', '5D', '6D', '7D', '8D', '9D', '10D', '11D', '12D', '13D', '1S', '2S', '3S', '4S', '5S', '6S', '7S', '8S', '9S', '10S', '11S', '12S', '13S', '1C', '2C', '3C', '4C', '5C', '6C', '7C', '8C', '9C', '10C', '11C', '12C', '13C']\n"
          ],
          "name": "stdout"
        }
      ]
    },
    {
      "cell_type": "code",
      "metadata": {
        "id": "3ARB86aaGSht"
      },
      "source": [
        "8.\n",
        "def riffle(L):\n",
        "  A=L[0:(len(L)//2)]\n",
        "  B=L[(len(L)//2):len(L)]\n",
        "  C=[]\n",
        "  for n in range(0,len(L)//2):\n",
        "    C.append(A[n])\n",
        "    C.append(B[n])\n",
        "  print(C) \n",
        " \n",
        "\n",
        "  \n",
        "  "
      ],
      "execution_count": 219,
      "outputs": []
    },
    {
      "cell_type": "code",
      "metadata": {
        "colab": {
          "base_uri": "https://localhost:8080/"
        },
        "id": "9JeFMtDy6unz",
        "outputId": "3a0c127d-79f5-4570-c676-700e297e94cd"
      },
      "source": [
        "riffle([1,2,3,4,5,6])"
      ],
      "execution_count": 220,
      "outputs": [
        {
          "output_type": "stream",
          "text": [
            "[1, 4, 2, 5, 3, 6]\n"
          ],
          "name": "stdout"
        }
      ]
    },
    {
      "cell_type": "markdown",
      "metadata": {
        "id": "DIORkSZEo1Nu"
      },
      "source": [
        "## Sieve of Eratosthenes"
      ]
    },
    {
      "cell_type": "markdown",
      "metadata": {
        "id": "rTQgPGs2o1Nu"
      },
      "source": [
        "The **Sieve of Eratosthenes** (hereafter called \"the sieve\") is a very fast way of producing long lists of primes, without doing repeated primality checking.  The basic idea is to start with all of the natural numbers, and successively filter out, or [**sieve**](https://en.wikipedia.org/wiki/Sieve), the multiples of 2, then the multiples of 3, then the multiples of 5, etc., until only primes are left.  You can read more about the sieve, and experimental number theory, at [The Conversation](https://theconversation.com/why-prime-numbers-still-fascinate-mathematicians-2-300-years-later-92484)\n",
        "\n",
        "Using list slicing, we can carry out this sieving process efficiently.  And with a few more tricks we encounter here, we can carry out the Sieve **very** efficiently."
      ]
    },
    {
      "cell_type": "markdown",
      "metadata": {
        "id": "_jx0oxsuo1Nu"
      },
      "source": [
        "### The basic sieve\n",
        "\n",
        "The first approach we introduce is a bit naive, but is a good starting place.  We will begin with a list of numbers up to 100, and sieve out the appropriate multiples of 2,3,5,7."
      ]
    },
    {
      "cell_type": "code",
      "metadata": {
        "id": "xiF25G0Zo1Nu"
      },
      "source": [
        "primes = list(range(100)) # Let's start with the numbers 0...99."
      ],
      "execution_count": null,
      "outputs": []
    },
    {
      "cell_type": "markdown",
      "metadata": {
        "id": "XIDLjxG4o1Nu"
      },
      "source": [
        "Now, to \"filter\", i.e., to say that a number is *not* prime, let's just change the number to the value `None`.  "
      ]
    },
    {
      "cell_type": "code",
      "metadata": {
        "id": "5VK6hIBEo1Nu",
        "colab": {
          "base_uri": "https://localhost:8080/"
        },
        "outputId": "df573998-c929-43f6-9139-1c3a95ce0262"
      },
      "source": [
        "primes[0] = None # Zero is not prime.\n",
        "primes[1] = None # One is not prime.\n",
        "print(primes) # What have we done?"
      ],
      "execution_count": null,
      "outputs": [
        {
          "output_type": "stream",
          "text": [
            "[None, None, 2, 3, 4, 5, 6, 7, 8, 9, 10, 11, 12, 13, 14, 15, 16, 17, 18, 19, 20, 21, 22, 23, 24, 25, 26, 27, 28, 29, 30, 31, 32, 33, 34, 35, 36, 37, 38, 39, 40, 41, 42, 43, 44, 45, 46, 47, 48, 49, 50, 51, 52, 53, 54, 55, 56, 57, 58, 59, 60, 61, 62, 63, 64, 65, 66, 67, 68, 69, 70, 71, 72, 73, 74, 75, 76, 77, 78, 79, 80, 81, 82, 83, 84, 85, 86, 87, 88, 89, 90, 91, 92, 93, 94, 95, 96, 97, 98, 99]\n"
          ],
          "name": "stdout"
        }
      ]
    },
    {
      "cell_type": "markdown",
      "metadata": {
        "id": "f60YBXEpo1Nv"
      },
      "source": [
        "Now let's filter out the multiples of 2, starting at 4.  This is the slice `primes[4::2]`"
      ]
    },
    {
      "cell_type": "code",
      "metadata": {
        "id": "WIBb5mQ3o1Nv",
        "colab": {
          "base_uri": "https://localhost:8080/"
        },
        "outputId": "35c4cb8e-09c4-4a3f-b638-a773d9a35da3"
      },
      "source": [
        "primes[4::2] = [None] * len(primes[4::2])  # The right side is a list of Nones, of the necessary length.\n",
        "print(primes) # What have we done?"
      ],
      "execution_count": null,
      "outputs": [
        {
          "output_type": "stream",
          "text": [
            "[None, None, 2, 3, None, 5, None, 7, None, 9, None, 11, None, 13, None, 15, None, 17, None, 19, None, 21, None, 23, None, 25, None, 27, None, 29, None, 31, None, 33, None, 35, None, 37, None, 39, None, 41, None, 43, None, 45, None, 47, None, 49, None, 51, None, 53, None, 55, None, 57, None, 59, None, 61, None, 63, None, 65, None, 67, None, 69, None, 71, None, 73, None, 75, None, 77, None, 79, None, 81, None, 83, None, 85, None, 87, None, 89, None, 91, None, 93, None, 95, None, 97, None, 99]\n"
          ],
          "name": "stdout"
        }
      ]
    },
    {
      "cell_type": "markdown",
      "metadata": {
        "id": "gD0IZ3ffo1Nv"
      },
      "source": [
        "Now we filter out the multiples of 3, starting at 9."
      ]
    },
    {
      "cell_type": "code",
      "metadata": {
        "id": "nRDiN5ZYo1Nv",
        "colab": {
          "base_uri": "https://localhost:8080/"
        },
        "outputId": "b99021ca-d765-4d33-e240-2f440c723ef6"
      },
      "source": [
        "primes[9::3] = [None] * len(primes[9::3])  # The right side is a list of Nones, of the necessary length.\n",
        "print(primes) # What have we done?"
      ],
      "execution_count": null,
      "outputs": [
        {
          "output_type": "stream",
          "text": [
            "[None, None, 2, 3, None, 5, None, 7, None, None, None, 11, None, 13, None, None, None, 17, None, 19, None, None, None, 23, None, 25, None, None, None, 29, None, 31, None, None, None, 35, None, 37, None, None, None, 41, None, 43, None, None, None, 47, None, 49, None, None, None, 53, None, 55, None, None, None, 59, None, 61, None, None, None, 65, None, 67, None, None, None, 71, None, 73, None, None, None, 77, None, 79, None, None, None, 83, None, 85, None, None, None, 89, None, 91, None, None, None, 95, None, 97, None, None]\n"
          ],
          "name": "stdout"
        }
      ]
    },
    {
      "cell_type": "markdown",
      "metadata": {
        "id": "OkeNZU2Uo1Nv"
      },
      "source": [
        "Next the multiples of 5, starting at 25 (the first multiple of 5 greater than 5 that's left!)"
      ]
    },
    {
      "cell_type": "code",
      "metadata": {
        "id": "Aocpditlo1Nv",
        "colab": {
          "base_uri": "https://localhost:8080/"
        },
        "outputId": "b117b302-20c8-41b8-8696-7d1ea4f8cda9"
      },
      "source": [
        "primes[25::5] = [None] * len(primes[25::5])  # The right side is a list of Nones, of the necessary length.\n",
        "print(primes) # What have we done?"
      ],
      "execution_count": null,
      "outputs": [
        {
          "output_type": "stream",
          "text": [
            "[None, None, 2, 3, None, 5, None, 7, None, None, None, 11, None, 13, None, None, None, 17, None, 19, None, None, None, 23, None, None, None, None, None, 29, None, 31, None, None, None, None, None, 37, None, None, None, 41, None, 43, None, None, None, 47, None, 49, None, None, None, 53, None, None, None, None, None, 59, None, 61, None, None, None, None, None, 67, None, None, None, 71, None, 73, None, None, None, 77, None, 79, None, None, None, 83, None, None, None, None, None, 89, None, 91, None, None, None, None, None, 97, None, None]\n"
          ],
          "name": "stdout"
        }
      ]
    },
    {
      "cell_type": "markdown",
      "metadata": {
        "id": "9DYckJ43o1Nv"
      },
      "source": [
        "Finally, the multiples of 7, starting at 49 (the first multiple of 7 greater than 7 that's left!)"
      ]
    },
    {
      "cell_type": "code",
      "metadata": {
        "id": "NMMhQYBqo1Nv",
        "colab": {
          "base_uri": "https://localhost:8080/"
        },
        "outputId": "f3510cad-a7e8-428c-bd00-a0553730a9f0"
      },
      "source": [
        "primes[49::7] = [None] * len(primes[49::7])  # The right side is a list of Nones, of the necessary length.\n",
        "print(primes) # What have we done?"
      ],
      "execution_count": null,
      "outputs": [
        {
          "output_type": "stream",
          "text": [
            "[None, None, 2, 3, None, 5, None, 7, None, None, None, 11, None, 13, None, None, None, 17, None, 19, None, None, None, 23, None, None, None, None, None, 29, None, 31, None, None, None, None, None, 37, None, None, None, 41, None, 43, None, None, None, 47, None, None, None, None, None, 53, None, None, None, None, None, 59, None, 61, None, None, None, None, None, 67, None, None, None, 71, None, 73, None, None, None, None, None, 79, None, None, None, 83, None, None, None, None, None, 89, None, None, None, None, None, None, None, 97, None, None]\n"
          ],
          "name": "stdout"
        }
      ]
    },
    {
      "cell_type": "markdown",
      "metadata": {
        "id": "6Dulthjho1Nv"
      },
      "source": [
        "What's left?  A lot of `None`s and the prime numbers up to 100.  We have successfully sieved out all the nonprime numbers in the list, using just four sieving steps (and setting 0 and 1 to `None` manually).  \n",
        "\n",
        "But there's a lot of room for improvement, from beginning to end!\n",
        "\n",
        "1.  The format of the end result is not so nice.\n",
        "2.  We had to sieve each step manually.  It would be much better to have a function `prime_list(n)` which would output a list of primes up to `n` without so much supervision.\n",
        "3.  The memory usage will be large, if we need to store all the numbers up to a large `n` at the beginning.\n",
        "\n",
        "We solve these problems in the following way.\n",
        "\n",
        "1.  We will use a list of **booleans** rather than a list of numbers.  The ending list will have a `True` value at prime indices and a `False` value at composite indices.  This reduces the memory usage and increases the speed.  \n",
        "2.  A `which` function (explained soon) will make the desired list of primes after everything else is done.\n",
        "3.  We will proceed through the sieving steps algorithmically rather than entering each step manually.\n",
        "\n",
        "Here is a somewhat efficient implementation of the Sieve in Python."
      ]
    },
    {
      "cell_type": "code",
      "metadata": {
        "id": "HfOTwel_o1Nv"
      },
      "source": [
        "from math import sqrt\n",
        "def isprime_list(n):\n",
        "    ''' \n",
        "    Return a list of length n+1\n",
        "    with Trues at prime indices and Falses at composite indices.\n",
        "    '''\n",
        "    flags = [True] * (n+1)  # A list [True, True, True,...] to start.\n",
        "    flags[0] = False  # Zero is not prime.  So its flag is set to False.\n",
        "    flags[1] = False  # One is not prime.  So its flag is set to False.\n",
        "    p = 2  # The first prime is 2.  And we start sieving by multiples of 2.\n",
        "    \n",
        "    while p <= sqrt(n):  # We only need to sieve by p is p <= sqrt(n).\n",
        "        if flags[p]:  # We sieve the multiples of p if flags[p]=True.\n",
        "            flags[p*p::p] = [False] * len(flags[p*p::p]) # Sieves out multiples of p, starting at p*p.\n",
        "        p = p + 1 # Try the next value of p.\n",
        "        \n",
        "    return flags"
      ],
      "execution_count": null,
      "outputs": []
    },
    {
      "cell_type": "code",
      "metadata": {
        "id": "eM2OGaymo1Nw",
        "colab": {
          "base_uri": "https://localhost:8080/"
        },
        "outputId": "69c6dfb5-ff74-4810-c63e-55ff565a28f8"
      },
      "source": [
        "print(isprime_list(100))"
      ],
      "execution_count": null,
      "outputs": [
        {
          "output_type": "stream",
          "text": [
            "[False, False, True, True, False, True, False, True, False, False, False, True, False, True, False, False, False, True, False, True, False, False, False, True, False, False, False, False, False, True, False, True, False, False, False, False, False, True, False, False, False, True, False, True, False, False, False, True, False, False, False, False, False, True, False, False, False, False, False, True, False, True, False, False, False, False, False, True, False, False, False, True, False, True, False, False, False, False, False, True, False, False, False, True, False, False, False, False, False, True, False, False, False, False, False, False, False, True, False, False, False]\n"
          ],
          "name": "stdout"
        }
      ]
    },
    {
      "cell_type": "markdown",
      "metadata": {
        "id": "73FT-HVIo1Nw"
      },
      "source": [
        "If you look carefully at the list of booleans, you will notice a `True` value at the 2nd index, the 3rd index, the 5th index, the 7th index, etc..  The indices where the values are `True` are precisely the **prime** indices.  Since booleans take the smallest amount of memory of any data type (one **bit** of memory per boolean), your computer can carry out the `isprime_list(n)` function even when `n` is very large.\n",
        "\n",
        "To be more precise, there are 8 bits in a **byte**.  There are 1024 bytes (about 1000) in a kilobyte.  There are 1024 kilobytes in a megabyte.  There are 1024 megabytes in a gigabyte.  Therefore, a gigabyte of memory is enough to store about 8 billion bits.  That's enough to store the result of `isprime_list(n)` when `n` is about 8 billion.  Not bad!  And your computer probably has 4 or 8 or 12 or 16 gigabytes of memory to use.\n",
        "\n"
      ]
    },
    {
      "cell_type": "markdown",
      "metadata": {
        "id": "TtTBE8U0o1Nw"
      },
      "source": [
        "To transform the list of booleans into a list of prime numbers, we create a function called `where`.  This function uses another Python technique called **list comprehension**.  We discuss this technique later in this lesson, so just use the `where` function as a tool for now, or [read about list comprehension](https://docs.python.org/2/tutorial/datastructures.html#list-comprehensions) if you're curious."
      ]
    },
    {
      "cell_type": "code",
      "metadata": {
        "id": "q_ZiUC2uo1Nw"
      },
      "source": [
        "def where(L):\n",
        "    '''\n",
        "    Take a list of booleans as input and\n",
        "    outputs the list of indices where True occurs.\n",
        "    '''\n",
        "    return [n for n in range(len(L)) if L[n]]\n",
        "    "
      ],
      "execution_count": null,
      "outputs": []
    },
    {
      "cell_type": "markdown",
      "metadata": {
        "id": "_rkxdrhmo1Nw"
      },
      "source": [
        "Combined with the `isprime_list` function, we can produce long lists of primes."
      ]
    },
    {
      "cell_type": "code",
      "metadata": {
        "scrolled": true,
        "id": "MkA2LdBlo1Nw",
        "colab": {
          "base_uri": "https://localhost:8080/"
        },
        "outputId": "28ed80a0-8846-4f6d-85dc-1291610f110b"
      },
      "source": [
        "print(where(isprime_list(100)))"
      ],
      "execution_count": null,
      "outputs": [
        {
          "output_type": "stream",
          "text": [
            "[2, 3, 5, 7, 11, 13, 17, 19, 23, 29, 31, 37, 41, 43, 47, 53, 59, 61, 67, 71, 73, 79, 83, 89, 97]\n"
          ],
          "name": "stdout"
        }
      ]
    },
    {
      "cell_type": "markdown",
      "metadata": {
        "id": "gy3KRYbAo1Nw"
      },
      "source": [
        "Let's push it a bit further.  How many primes are there between 1 and 1 million?  We can figure this out in three steps:\n",
        "\n",
        "1.  Create the isprime_list.\n",
        "2.  Use where to get the list of primes.\n",
        "3.  Find the length of the list of primes.\n",
        "\n",
        "But it's better to do it in two steps.\n",
        "\n",
        "1.  Create the isprime_list.\n",
        "2.  Sum the list!  (Note that `True` is 1, for the purpose of summation!)"
      ]
    },
    {
      "cell_type": "code",
      "metadata": {
        "id": "MpIGIxjro1Nw",
        "colab": {
          "base_uri": "https://localhost:8080/"
        },
        "outputId": "57630b9f-8688-4ee6-b164-2adfae1b5da5"
      },
      "source": [
        "sum(isprime_list(1000000))  # The number of primes up to a million!"
      ],
      "execution_count": null,
      "outputs": [
        {
          "output_type": "execute_result",
          "data": {
            "text/plain": [
              "78498"
            ]
          },
          "metadata": {
            "tags": []
          },
          "execution_count": 12
        }
      ]
    },
    {
      "cell_type": "code",
      "metadata": {
        "id": "uQx3_5suo1Nw",
        "colab": {
          "base_uri": "https://localhost:8080/"
        },
        "outputId": "e58eb461-98b0-4f17-b613-339a8333b259"
      },
      "source": [
        "%timeit isprime_list(10**6)  # 1000 ms = 1 second."
      ],
      "execution_count": null,
      "outputs": [
        {
          "output_type": "stream",
          "text": [
            "10 loops, best of 3: 85.6 ms per loop\n"
          ],
          "name": "stdout"
        }
      ]
    },
    {
      "cell_type": "code",
      "metadata": {
        "id": "Dy3dxyNCo1Nw",
        "colab": {
          "base_uri": "https://localhost:8080/"
        },
        "outputId": "b99bbab7-bb7e-4c46-a9d0-f417d08d985b"
      },
      "source": [
        "%timeit sum(isprime_list(10**6))"
      ],
      "execution_count": null,
      "outputs": [
        {
          "output_type": "stream",
          "text": [
            "10 loops, best of 3: 121 ms per loop\n"
          ],
          "name": "stdout"
        }
      ]
    },
    {
      "cell_type": "markdown",
      "metadata": {
        "id": "WiEYpMXUo1Nw"
      },
      "source": [
        "This isn't too bad!  It takes a fraction of a second to identify the primes up to a million, and a smaller fraction of a second to count them!  But we can do a little better.  \n",
        "\n",
        "The first improvement is to take care of the even numbers first.  If we count carefully, then the sequence 4,6,8,...,n (ending at n-1 if n is odd) has the floor of (n-2)/2 terms.  Thus the line `flags[4::2] = [False] * ((n-2)//2)` will set all the flags to False in the sequence 4,6,8,10,...  From there, we can begin sieving by *odd* primes starting with 3.\n",
        "\n",
        "The next improvement is that, since we've already sieved out all the even numbers (except 2), we don't have to sieve out again by *even multiples*.  So when sieving by multiples of 3, we don't have to sieve out 9,12,15,18,21,etc..  We can just sieve out 9,15,21,etc..  When `p` is an odd prime, this can be taken care of with the code `flags[p*p::2*p] = [False] * len(flags[p*p::2*p])`.  "
      ]
    },
    {
      "cell_type": "code",
      "metadata": {
        "id": "MBU0GJsSo1Nx"
      },
      "source": [
        "def isprime_list(n):\n",
        "    ''' \n",
        "    Return a list of length n+1\n",
        "    with Trues at prime indices and Falses at composite indices.\n",
        "    '''\n",
        "    flags = [True] * (n+1)  # A list [True, True, True,...] to start.\n",
        "    flags[0] = False  # Zero is not prime.  So its flag is set to False.\n",
        "    flags[1] = False  # One is not prime.  So its flag is set to False.\n",
        "    flags[4::2] = [False] * ((n-2)//2)\n",
        "    p = 3\n",
        "    while p <= sqrt(n):  # We only need to sieve by p is p <= sqrt(n).\n",
        "        if flags[p]:  # We sieve the multiples of p if flags[p]=True.\n",
        "            flags[p*p::2*p] = [False] * len(flags[p*p::2*p]) # Sieves out multiples of p, starting at p*p.\n",
        "        p = p + 2 # Try the next value of p.  Note that we can proceed only through odd p!\n",
        "        \n",
        "    return flags"
      ],
      "execution_count": null,
      "outputs": []
    },
    {
      "cell_type": "code",
      "metadata": {
        "id": "gW6DlvCmo1Nx",
        "colab": {
          "base_uri": "https://localhost:8080/"
        },
        "outputId": "0f099de2-6413-4077-8e94-868d3fbd4c7b"
      },
      "source": [
        "%timeit sum(isprime_list(10**6))  # How much did this speed it up?"
      ],
      "execution_count": null,
      "outputs": [
        {
          "output_type": "stream",
          "text": [
            "10 loops, best of 3: 83.7 ms per loop\n"
          ],
          "name": "stdout"
        }
      ]
    },
    {
      "cell_type": "markdown",
      "metadata": {
        "id": "hiCV5pUEo1Nx"
      },
      "source": [
        "Another modest improvement is the following.  In the code above, the program *counts* the terms in sequences like 9,15,21,27,..., in order to set them to `False`.  This is accomplished with the length command `len(flags[p*p::2*p])`.  But that length computation is a bit too intensive.  A bit of algebraic work shows that the length is given formulaically in terms of `p` and `n` by the formula:  \n",
        "\n",
        "$$len = \\lfloor \\frac{n - p^2 - 1}{2p} \\rfloor + 1$$\n",
        "\n",
        "(Here $\\lfloor x \\rfloor$ denotes the floor function, i.e., the result of rounding down.)  Putting this into the code yields the following."
      ]
    },
    {
      "cell_type": "code",
      "metadata": {
        "id": "46RPEsKCo1Nx"
      },
      "source": [
        "def isprime_list(n):\n",
        "    ''' \n",
        "    Return a list of length n+1\n",
        "    with Trues at prime indices and Falses at composite indices.\n",
        "    '''\n",
        "    flags = [True] * (n+1)  # A list [True, True, True,...] to start.\n",
        "    flags[0] = False  # Zero is not prime.  So its flag is set to False.\n",
        "    flags[1] = False  # One is not prime.  So its flag is set to False.\n",
        "    flags[4::2] = [False] * ((n-2)//2)\n",
        "    p = 3tim\n",
        "    while p <= sqrt(n):  # We only need to sieve by p is p <= sqrt(n).\n",
        "        if flags[p]:  # We sieve the multiples of p if flags[p]=True.\n",
        "            flags[p*p::2*p] = [False] * ((n-p*p)//(2*p)+1) # Sieves out multiples of p, starting at p*p.\n",
        "        p = p + 2 # Try the next value of p.\n",
        "        \n",
        "    return flags"
      ],
      "execution_count": null,
      "outputs": []
    },
    {
      "cell_type": "code",
      "metadata": {
        "id": "gMCxzJ8yo1Nx",
        "colab": {
          "base_uri": "https://localhost:8080/"
        },
        "outputId": "ada3cb3b-abd8-447a-f745-2bd2887ebe71"
      },
      "source": [
        "%timeit sum(isprime_list(10**6))  # How much did this speed it up?"
      ],
      "execution_count": null,
      "outputs": [
        {
          "output_type": "stream",
          "text": [
            "10 loops, best of 3: 54.1 ms per loop\n"
          ],
          "name": "stdout"
        }
      ]
    },
    {
      "cell_type": "markdown",
      "metadata": {
        "id": "NT6XwvCJo1Nx"
      },
      "source": [
        "That should be pretty fast!  It should be under 100 ms (one tenth of one second!) to determine the primes up to a million, and on a newer computer it should be under 50ms.  We have gotten pretty close to the fastest algorithms that you can find in Python, without using external packages (like SAGE or sympy).  See the related [discussion on StackOverflow](https://stackoverflow.com/questions/2068372/fastest-way-to-list-all-primes-below-n)... the code in this lesson was influenced by the code presented there."
      ]
    },
    {
      "cell_type": "markdown",
      "metadata": {
        "id": "8Noiny4ho1Nx"
      },
      "source": [
        "### Exercises\n",
        "\n",
        "1.  Prove that the length of `range(p*p, n, 2*p)` equals $\\lfloor \\frac{n - p^2 - 1}{2p} \\rfloor + 1$.\n",
        "\n",
        "2.  A natural number $n$ is called squarefree if it has no perfect square divides $n$ except for 1.  Write a function `squarefree_list(n)` which outputs a list of booleans:  `True` if the index is squarefree and `False` if the index is not squarefree.  For example, if you execute `squarefree_list(12)`, the output should be `[False, True, True, True, False, True, True, True, False, False, True, True, False]`.  Note that the `False` entries are located the indices 0, 4, 8, 9, 12.  These natural numbers have perfect square divisors besides 1.  \n",
        "\n",
        "3.  Your DNA contains about 3 billion base pairs.  Each \"base pair\" can be thought of as a letter, A, T, G, or C.  How many bits would be required to store a single base pair?  In other words, how might you convert a sequence of booleans into a letter A,T,G, or C?  Given this, how many megabytes or gigabytes are required to store your DNA?  How many people's DNA would fit on a thumb-drive?"
      ]
    },
    {
      "cell_type": "markdown",
      "metadata": {
        "id": "vl5oUnc4OqaC"
      },
      "source": [
        "1. Consider range(p*p, n, 2*p). It consists of p*p, n-1, and the elements between them that are of the form p*p+(2*p)k for some natural number k. Clearly, the first thing we need to do to get the length of this list is subtract p*p from n-1. This will give us the number of numbers from p*p to n-1 (in general, not in the list) minus 1 (e.g. 6-3=3=len[3,4,5,6]-1) and, if we rearrange terms, is equivalent to n-p*p-1. Then, we need to perform floor division on this number, using it as the dividend and 2*p as the divisor. This is will give us the length of range(p*p, n, 2*p) minus one, and is equivalent to the floor of (n-p*p-1)/2*p. Thus, to get the length of range(p*p, n, 2*p), all we need to do is add one.\n"
      ]
    },
    {
      "cell_type": "code",
      "metadata": {
        "id": "Of1PRUKGBLlG"
      },
      "source": [
        "2.\n",
        "def squarefree_list(k):\n",
        "  j=2\n",
        "  Z=[]\n",
        "  for n in range(0,k+1):\n",
        "    while j<n:\n",
        "      if n%(j**2)==0:\n",
        "        Z.append(False)\n",
        "        return False\n",
        "      j=j+1\n",
        "    Z.append(True) \n",
        "\n",
        "  print(L) \n"
      ],
      "execution_count": 339,
      "outputs": []
    },
    {
      "cell_type": "code",
      "metadata": {
        "colab": {
          "base_uri": "https://localhost:8080/"
        },
        "id": "noUe3LXFAIBc",
        "outputId": "6e5daea6-b5a2-40f3-a436-ab7cd250f531"
      },
      "source": [
        "squarefree_list(12)"
      ],
      "execution_count": 341,
      "outputs": [
        {
          "output_type": "stream",
          "text": [
            "[False, True, True, True, False, True, True, True, False, False, True, True, False, True, True, False, True, True, True, False, False, True, True, False, True]\n"
          ],
          "name": "stdout"
        }
      ]
    },
    {
      "cell_type": "code",
      "metadata": {
        "colab": {
          "base_uri": "https://localhost:8080/"
        },
        "id": "6amcthZnDpH3",
        "outputId": "d02d939a-c7ec-4994-8284-3eed56b8e765"
      },
      "source": [
        "is_prime(9)"
      ],
      "execution_count": 314,
      "outputs": [
        {
          "output_type": "stream",
          "text": [
            "3 is a factor of 9.\n"
          ],
          "name": "stdout"
        },
        {
          "output_type": "execute_result",
          "data": {
            "text/plain": [
              "False"
            ]
          },
          "metadata": {
            "tags": []
          },
          "execution_count": 314
        }
      ]
    },
    {
      "cell_type": "code",
      "metadata": {
        "colab": {
          "base_uri": "https://localhost:8080/"
        },
        "id": "YkwgnM0GaClH",
        "outputId": "541526fa-84c6-43b7-9dc8-f31429c37aaa"
      },
      "source": [
        "\n",
        "squarefree_list(12)"
      ],
      "execution_count": 242,
      "outputs": [
        {
          "output_type": "stream",
          "text": [
            "[False, True, True, True, False, True, True, True, False, False, True, True, False, True, True, False, True, True, True, False, False, True, True, False, True]\n"
          ],
          "name": "stdout"
        }
      ]
    },
    {
      "cell_type": "markdown",
      "metadata": {
        "id": "qRUhklMRgYyZ"
      },
      "source": [
        "3. A base pair can be thought of as a single letter (A, T, G, or C) so we need 2 bits to store a single base pair. This follows from the fact that 2 bits can represent 4 different values (and we have 4 different letters).\n",
        "\n",
        "In the following manner, a sequence of booleans can be converted to a letter: 00 for A, 01 for T, 10 for G, and 11 for C.\n",
        "\n",
        "Each base pair requires 2 bits and there are 3 billion base pairs in our DNA, so 6 billion bits, or, equivalently, 750 megabytes, are required to store our DNA.\n",
        "\n",
        "With a thumb drive of 8GB, we could store the DNA of about 11 people:\n",
        "\n",
        "10*(1024/750)=10.9"
      ]
    },
    {
      "cell_type": "markdown",
      "metadata": {
        "id": "tuP5axz9o1Nx"
      },
      "source": [
        "## Data analysis"
      ]
    },
    {
      "cell_type": "markdown",
      "metadata": {
        "id": "41IrhAupo1Nx"
      },
      "source": [
        "Now that we can produce a list of prime numbers quickly, we can do some data analysis:  some experimental number theory to look for trends or patterns in the sequence of prime numbers.  Since Euclid (about 300 BCE), we have known that there are infinitely many prime numbers.  But how are they distributed?  What proportion of numbers are prime, and how does this proportion change over different ranges?  As theoretical questions, these belong the the field of analytic number theory.  But it is hard to know what to prove without doing a bit of experimentation.  And so, at least since Gauss [(read Tschinkel's article about Gauss's tables)](http://www.ams.org/journals/bull/2006-43-01/S0273-0979-05-01096-7/S0273-0979-05-01096-7.pdf) started examining his extensive tables of prime numbers, mathematicians have been carrying out experimental number theory."
      ]
    },
    {
      "cell_type": "markdown",
      "metadata": {
        "id": "ZE0QFlwYo1Ny"
      },
      "source": [
        "### Analyzing the list of primes\n",
        "\n",
        "Let's begin by creating our data set:  the prime numbers up to 1 million."
      ]
    },
    {
      "cell_type": "code",
      "metadata": {
        "id": "9HB_PuBXo1Ny"
      },
      "source": [
        "primes = where(isprime_list(1000000))"
      ],
      "execution_count": null,
      "outputs": []
    },
    {
      "cell_type": "code",
      "metadata": {
        "id": "bdr1hcP0o1Ny",
        "colab": {
          "base_uri": "https://localhost:8080/"
        },
        "outputId": "be6aabbb-3d7b-499a-b3b5-69f09b5b3f80"
      },
      "source": [
        "len(primes) # Our population size.  A statistician might call it N."
      ],
      "execution_count": null,
      "outputs": [
        {
          "output_type": "execute_result",
          "data": {
            "text/plain": [
              "78498"
            ]
          },
          "metadata": {
            "tags": []
          },
          "execution_count": 117
        }
      ]
    },
    {
      "cell_type": "code",
      "metadata": {
        "id": "wJs6DNcBo1Ny",
        "colab": {
          "base_uri": "https://localhost:8080/"
        },
        "outputId": "7c280de6-d4be-4ce1-9e34-a61a973802a5"
      },
      "source": [
        "primes[-1]  # The last prime in our list, just before one million."
      ],
      "execution_count": null,
      "outputs": [
        {
          "output_type": "execute_result",
          "data": {
            "text/plain": [
              "999983"
            ]
          },
          "metadata": {
            "tags": []
          },
          "execution_count": 118
        }
      ]
    },
    {
      "cell_type": "code",
      "metadata": {
        "scrolled": true,
        "id": "7geu3XMoo1Ny",
        "colab": {
          "base_uri": "https://localhost:8080/"
        },
        "outputId": "f9560f45-483e-40a5-f2ea-3103ade1d8e3"
      },
      "source": [
        "type(primes) # What type is this data?"
      ],
      "execution_count": null,
      "outputs": [
        {
          "output_type": "execute_result",
          "data": {
            "text/plain": [
              "list"
            ]
          },
          "metadata": {
            "tags": []
          },
          "execution_count": 119
        }
      ]
    },
    {
      "cell_type": "code",
      "metadata": {
        "id": "siBIu-IGo1Ny",
        "colab": {
          "base_uri": "https://localhost:8080/"
        },
        "outputId": "dcc06f6b-6310-43f8-96ca-19cb88a65e57"
      },
      "source": [
        "print(primes[:100]) # The first hundred prime numbers."
      ],
      "execution_count": null,
      "outputs": [
        {
          "output_type": "stream",
          "text": [
            "[2, 3, 5, 7, 11, 13, 17, 19, 23, 29, 31, 37, 41, 43, 47, 53, 59, 61, 67, 71, 73, 79, 83, 89, 97, 101, 103, 107, 109, 113, 127, 131, 137, 139, 149, 151, 157, 163, 167, 173, 179, 181, 191, 193, 197, 199, 211, 223, 227, 229, 233, 239, 241, 251, 257, 263, 269, 271, 277, 281, 283, 293, 307, 311, 313, 317, 331, 337, 347, 349, 353, 359, 367, 373, 379, 383, 389, 397, 401, 409, 419, 421, 431, 433, 439, 443, 449, 457, 461, 463, 467, 479, 487, 491, 499, 503, 509, 521, 523, 541]\n"
          ],
          "name": "stdout"
        }
      ]
    },
    {
      "cell_type": "markdown",
      "metadata": {
        "id": "A6j9MmSGo1Ny"
      },
      "source": [
        "To carry out serious analysis, we will use the method of **list comprehension** to place our population into \"bins\" for statistical analysis.  Our first type of list comprehension has the form `[x for x in LIST if CONDITION]`.  This produces the list of all elements of LIST satisfying CONDITION.  It is similar to list slicing, except we pull out terms from the list according to whether a condition is true or false.\n",
        "\n",
        "For example, let's divide the (odd) primes into two classes.  Red primes will be those of the form 4n+1.  Blue primes will be those of the form 4n+3.  In other words, a prime `p` is red if `p%4 == 1` and blue if `p%4 == 3`.  And the prime 2 is neither red nor blue."
      ]
    },
    {
      "cell_type": "code",
      "metadata": {
        "id": "bINic7Ceo1Ny",
        "colab": {
          "base_uri": "https://localhost:8080/"
        },
        "outputId": "158c7469-2121-4301-8405-346237482be7"
      },
      "source": [
        "redprimes = [p for p in primes if p%4 == 1] # Note the [x for x in LIST if CONDITION] syntax.\n",
        "blueprimes = [p for p in primes if p%4 == 3]\n",
        "\n",
        "print('Red primes:',redprimes[:20]) # The first 20 red primes.\n",
        "print('Blue primes:',blueprimes[:20]) # The first 20 blue primes."
      ],
      "execution_count": null,
      "outputs": [
        {
          "output_type": "stream",
          "text": [
            "Red primes: [5, 13, 17, 29, 37, 41, 53, 61, 73, 89, 97, 101, 109, 113, 137, 149, 157, 173, 181, 193]\n",
            "Blue primes: [3, 7, 11, 19, 23, 31, 43, 47, 59, 67, 71, 79, 83, 103, 107, 127, 131, 139, 151, 163]\n"
          ],
          "name": "stdout"
        }
      ]
    },
    {
      "cell_type": "code",
      "metadata": {
        "id": "XXK10HG4o1Ny",
        "colab": {
          "base_uri": "https://localhost:8080/"
        },
        "outputId": "b7ccda1a-a760-4617-9384-b531f8ff2a47"
      },
      "source": [
        "print(\"There are {} red primes and {} blue primes, up to 1 million.\".format(len(redprimes), len(blueprimes)))"
      ],
      "execution_count": null,
      "outputs": [
        {
          "output_type": "stream",
          "text": [
            "There are 39175 red primes and 39322 blue primes, up to 1 million.\n"
          ],
          "name": "stdout"
        }
      ]
    },
    {
      "cell_type": "markdown",
      "metadata": {
        "id": "EMVjQlHuo1Ny"
      },
      "source": [
        "This is pretty close!  It seems like prime numbers are about evenly distributed between red and blue.  Their remainder after division by 4 is about as likely to be 1 as it is to be 3.  In fact, it is proven that *asymptotically* the ratio between the number of red primes and the number of blue primes approaches 1.  However, Chebyshev noticed a persistent slight bias towards blue primes along the way."
      ]
    },
    {
      "cell_type": "markdown",
      "metadata": {
        "id": "iBN5IBLwo1Ny"
      },
      "source": [
        "Some of the deepest conjectures in mathematics relate to the [prime counting function](https://en.wikipedia.org/wiki/Prime-counting_function) $\\pi(x)$.  Here $\\pi(x)$ is the **number of primes** between 1 and $x$ (inclusive).  So $\\pi(2) = 1$ and $\\pi(3) = 2$ and $\\pi(4) = 2$ and $\\pi(5) = 3$.  One can compute a value of $\\pi(x)$ pretty easily using a list comprehension.\n",
        "\n"
      ]
    },
    {
      "cell_type": "code",
      "metadata": {
        "id": "oFK7OGHoo1Nz"
      },
      "source": [
        "def primes_upto(x):\n",
        "    return len([p for p in primes if p <= x]) # List comprehension recovers the primes up to x."
      ],
      "execution_count": null,
      "outputs": []
    },
    {
      "cell_type": "code",
      "metadata": {
        "id": "eCi28UhMo1Nz",
        "colab": {
          "base_uri": "https://localhost:8080/"
        },
        "outputId": "06f8613f-3467-4479-bc02-eef19db83431"
      },
      "source": [
        "primes_upto(1000)  # There are 168 primes between 1 and 1000."
      ],
      "execution_count": null,
      "outputs": [
        {
          "output_type": "execute_result",
          "data": {
            "text/plain": [
              "168"
            ]
          },
          "metadata": {
            "tags": []
          },
          "execution_count": 124
        }
      ]
    },
    {
      "cell_type": "markdown",
      "metadata": {
        "id": "ZlnkhYw7o1Nz"
      },
      "source": [
        "Now we graph the prime counting function.  To do this, we use a list comprehension, and the visualization library called matplotlib.  For graphing a function, the basic idea is to create a list of x-values, a list of corresponding y-values (so the lists have to be the same length!), and then we feed the two lists into matplotlib to make the graph.\n",
        "\n",
        "We begin by loading the necessary packages."
      ]
    },
    {
      "cell_type": "code",
      "metadata": {
        "id": "cvVF2M5Go1Nz"
      },
      "source": [
        "import matplotlib  #  A powerful graphics package.\n",
        "import numpy  #  A math package\n",
        "import matplotlib.pyplot as plt  # A plotting subpackage in matplotlib."
      ],
      "execution_count": null,
      "outputs": []
    },
    {
      "cell_type": "markdown",
      "metadata": {
        "id": "-iouxGxro1Nz"
      },
      "source": [
        "Now let's graph the function $y = x^2$ over the domain $-2 \\leq x \\leq 2$ for practice.  As a first step, we use numpy's `linspace` function to create an evenly spaced set of 11 x-values between -2 and 2."
      ]
    },
    {
      "cell_type": "code",
      "metadata": {
        "id": "n7oh0AAAo1Nz",
        "colab": {
          "base_uri": "https://localhost:8080/"
        },
        "outputId": "c88b6c3b-c592-4dbf-cf0f-201316cc645c"
      },
      "source": [
        "x_values = numpy.linspace(-2,2,11)  # The argument 11 is the *number* of terms, not the step size!\n",
        "print(x_values)\n",
        "type(x_values)"
      ],
      "execution_count": null,
      "outputs": [
        {
          "output_type": "stream",
          "text": [
            "[-2.  -1.6 -1.2 -0.8 -0.4  0.   0.4  0.8  1.2  1.6  2. ]\n"
          ],
          "name": "stdout"
        },
        {
          "output_type": "execute_result",
          "data": {
            "text/plain": [
              "numpy.ndarray"
            ]
          },
          "metadata": {
            "tags": []
          },
          "execution_count": 126
        }
      ]
    },
    {
      "cell_type": "markdown",
      "metadata": {
        "id": "idcqPGZ0o1Nz"
      },
      "source": [
        "You might notice that the format looks a bit different from a list.  Indeed, if you check `type(x_values)`, it's not a list but something else called a numpy array.  Numpy is a package that excels with computations on large arrays of data.  On the surface, it's not so different from a list.  The `numpy.linspace` command is a convenient way of producing an evenly spaced list of inputs.\n",
        "\n",
        "The big difference is that operations on numpy arrays are interpreted differently than operations on ordinary Python lists.  Try the two commands for comparison."
      ]
    },
    {
      "cell_type": "code",
      "metadata": {
        "id": "5LjKKSeZo1Nz",
        "colab": {
          "base_uri": "https://localhost:8080/"
        },
        "outputId": "909ae0f0-90ed-4c87-8b09-9c7df4a8d6c5"
      },
      "source": [
        "[1,2,3] + [1,2,3]"
      ],
      "execution_count": null,
      "outputs": [
        {
          "output_type": "execute_result",
          "data": {
            "text/plain": [
              "[1, 2, 3, 1, 2, 3]"
            ]
          },
          "metadata": {
            "tags": []
          },
          "execution_count": 127
        }
      ]
    },
    {
      "cell_type": "code",
      "metadata": {
        "id": "qZFk1LBJo1Nz",
        "colab": {
          "base_uri": "https://localhost:8080/"
        },
        "outputId": "8cabdf13-0331-4e44-d1b8-dd36d456d6d4"
      },
      "source": [
        "x_values + x_values"
      ],
      "execution_count": null,
      "outputs": [
        {
          "output_type": "execute_result",
          "data": {
            "text/plain": [
              "array([-4. , -3.2, -2.4, -1.6, -0.8,  0. ,  0.8,  1.6,  2.4,  3.2,  4. ])"
            ]
          },
          "metadata": {
            "tags": []
          },
          "execution_count": 128
        }
      ]
    },
    {
      "cell_type": "code",
      "metadata": {
        "id": "LyesLSuPo1N0",
        "colab": {
          "base_uri": "https://localhost:8080/"
        },
        "outputId": "8204846b-01d4-49d2-e111-c1380d950e98"
      },
      "source": [
        "y_values = x_values * x_values  # How is multiplication interpreted on numpy arrays?\n",
        "print(y_values)"
      ],
      "execution_count": null,
      "outputs": [
        {
          "output_type": "stream",
          "text": [
            "[4.   2.56 1.44 0.64 0.16 0.   0.16 0.64 1.44 2.56 4.  ]\n"
          ],
          "name": "stdout"
        }
      ]
    },
    {
      "cell_type": "markdown",
      "metadata": {
        "id": "uAFegDVTo1N0"
      },
      "source": [
        "Now we use matplotlib to create a simple line graph."
      ]
    },
    {
      "cell_type": "code",
      "metadata": {
        "id": "tjB51noto1N0",
        "colab": {
          "base_uri": "https://localhost:8080/",
          "height": 299
        },
        "outputId": "27bf8db0-2c04-49ad-e66a-1868fcccd186"
      },
      "source": [
        "%matplotlib inline\n",
        "plt.plot(x_values, y_values)\n",
        "plt.title('The graph of $y = x^2$')  # The dollar signs surround the formula, in LaTeX format.\n",
        "plt.ylabel('y')\n",
        "plt.xlabel('x')\n",
        "plt.grid(True)\n",
        "plt.show()\n"
      ],
      "execution_count": null,
      "outputs": [
        {
          "output_type": "display_data",
          "data": {
            "image/png": "[encoded data removed]",
            "text/plain": [
              "<Figure size 432x288 with 1 Axes>"
            ]
          },
          "metadata": {
            "tags": [],
            "needs_background": "light"
          }
        }
      ]
    },
    {
      "cell_type": "markdown",
      "metadata": {
        "id": "9Wg3S1WTo1N0"
      },
      "source": [
        "Let's analyze the graphing code a bit more.  See the [official pyplot tutorial](https://matplotlib.org/users/pyplot_tutorial.html) for more details.  \n",
        "```python\n",
        "%matplotlib inline\n",
        "plt.plot(x_values, y_values)\n",
        "plt.title('The graph of $y = x^2$')  # The dollar signs surround the formula, in LaTeX format.\n",
        "plt.ylabel('y')\n",
        "plt.xlabel('x')\n",
        "plt.grid(True)\n",
        "plt.show()\n",
        "```\n",
        "The first line contains the **magic** `%matplotlib inline`.  We have seen a magic word before, in `%timeit`.  [Magic words](http://ipython.readthedocs.io/en/stable/interactive/magics.html) can call another program to assist.  So here, the magic `%matplotlib inline` calls matplotlib for help, and places the resulting figure within the notebook.\n",
        "\n",
        "The next line `plt.plot(x_values, y_values)` creates a `plot object` based on the data of the x-values and y-values.  It is an abstract sort of object, behind the scenes, in a format that matplotlib understands.  The following lines set the title of the plot, the axis labels, and turns a grid on.  The last line `plt.show` renders the plot as an image in your notebook.  There's an infinite variety of graphs that matplotlib can produce -- see [the gallery](https://matplotlib.org/gallery.html) for more!  Other graphics packages include [bokeh](http://bokeh.pydata.org/en/latest/) and [seaborn](http://seaborn.pydata.org/), which extends matplotlib."
      ]
    },
    {
      "cell_type": "markdown",
      "metadata": {
        "id": "b0yTOq4-o1N0"
      },
      "source": [
        "### Analysis of the prime counting function\n",
        "\n",
        "Now, to analyze the prime counting function, let's graph it.  To make a graph, we will first need a list of many values of x and many corresponding values of $\\pi(x)$.  We do this with two commands.  The first might take a minute to compute."
      ]
    },
    {
      "cell_type": "code",
      "metadata": {
        "id": "gnKV26bno1N0"
      },
      "source": [
        "x_values = numpy.linspace(0,1000000,1001) # The numpy array [0,1000,2000,3000,...,1000000]\n",
        "pix_values = numpy.array([primes_upto(x) for x in x_values])  # [FUNCTION(x) for x in LIST] syntax"
      ],
      "execution_count": null,
      "outputs": []
    },
    {
      "cell_type": "markdown",
      "metadata": {
        "id": "aqlila-uo1N0"
      },
      "source": [
        "We created an array of x-values as before.  But the creation of an array of y-values (here, called `pix_values` to stand for $\\pi(x)$) probably looks strange.  We have done two new things!\n",
        "\n",
        "1.  We have used a list comprehension `[primes_upto(x) for x in x_values]` to create a **list** of y-values.\n",
        "2.  We have used numpy.array(LIST) syntax to convert a Python list into a numpy array.\n",
        "\n",
        "First, we explain the list comprehension.  Instead of pulling out values of a list according to a condition, with `[x for x in LIST if CONDITION]`, we have created a new list based on performing a function each element of a list.  The syntax, used above, is `[FUNCTION(x) for x in LIST]`.  These two methods of list comprehension can be combined, in fact.  The most general syntax for list comprehension is `[FUNCTION(x) for x in LIST if CONDITION]`.\n",
        "\n",
        "Second, a list comprehension can be carried out on a numpy array, but the result is a plain Python list.  It will be better to have a numpy array instead for what follows, so we use the `numpy.array()` function to convert the list into a numpy array."
      ]
    },
    {
      "cell_type": "code",
      "metadata": {
        "id": "i2DlTbsho1N0",
        "colab": {
          "base_uri": "https://localhost:8080/"
        },
        "outputId": "af7c06a5-077a-4339-d8ed-308a8fde8811"
      },
      "source": [
        "type(numpy.array([1,2,3]))  # For example."
      ],
      "execution_count": null,
      "outputs": [
        {
          "output_type": "execute_result",
          "data": {
            "text/plain": [
              "numpy.ndarray"
            ]
          },
          "metadata": {
            "tags": []
          },
          "execution_count": 133
        }
      ]
    },
    {
      "cell_type": "markdown",
      "metadata": {
        "id": "BMmq8Fx4o1N0"
      },
      "source": [
        "Now we have two numpy arrays:  the array of x-values and the array of y-values.  We can make a plot with matplotlib."
      ]
    },
    {
      "cell_type": "code",
      "metadata": {
        "id": "Cq5kg4HPo1N0",
        "colab": {
          "base_uri": "https://localhost:8080/"
        },
        "outputId": "80941301-94a5-4bcf-fec2-f7d2f751445e"
      },
      "source": [
        "len(x_values) == len(pix_values)  # These better be the same, or else matplotlib will be unhappy."
      ],
      "execution_count": null,
      "outputs": [
        {
          "output_type": "execute_result",
          "data": {
            "text/plain": [
              "True"
            ]
          },
          "metadata": {
            "tags": []
          },
          "execution_count": 135
        }
      ]
    },
    {
      "cell_type": "code",
      "metadata": {
        "id": "DEfDVt9Wo1N0",
        "colab": {
          "base_uri": "https://localhost:8080/",
          "height": 295
        },
        "outputId": "142b8263-4fe2-48f1-a8e8-356e02a6556e"
      },
      "source": [
        "%matplotlib inline\n",
        "plt.plot(x_values, pix_values)\n",
        "plt.title('The prime counting function')\n",
        "plt.ylabel('$\\pi(x)$')\n",
        "plt.xlabel('x')\n",
        "plt.grid(True)\n",
        "plt.show()"
      ],
      "execution_count": null,
      "outputs": [
        {
          "output_type": "display_data",
          "data": {
            "image/png": "[encoded data removed]",
            "text/plain": [
              "<Figure size 432x288 with 1 Axes>"
            ]
          },
          "metadata": {
            "tags": [],
            "needs_background": "light"
          }
        }
      ]
    },
    {
      "cell_type": "markdown",
      "metadata": {
        "id": "R7djMP0do1N1"
      },
      "source": [
        "In this range, the prime counting function might look nearly linear.  But if you look closely, there's a subtle downward bend.  This is more pronounced in smaller ranges.  For example, let's look at the first 10 x-values and y-values only."
      ]
    },
    {
      "cell_type": "code",
      "metadata": {
        "id": "oTPTeUX4o1N1",
        "colab": {
          "base_uri": "https://localhost:8080/",
          "height": 295
        },
        "outputId": "9b6baa3a-7882-468b-da7b-ed1c23258aff"
      },
      "source": [
        "%matplotlib inline\n",
        "plt.plot(x_values[:10], pix_values[:10])  # Look closer to 0.\n",
        "plt.title('The prime counting function')\n",
        "plt.ylabel('$\\pi(x)$')\n",
        "plt.xlabel('x')\n",
        "plt.grid(True)\n",
        "plt.show()"
      ],
      "execution_count": null,
      "outputs": [
        {
          "output_type": "display_data",
          "data": {
            "image/png": "[encoded data removed]",
            "text/plain": [
              "<Figure size 432x288 with 1 Axes>"
            ]
          },
          "metadata": {
            "tags": [],
            "needs_background": "light"
          }
        }
      ]
    },
    {
      "cell_type": "markdown",
      "metadata": {
        "id": "EnrdVEyCo1N1"
      },
      "source": [
        "It still looks almost linear, but there's a visible downward bend here.  How can we see this bend more clearly?  If the graph were linear, its equation would have the form $\\pi(x) = mx$ for some fixed slope $m$ (since the graph *does* pass through the origin).  Therefore, the quantity $\\pi(x)/x$ would be *constant* if the graph were linear.  \n",
        "\n",
        "Hence, if we graph $\\pi(x) / x$ on the y-axis and $x$ on the x-axis, and the result is nonconstant, then the function $\\pi(x)$ is nonlinear."
      ]
    },
    {
      "cell_type": "code",
      "metadata": {
        "id": "ZgRF7b2Ko1N1"
      },
      "source": [
        "m_values = pix_values[1:] / x_values[1:]  # We start at 1, to avoid a division by zero error."
      ],
      "execution_count": null,
      "outputs": []
    },
    {
      "cell_type": "code",
      "metadata": {
        "id": "-grvUV4so1N1",
        "colab": {
          "base_uri": "https://localhost:8080/",
          "height": 297
        },
        "outputId": "b5891ea6-802d-445e-c058-ef19fb7dde71"
      },
      "source": [
        "%matplotlib inline\n",
        "plt.plot(x_values[1:], m_values)\n",
        "plt.title('The ratio $\\pi(x) / x$ as $x$ varies.')\n",
        "plt.xlabel('x')\n",
        "plt.ylabel('$\\pi(x) / x$')\n",
        "plt.grid(True)\n",
        "plt.show()"
      ],
      "execution_count": null,
      "outputs": [
        {
          "output_type": "display_data",
          "data": {
            "image/png": "[encoded data removed]",
            "text/plain": [
              "<Figure size 432x288 with 1 Axes>"
            ]
          },
          "metadata": {
            "tags": [],
            "needs_background": "light"
          }
        }
      ]
    },
    {
      "cell_type": "markdown",
      "metadata": {
        "id": "HwGVsVlxo1N1"
      },
      "source": [
        "That is certainly not constant!  The decay of $\\pi(x) / x$ is not so different from $1 / \\log(x)$, in fact.  To see this, let's overlay the graphs.  We use the `numpy.log` function, which computes the natural logarithm of its input (and allows an entire array as input)."
      ]
    },
    {
      "cell_type": "code",
      "metadata": {
        "id": "YlSSqcDko1N1",
        "colab": {
          "base_uri": "https://localhost:8080/",
          "height": 297
        },
        "outputId": "379ac30f-7353-431b-8b08-62623c5e88b1"
      },
      "source": [
        "%matplotlib inline\n",
        "plt.plot(x_values[1:], m_values, label='$\\pi(x)/x$')  # The same as the plot above.\n",
        "plt.plot(x_values[1:], 1 / numpy.log(x_values[1:]), label='$1 / \\log(x)$')  # Overlay the graph of 1 / log(x)\n",
        "plt.title('The ratio of $\\pi(x) / x$ as $x$ varies.')\n",
        "plt.xlabel('x')\n",
        "plt.ylabel('$\\pi(x) / x$')\n",
        "plt.grid(True)\n",
        "plt.legend()  # Turn on the legend.\n",
        "plt.show()"
      ],
      "execution_count": null,
      "outputs": [
        {
          "output_type": "display_data",
          "data": {
            "image/png": "[encoded data removed]",
            "text/plain": [
              "<Figure size 432x288 with 1 Axes>"
            ]
          },
          "metadata": {
            "tags": [],
            "needs_background": "light"
          }
        }
      ]
    },
    {
      "cell_type": "markdown",
      "metadata": {
        "id": "zrPg3i8-o1N1"
      },
      "source": [
        "The shape of the decay of $\\pi(x) / x$ is very close to $1 / \\log(x)$, but it looks like there is an offset.  In fact, there is, and it is pretty close to $1 / \\log(x)^2$.  And that is close, but again there's another little offset, this time proportional to $2 / \\log(x)^3$.  This goes on forever, if one wishes to approximate $\\pi(x) / x$ by an \"asymptotic expansion\" (not a good idea, it turns out).\n",
        "\n",
        "The closeness of $\\pi(x) / x$ to $1 / \\log(x)$ is expressed in the **prime number theorem**:\n",
        "$$\\lim_{x \\rightarrow \\infty} \\frac{\\pi(x)}{x / \\log(x)} = 1.$$"
      ]
    },
    {
      "cell_type": "code",
      "metadata": {
        "id": "NWQ3CIVwo1N1",
        "colab": {
          "base_uri": "https://localhost:8080/",
          "height": 297
        },
        "outputId": "e66f3553-d5c8-4245-d9fb-b4ed35b95d12"
      },
      "source": [
        "%matplotlib inline\n",
        "plt.plot(x_values[1:], m_values * numpy.log(x_values[1:])  )  # Should get closer to 1.\n",
        "plt.title('The ratio $\\pi(x) / (x / \\log(x))$ approaches 1... slowly')\n",
        "plt.xlabel('x')\n",
        "plt.ylabel('$\\pi(x) / (x / \\log(x)) $')\n",
        "plt.ylim(0.8,1.2)\n",
        "plt.grid(True)\n",
        "plt.show()"
      ],
      "execution_count": null,
      "outputs": [
        {
          "output_type": "display_data",
          "data": {
            "image/png": "[encoded data removed]",
            "text/plain": [
              "<Figure size 432x288 with 1 Axes>"
            ]
          },
          "metadata": {
            "tags": [],
            "needs_background": "light"
          }
        }
      ]
    },
    {
      "cell_type": "markdown",
      "metadata": {
        "id": "X6ELoOO-o1N1"
      },
      "source": [
        "Comparing the graph to the theoretical result, we find that the ratio $\\pi(x) / (x / \\log(x))$ approaches $1$ (the theoretical result) but very slowly (see the graph above!)."
      ]
    },
    {
      "cell_type": "markdown",
      "metadata": {
        "id": "aqXOKRako1N1"
      },
      "source": [
        "A much stronger result relates $\\pi(x)$ to the \"logarithmic integral\" $li(x)$.  The [Riemann hypothesis](http://www.claymath.org/millennium-problems/riemann-hypothesis) is equivalent to the statement\n",
        "$$\\left\\vert \\pi(x) - li(x) \\right\\vert = O(\\sqrt{x} \\log(x)).$$\n",
        "In other words, the error if one approximates $\\pi(x)$ by $li(x)$ is bounded by a constant times $\\sqrt{x} \\log(x)$.  The logarithmic integral function isn't part of Python or numpy, but it is in the mpmath package.  If you have this package installed, then you can try the following."
      ]
    },
    {
      "cell_type": "code",
      "metadata": {
        "id": "KqOcdcCjo1N2"
      },
      "source": [
        "from mpmath import li"
      ],
      "execution_count": null,
      "outputs": []
    },
    {
      "cell_type": "code",
      "metadata": {
        "id": "Pgee6LGxo1N2",
        "colab": {
          "base_uri": "https://localhost:8080/"
        },
        "outputId": "2537284c-084e-4961-edcd-1ff114f94ae3"
      },
      "source": [
        "print(primes_upto(1000000))  # The number of primes up to 1 million.\n",
        "print(li(1000000))  # The logarithmic integral of 1 million."
      ],
      "execution_count": null,
      "outputs": [
        {
          "output_type": "stream",
          "text": [
            "78498\n",
            "78627.5491594622\n"
          ],
          "name": "stdout"
        }
      ]
    },
    {
      "cell_type": "markdown",
      "metadata": {
        "id": "8Ak3l_pPo1N2"
      },
      "source": [
        "Not too shabby!"
      ]
    },
    {
      "cell_type": "markdown",
      "metadata": {
        "id": "Sp7gn8eto1N2"
      },
      "source": [
        "### Prime gaps\n",
        "\n",
        "As a last bit of data analysis, we consider the **prime gaps**.  These are the numbers that occur as differences between consecutive primes.  Since all primes except 2 are odd, all prime gaps are even except for the 1-unit gap between 2 and 3.  There are many unsolved problems about prime gaps; the most famous might be that a gap of 2 occurs infinitely often (as in the gaps between 3,5 and between 11,13 and between 41,43, etc.).\n",
        "\n",
        "Once we have our data set of prime numbers, it is not hard to create a data set of prime gaps.  Recall that `primes` is our list of prime numbers up to 1 million."
      ]
    },
    {
      "cell_type": "code",
      "metadata": {
        "id": "NHd3eV32o1N2",
        "colab": {
          "base_uri": "https://localhost:8080/"
        },
        "outputId": "86a59699-2db2-43f5-ee6a-989e3a5112e6"
      },
      "source": [
        "len(primes) # The number of primes up to 1 million."
      ],
      "execution_count": null,
      "outputs": [
        {
          "output_type": "execute_result",
          "data": {
            "text/plain": [
              "78498"
            ]
          },
          "metadata": {
            "tags": []
          },
          "execution_count": 144
        }
      ]
    },
    {
      "cell_type": "code",
      "metadata": {
        "id": "XHc6S5mzo1N2"
      },
      "source": [
        "primes_allbutlast = primes[:-1]  # This excludes the last prime in the list.\n",
        "primes_allbutfirst = primes[1:]  # This excludes the first (i.e., with index 0) prime in the list."
      ],
      "execution_count": null,
      "outputs": []
    },
    {
      "cell_type": "code",
      "metadata": {
        "id": "QBIkUK5eo1N2"
      },
      "source": [
        "primegaps = numpy.array(primes_allbutfirst) - numpy.array(primes_allbutlast) # Numpy is fast!"
      ],
      "execution_count": null,
      "outputs": []
    },
    {
      "cell_type": "code",
      "metadata": {
        "id": "tqGLrNREo1N2",
        "colab": {
          "base_uri": "https://localhost:8080/"
        },
        "outputId": "3d57080d-c111-4212-dac0-84393151ef0b"
      },
      "source": [
        "print(primegaps[:100])  # The first hundred prime gaps!"
      ],
      "execution_count": null,
      "outputs": [
        {
          "output_type": "stream",
          "text": [
            "[ 1  2  2  4  2  4  2  4  6  2  6  4  2  4  6  6  2  6  4  2  6  4  6  8\n",
            "  4  2  4  2  4 14  4  6  2 10  2  6  6  4  6  6  2 10  2  4  2 12 12  4\n",
            "  2  4  6  2 10  6  6  6  2  6  4  2 10 14  4  2  4 14  6 10  2  4  6  8\n",
            "  6  6  4  6  8  4  8 10  2 10  2  6  4  6  8  4  2  4 12  8  4  8  4  6\n",
            " 12  2 18  6]\n"
          ],
          "name": "stdout"
        }
      ]
    },
    {
      "cell_type": "markdown",
      "metadata": {
        "id": "nmMeiaSpo1N2"
      },
      "source": [
        "What have we done?  It is useful to try out this method on a short list.  "
      ]
    },
    {
      "cell_type": "code",
      "metadata": {
        "id": "on-JH3dTo1N2"
      },
      "source": [
        "L = [1,3,7,20]  # A nice short list."
      ],
      "execution_count": null,
      "outputs": []
    },
    {
      "cell_type": "code",
      "metadata": {
        "id": "f4iyePe3o1N2",
        "colab": {
          "base_uri": "https://localhost:8080/"
        },
        "outputId": "bfaf9e12-c988-4a7f-8e57-c34c8f10f02b"
      },
      "source": [
        "print(L[:-1])\n",
        "print(L[1:])"
      ],
      "execution_count": null,
      "outputs": [
        {
          "output_type": "stream",
          "text": [
            "[1, 3, 7]\n",
            "[3, 7, 20]\n"
          ],
          "name": "stdout"
        }
      ]
    },
    {
      "cell_type": "markdown",
      "metadata": {
        "id": "gpKfCHEEo1N3"
      },
      "source": [
        "Now we have two lists of the same length.  The gaps in the original list `L` are the differences between terms of the *same* index in the two new lists.  One might be tempted to just subtract, e.g., with the command `L[1:] - L[:-1]`, but subtraction is not defined for lists.\n",
        "\n",
        "Fortunately, by converting the lists to numpy arrays, we can use numpy's term-by-term subtraction operation."
      ]
    },
    {
      "cell_type": "code",
      "metadata": {
        "id": "H2Ob8Jkro1N3",
        "colab": {
          "base_uri": "https://localhost:8080/",
          "height": 164
        },
        "outputId": "8cfb5549-c138-43c0-ada0-7a9c89db54c4"
      },
      "source": [
        "L[1:] - L[:-1]  # This will give a TypeError.  You can't subtract lists!"
      ],
      "execution_count": null,
      "outputs": [
        {
          "output_type": "error",
          "ename": "TypeError",
          "evalue": "ignored",
          "traceback": [
            "\u001b[0;31m---------------------------------------------------------------------------\u001b[0m",
            "\u001b[0;31mTypeError\u001b[0m                                 Traceback (most recent call last)",
            "\u001b[0;32m<ipython-input-152-0c27eb74e0a4>\u001b[0m in \u001b[0;36m<module>\u001b[0;34m()\u001b[0m\n\u001b[0;32m----> 1\u001b[0;31m \u001b[0mL\u001b[0m\u001b[0;34m[\u001b[0m\u001b[0;36m1\u001b[0m\u001b[0;34m:\u001b[0m\u001b[0;34m]\u001b[0m \u001b[0;34m-\u001b[0m \u001b[0mL\u001b[0m\u001b[0;34m[\u001b[0m\u001b[0;34m:\u001b[0m\u001b[0;34m-\u001b[0m\u001b[0;36m1\u001b[0m\u001b[0;34m]\u001b[0m  \u001b[0;31m# This will give a TypeError.  You can't subtract lists!\u001b[0m\u001b[0;34m\u001b[0m\u001b[0;34m\u001b[0m\u001b[0m\n\u001b[0m",
            "\u001b[0;31mTypeError\u001b[0m: unsupported operand type(s) for -: 'list' and 'list'"
          ]
        }
      ]
    },
    {
      "cell_type": "code",
      "metadata": {
        "id": "lSkR4Dxho1N3",
        "colab": {
          "base_uri": "https://localhost:8080/"
        },
        "outputId": "cbc274d2-db2e-40ff-dd6d-6d1613ffd082"
      },
      "source": [
        "numpy.array(L[1:]) - numpy.array(L[:-1])  # That's better.  See the gaps in the list [1,3,7,20] in the output."
      ],
      "execution_count": null,
      "outputs": [
        {
          "output_type": "execute_result",
          "data": {
            "text/plain": [
              "array([ 2,  4, 13])"
            ]
          },
          "metadata": {
            "tags": []
          },
          "execution_count": 154
        }
      ]
    },
    {
      "cell_type": "markdown",
      "metadata": {
        "id": "-dVIfFnVo1N3"
      },
      "source": [
        "Now let's return to our primegaps data set.  It contains all the gap-sizes for primes up to 1 million.  "
      ]
    },
    {
      "cell_type": "code",
      "metadata": {
        "id": "i9FFJvMbo1N3",
        "colab": {
          "base_uri": "https://localhost:8080/"
        },
        "outputId": "a5e3a0de-19bb-48df-a0c6-97cdac4d3c82"
      },
      "source": [
        "print(len(primes))\n",
        "print(len(primegaps))  # This should be one less than the number of primes."
      ],
      "execution_count": null,
      "outputs": [
        {
          "output_type": "stream",
          "text": [
            "78498\n",
            "78497\n"
          ],
          "name": "stdout"
        }
      ]
    },
    {
      "cell_type": "markdown",
      "metadata": {
        "id": "hz93cWX1o1N3"
      },
      "source": [
        "As a last example of data visualization, we use matplotlib to produce a histogram of the prime gaps."
      ]
    },
    {
      "cell_type": "code",
      "metadata": {
        "id": "6V5Nj_MCo1N3",
        "colab": {
          "base_uri": "https://localhost:8080/"
        },
        "outputId": "69959c7e-a8ad-45a9-bab9-445699969d8a"
      },
      "source": [
        "max(primegaps)  # The largest prime gap that appears!"
      ],
      "execution_count": null,
      "outputs": [
        {
          "output_type": "execute_result",
          "data": {
            "text/plain": [
              "114"
            ]
          },
          "metadata": {
            "tags": []
          },
          "execution_count": 156
        }
      ]
    },
    {
      "cell_type": "code",
      "metadata": {
        "id": "rOFsdO1Uo1N3",
        "colab": {
          "base_uri": "https://localhost:8080/",
          "height": 350
        },
        "outputId": "21a6fbe8-635a-4943-92bb-2cc728736339"
      },
      "source": [
        "%matplotlib inline\n",
        "plt.figure(figsize=(12, 5))  #  Makes the resulting figure 12in by 5in.\n",
        "plt.hist(primegaps, bins=range(1,115)) #  Makes a histogram with one bin for each possible gap from 1 to 114.\n",
        "plt.ylabel('Frequency')\n",
        "plt.xlabel('Gap size')\n",
        "plt.grid(True)\n",
        "plt.title('The frequency of prime gaps, for primes up to 1 million')\n",
        "plt.show()"
      ],
      "execution_count": null,
      "outputs": [
        {
          "output_type": "display_data",
          "data": {
            "image/png": "[encoded data removed]",
            "text/plain": [
              "<Figure size 864x360 with 1 Axes>"
            ]
          },
          "metadata": {
            "tags": [],
            "needs_background": "light"
          }
        }
      ]
    },
    {
      "cell_type": "markdown",
      "metadata": {
        "id": "kkWLq7QLo1N3"
      },
      "source": [
        "Observe that gaps of 2 (twin primes) are pretty frequent.  There are over 8000 of them, and about the same number of 4-unit gaps!  But gaps of 6 are most frequent in the population, and there are some interesting peaks at 6, 12, 18, 24, 30.  What else do you observe?"
      ]
    },
    {
      "cell_type": "markdown",
      "metadata": {
        "id": "yt5JakuSo1N3"
      },
      "source": [
        "### Exercises\n",
        "\n",
        "1.  Create functions `redprimes_upto(x)` and `blueprimes_upto(x)` which count the number of red/blue primes up to a given number `x`.  Recall that we defined red/blue primes to be those of the form 4n+1 or 4n+3, respectively.  Graph the relative proportion of red/blue primes as `x` varies from 1 to 1 million.  E.g., are the proportions 50%/50% or 70%/30%, and how do these proportions change?  Note:  this is also visualized in [An Illustrated Theory of Numbers](http://bookstore.ams.org/mbk-105) and you can read [an article by Rubinstein and Sarnak](https://projecteuclid.org/euclid.em/1048515870) for more.\n",
        "\n",
        "2.  Does there seem to be a bias in the last digits of primes?  Note that, except for 2 and 5, every prime ends in 1,3,7, or 9.  Note: the last digit of a number `n` is obtained from `n % 10`.  \n",
        "\n",
        "3.  Read about the [\"Prime Conspiracy\"](https://www.quantamagazine.org/mathematicians-discover-prime-conspiracy-20160313), recently discovered by Lemke Oliver and Soundararajan.  Can you detect their conspiracy in our data set of primes?"
      ]
    },
    {
      "cell_type": "code",
      "metadata": {
        "id": "FaJBUMv6w_3d"
      },
      "source": [
        "def redprimes_upto(x):\n",
        "  redprimes_upto = [p for p in primes if p%4 == 1 and p<x]\n",
        "  print(len(redprimes_upto))  "
      ],
      "execution_count": null,
      "outputs": []
    },
    {
      "cell_type": "code",
      "metadata": {
        "id": "g2PfFuRVp-xU"
      },
      "source": [
        "def blueprimes_upto(x):\n",
        "  blueprimes_upto = [p for p in primes if p%4 == 3 and p<x]\n",
        "  print(len(blueprimes_upto))  "
      ],
      "execution_count": null,
      "outputs": []
    },
    {
      "cell_type": "code",
      "metadata": {
        "id": "SC5Mu7Jyo0Bw"
      },
      "source": [
        "x_values = numpy.linspace(10,1000000,1001)\n",
        "bix_values = numpy.array([blueprimes_upto(x) for x in x_values])\n"
      ],
      "execution_count": null,
      "outputs": []
    },
    {
      "cell_type": "code",
      "metadata": {
        "id": "_3XbLgXKxLnI"
      },
      "source": [
        "x_values = numpy.linspace(10,1000000,1001)\n",
        "rix_values = numpy.array([redprimes_upto(x) for x in x_values])"
      ],
      "execution_count": null,
      "outputs": []
    },
    {
      "cell_type": "code",
      "metadata": {
        "colab": {
          "base_uri": "https://localhost:8080/",
          "height": 295
        },
        "id": "VtLbekTuq8NP",
        "outputId": "9e076426-8426-4b8c-8325-762c6d632ed3"
      },
      "source": [
        "%matplotlib inline\n",
        "plt.plot(x_values, pix_values)\n",
        "plt.title('Blue primes')\n",
        "plt.ylabel('$b(x)$')\n",
        "plt.xlabel('x')\n",
        "plt.grid(True)\n",
        "plt.show()"
      ],
      "execution_count": null,
      "outputs": [
        {
          "output_type": "display_data",
          "data": {
            "image/png": "[encoded data removed]",
            "text/plain": [
              "<Figure size 432x288 with 1 Axes>"
            ]
          },
          "metadata": {
            "tags": [],
            "needs_background": "light"
          }
        }
      ]
    },
    {
      "cell_type": "code",
      "metadata": {
        "colab": {
          "base_uri": "https://localhost:8080/",
          "height": 295
        },
        "id": "kWoMRjmgxRji",
        "outputId": "b1747b66-fa34-48b9-f43a-461eeafd8a5a"
      },
      "source": [
        "%matplotlib inline\n",
        "plt.plot(x_values, pix_values)\n",
        "plt.title('Red primes')\n",
        "plt.ylabel('$r(x)$')\n",
        "plt.xlabel('x')\n",
        "plt.grid(True)\n",
        "plt.show()"
      ],
      "execution_count": null,
      "outputs": [
        {
          "output_type": "display_data",
          "data": {
            "image/png": "[encoded data removed]",
            "text/plain": [
              "<Figure size 432x288 with 1 Axes>"
            ]
          },
          "metadata": {
            "tags": [],
            "needs_background": "light"
          }
        }
      ]
    },
    {
      "cell_type": "code",
      "metadata": {
        "id": "Xym6017Zxmbs"
      },
      "source": [
        "It appears to be 50/50."
      ],
      "execution_count": null,
      "outputs": []
    },
    {
      "cell_type": "code",
      "metadata": {
        "colab": {
          "base_uri": "https://localhost:8080/"
        },
        "id": "zWxV3443yd1w",
        "outputId": "846b10fe-338e-4e4d-a1cb-91494fd122d6"
      },
      "source": [
        "L=[]\n",
        "for p in primes:\n",
        "  L.append(p%10)\n",
        "\n",
        "print(L)"
      ],
      "execution_count": null,
      "outputs": [
        {
          "output_type": "stream",
          "text": [
            "[2, 3, 5, 7, 1, 3, 7, 9, 3, 9, 1, 7, 1, 3, 7, 3, 9, 1, 7, 1, 3, 9, 3, 9, 7, 1, 3, 7, 9, 3, 7, 1, 7, 9, 9, 1, 7, 3, 7, 3, 9, 1, 1, 3, 7, 9, 1, 3, 7, 9, 3, 9, 1, 1, 7, 3, 9, 1, 7, 1, 3, 3, 7, 1, 3, 7, 1, 7, 7, 9, 3, 9, 7, 3, 9, 3, 9, 7, 1, 9, 9, 1, 1, 3, 9, 3, 9, 7, 1, 3, 7, 9, 7, 1, 9, 3, 9, 1, 3, 1, 7, 7, 3, 9, 1, 7, 7, 3, 9, 1, 7, 3, 7, 9, 1, 1, 3, 7, 3, 9, 1, 3, 7, 3, 1, 1, 9, 9, 7, 3, 9, 3, 1, 7, 1, 9, 3, 7, 7, 9, 1, 1, 3, 7, 9, 9, 3, 7, 9, 3, 7, 1, 3, 7, 7, 1, 9, 9, 7, 1, 7, 3, 7, 1, 7, 3, 1, 7, 9, 3, 9, 1, 1, 3, 9, 9, 1, 1, 3, 9, 7, 1, 3, 7, 3, 9, 7, 3, 9, 1, 3, 3, 1, 1, 7, 3, 1, 3, 7, 3, 9, 1, 7, 9, 9, 7, 9, 3, 9, 1, 7, 1, 3, 7, 9, 1, 7, 1, 7, 3, 1, 9, 9, 3, 7, 9, 3, 9, 7, 1, 3, 9, 1, 1, 3, 7, 9, 3, 9, 1, 3, 1, 3, 9, 3, 9, 7, 1, 9, 3, 7, 1, 7, 9, 3, 9, 1, 7, 7, 7, 3, 7, 9, 3, 7, 9, 9, 1, 3, 3, 1, 7, 3, 9, 7, 3, 7, 9, 1, 1, 3, 1, 7, 1, 7, 1, 3, 7, 9, 9, 1, 7, 3, 1, 3, 9, 1, 3, 9, 7, 3, 7, 9, 3, 1, 7, 7, 9, 9, 3, 3, 9, 1, 3, 7, 9, 9, 1, 3, 9, 1, 7, 1, 3, 3, 1, 9, 3, 7, 3, 1, 7, 9, 3, 1, 7, 9, 3, 1, 7, 3, 7, 9, 1, 3, 9, 1, 7, 1, 7, 1, 7, 1, 3, 9, 3, 9, 1, 7, 3, 7, 1, 7, 9, 7, 3, 7, 3, 1, 1, 9, 3, 9, 1, 7, 9, 1, 3, 9, 7, 1, 3, 7, 7, 9, 3, 1, 7, 3, 7, 9, 3, 9, 7, 1, 3, 9, 9, 1, 1, 9, 3, 7, 7, 9, 1, 7, 1, 3, 9, 3, 7, 3, 1, 7, 1, 9, 7, 7, 3, 9, 7, 7, 9, 3, 7, 3, 9, 1, 9, 1, 1, 9, 3, 7, 1, 9, 1, 7, 9, 3, 9, 9, 9, 1, 7, 3, 7, 9, 1, 7, 1, 3, 9, 7, 1, 9, 1, 3, 7, 9, 1, 9, 1, 7, 3, 9, 3, 9, 1, 3, 7, 9, 1, 1, 3, 9, 1, 7, 3, 3, 9, 7, 1, 3, 7, 9, 1, 9, 1, 7, 7, 9, 3, 9, 1, 7, 7, 9, 1, 1, 3, 3, 7, 3, 7, 3, 1, 7, 3, 9, 1, 3, 7, 1, 7, 1, 9, 9, 7, 3, 9, 1, 7, 9, 9, 3, 7, 3, 1, 3, 3, 7, 1, 3, 3, 7, 1, 9, 7, 1, 7, 9, 3, 9, 1, 3, 7, 7, 9, 1, 3, 7, 3, 9, 1, 7, 9, 1, 7, 3, 9, 1, 3, 9, 1, 7, 9, 3, 9, 3, 7, 9, 7, 1, 1, 7, 9, 9, 1, 1, 3, 3, 9, 1, 1, 3, 3, 9, 7, 7, 7, 9, 9, 7, 3, 3, 1, 7, 9, 1, 3, 1, 7, 1, 7, 3, 1, 3, 3, 7, 3, 7, 9, 3, 7, 9, 1, 7, 3, 1, 7, 3, 1, 7, 9, 3, 9, 1, 7, 3, 3, 9, 1, 3, 1, 3, 9, 3, 1, 9, 3, 7, 9, 3, 9, 1, 3, 7, 1, 1, 1, 7, 9, 3, 9, 9, 1, 3, 7, 3, 1, 7, 7, 9, 3, 7, 3, 9, 3, 9, 1, 1, 3, 9, 1, 9, 7, 1, 7, 9, 1, 7, 3, 9, 7, 3, 7, 1, 9, 9, 7, 9, 7, 1, 3, 7, 1, 3, 9, 1, 7, 3, 9, 3, 3, 7, 1, 1, 7, 3, 9, 7, 3, 7, 9, 1, 7, 1, 3, 9, 1, 7, 9, 3, 1, 3, 7, 9, 1, 7, 1, 7, 3, 9, 3, 1, 1, 3, 9, 1, 7, 1, 3, 7, 9, 9, 3, 9, 3, 1, 1, 7, 7, 1, 3, 9, 9, 3, 1, 1, 7, 3, 1, 7, 9, 3, 9, 1, 7, 1, 7, 9, 9, 1, 7, 3, 3, 7, 9, 3, 1, 7, 7, 1, 9, 7, 3, 7, 3, 7, 3, 9, 9, 1, 1, 3, 1, 1, 3, 3, 1, 3, 3, 7, 9, 3, 1, 7, 1, 9, 7, 7, 3, 9, 1, 7, 7, 9, 1, 1, 7, 3, 9, 7, 3, 3, 9, 1, 7, 3, 9, 9, 7, 1, 7, 9, 1, 9, 3, 1, 1, 1, 9, 7, 1, 3, 3, 9, 1, 7, 1, 9, 7, 9, 7, 3, 9, 1, 3, 9, 9, 1, 1, 3, 9, 9, 3, 7, 1, 3, 9, 1, 1, 3, 3, 3, 7, 9, 3, 1, 7, 3, 9, 1, 3, 9, 7, 1, 7, 7, 9, 9, 1, 7, 1, 7, 3, 1, 7, 1, 3, 9, 7, 9, 3, 7, 9, 9, 3, 9, 1, 7, 9, 1, 9, 7, 7, 3, 7, 1, 3, 9, 9, 7, 3, 7, 3, 3, 7, 7, 9, 1, 1, 3, 9, 1, 9, 3, 1, 7, 3, 1, 7, 9, 7, 1, 7, 9, 9, 7, 7, 3, 9, 7, 1, 7, 9, 9, 1, 3, 7, 3, 9, 1, 3, 7, 1, 9, 3, 9, 9, 3, 1, 7, 1, 9, 3, 7, 3, 7, 1, 3, 7, 9, 9, 3, 7, 3, 9, 1, 3, 7, 3, 7, 9, 3, 1, 7, 9, 7, 3, 7, 9, 1, 3, 3, 9, 1, 7, 9, 3, 9, 9, 1, 7, 9, 3, 1, 1, 7, 3, 7, 1, 7, 1, 9, 1, 9, 9, 1, 1, 3, 7, 3, 3, 9, 3, 7, 1, 3, 7, 1, 7, 9, 3, 3, 9, 7, 7, 9, 9, 3, 9, 1, 3, 7, 1, 7, 1, 3, 1, 7, 7, 9, 3, 3, 3, 1, 7, 9, 9, 3, 7, 9, 1, 7, 3, 9, 7, 1, 9, 3, 9, 7, 3, 9, 1, 7, 1, 7, 3, 1, 9, 3, 3, 7, 9, 1, 1, 7, 9, 9, 1, 3, 7, 7, 3, 3, 9, 3, 1, 1, 3, 9, 1, 9, 1, 7, 1, 3, 9, 1, 3, 9, 9, 7, 1, 3, 9, 7, 3, 7, 1, 7, 1, 3, 1, 7, 9, 3, 9, 1, 7, 9, 1, 7, 7, 1, 3, 3, 1, 9, 3, 7, 1, 3, 9, 1, 7, 1, 7, 3, 3, 9, 1, 1, 3, 7, 9, 1, 3, 7, 3, 9, 1, 7, 1, 1, 3, 9, 7, 1, 7, 1, 3, 9, 3, 9, 1, 3, 9, 1, 7, 9, 9, 7, 9, 1, 3, 9, 3, 9, 7, 9, 1, 7, 1, 3, 1, 7, 9, 3, 9, 1, 7, 9, 1, 3, 7, 1, 7, 3, 9, 1, 1, 9, 7, 3, 7, 9, 7, 9, 1, 7, 9, 9, 1, 3, 9, 3, 1, 3, 9, 1, 1, 9, 3, 9, 7, 1, 3, 1, 3, 3, 7, 3, 9, 7, 1, 3, 9, 1, 3, 3, 1, 1, 3, 7, 3, 7, 9, 1, 9, 7, 9, 3, 3, 7, 9, 3, 7, 7, 9, 1, 3, 9, 1, 9, 7, 9, 7, 1, 7, 3, 7, 1, 9, 1, 7, 3, 7, 7, 1, 9, 1, 3, 9, 3, 9, 3, 1, 1, 9, 9, 1, 7, 7, 3, 9, 1, 7, 3, 9, 1, 3, 9, 7, 9, 9, 7, 3, 9, 7, 3, 3, 7, 7, 7, 9, 9, 1, 3, 7, 3, 3, 7, 9, 1, 9, 9, 1, 1, 3, 7, 7, 3, 9, 3, 1, 7, 1, 3, 9, 7, 9, 1, 7, 1, 9, 1, 3, 9, 3, 3, 9, 1, 3, 7, 3, 7, 7, 1, 3, 9, 1, 7, 3, 9, 7, 9, 1, 9, 7, 3, 7, 7, 1, 3, 7, 7, 1, 9, 9, 1, 7, 9, 1, 3, 7, 9, 3, 9, 1, 7, 3, 1, 7, 1, 3, 9, 3, 7, 7, 7, 3, 9, 3, 7, 3, 9, 1, 3, 9, 9, 1, 1, 7, 7, 1, 7, 1, 3, 9, 1, 3, 7, 1, 7, 9, 3, 9, 3, 9, 7, 1, 3, 7, 3, 1, 7, 9, 1, 1, 3, 3, 9, 7, 1, 9, 1, 3, 9, 3, 7, 3, 7, 9, 1, 1, 9, 3, 1, 3, 7, 1, 7, 3, 9, 7, 1, 7, 3, 1, 7, 7, 9, 1, 7, 3, 9, 7, 3, 9, 1, 1, 3, 9, 7, 1, 7, 3, 9, 1, 9, 7, 3, 3, 1, 9, 3, 7, 3, 1, 1, 9, 9, 1, 3, 9, 1, 3, 9, 3, 9, 7, 1, 7, 9, 3, 1, 3, 9, 7, 3, 9, 3, 1, 3, 7, 9, 3, 7, 3, 9, 3, 3, 9, 3, 9, 1, 7, 7, 1, 9, 3, 1, 7, 3, 7, 7, 9, 9, 1, 9, 9, 7, 1, 7, 9, 3, 7, 1, 7, 9, 7, 1, 7, 9, 1, 7, 1, 1, 1, 7, 3, 9, 7, 7, 9, 3, 3, 7, 3, 7, 7, 1, 7, 3, 9, 7, 3, 9, 9, 9, 1, 7, 1, 3, 7, 9, 1, 1, 3, 9, 1, 7, 9, 3, 1, 9, 9, 7, 9, 1, 1, 9, 3, 7, 9, 3, 1, 3, 7, 3, 1, 1, 3, 3, 7, 7, 9, 9, 1, 9, 3, 1, 7, 1, 1, 3, 7, 7, 3, 9, 3, 9, 3, 7, 7, 7, 1, 3, 9, 1, 1, 3, 3, 1, 3, 7, 1, 7, 9, 7, 9, 1, 7, 1, 9, 3, 1, 7, 7, 9, 1, 9, 9, 3, 9, 3, 7, 3, 9, 1, 7, 1, 3, 1, 3, 1, 7, 9, 3, 9, 3, 7, 9, 3, 9, 3, 7, 3, 1, 7, 1, 7, 3, 9, 7, 1, 9, 3, 7, 3, 1, 7, 1, 3, 1, 7, 9, 9, 7, 1, 7, 3, 9, 9, 7, 1, 7, 9, 3, 3, 7, 1, 3, 1, 3, 7, 3, 1, 1, 7, 1, 1, 7, 9, 9, 1, 3, 7, 3, 9, 7, 7, 3, 1, 9, 3, 9, 1, 7, 7, 9, 9, 7, 3, 9, 9, 1, 9, 9, 1, 3, 7, 3, 1, 1, 3, 7, 9, 3, 1, 1, 7, 3, 3, 7, 1, 7, 1, 1, 9, 9, 1, 3, 1, 7, 9, 9, 1, 3, 7, 9, 1, 7, 1, 9, 3, 7, 1, 3, 7, 9, 9, 1, 7, 3, 7, 1, 7, 3, 9, 7, 3, 9, 7, 1, 7, 9, 1, 7, 3, 9, 3, 7, 9, 1, 3, 1, 1, 7, 3, 7, 1, 3, 7, 9, 3, 7, 1, 7, 3, 1, 7, 9, 1, 3, 7, 9, 3, 7, 3, 9, 1, 9, 3, 7, 3, 1, 9, 3, 9, 9, 1, 3, 9, 1, 1, 7, 1, 7, 3, 7, 1, 3, 7, 1, 7, 3, 9, 9, 7, 3, 1, 7, 3, 3, 7, 9, 1, 3, 9, 1, 7, 1, 3, 1, 3, 9, 3, 9, 1, 7, 9, 3, 7, 1, 3, 9, 1, 3, 1, 9, 3, 9, 1, 3, 1, 7, 1, 7, 3, 3, 9, 1, 7, 3, 1, 1, 7, 9, 3, 1, 7, 3, 7, 3, 9, 7, 7, 3, 7, 9, 7, 3, 9, 1, 3, 7, 9, 1, 9, 7, 1, 3, 9, 7, 1, 7, 3, 1, 1, 9, 7, 3, 7, 9, 3, 1, 7, 9, 1, 3, 9, 7, 1, 7, 3, 9, 1, 7, 9, 9, 9, 1, 9, 3, 9, 1, 7, 9, 9, 3, 7, 7, 9, 9, 1, 3, 7, 3, 9, 7, 7, 9, 1, 3, 9, 1, 7, 7, 7, 9, 1, 3, 1, 1, 3, 9, 1, 1, 3, 9, 9, 7, 9, 1, 7, 1, 7, 9, 3, 1, 3, 7, 9, 9, 1, 7, 9, 7, 9, 1, 7, 1, 3, 3, 9, 9, 1, 1, 9, 1, 7, 3, 9, 3, 1, 3, 7, 9, 7, 9, 1, 7, 1, 3, 9, 1, 3, 7, 1, 9, 7, 1, 3, 7, 3, 9, 3, 1, 7, 1, 1, 3, 3, 7, 1, 3, 9, 1, 3, 3, 7, 3, 7, 7, 1, 1, 9, 1, 1, 3, 9, 1, 3, 9, 7, 3, 7, 3, 7, 3, 9, 9, 9, 9, 1, 3, 7, 9, 7, 9, 3, 9, 1, 9, 3, 1, 7, 1, 9, 3, 9, 1, 7, 1, 9, 1, 7, 3, 1, 3, 7, 1, 3, 9, 1, 7, 9, 9, 7, 3, 9, 1, 9, 9, 3, 3, 9, 1, 7, 1, 3, 7, 1, 3, 7, 9, 3, 1, 7, 7, 3, 9, 1, 7, 3, 9, 1, 7, 1, 1, 3, 3, 9, 1, 7, 3, 7, 3, 9, 1, 1, 7, 7, 9, 9, 7, 7, 9, 1, 3, 9, 3, 7, 3, 1, 3, 9, 1, 3, 3, 1, 7, 9, 1, 3, 9, 7, 7, 9, 1, 3, 3, 9, 1, 3, 7, 1, 1, 3, 9, 7, 1, 3, 1, 9, 1, 7, 3, 7, 3, 9, 3, 7, 9, 1, 3, 7, 3, 1, 9, 1, 3, 9, 1, 9, 7, 7, 3, 7, 3, 1, 7, 3, 7, 9, 9, 9, 3, 9, 7, 1, 1, 1, 3, 7, 9, 3, 7, 9, 1, 3, 3, 9, 1, 3, 3, 9, 1, 7, 9, 1, 3, 1, 3, 7, 7, 9, 1, 3, 7, 9, 3, 9, 1, 3, 9, 7, 9, 9, 7, 3, 9, 7, 7, 9, 3, 1, 9, 9, 7, 9, 3, 1, 3, 1, 1, 3, 7, 9, 3, 1, 9, 1, 7, 9, 1, 7, 1, 9, 3, 9, 7, 3, 9, 9, 7, 1, 3, 1, 1, 7, 7, 9, 7, 3, 3, 7, 9, 3, 1, 7, 7, 9, 3, 1, 7, 1, 7, 9, 3, 7, 1, 7, 1, 3, 9, 3, 7, 1, 3, 9, 7, 9, 3, 9, 7, 7, 9, 9, 1, 1, 3, 7, 7, 9, 1, 3, 3, 1, 3, 7, 7, 9, 1, 7, 7, 3, 7, 9, 3, 7, 1, 9, 1, 1, 9, 3, 1, 1, 3, 1, 9, 7, 3, 1, 7, 1, 7, 3, 3, 7, 1, 7, 9, 1, 3, 7, 3, 9, 1, 3, 9, 1, 3, 9, 3, 7, 3, 7, 9, 1, 9, 3, 9, 7, 9, 1, 3, 7, 9, 3, 1, 3, 7, 3, 9, 7, 9, 1, 1, 7, 9, 3, 1, 7, 3, 9, 1, 3, 1, 1, 1, 1, 3, 9, 7, 1, 3, 3, 9, 1, 7, 9, 3, 1, 9, 9, 1, 7, 9, 9, 7, 1, 7, 9, 1, 1, 9, 7, 3, 7, 7, 1, 7, 3, 9, 1, 1, 7, 1, 7, 1, 7, 3, 1, 3, 3, 3, 3, 1, 7, 1, 7, 9, 9, 1, 3, 7, 9, 3, 1, 1, 7, 9, 7, 1, 3, 9, 7, 3, 9, 7, 1, 3, 9, 7, 1, 9, 9, 1, 3, 7, 1, 1, 7, 3, 9, 7, 9, 1, 9, 7, 1, 7, 9, 3, 7, 9, 1, 7, 9, 9, 7, 1, 3, 7, 1, 3, 9, 3, 9, 3, 7, 9, 3, 3, 9, 1, 7, 7, 9, 9, 1, 3, 7, 3, 1, 7, 3, 9, 1, 3, 9, 7, 1, 3, 7, 9, 3, 9, 7, 3, 9, 9, 1, 7, 9, 7, 1, 7, 1, 3, 1, 7, 9, 3, 9, 3, 9, 1, 1, 7, 3, 1, 7, 3, 7, 9, 3, 1, 3, 7, 1, 9, 9, 1, 7, 3, 3, 9, 9, 7, 1, 1, 7, 9, 7, 9, 1, 3, 9, 1, 7, 3, 9, 1, 9, 3, 9, 3, 1, 9, 9, 7, 7, 3, 7, 1, 1, 3, 1, 3, 1, 9, 1, 7, 3, 1, 7, 9, 3, 9, 3, 7, 1, 3, 9, 9, 1, 1, 7, 1, 9, 7, 9, 7, 7, 9, 3, 3, 3, 7, 1, 7, 9, 9, 3, 1, 3, 7, 7, 3, 7, 7, 1, 7, 1, 7, 7, 3, 3, 9, 1, 3, 9, 9, 9, 7, 3, 7, 3, 1, 1, 3, 7, 9, 1, 9, 3, 9, 7, 7, 3, 1, 9, 1, 3, 9, 7, 3, 7, 3, 9, 1, 3, 7, 1, 1, 7, 9, 3, 9, 1, 3, 9, 1, 3, 9, 3, 7, 7, 3, 9, 3, 3, 7, 3, 1, 7, 9, 3, 1, 3, 9, 1, 9, 1, 7, 9, 7, 3, 9, 3, 3, 9, 1, 3, 9, 3, 1, 9, 1, 7, 9, 3, 7, 1, 9, 1, 3, 3, 9, 7, 1, 3, 9, 1, 3, 1, 1, 7, 3, 9, 3, 9, 7, 7, 9, 1, 1, 3, 7, 3, 7, 9, 7, 1, 9, 7, 7, 1, 7, 3, 9, 7, 7, 3, 1, 7, 9, 9, 9, 9, 7, 1, 3, 9, 7, 1, 3, 1, 7, 7, 3, 1, 7, 9, 1, 3, 7, 3, 9, 1, 1, 3, 7, 3, 9, 1, 7, 9, 7, 3, 1, 3, 1, 3, 9, 9, 1, 3, 9, 1, 1, 3, 3, 1, 7, 7, 1, 3, 9, 1, 7, 3, 1, 7, 1, 3, 9, 1, 7, 3, 7, 1, 3, 7, 9, 7, 3, 9, 1, 7, 1, 9, 1, 3, 9, 1, 7, 1, 3, 9, 9, 7, 1, 7, 7, 7, 9, 7, 1, 7, 9, 7, 9, 1, 7, 9, 7, 9, 9, 1, 1, 1, 3, 1, 7, 1, 7, 3, 3, 9, 1, 7, 1, 3, 7, 9, 3, 9, 1, 3, 7, 3, 9, 1, 3, 9, 3, 9, 7, 3, 7, 7, 1, 3, 3, 1, 7, 9, 1, 3, 7, 3, 1, 7, 3, 7, 1, 9, 7, 1, 1, 7, 9, 1, 7, 7, 9, 9, 1, 3, 1, 3, 1, 3, 1, 1, 9, 9, 7, 9, 3, 9, 7, 7, 9, 9, 9, 1, 7, 3, 3, 9, 1, 9, 3, 9, 7, 3, 7, 3, 9, 3, 7, 7, 1, 7, 9, 9, 1, 3, 9, 1, 7, 3, 7, 9, 1, 7, 1, 3, 9, 7, 1, 3, 9, 7, 7, 3, 1, 3, 9, 1, 3, 9, 1, 9, 3, 7, 3, 7, 7, 3, 9, 7, 1, 9, 1, 9, 1, 7, 3, 9, 1, 9, 9, 7, 1, 3, 7, 3, 9, 3, 7, 1, 3, 9, 1, 7, 7, 3, 7, 3, 9, 1, 1, 7, 9, 1, 1, 3, 1, 9, 7, 7, 3, 1, 7, 3, 9, 7, 3, 3, 7, 9, 9, 1, 1, 3, 9, 7, 3, 3, 3, 3, 1, 7, 1, 7, 7, 9, 3, 1, 7, 9, 1, 9, 3, 1, 3, 9, 1, 3, 7, 3, 1, 3, 9, 1, 9, 3, 9, 3, 7, 1, 3, 7, 3, 9, 1, 7, 1, 7, 7, 9, 3, 9, 1, 3, 9, 7, 9, 1, 9, 1, 7, 3, 9, 3, 9, 3, 7, 9, 1, 9, 1, 7, 7, 3, 1, 3, 1, 3, 9, 9, 1, 3, 7, 3, 9, 3, 1, 7, 7, 9, 1, 3, 7, 1, 9, 7, 9, 1, 3, 7, 9, 7, 9, 9, 3, 7, 9, 7, 3, 1, 7, 3, 9, 1, 1, 7, 9, 7, 3, 7, 3, 7, 7, 3, 3, 1, 3, 9, 7, 9, 9, 1, 1, 3, 9, 9, 1, 1, 3, 1, 1, 7, 1, 9, 1, 7, 3, 3, 9, 3, 9, 1, 3, 9, 9, 1, 1, 1, 3, 9, 7, 1, 3, 9, 7, 1, 3, 9, 3, 9, 3, 1, 7, 7, 9, 3, 9, 7, 1, 7, 7, 9, 1, 7, 3, 7, 7, 9, 7, 1, 3, 7, 9, 7, 1, 9, 1, 3, 7, 1, 1, 3, 7, 7, 3, 3, 1, 7, 7, 3, 9, 7, 3, 7, 7, 9, 1, 3, 7, 9, 1, 1, 9, 1, 3, 9, 7, 7, 9, 9, 3, 3, 1, 7, 7, 3, 3, 1, 1, 3, 9, 7, 9, 1, 7, 9, 3, 9, 7, 3, 9, 9, 7, 9, 1, 3, 9, 3, 3, 9, 1, 3, 3, 3, 7, 1, 7, 1, 7, 9, 3, 9, 1, 3, 7, 1, 3, 9, 3, 9, 1, 7, 1, 1, 1, 3, 3, 9, 1, 3, 7, 9, 1, 7, 3, 7, 1, 3, 7, 1, 3, 9, 3, 9, 7, 3, 9, 1, 1, 3, 7, 3, 7, 3, 7, 3, 7, 9, 9, 1, 9, 3, 9, 7, 1, 3, 1, 3, 9, 3, 9, 7, 9, 1, 7, 3, 9, 1, 7, 9, 1, 3, 7, 3, 9, 3, 3, 9, 7, 9, 3, 1, 3, 3, 1, 7, 3, 9, 9, 1, 1, 9, 1, 1, 9, 3, 1, 3, 7, 7, 9, 1, 1, 7, 9, 1, 3, 7, 9, 3, 9, 7, 1, 3, 9, 3, 7, 7, 1, 9, 9, 7, 3, 3, 1, 9, 3, 7, 3, 9, 7, 1, 7, 9, 9, 1, 3, 7, 9, 3, 9, 7, 1, 7, 9, 3, 3, 1, 9, 9, 1, 7, 7, 9, 3, 1, 7, 9, 1, 7, 9, 1, 7, 3, 1, 9, 3, 1, 3, 1, 7, 1, 1, 7, 7, 9, 1, 3, 9, 7, 1, 3, 7, 9, 1, 7, 7, 9, 1, 3, 1, 3, 7, 1, 3, 9, 1, 7, 3, 3, 7, 1, 3, 3, 9, 7, 7, 1, 1, 7, 9, 1, 3, 1, 9, 9, 7, 9, 1, 3, 7, 9, 1, 1, 3, 9, 7, 3, 9, 3, 9, 1, 3, 7, 3, 1, 9, 1, 7, 3, 9, 7, 3, 3, 1, 9, 9, 7, 7, 9, 3, 1, 7, 9, 1, 3, 7, 9, 1, 7, 3, 7, 3, 9, 9, 9, 1, 3, 1, 3, 7, 1, 3, 9, 9, 1, 3, 9, 9, 7, 1, 7, 9, 1, 9, 3, 9, 1, 1, 1, 7, 1, 7, 7, 9, 1, 1, 1, 7, 3, 7, 9, 3, 3, 1, 3, 1, 7, 9, 3, 7, 7, 9, 1, 1, 7, 9, 1, 7, 1, 3, 7, 3, 9, 3, 1, 3, 7, 3, 7, 1, 7, 9, 1, 7, 3, 9, 1, 7, 1, 3, 9, 1, 7, 9, 1, 3, 9, 9, 7, 9, 1, 3, 3, 1, 3, 9, 7, 3, 3, 9, 7, 1, 3, 7, 7, 1, 7, 3, 3, 7, 7, 9, 1, 7, 1, 1, 7, 1, 9, 7, 9, 1, 1, 3, 9, 7, 3, 9, 7, 3, 9, 1, 3, 3, 3, 3, 9, 3, 1, 7, 7, 9, 3, 9, 3, 7, 3, 7, 9, 1, 1, 9, 3, 1, 3, 7, 9, 7, 9, 7, 3, 3, 1, 7, 3, 1, 7, 9, 3, 1, 9, 9, 1, 7, 9, 1, 7, 1, 3, 9, 1, 3, 7, 7, 1, 7, 7, 9, 1, 3, 9, 3, 9, 1, 3, 7, 3, 9, 7, 3, 3, 9, 1, 9, 9, 7, 1, 7, 7, 7, 3, 9, 9, 1, 1, 9, 9, 1, 7, 3, 3, 3, 3, 7, 7, 9, 3, 1, 7, 9, 7, 1, 3, 9, 9, 7, 9, 3, 1, 7, 3, 3, 9, 3, 1, 7, 1, 7, 9, 7, 7, 9, 1, 7, 1, 3, 9, 9, 1, 7, 9, 3, 3, 9, 7, 3, 1, 3, 9, 7, 7, 1, 3, 9, 1, 3, 1, 7, 3, 1, 1, 9, 9, 7, 7, 1, 7, 3, 7, 7, 1, 3, 7, 1, 9, 7, 3, 9, 3, 3, 9, 9, 3, 7, 7, 3, 9, 7, 1, 9, 1, 7, 9, 1, 3, 1, 7, 9, 3, 7, 1, 7, 9, 3, 1, 1, 7, 3, 1, 7, 9, 3, 9, 1, 1, 3, 7, 1, 7, 9, 3, 3, 9, 1, 9, 9, 1, 3, 9, 1, 7, 3, 9, 7, 1, 3, 3, 9, 7, 7, 9, 7, 3, 1, 3, 1, 3, 9, 1, 1, 7, 3, 1, 3, 7, 1, 3, 3, 3, 9, 1, 7, 3, 9, 3, 1, 3, 7, 9, 9, 7, 3, 7, 3, 9, 3, 9, 7, 1, 3, 1, 1, 9, 9, 7, 7, 9, 3, 9, 1, 1, 3, 1, 3, 7, 3, 1, 3, 9, 7, 1, 3, 3, 7, 9, 9, 9, 3, 1, 1, 9, 3, 9, 1, 1, 1, 1, 3, 9, 1, 7, 9, 3, 1, 9, 7, 1, 9, 3, 9, 9, 7, 3, 9, 1, 9, 9, 1, 9, 1, 7, 9, 9, 1, 7, 7, 3, 9, 7, 3, 7, 1, 9, 7, 3, 1, 9, 3, 9, 9, 3, 1, 7, 9, 3, 7, 3, 9, 1, 3, 7, 9, 1, 3, 3, 9, 7, 9, 3, 3, 1, 7, 1, 3, 7, 3, 9, 3, 1, 7, 1, 7, 3, 7, 9, 3, 9, 1, 3, 7, 3, 9, 7, 9, 9, 1, 3, 9, 7, 3, 1, 7, 9, 7, 7, 9, 3, 7, 9, 9, 9, 1, 9, 3, 1, 7, 1, 3, 9, 3, 9, 1, 7, 9, 3, 7, 9, 3, 7, 3, 7, 3, 9, 9, 1, 3, 3, 1, 7, 3, 9, 7, 1, 7, 7, 1, 3, 7, 1, 1, 3, 9, 1, 7, 9, 3, 9, 1, 3, 3, 1, 7, 1, 3, 3, 7, 3, 9, 1, 9, 3, 1, 1, 7, 1, 7, 9, 9, 1, 3, 3, 3, 7, 9, 1, 7, 3, 9, 1, 9, 3, 9, 9, 3, 7, 3, 9, 1, 7, 1, 7, 1, 7, 1, 9, 9, 1, 7, 9, 9, 7, 9, 1, 1, 7, 1, 9, 3, 3, 9, 1, 3, 9, 7, 3, 7, 3, 1, 7, 1, 7, 3, 7, 9, 9, 1, 3, 9, 3, 7, 9, 3, 3, 1, 1, 3, 3, 9, 1, 1, 9, 7, 9, 9, 1, 7, 3, 7, 9, 1, 3, 7, 9, 7, 1, 3, 3, 9, 7, 3, 1, 7, 9, 9, 3, 9, 1, 7, 3, 7, 9, 3, 7, 3, 1, 7, 1, 3, 7, 3, 7, 1, 9, 9, 3, 7, 9, 1, 7, 9, 1, 1, 3, 9, 7, 7, 3, 9, 7, 1, 3, 9, 9, 7, 7, 3, 1, 7, 3, 7, 3, 7, 1, 9, 9, 1, 3, 9, 3, 9, 1, 3, 9, 7, 3, 3, 1, 7, 9, 9, 3, 3, 9, 7, 9, 1, 3, 7, 3, 3, 7, 3, 1, 9, 7, 9, 1, 7, 3, 7, 1, 1, 3, 1, 3, 9, 1, 1, 1, 7, 9, 3, 1, 7, 1, 1, 7, 1, 7, 9, 7, 1, 3, 3, 7, 9, 1, 7, 7, 9, 3, 7, 3, 9, 1, 1, 9, 1, 1, 7, 1, 3, 9, 7, 1, 3, 7, 9, 3, 1, 3, 7, 9, 1, 3, 3, 3, 1, 1, 3, 9, 3, 7, 1, 7, 7, 1, 7, 9, 1, 3, 9, 1, 7, 9, 1, 1, 9, 3, 9, 1, 9, 1, 9, 9, 1, 3, 7, 1, 9, 7, 3, 7, 9, 3, 9, 1, 3, 1, 7, 1, 1, 3, 9, 7, 9, 3, 3, 1, 7, 1, 7, 9, 1, 3, 7, 3, 9, 3, 9, 7, 7, 1, 3, 3, 1, 7, 1, 7, 3, 7, 9, 1, 1, 9, 1, 3, 1, 3, 7, 9, 7, 9, 9, 9, 3, 1, 7, 9, 7, 3, 9, 7, 7, 9, 3, 9, 3, 1, 3, 7, 7, 3, 3, 1, 7, 3, 9, 1, 7, 1, 7, 9, 1, 9, 1, 1, 7, 3, 7, 9, 3, 1, 9, 3, 7, 7, 9, 9, 7, 1, 3, 1, 7, 9, 3, 3, 7, 3, 9, 1, 1, 7, 3, 3, 3, 1, 3, 7, 9, 7, 9, 9, 3, 1, 1, 9, 7, 3, 7, 1, 7, 7, 7, 1, 7, 3, 7, 9, 7, 1, 3, 7, 3, 1, 3, 3, 9, 7, 3, 3, 9, 3, 9, 1, 9, 9, 1, 7, 9, 1, 1, 3, 1, 3, 9, 3, 3, 1, 7, 3, 1, 1, 3, 7, 9, 9, 9, 7, 1, 1, 3, 9, 1, 7, 9, 7, 7, 9, 1, 1, 9, 1, 9, 1, 7, 1, 7, 1, 7, 9, 9, 7, 1, 3, 9, 9, 7, 3, 9, 1, 1, 9, 3, 9, 3, 9, 3, 9, 1, 7, 1, 3, 3, 7, 7, 1, 7, 9, 1, 7, 1, 7, 9, 9, 1, 3, 1, 7, 7, 9, 1, 9, 3, 7, 3, 7, 7, 1, 1, 7, 9, 7, 3, 1, 9, 3, 9, 7, 3, 7, 9, 1, 9, 7, 1, 7, 1, 9, 9, 7, 3, 7, 3, 9, 7, 9, 1, 3, 3, 1, 7, 9, 7, 7, 9, 1, 1, 9, 1, 7, 1, 7, 3, 1, 7, 3, 3, 3, 9, 1, 1, 9, 9, 3, 9, 9, 3, 7, 9, 1, 9, 1, 1, 3, 7, 7, 1, 3, 7, 9, 1, 7, 7, 9, 9, 7, 3, 7, 9, 1, 3, 1, 7, 3, 9, 7, 1, 3, 9, 7, 1, 7, 3, 9, 9, 3, 9, 1, 9, 9, 1, 1, 7, 3, 9, 7, 3, 7, 1, 9, 7, 9, 1, 1, 9, 1, 3, 7, 1, 3, 1, 3, 7, 7, 9, 3, 7, 9, 3, 3, 9, 1, 7, 1, 7, 3, 7, 3, 9, 1, 3, 1, 9, 3, 1, 9, 3, 7, 9, 1, 3, 7, 9, 1, 3, 1, 7, 1, 7, 9, 1, 7, 9, 9, 7, 1, 3, 7, 7, 9, 9, 1, 3, 9, 7, 7, 3, 3, 9, 1, 3, 9, 9, 1, 3, 7, 3, 7, 9, 1, 3, 9, 7, 1, 3, 9, 7, 9, 1, 7, 3, 9, 1, 7, 1, 3, 3, 1, 7, 9, 7, 7, 1, 3, 9, 3, 7, 9, 1, 3, 9, 1, 7, 9, 3, 1, 9, 3, 7, 1, 9, 3, 9, 1, 7, 7, 9, 9, 7, 3, 3, 7, 3, 9, 3, 7, 9, 1, 7, 1, 7, 9, 1, 7, 7, 3, 7, 9, 1, 7, 1, 3, 1, 3, 3, 1, 7, 1, 9, 1, 7, 7, 9, 3, 7, 1, 3, 9, 1, 3, 3, 7, 1, 3, 9, 7, 7, 3, 1, 1, 9, 3, 9, 1, 7, 3, 9, 7, 7, 1, 7, 1, 1, 3, 3, 7, 1, 1, 1, 9, 3, 1, 9, 3, 7, 3, 7, 1, 7, 3, 1, 9, 1, 7, 3, 3, 7, 9, 3, 9, 1, 1, 7, 1, 3, 9, 7, 7, 1, 1, 3, 7, 3, 1, 3, 7, 3, 7, 9, 1, 3, 9, 9, 7, 7, 3, 1, 3, 9, 3, 9, 1, 7, 9, 1, 9, 3, 1, 1, 3, 7, 9, 1, 1, 9, 1, 3, 7, 1, 7, 9, 3, 7, 9, 3, 7, 9, 9, 1, 7, 3, 3, 7, 7, 9, 1, 3, 7, 9, 1, 3, 7, 3, 9, 1, 7, 1, 7, 9, 9, 1, 3, 9, 1, 7, 3, 1, 7, 1, 9, 1, 3, 7, 1, 3, 9, 7, 3, 1, 7, 7, 9, 3, 9, 3, 1, 3, 9, 1, 9, 7, 9, 7, 7, 3, 7, 7, 9, 9, 3, 9, 9, 1, 3, 9, 7, 3, 9, 1, 9, 1, 3, 7, 1, 9, 1, 7, 1, 7, 7, 9, 1, 3, 1, 7, 7, 3, 3, 7, 1, 3, 9, 1, 3, 7, 9, 3, 9, 7, 9, 1, 1, 3, 1, 1, 3, 9, 9, 7, 1, 3, 3, 7, 9, 1, 1, 7, 9, 1, 3, 3, 1, 7, 1, 9, 3, 9, 7, 1, 9, 7, 3, 1, 7, 9, 1, 1, 7, 3, 7, 7, 9, 3, 7, 3, 7, 7, 9, 1, 9, 3, 9, 1, 3, 9, 7, 1, 7, 3, 7, 3, 1, 9, 3, 7, 7, 1, 9, 7, 7, 9, 3, 1, 3, 7, 9, 7, 9, 1, 1, 3, 9, 7, 1, 1, 3, 9, 7, 9, 9, 1, 9, 9, 3, 7, 3, 9, 7, 1, 1, 7, 1, 9, 7, 1, 3, 9, 3, 7, 7, 9, 1, 9, 1, 3, 7, 9, 1, 7, 3, 9, 3, 9, 3, 7, 1, 3, 9, 7, 9, 1, 9, 3, 7, 3, 1, 3, 9, 1, 9, 7, 1, 1, 7, 1, 7, 9, 7, 3, 7, 9, 1, 9, 7, 3, 1, 1, 3, 7, 9, 9, 3, 1, 1, 1, 3, 9, 1, 3, 7, 1, 3, 7, 1, 9, 7, 7, 3, 1, 9, 3, 1, 7, 1, 7, 1, 7, 1, 3, 9, 3, 9, 1, 7, 3, 9, 9, 3, 7, 9, 3, 7, 1, 9, 1, 7, 9, 3, 7, 1, 3, 1, 7, 3, 9, 1, 7, 7, 3, 9, 9, 3, 1, 7, 1, 7, 3, 9, 7, 9, 9, 3, 1, 9, 7, 1, 7, 7, 9, 1, 9, 9, 3, 9, 3, 1, 9, 1, 9, 1, 7, 1, 3, 9, 3, 9, 7, 7, 7, 3, 1, 1, 7, 3, 7, 9, 9, 3, 9, 9, 1, 3, 1, 3, 7, 9, 3, 1, 3, 1, 9, 1, 9, 1, 7, 9, 7, 1, 1, 9, 1, 7, 9, 9, 3, 9, 9, 1, 1, 3, 9, 1, 3, 7, 3, 1, 1, 7, 1, 7, 1, 3, 3, 7, 3, 9, 7, 3, 7, 9, 3, 9, 7, 3, 9, 1, 9, 7, 1, 3, 1, 7, 1, 3, 9, 7, 7, 7, 3, 9, 9, 1, 3, 1, 7, 3, 9, 1, 3, 3, 1, 9, 7, 1, 9, 7, 7, 9, 7, 9, 9, 3, 7, 9, 9, 1, 3, 9, 9, 7, 3, 3, 1, 7, 1, 7, 3, 3, 7, 3, 7, 9, 9, 1, 3, 9, 9, 7, 1, 3, 3, 9, 1, 7, 9, 1, 9, 3, 9, 3, 1, 1, 7, 1, 1, 3, 1, 7, 7, 7, 3, 9, 3, 7, 9, 3, 1, 7, 3, 7, 3, 1, 3, 7, 9, 1, 1, 3, 9, 1, 1, 7, 3, 3, 9, 3, 9, 7, 1, 7, 9, 3, 7, 9, 7, 7, 9, 1, 9, 3, 9, 3, 3, 9, 1, 3, 3, 1, 3, 1, 1, 9, 9, 1, 3, 7, 1, 9, 1, 7, 9, 7, 3, 3, 9, 7, 3, 7, 7, 7, 7, 3, 3, 7, 9, 7, 9, 1, 7, 3, 1, 7, 1, 9, 3, 7, 9, 9, 7, 9, 3, 9, 7, 1, 7, 1, 3, 1, 7, 1, 3, 3, 9, 9, 9, 7, 3, 9, 1, 9, 1, 7, 3, 3, 7, 3, 7, 1, 3, 7, 1, 3, 9, 7, 1, 7, 3, 9, 9, 1, 9, 7, 1, 3, 9, 1, 9, 3, 9, 7, 1, 7, 9, 1, 7, 3, 1, 9, 3, 1, 7, 3, 7, 9, 9, 1, 3, 3, 1, 7, 7, 9, 1, 1, 3, 7, 1, 1, 7, 3, 9, 7, 3, 9, 1, 3, 3, 1, 7, 1, 9, 7, 3, 9, 1, 7, 3, 1, 7, 3, 1, 7, 9, 1, 9, 7, 1, 7, 9, 3, 1, 7, 3, 3, 7, 9, 1, 7, 9, 1, 1, 3, 9, 1, 3, 3, 9, 7, 3, 3, 7, 3, 9, 3, 1, 9, 9, 7, 3, 7, 7, 9, 9, 1, 3, 9, 3, 3, 3, 1, 3, 1, 1, 7, 9, 9, 7, 7, 3, 9, 7, 7, 9, 1, 3, 7, 3, 7, 1, 3, 7, 9, 3, 9, 7, 1, 7, 1, 1, 7, 1, 7, 9, 1, 9, 3, 9, 1, 3, 9, 7, 3, 9, 3, 7, 3, 1, 9, 1, 7, 9, 3, 3, 9, 7, 1, 9, 1, 7, 1, 1, 9, 3, 7, 9, 7, 1, 7, 3, 9, 1, 1, 3, 7, 7, 3, 9, 9, 1, 7, 9, 9, 7, 3, 1, 7, 9, 1, 9, 3, 7, 1, 7, 3, 3, 3, 3, 7, 3, 7, 3, 9, 7, 3, 7, 9, 1, 7, 9, 9, 1, 7, 1, 7, 3, 1, 7, 7, 9, 9, 1, 9, 9, 3, 9, 7, 3, 7, 7, 1, 3, 3, 9, 3, 1, 1, 9, 9, 7, 9, 9, 1, 3, 7, 9, 3, 7, 3, 3, 1, 1, 7, 7, 1, 3, 1, 7, 1, 9, 1, 9, 1, 1, 3, 9, 1, 3, 1, 3, 1, 3, 1, 7, 1, 3, 9, 3, 7, 3, 9, 1, 3, 9, 7, 1, 3, 9, 1, 3, 7, 3, 7, 1, 9, 3, 7, 3, 9, 1, 3, 3, 9, 3, 7, 1, 7, 3, 1, 7, 7, 3, 1, 7, 3, 7, 3, 9, 1, 7, 1, 3, 9, 7, 3, 1, 1, 9, 9, 7, 3, 9, 1, 7, 9, 1, 7, 1, 3, 1, 7, 9, 7, 3, 7, 1, 1, 9, 9, 9, 1, 7, 1, 3, 1, 9, 1, 1, 7, 3, 9, 3, 3, 7, 9, 3, 1, 3, 7, 7, 1, 3, 1, 7, 3, 9, 7, 3, 7, 3, 7, 1, 7, 3, 9, 9, 3, 1, 1, 7, 3, 7, 7, 3, 9, 3, 9, 3, 7, 1, 3, 1, 3, 3, 1, 3, 1, 1, 9, 7, 1, 1, 9, 3, 7, 3, 1, 7, 9, 9, 9, 1, 1, 3, 7, 9, 9, 1, 9, 7, 3, 9, 7, 3, 3, 7, 1, 9, 9, 7, 9, 1, 1, 7, 7, 1, 9, 1, 3, 7, 1, 7, 7, 3, 1, 7, 7, 9, 1, 7, 9, 9, 1, 9, 3, 3, 7, 3, 7, 3, 9, 1, 7, 3, 1, 9, 7, 7, 9, 9, 1, 7, 1, 7, 9, 7, 9, 9, 7, 1, 9, 1, 7, 3, 9, 9, 7, 7, 3, 1, 3, 1, 3, 9, 3, 9, 3, 9, 1, 3, 7, 3, 1, 7, 3, 9, 9, 7, 7, 7, 3, 9, 3, 7, 3, 7, 1, 1, 9, 3, 1, 3, 7, 1, 7, 9, 7, 3, 1, 7, 1, 9, 3, 1, 3, 9, 7, 3, 3, 1, 9, 3, 3, 9, 1, 3, 3, 9, 9, 3, 3, 7, 7, 9, 1, 1, 9, 3, 1, 7, 3, 1, 3, 7, 9, 3, 9, 7, 7, 3, 1, 3, 3, 1, 7, 9, 3, 1, 7, 9, 1, 1, 9, 1, 7, 7, 1, 9, 7, 3, 1, 7, 9, 3, 3, 3, 1, 9, 9, 1, 1, 9, 3, 9, 1, 7, 7, 1, 3, 9, 3, 3, 3, 9, 7, 7, 9, 7, 3, 9, 3, 7, 3, 7, 1, 1, 3, 7, 3, 9, 3, 7, 7, 9, 9, 7, 9, 1, 7, 9, 3, 1, 7, 3, 9, 1, 7, 9, 9, 7, 9, 3, 7, 1, 7, 7, 7, 9, 1, 7, 3, 7, 9, 9, 1, 1, 7, 9, 9, 7, 1, 7, 9, 3, 1, 7, 1, 9, 1, 7, 9, 1, 7, 3, 1, 3, 3, 9, 7, 1, 7, 7, 1, 3, 9, 3, 7, 9, 7, 1, 9, 3, 9, 1, 1, 9, 1, 3, 1, 7, 3, 7, 9, 1, 3, 7, 3, 3, 3, 1, 9, 7, 3, 7, 1, 9, 9, 3, 9, 3, 1, 3, 9, 1, 7, 3, 1, 7, 9, 3, 3, 3, 7, 1, 3, 1, 3, 9, 9, 1, 3, 1, 7, 9, 1, 1, 1, 3, 3, 7, 3, 9, 9, 3, 1, 3, 7, 9, 9, 3, 7, 3, 1, 3, 3, 9, 7, 1, 3, 9, 3, 1, 9, 9, 1, 3, 7, 9, 1, 7, 9, 1, 3, 7, 9, 1, 7, 1, 1, 3, 9, 7, 9, 3, 9, 9, 1, 9, 9, 1, 1, 7, 9, 3, 7, 3, 7, 1, 9, 3, 9, 1, 3, 1, 7, 7, 9, 7, 7, 9, 9, 1, 7, 9, 1, 1, 9, 9, 9, 3, 3, 1, 1, 7, 9, 3, 7, 3, 9, 1, 7, 9, 9, 3, 3, 7, 3, 1, 1, 7, 1, 3, 9, 3, 7, 1, 7, 9, 7, 3, 3, 1, 3, 9, 1, 7, 9, 1, 3, 1, 7, 1, 1, 7, 9, 3, 9, 7, 9, 1, 9, 1, 1, 9, 1, 1, 9, 9, 7, 3, 7, 9, 3, 7, 3, 9, 1, 1, 7, 1, 1, 9, 3, 7, 1, 7, 1, 3, 9, 9, 9, 3, 7, 9, 1, 3, 9, 7, 3, 9, 7, 1, 7, 1, 3, 9, 1, 3, 9, 1, 1, 7, 9, 3, 9, 7, 7, 7, 3, 3, 1, 1, 9, 9, 1, 1, 7, 3, 9, 9, 7, 3, 9, 1, 3, 1, 3, 7, 3, 1, 3, 9, 7, 7, 9, 3, 3, 7, 7, 1, 1, 9, 3, 9, 1, 3, 7, 1, 9, 7, 3, 7, 3, 1, 1, 3, 7, 9, 9, 7, 3, 3, 3, 1, 7, 1, 7, 9, 7, 9, 1, 3, 7, 9, 9, 1, 7, 9, 3, 7, 7, 9, 7, 9, 1, 9, 1, 1, 9, 1, 7, 1, 3, 9, 9, 9, 1, 1, 7, 9, 9, 1, 7, 1, 3, 9, 1, 7, 3, 7, 1, 3, 9, 1, 7, 3, 9, 7, 1, 9, 1, 9, 7, 9, 3, 1, 7, 1, 3, 9, 1, 3, 3, 9, 9, 1, 7, 9, 1, 7, 9, 1, 7, 9, 7, 9, 1, 3, 3, 9, 7, 9, 1, 7, 9, 7, 3, 7, 7, 9, 7, 9, 3, 9, 3, 3, 3, 1, 3, 9, 3, 7, 7, 9, 1, 1, 3, 9, 1, 7, 9, 1, 7, 9, 9, 1, 1, 7, 9, 1, 3, 9, 9, 9, 1, 9, 9, 9, 3, 7, 3, 1, 7, 1, 1, 9, 3, 7, 9, 7, 1, 3, 7, 3, 7, 7, 9, 3, 9, 1, 7, 3, 9, 3, 7, 9, 9, 1, 3, 9, 9, 7, 3, 3, 1, 3, 9, 3, 3, 7, 7, 9, 1, 3, 9, 3, 7, 3, 7, 3, 1, 3, 9, 7, 1, 3, 9, 1, 1, 7, 9, 7, 9, 1, 7, 3, 9, 1, 7, 9, 1, 7, 9, 9, 7, 3, 1, 7, 3, 1, 3, 7, 3, 9, 9, 1, 3, 7, 3, 3, 7, 9, 1, 1, 3, 9, 9, 1, 7, 9, 3, 1, 1, 3, 7, 9, 1, 3, 9, 1, 7, 7, 7, 3, 7, 1, 3, 7, 9, 3, 1, 1, 1, 7, 9, 1, 3, 7, 3, 3, 7, 1, 9, 7, 3, 7, 3, 3, 7, 9, 1, 1, 3, 9, 9, 1, 7, 9, 7, 3, 9, 3, 7, 7, 7, 3, 9, 9, 1, 3, 9, 3, 1, 7, 1, 3, 1, 7, 9, 3, 9, 3, 7, 7, 9, 3, 9, 7, 9, 3, 1, 3, 9, 1, 1, 7, 3, 1, 1, 9, 7, 3, 9, 7, 1, 3, 9, 7, 1, 1, 1, 3, 9, 9, 7, 7, 1, 3, 3, 9, 1, 7, 3, 7, 3, 9, 7, 3, 1, 1, 3, 9, 7, 7, 9, 3, 7, 3, 1, 3, 9, 1, 3, 9, 9, 1, 7, 1, 7, 1, 3, 9, 3, 7, 9, 9, 7, 7, 3, 7, 7, 9, 3, 1, 1, 3, 9, 7, 1, 7, 7, 1, 1, 7, 3, 9, 1, 1, 3, 9, 9, 1, 7, 7, 9, 7, 1, 3, 9, 9, 1, 7, 9, 7, 3, 7, 1, 7, 3, 3, 7, 3, 7, 1, 3, 1, 3, 9, 1, 9, 3, 1, 9, 7, 9, 1, 7, 1, 1, 1, 7, 3, 7, 7, 9, 1, 3, 3, 7, 9, 7, 3, 7, 9, 9, 1, 7, 9, 1, 1, 9, 7, 1, 7, 1, 3, 7, 1, 9, 3, 7, 1, 7, 3, 3, 9, 3, 1, 9, 1, 3, 7, 9, 7, 1, 9, 3, 9, 3, 9, 1, 7, 9, 1, 3, 9, 1, 7, 3, 7, 9, 3, 9, 7, 9, 7, 3, 9, 7, 7, 3, 7, 7, 9, 1, 1, 3, 7, 1, 7, 9, 3, 1, 1, 7, 3, 9, 1, 3, 7, 1, 7, 3, 1, 7, 9, 9, 1, 3, 9, 9, 3, 9, 3, 7, 9, 1, 1, 3, 7, 3, 1, 7, 3, 7, 1, 3, 3, 9, 3, 3, 1, 7, 1, 7, 9, 3, 9, 1, 7, 1, 3, 1, 9, 9, 1, 1, 9, 3, 3, 9, 7, 7, 9, 3, 7, 3, 1, 3, 9, 3, 9, 1, 3, 9, 3, 3, 3, 7, 9, 9, 7, 3, 1, 3, 1, 3, 1, 1, 7, 3, 7, 1, 9, 7, 1, 3, 1, 9, 7, 3, 7, 1, 9, 1, 7, 3, 9, 7, 7, 3, 3, 7, 1, 7, 1, 1, 9, 9, 1, 7, 7, 1, 3, 3, 7, 3, 9, 3, 9, 1, 3, 1, 3, 7, 3, 9, 1, 7, 9, 1, 3, 1, 7, 1, 3, 7, 1, 1, 1, 3, 7, 9, 3, 9, 1, 3, 7, 9, 9, 1, 7, 3, 9, 7, 1, 9, 9, 7, 3, 7, 9, 1, 7, 1, 7, 9, 9, 1, 9, 3, 1, 7, 3, 9, 1, 7, 3, 9, 3, 7, 1, 1, 7, 1, 1, 7, 9, 1, 7, 9, 9, 1, 3, 9, 3, 1, 3, 7, 1, 3, 3, 7, 1, 3, 9, 9, 3, 7, 3, 9, 9, 3, 1, 9, 7, 3, 9, 7, 7, 1, 1, 9, 9, 9, 1, 1, 7, 9, 7, 3, 7, 3, 9, 1, 3, 3, 9, 3, 1, 9, 7, 3, 1, 7, 1, 7, 1, 7, 7, 1, 7, 7, 9, 7, 9, 7, 7, 9, 1, 7, 9, 1, 3, 9, 1, 7, 3, 3, 7, 3, 3, 9, 3, 1, 7, 7, 3, 1, 7, 9, 1, 7, 1, 7, 3, 9, 3, 9, 3, 7, 7, 7, 9, 3, 1, 9, 9, 1, 7, 9, 9, 1, 9, 3, 3, 7, 3, 1, 3, 9, 7, 1, 3, 9, 1, 7, 3, 1, 9, 1, 1, 9, 3, 9, 3, 1, 9, 9, 3, 7, 9, 7, 7, 9, 3, 7, 9, 1, 3, 7, 3, 1, 1, 3, 1, 7, 9, 9, 1, 9, 9, 1, 9, 3, 1, 7, 1, 3, 7, 9, 7, 1, 3, 7, 9, 7, 9, 7, 1, 1, 3, 7, 3, 9, 1, 3, 7, 1, 7, 3, 9, 1, 3, 7, 9, 3, 7, 3, 9, 7, 7, 9, 1, 9, 1, 1, 7, 7, 1, 1, 7, 9, 3, 7, 3, 7, 1, 7, 9, 1, 1, 3, 9, 1, 3, 3, 9, 7, 9, 7, 9, 1, 7, 3, 9, 7, 7, 9, 7, 9, 1, 3, 9, 1, 3, 7, 7, 7, 7, 9, 3, 1, 1, 7, 9, 1, 7, 9, 1, 7, 1, 3, 7, 1, 3, 7, 7, 9, 1, 7, 9, 3, 9, 3, 9, 9, 1, 3, 9, 3, 7, 9, 1, 7, 3, 9, 3, 3, 3, 9, 1, 3, 7, 9, 3, 1, 1, 3, 7, 9, 1, 7, 3, 7, 1, 9, 1, 7, 3, 3, 1, 7, 9, 3, 3, 3, 9, 1, 3, 3, 9, 7, 1, 3, 9, 3, 9, 1, 3, 1, 9, 1, 9, 7, 3, 9, 7, 7, 3, 7, 1, 3, 9, 3, 9, 1, 9, 9, 7, 7, 9, 7, 1, 7, 9, 1, 3, 7, 7, 7, 9, 1, 9, 3, 9, 7, 9, 7, 3, 9, 3, 9, 1, 9, 9, 1, 7, 3, 3, 7, 1, 3, 3, 7, 9, 3, 1, 1, 7, 9, 1, 7, 3, 9, 9, 1, 3, 3, 1, 3, 9, 3, 7, 7, 9, 3, 1, 7, 1, 1, 7, 9, 1, 7, 9, 9, 1, 1, 3, 7, 3, 1, 7, 3, 9, 1, 3, 7, 3, 9, 7, 9, 1, 9, 9, 1, 7, 1, 1, 1, 9, 3, 9, 3, 1, 7, 9, 1, 3, 7, 9, 7, 9, 3, 1, 7, 3, 9, 1, 3, 7, 7, 3, 9, 1, 3, 3, 9, 3, 1, 7, 3, 9, 3, 7, 9, 3, 1, 7, 9, 3, 1, 7, 7, 7, 3, 7, 9, 1, 7, 1, 3, 3, 7, 7, 9, 3, 9, 1, 9, 1, 7, 3, 9, 9, 1, 7, 7, 3, 1, 7, 3, 9, 9, 1, 7, 7, 7, 7, 1, 3, 9, 1, 7, 9, 7, 1, 9, 1, 3, 3, 9, 1, 7, 9, 7, 1, 3, 7, 1, 3, 3, 3, 7, 9, 3, 1, 3, 1, 1, 3, 9, 9, 3, 7, 1, 7, 7, 3, 9, 1, 7, 9, 1, 7, 1, 7, 3, 3, 9, 1, 1, 9, 1, 1, 3, 9, 9, 7, 3, 9, 7, 3, 7, 9, 7, 9, 7, 9, 1, 1, 7, 1, 1, 7, 3, 9, 7, 3, 7, 1, 9, 3, 9, 1, 3, 3, 1, 9, 9, 9, 1, 9, 3, 9, 3, 1, 7, 1, 3, 9, 1, 7, 1, 1, 7, 3, 9, 1, 7, 7, 9, 9, 1, 3, 9, 7, 1, 7, 7, 9, 1, 9, 1, 7, 7, 9, 1, 1, 7, 1, 3, 3, 9, 1, 3, 7, 9, 3, 9, 1, 3, 3, 9, 7, 3, 7, 9, 7, 3, 3, 1, 3, 1, 3, 9, 1, 1, 7, 9, 9, 7, 1, 3, 9, 7, 3, 7, 3, 1, 9, 1, 7, 7, 1, 7, 9, 1, 7, 9, 3, 1, 7, 9, 1, 3, 1, 7, 3, 1, 1, 3, 7, 9, 9, 1, 7, 3, 7, 3, 9, 3, 9, 1, 3, 1, 9, 1, 7, 7, 9, 9, 7, 3, 1, 3, 7, 1, 7, 3, 1, 1, 9, 3, 7, 1, 9, 9, 3, 9, 7, 3, 9, 7, 1, 3, 7, 1, 3, 1, 1, 3, 7, 9, 1, 1, 9, 9, 3, 3, 1, 3, 1, 7, 7, 1, 1, 9, 1, 3, 9, 1, 3, 9, 7, 9, 7, 9, 7, 9, 3, 1, 9, 9, 3, 3, 7, 1, 3, 3, 7, 3, 1, 7, 1, 9, 3, 7, 9, 9, 1, 9, 9, 1, 3, 1, 3, 7, 1, 9, 1, 3, 3, 7, 9, 1, 3, 9, 1, 9, 1, 7, 1, 1, 3, 1, 3, 7, 7, 1, 3, 9, 3, 7, 3, 7, 9, 3, 3, 7, 1, 7, 3, 3, 3, 1, 1, 9, 1, 7, 3, 9, 1, 7, 3, 7, 9, 3, 7, 9, 3, 3, 9, 1, 1, 3, 9, 1, 9, 3, 1, 7, 1, 9, 1, 9, 3, 1, 7, 3, 7, 3, 1, 3, 3, 9, 7, 1, 7, 1, 7, 1, 3, 9, 1, 3, 7, 1, 1, 3, 7, 9, 7, 9, 9, 3, 7, 9, 9, 7, 1, 3, 7, 1, 9, 1, 9, 1, 1, 7, 7, 9, 9, 7, 1, 3, 7, 3, 9, 1, 3, 9, 3, 3, 7, 9, 1, 7, 9, 3, 1, 7, 1, 3, 7, 1, 1, 9, 1, 7, 1, 9, 3, 9, 1, 7, 1, 3, 7, 9, 3, 3, 1, 7, 3, 3, 7, 3, 9, 7, 1, 9, 3, 7, 3, 9, 7, 1, 1, 1, 7, 9, 1, 3, 7, 1, 7, 3, 9, 3, 7, 3, 9, 3, 9, 3, 7, 1, 7, 1, 9, 3, 3, 3, 7, 9, 3, 1, 1, 7, 3, 9, 3, 7, 1, 3, 9, 9, 7, 1, 1, 3, 9, 1, 7, 3, 1, 3, 7, 1, 7, 9, 3, 1, 7, 3, 3, 7, 9, 9, 1, 1, 9, 3, 9, 7, 9, 3, 7, 9, 9, 1, 3, 9, 9, 7, 1, 7, 9, 9, 7, 3, 9, 9, 3, 7, 3, 9, 1, 7, 1, 7, 9, 3, 1, 3, 9, 7, 1, 3, 9, 7, 1, 7, 9, 3, 3, 7, 1, 7, 9, 3, 7, 7, 9, 7, 3, 1, 1, 9, 3, 3, 9, 1, 3, 9, 7, 1, 3, 7, 7, 9, 9, 3, 1, 9, 1, 3, 7, 9, 3, 7, 3, 9, 7, 9, 1, 1, 7, 9, 7, 9, 7, 3, 9, 1, 9, 7, 3, 3, 1, 3, 3, 1, 7, 3, 7, 1, 7, 1, 7, 1, 7, 1, 7, 9, 7, 9, 9, 3, 9, 1, 7, 9, 1, 7, 9, 9, 1, 1, 3, 9, 3, 3, 3, 9, 9, 7, 3, 9, 3, 3, 1, 7, 3, 9, 1, 7, 9, 3, 1, 7, 3, 7, 1, 3, 3, 3, 7, 9, 3, 3, 9, 3, 9, 1, 1, 3, 7, 3, 1, 1, 1, 9, 3, 1, 3, 1, 3, 3, 7, 1, 1, 1, 7, 1, 3, 3, 7, 1, 7, 3, 9, 1, 9, 3, 1, 7, 1, 7, 9, 7, 3, 9, 3, 1, 1, 7, 3, 7, 1, 9, 3, 3, 3, 7, 9, 9, 3, 9, 1, 7, 3, 7, 3, 1, 9, 7, 1, 7, 3, 7, 3, 7, 3, 9, 7, 1, 3, 7, 9, 1, 3, 9, 1, 9, 1, 7, 9, 9, 3, 7, 1, 7, 7, 9, 1, 3, 3, 7, 9, 1, 7, 7, 9, 1, 1, 3, 3, 9, 7, 7, 3, 7, 3, 1, 7, 9, 9, 1, 1, 9, 1, 1, 9, 7, 1, 3, 7, 3, 9, 1, 7, 1, 1, 7, 9, 7, 3, 1, 7, 3, 9, 7, 3, 9, 7, 3, 3, 1, 3, 9, 1, 9, 9, 7, 9, 9, 9, 1, 1, 3, 7, 3, 1, 3, 7, 7, 9, 3, 9, 7, 1, 7, 3, 7, 9, 7, 3, 9, 1, 7, 1, 3, 7, 3, 3, 9, 3, 7, 9, 3, 1, 1, 7, 9, 7, 3, 1, 3, 9, 9, 1, 3, 7, 9, 1, 7, 1, 1, 7, 9, 3, 1, 1, 3, 3, 7, 1, 9, 7, 1, 9, 3, 7, 7, 9, 3, 9, 7, 3, 9, 9, 9, 1, 7, 1, 1, 3, 9, 1, 7, 9, 9, 3, 1, 3, 1, 7, 9, 1, 7, 1, 3, 9, 1, 9, 7, 9, 1, 7, 3, 9, 1, 7, 3, 7, 3, 3, 9, 1, 1, 3, 7, 9, 1, 3, 3, 7, 3, 3, 1, 9, 1, 7, 3, 9, 3, 7, 7, 1, 7, 1, 9, 3, 1, 9, 3, 7, 1, 7, 9, 3, 9, 3, 7, 3, 9, 1, 1, 3, 9, 3, 9, 1, 7, 3, 1, 3, 7, 9, 3, 1, 7, 1, 1, 3, 3, 7, 9, 1, 3, 3, 9, 1, 3, 9, 7, 1, 7, 3, 9, 7, 1, 7, 7, 9, 9, 3, 3, 1, 3, 9, 9, 1, 3, 1, 7, 1, 9, 3, 7, 7, 1, 9, 9, 1, 9, 1, 7, 3, 7, 1, 9, 3, 1, 1, 7, 3, 7, 3, 1, 7, 7, 3, 3, 9, 1, 1, 3, 3, 9, 7, 9, 3, 1, 1, 1, 7, 3, 9, 7, 7, 9, 1, 7, 9, 1, 3, 7, 3, 3, 9, 9, 7, 7, 9, 7, 7, 9, 1, 9, 1, 1, 3, 3, 9, 3, 9, 1, 9, 3, 3, 9, 1, 7, 3, 7, 1, 9, 1, 3, 1, 7, 1, 9, 9, 7, 3, 7, 7, 7, 3, 7, 1, 7, 9, 1, 3, 1, 7, 1, 7, 3, 1, 7, 9, 9, 7, 3, 9, 9, 7, 7, 9, 1, 3, 7, 7, 1, 7, 3, 7, 1, 1, 3, 9, 3, 9, 9, 7, 1, 3, 7, 1, 9, 3, 1, 3, 7, 7, 1, 7, 9, 9, 1, 7, 7, 3, 1, 1, 9, 3, 1, 3, 7, 7, 9, 3, 9, 1, 7, 7, 3, 9, 1, 3, 9, 3, 9, 1, 1, 3, 7, 9, 3, 1, 1, 7, 9, 3, 7, 9, 3, 9, 1, 3, 7, 1, 9, 1, 7, 7, 9, 3, 9, 1, 3, 7, 9, 9, 1, 1, 9, 3, 9, 7, 1, 3, 1, 7, 3, 7, 9, 1, 7, 1, 7, 7, 1, 1, 3, 9, 3, 9, 7, 3, 1, 7, 1, 7, 9, 7, 9, 7, 1, 3, 7, 7, 9, 7, 7, 9, 7, 1, 9, 9, 3, 3, 9, 7, 3, 9, 1, 7, 9, 3, 3, 1, 3, 3, 7, 1, 7, 9, 1, 3, 9, 9, 1, 3, 7, 9, 1, 7, 3, 9, 1, 7, 9, 7, 9, 7, 9, 3, 7, 3, 7, 9, 9, 1, 7, 9, 9, 7, 3, 3, 1, 3, 9, 3, 7, 3, 1, 3, 9, 3, 9, 3, 9, 9, 1, 3, 7, 9, 9, 3, 1, 1, 3, 3, 1, 1, 7, 9, 7, 9, 7, 7, 9, 7, 1, 7, 1, 7, 1, 9, 1, 9, 9, 7, 7, 3, 7, 9, 1, 9, 3, 1, 7, 1, 7, 1, 3, 3, 1, 7, 9, 9, 7, 9, 3, 9, 1, 3, 1, 7, 7, 3, 9, 7, 3, 9, 3, 9, 9, 1, 7, 1, 1, 7, 3, 9, 1, 1, 9, 1, 3, 9, 3, 9, 7, 9, 3, 9, 9, 1, 3, 9, 3, 9, 3, 7, 3, 7, 7, 1, 9, 1, 7, 3, 3, 3, 7, 1, 3, 9, 1, 3, 3, 1, 7, 7, 9, 9, 3, 3, 1, 1, 7, 9, 3, 7, 7, 9, 9, 1, 9, 3, 1, 9, 9, 3, 3, 9, 3, 3, 1, 7, 9, 7, 9, 1, 1, 3, 9, 7, 3, 7, 3, 7, 1, 7, 3, 7, 1, 7, 9, 9, 1, 7, 1, 3, 1, 9, 7, 1, 3, 7, 9, 1, 9, 9, 1, 3, 3, 7, 3, 7, 9, 1, 7, 3, 9, 1, 7, 3, 3, 3, 1, 7, 9, 3, 7, 3, 9, 1, 9, 9, 9, 7, 7, 3, 9, 1, 3, 3, 7, 1, 3, 7, 1, 3, 1, 9, 3, 1, 7, 1, 3, 3, 1, 3, 1, 9, 3, 7, 1, 7, 9, 1, 9, 7, 7, 3, 7, 9, 3, 9, 3, 9, 1, 7, 1, 9, 9, 7, 3, 7, 7, 9, 1, 3, 9, 3, 1, 3, 9, 1, 1, 7, 9, 1, 3, 7, 1, 9, 9, 1, 1, 1, 7, 9, 3, 7, 9, 3, 1, 1, 3, 9, 3, 9, 1, 7, 9, 7, 9, 7, 7, 7, 9, 3, 7, 1, 1, 1, 7, 9, 3, 3, 3, 9, 7, 1, 9, 3, 7, 3, 7, 1, 3, 7, 3, 7, 3, 7, 9, 1, 1, 3, 9, 3, 7, 1, 9, 1, 9, 1, 7, 1, 1, 3, 9, 1, 3, 7, 3, 1, 7, 3, 9, 7, 9, 9, 7, 1, 3, 9, 3, 1, 1, 7, 3, 7, 1, 7, 9, 1, 7, 9, 3, 9, 7, 7, 1, 3, 9, 9, 1, 3, 1, 7, 1, 3, 1, 9, 9, 3, 1, 7, 3, 7, 3, 1, 3, 9, 3, 1, 7, 9, 1, 7, 9, 3, 3, 9, 7, 1, 1, 3, 7, 1, 3, 7, 9, 3, 3, 9, 1, 3, 7, 9, 9, 1, 1, 3, 7, 3, 9, 1, 3, 7, 3, 9, 7, 9, 7, 3, 9, 3, 7, 9, 1, 3, 9, 3, 7, 1, 3, 9, 3, 1, 7, 7, 9, 1, 3, 7, 7, 9, 1, 3, 3, 9, 7, 9, 1, 3, 9, 1, 3, 7, 7, 3, 9, 1, 1, 9, 3, 7, 3, 9, 1, 9, 7, 1, 3, 3, 1, 7, 1, 7, 3, 9, 3, 9, 1, 3, 9, 9, 1, 3, 7, 1, 9, 1, 9, 9, 1, 1, 7, 3, 7, 3, 9, 1, 7, 9, 9, 3, 1, 7, 1, 7, 7, 7, 3, 7, 3, 9, 1, 7, 9, 9, 1, 3, 3, 9, 7, 9, 3, 1, 7, 1, 9, 1, 7, 3, 9, 9, 7, 1, 7, 7, 9, 7, 1, 9, 3, 9, 7, 7, 9, 3, 1, 7, 3, 1, 7, 3, 9, 9, 3, 7, 3, 3, 1, 1, 7, 3, 1, 1, 7, 9, 7, 9, 3, 1, 3, 9, 7, 3, 9, 3, 3, 7, 1, 7, 3, 7, 3, 9, 1, 3, 7, 3, 9, 1, 3, 9, 3, 1, 7, 9, 7, 3, 7, 9, 3, 1, 3, 7, 9, 1, 7, 3, 7, 9, 1, 1, 9, 7, 3, 7, 3, 1, 7, 1, 7, 7, 3, 1, 1, 3, 7, 1, 1, 7, 1, 3, 1, 9, 1, 7, 7, 9, 7, 1, 3, 9, 1, 3, 9, 3, 1, 7, 9, 7, 1, 3, 9, 1, 3, 7, 1, 3, 3, 9, 1, 7, 1, 7, 3, 7, 1, 7, 9, 7, 1, 3, 9, 3, 1, 3, 3, 7, 9, 1, 7, 9, 9, 1, 9, 3, 7, 1, 3, 7, 1, 9, 7, 3, 1, 9, 3, 9, 9, 3, 9, 7, 1, 7, 7, 1, 9, 3, 7, 3, 7, 9, 3, 1, 9, 3, 9, 1, 1, 7, 1, 7, 3, 9, 3, 7, 9, 1, 7, 1, 3, 7, 1, 7, 7, 9, 3, 7, 7, 3, 1, 7, 3, 3, 7, 1, 1, 1, 1, 9, 7, 1, 3, 3, 7, 1, 1, 9, 9, 7, 9, 7, 1, 9, 1, 9, 7, 1, 3, 3, 1, 7, 3, 3, 7, 3, 1, 7, 9, 3, 1, 3, 7, 9, 7, 9, 1, 3, 1, 9, 7, 1, 3, 7, 9, 3, 7, 9, 3, 1, 3, 7, 1, 7, 1, 7, 3, 9, 7, 7, 9, 7, 9, 1, 1, 9, 1, 3, 9, 3, 1, 7, 3, 9, 7, 1, 3, 7, 3, 7, 7, 3, 9, 3, 7, 9, 9, 1, 7, 1, 1, 1, 3, 7, 9, 3, 3, 7, 3, 1, 1, 3, 9, 1, 7, 9, 9, 1, 9, 1, 1, 9, 3, 7, 9, 7, 3, 3, 1, 1, 7, 3, 7, 9, 7, 1, 7, 3, 3, 1, 1, 3, 9, 1, 1, 7, 7, 9, 7, 1, 7, 7, 9, 3, 9, 7, 9, 9, 1, 9, 1, 3, 3, 7, 1, 1, 1, 9, 3, 7, 9, 9, 1, 1, 3, 7, 9, 9, 3, 3, 1, 7, 3, 3, 9, 7, 3, 1, 7, 7, 3, 9, 1, 9, 3, 9, 3, 9, 9, 1, 3, 1, 3, 7, 1, 1, 9, 3, 1, 1, 1, 1, 3, 9, 9, 9, 1, 7, 1, 9, 7, 9, 1, 1, 3, 7, 3, 3, 7, 3, 7, 9, 3, 1, 7, 7, 3, 9, 3, 9, 1, 7, 1, 1, 1, 9, 1, 9, 3, 1, 7, 7, 3, 9, 1, 9, 3, 9, 1, 9, 9, 7, 1, 3, 7, 3, 9, 7, 1, 9, 7, 9, 9, 1, 3, 9, 3, 1, 3, 9, 9, 1, 7, 3, 9, 7, 1, 1, 7, 7, 9, 3, 3, 9, 1, 1, 7, 3, 7, 1, 7, 3, 9, 7, 1, 9, 3, 7, 7, 1, 3, 7, 9, 1, 3, 9, 7, 1, 3, 9, 1, 3, 7, 1, 3, 9, 7, 7, 1, 1, 3, 1, 7, 3, 9, 1, 1, 9, 1, 7, 9, 3, 7, 7, 3, 9, 1, 3, 3, 9, 9, 3, 9, 3, 7, 7, 9, 1, 1, 7, 9, 7, 7, 3, 1, 1, 9, 9, 3, 3, 1, 9, 7, 3, 3, 7, 1, 7, 9, 3, 1, 9, 9, 1, 7, 3, 7, 1, 7, 9, 9, 1, 3, 7, 3, 9, 9, 1, 1, 7, 3, 9, 1, 3, 7, 3, 9, 1, 3, 1, 3, 7, 3, 7, 1, 1, 7, 9, 1, 7, 9, 7, 1, 3, 9, 7, 1, 9, 3, 9, 1, 7, 9, 1, 7, 9, 7, 1, 7, 1, 3, 7, 9, 1, 1, 3, 1, 3, 9, 3, 1, 7, 3, 1, 3, 7, 9, 3, 9, 1, 7, 1, 3, 7, 9, 9, 3, 7, 3, 9, 7, 7, 9, 1, 7, 9, 3, 1, 1, 3, 7, 7, 3, 7, 9, 7, 1, 3, 7, 9, 7, 7, 1, 1, 3, 7, 7, 3, 7, 9, 3, 1, 9, 9, 1, 7, 9, 3, 7, 9, 9, 7, 3, 1, 9, 3, 9, 1, 3, 7, 7, 3, 9, 3, 9, 1, 3, 1, 1, 3, 7, 3, 7, 3, 9, 3, 3, 7, 1, 7, 3, 7, 9, 3, 7, 1, 9, 9, 9, 7, 1, 9, 1, 9, 9, 3, 1, 7, 7, 9, 1, 7, 3, 9, 7, 3, 7, 3, 1, 7, 3, 9, 1, 3, 7, 1, 3, 9, 9, 1, 1, 9, 9, 1, 3, 3, 9, 7, 1, 9, 3, 1, 7, 9, 9, 7, 3, 7, 9, 3, 9, 1, 3, 1, 7, 3, 7, 1, 3, 9, 1, 7, 1, 7, 9, 9, 7, 3, 7, 3, 1, 3, 3, 3, 1, 1, 3, 7, 9, 9, 9, 1, 3, 9, 9, 1, 7, 1, 7, 3, 1, 3, 9, 1, 9, 9, 9, 1, 9, 3, 3, 7, 3, 1, 1, 9, 7, 1, 3, 3, 1, 7, 7, 3, 9, 3, 7, 3, 1, 1, 7, 3, 9, 1, 7, 1, 3, 3, 7, 1, 3, 1, 7, 9, 3, 9, 1, 3, 7, 9, 3, 1, 1, 3, 1, 3, 3, 9, 1, 7, 9, 7, 1, 7, 9, 9, 1, 7, 3, 1, 1, 9, 7, 7, 9, 1, 1, 9, 3, 7, 9, 3, 9, 3, 9, 1, 1, 9, 1, 1, 7, 1, 3, 7, 3, 7, 1, 1, 3, 1, 7, 1, 3, 7, 9, 9, 9, 3, 9, 7, 3, 1, 7, 9, 7, 9, 1, 1, 7, 9, 1, 7, 3, 9, 7, 3, 9, 7, 1, 3, 1, 3, 7, 9, 3, 3, 9, 9, 1, 9, 3, 7, 3, 7, 1, 3, 3, 1, 1, 9, 9, 7, 3, 3, 7, 1, 3, 3, 9, 3, 9, 1, 1, 9, 9, 1, 7, 9, 9, 1, 3, 1, 1, 3, 9, 3, 7, 1, 7, 3, 7, 9, 3, 1, 7, 9, 9, 1, 3, 1, 7, 7, 9, 3, 9, 1, 3, 9, 1, 3, 9, 1, 7, 1, 1, 7, 3, 3, 9, 7, 7, 9, 1, 3, 9, 1, 1, 7, 1, 3, 9, 9, 1, 7, 7, 9, 3, 7, 9, 9, 1, 3, 7, 3, 1, 7, 1, 1, 3, 7, 7, 3, 9, 1, 9, 1, 3, 9, 7, 9, 3, 9, 3, 7, 7, 3, 1, 9, 3, 7, 9, 9, 1, 3, 9, 3, 7, 3, 1, 3, 9, 3, 9, 1, 3, 9, 3, 9, 1, 3, 1, 9, 3, 1, 7, 1, 9, 7, 9, 7, 1, 7, 7, 9, 1, 9, 1, 3, 1, 3, 1, 7, 1, 3, 7, 3, 7, 1, 7, 3, 7, 3, 9, 7, 7, 9, 3, 7, 9, 9, 1, 7, 9, 1, 9, 3, 9, 3, 1, 7, 3, 7, 3, 7, 1, 3, 7, 9, 1, 1, 9, 3, 9, 7, 9, 9, 7, 9, 3, 3, 3, 9, 1, 7, 3, 9, 1, 1, 7, 7, 3, 3, 7, 9, 1, 7, 7, 9, 9, 1, 3, 7, 7, 9, 1, 3, 3, 7, 9, 3, 7, 1, 9, 9, 1, 9, 1, 1, 1, 3, 9, 3, 3, 1, 1, 3, 3, 1, 7, 1, 7, 9, 7, 7, 9, 1, 7, 3, 1, 7, 3, 7, 1, 3, 9, 9, 3, 3, 7, 7, 3, 3, 9, 9, 1, 9, 1, 3, 1, 7, 1, 3, 7, 1, 3, 3, 1, 9, 1, 7, 3, 9, 7, 7, 7, 9, 3, 1, 7, 1, 1, 7, 9, 1, 9, 3, 1, 7, 9, 9, 3, 7, 9, 1, 7, 3, 9, 3, 7, 1, 3, 1, 7, 9, 9, 7, 7, 9, 9, 7, 1, 3, 7, 7, 7, 1, 7, 3, 9, 1, 9, 1, 3, 7, 1, 3, 9, 1, 7, 9, 1, 1, 9, 9, 9, 7, 1, 3, 1, 9, 3, 1, 7, 3, 3, 9, 1, 7, 7, 9, 9, 3, 1, 9, 1, 7, 3, 9, 7, 3, 1, 7, 3, 1, 7, 3, 9, 1, 7, 9, 1, 7, 9, 1, 1, 3, 7, 1, 7, 7, 1, 1, 7, 3, 7, 9, 3, 3, 7, 3, 9, 9, 1, 1, 7, 9, 1, 3, 7, 3, 7, 1, 1, 7, 9, 3, 9, 1, 1, 3, 9, 1, 9, 7, 1, 7, 9, 7, 3, 1, 3, 7, 9, 9, 1, 1, 3, 7, 3, 9, 9, 1, 3, 7, 7, 3, 7, 9, 3, 9, 1, 3, 9, 3, 1, 7, 9, 7, 1, 3, 9, 7, 3, 7, 1, 9, 7, 9, 9, 1, 1, 3, 3, 3, 1, 9, 1, 3, 3, 1, 7, 9, 9, 7, 3, 9, 9, 1, 7, 9, 7, 1, 1, 9, 9, 3, 7, 3, 1, 1, 7, 7, 1, 9, 9, 7, 3, 1, 3, 1, 7, 3, 9, 1, 3, 9, 7, 9, 9, 9, 9, 9, 7, 1, 3, 1, 3, 7, 9, 7, 1, 7, 9, 7, 3, 9, 9, 7, 9, 1, 3, 9, 3, 7, 7, 7, 1, 3, 1, 3, 3, 1, 9, 1, 7, 3, 1, 7, 7, 1, 7, 9, 7, 1, 3, 7, 7, 7, 1, 3, 7, 1, 9, 3, 3, 3, 7, 1, 3, 1, 1, 3, 3, 9, 3, 9, 7, 1, 1, 7, 7, 7, 1, 3, 3, 9, 7, 3, 1, 1, 3, 3, 9, 3, 1, 7, 9, 7, 1, 7, 1, 3, 9, 7, 9, 3, 9, 1, 3, 7, 7, 9, 3, 7, 9, 1, 7, 9, 3, 3, 9, 1, 3, 1, 7, 7, 1, 3, 3, 9, 3, 9, 3, 9, 3, 7, 1, 9, 3, 9, 9, 1, 7, 1, 3, 3, 9, 9, 3, 7, 3, 7, 7, 9, 9, 1, 9, 1, 7, 1, 3, 7, 9, 3, 3, 3, 1, 7, 3, 7, 9, 1, 1, 9, 3, 7, 1, 7, 9, 1, 1, 3, 1, 9, 7, 9, 3, 1, 9, 9, 3, 1, 3, 7, 9, 7, 3, 9, 1, 3, 1, 7, 7, 9, 7, 9, 1, 1, 7, 7, 1, 7, 9, 1, 1, 9, 9, 3, 7, 3, 7, 1, 7, 1, 7, 3, 3, 7, 9, 1, 3, 3, 1, 3, 7, 7, 9, 1, 7, 9, 3, 1, 9, 3, 1, 1, 3, 9, 3, 1, 7, 1, 7, 7, 9, 7, 7, 7, 1, 3, 1, 3, 9, 1, 3, 7, 9, 3, 1, 7, 1, 7, 1, 7, 3, 7, 1, 9, 9, 7, 1, 3, 3, 7, 1, 3, 1, 7, 1, 3, 9, 7, 1, 7, 1, 3, 1, 1, 3, 1, 1, 3, 3, 1, 3, 3, 9, 3, 9, 3, 1, 7, 1, 1, 3, 7, 9, 1, 7, 9, 3, 3, 3, 9, 1, 7, 9, 1, 3, 7, 1, 9, 1, 3, 3, 3, 9, 7, 3, 9, 7, 7, 9, 1, 7, 9, 1, 1, 7, 9, 1, 7, 1, 1, 1, 3, 3, 3, 9, 3, 3, 7, 3, 1, 7, 3, 7, 9, 1, 9, 9, 3, 1, 7, 1, 7, 9, 7, 3, 9, 7, 3, 9, 9, 1, 1, 3, 9, 1, 7, 7, 3, 9, 7, 3, 1, 7, 7, 9, 7, 3, 9, 9, 7, 3, 7, 3, 1, 1, 1, 3, 9, 7, 1, 3, 7, 3, 9, 1, 3, 9, 7, 3, 9, 3, 9, 1, 3, 3, 1, 7, 9, 7, 3, 7, 1, 1, 1, 7, 9, 1, 7, 1, 7, 9, 3, 9, 1, 3, 1, 7, 9, 1, 7, 3, 7, 3, 9, 9, 9, 1, 9, 1, 3, 1, 9, 3, 1, 9, 7, 9, 3, 9, 7, 3, 3, 7, 7, 9, 1, 7, 3, 9, 1, 3, 7, 7, 1, 3, 9, 3, 3, 9, 1, 1, 9, 9, 1, 1, 3, 7, 3, 1, 1, 3, 7, 9, 1, 3, 9, 7, 3, 9, 1, 7, 9, 7, 3, 7, 9, 1, 3, 9, 3, 7, 1, 7, 9, 3, 3, 1, 7, 1, 9, 1, 3, 9, 9, 3, 9, 7, 1, 9, 1, 7, 9, 9, 7, 7, 9, 3, 9, 3, 1, 7, 9, 3, 7, 9, 1, 1, 3, 1, 7, 9, 3, 7, 9, 7, 3, 9, 3, 3, 1, 3, 7, 3, 1, 7, 9, 7, 3, 9, 7, 1, 3, 1, 7, 3, 1, 7, 9, 3, 9, 7, 9, 1, 7, 7, 1, 3, 9, 1, 1, 3, 1, 3, 9, 1, 7, 9, 3, 7, 7, 3, 9, 3, 7, 9, 9, 9, 9, 1, 3, 9, 7, 7, 9, 7, 3, 9, 3, 7, 3, 1, 7, 3, 9, 9, 9, 1, 1, 3, 9, 3, 9, 1, 7, 1, 7, 3, 9, 9, 9, 3, 7, 7, 1, 7, 9, 1, 3, 9, 3, 7, 7, 9, 3, 1, 7, 9, 1, 3, 1, 9, 3, 1, 1, 1, 3, 9, 3, 9, 1, 3, 3, 1, 1, 9, 1, 7, 3, 7, 3, 1, 7, 1, 7, 3, 1, 1, 3, 1, 7, 1, 7, 9, 7, 9, 9, 7, 1, 7, 9, 3, 1, 1, 1, 1, 7, 7, 9, 1, 1, 7, 1, 7, 1, 3, 1, 3, 9, 9, 1, 7, 9, 3, 7, 7, 9, 9, 1, 1, 3, 9, 9, 7, 3, 9, 1, 7, 9, 9, 1, 9, 7, 9, 9, 1, 3, 9, 3, 7, 1, 7, 9, 3, 9, 9, 3, 1, 7, 7, 3, 3, 7, 9, 3, 9, 1, 7, 1, 7, 1, 3, 3, 9, 1, 7, 9, 9, 1, 9, 1, 3, 7, 9, 3, 1, 7, 9, 7, 1, 9, 3, 1, 7, 7, 1, 7, 9, 9, 7, 1, 7, 9, 1, 9, 9, 1, 7, 1, 3, 7, 3, 1, 7, 9, 3, 7, 3, 1, 9, 7, 9, 3, 1, 7, 1, 9, 3, 3, 9, 1, 9, 3, 7, 7, 3, 9, 7, 1, 3, 7, 9, 3, 7, 1, 3, 1, 3, 1, 1, 7, 9, 3, 3, 9, 1, 7, 7, 9, 1, 9, 7, 1, 3, 7, 9, 7, 1, 1, 3, 9, 9, 1, 3, 9, 1, 3, 7, 1, 3, 9, 7, 9, 3, 1, 7, 9, 1, 7, 3, 3, 9, 1, 1, 1, 3, 1, 3, 3, 3, 7, 9, 9, 3, 7, 9, 1, 3, 9, 3, 9, 7, 3, 9, 7, 1, 7, 9, 3, 9, 3, 1, 1, 7, 1, 7, 3, 9, 7, 3, 7, 3, 9, 7, 1, 3, 7, 3, 9, 1, 3, 9, 3, 9, 1, 9, 1, 7, 7, 3, 1, 9, 3, 7, 3, 1, 7, 1, 3, 7, 9, 9, 9, 7, 1, 3, 9, 7, 1, 1, 3, 7, 9, 7, 7, 9, 1, 7, 7, 3, 7, 9, 7, 1, 3, 7, 1, 9, 9, 7, 7, 9, 9, 3, 9, 9, 7, 9, 1, 9, 1, 1, 3, 1, 3, 7, 9, 1, 1, 1, 7, 1, 7, 1, 3, 1, 9, 9, 7, 9, 3, 7, 9, 1, 3, 9, 7, 1, 3, 9, 1, 3, 7, 9, 9, 7, 1, 3, 9, 1, 1, 9, 3, 9, 1, 7, 3, 7, 3, 7, 7, 9, 1, 1, 7, 1, 9, 1, 7, 1, 3, 7, 1, 7, 9, 9, 1, 1, 9, 7, 3, 9, 1, 3, 9, 7, 7, 9, 3, 7, 3, 3, 7, 7, 9, 3, 9, 1, 3, 9, 3, 7, 9, 3, 7, 7, 3, 7, 7, 1, 3, 7, 3, 9, 9, 7, 3, 7, 3, 1, 1, 3, 9, 3, 7, 9, 3, 7, 1, 9, 7, 3, 3, 1, 1, 3, 1, 1, 9, 3, 1, 7, 1, 7, 9, 3, 1, 3, 7, 1, 9, 1, 7, 1, 3, 9, 1, 7, 3, 9, 1, 3, 9, 7, 1, 3, 1, 9, 9, 1, 9, 3, 9, 7, 3, 9, 1, 3, 3, 9, 7, 1, 3, 9, 9, 7, 7, 9, 7, 9, 1, 3, 7, 3, 7, 3, 1, 7, 1, 9, 9, 9, 1, 3, 9, 3, 1, 9, 1, 3, 9, 3, 9, 3, 7, 3, 9, 3, 7, 3, 7, 3, 7, 3, 1, 7, 9, 7, 7, 3, 7, 3, 7, 3, 3, 9, 3, 9, 9, 7, 3, 3, 7, 3, 1, 7, 1, 3, 7, 1, 9, 7, 9, 3, 9, 1, 7, 3, 1, 7, 7, 3, 3, 9, 7, 1, 3, 9, 1, 7, 9, 1, 7, 3, 9, 3, 7, 3, 9, 1, 1, 7, 9, 9, 1, 7, 1, 3, 9, 1, 9, 3, 7, 9, 1, 3, 9, 1, 3, 7, 7, 3, 9, 1, 1, 9, 3, 7, 1, 7, 7, 9, 3, 9, 1, 7, 1, 7, 9, 7, 9, 7, 1, 7, 1, 9, 3, 7, 1, 9, 3, 3, 7, 9, 1, 9, 1, 3, 9, 3, 9, 3, 9, 7, 3, 7, 9, 7, 7, 1, 3, 7, 9, 1, 9, 1, 3, 3, 9, 7, 7, 9, 1, 1, 7, 3, 1, 7, 1, 3, 9, 3, 3, 9, 3, 1, 7, 9, 7, 3, 7, 9, 3, 9, 9, 7, 9, 3, 7, 3, 1, 1, 7, 7, 1, 9, 1, 7, 9, 9, 7, 1, 3, 1, 7, 3, 9, 1, 9, 9, 7, 3, 9, 7, 1, 3, 1, 7, 1, 1, 3, 1, 1, 7, 1, 9, 3, 7, 9, 1, 7, 1, 9, 9, 3, 7, 9, 1, 1, 3, 3, 9, 7, 1, 7, 1, 7, 7, 1, 7, 7, 9, 3, 9, 1, 7, 7, 1, 3, 9, 1, 3, 1, 1, 7, 1, 7, 9, 3, 3, 9, 3, 3, 7, 1, 7, 3, 9, 1, 7, 7, 3, 3, 1, 7, 7, 9, 9, 9, 3, 7, 1, 3, 9, 7, 9, 1, 1, 9, 1, 3, 9, 7, 3, 7, 1, 7, 9, 3, 7, 9, 1, 3, 7, 9, 9, 9, 7, 3, 9, 3, 1, 1, 7, 3, 9, 1, 7, 1, 1, 7, 1, 9, 1, 9, 9, 1, 3, 3, 1, 7, 3, 9, 7, 3, 1, 7, 1, 9, 3, 9, 1, 7, 3, 3, 9, 3, 1, 1, 7, 9, 9, 1, 9, 9, 1, 7, 1, 3, 9, 3, 9, 7, 9, 3, 7, 1, 7, 9, 9, 7, 7, 9, 9, 1, 1, 7, 9, 3, 3, 3, 1, 9, 3, 1, 3, 3, 1, 7, 7, 1, 7, 1, 9, 1, 1, 1, 7, 9, 1, 9, 9, 7, 1, 7, 7, 9, 1, 3, 1, 7, 9, 9, 3, 9, 3, 1, 7, 3, 1, 7, 1, 7, 9, 7, 7, 9, 1, 1, 3, 1, 7, 3, 3, 9, 1, 9, 7, 3, 7, 3, 9, 7, 3, 9, 1, 1, 7, 9, 9, 7, 3, 7, 9, 1, 3, 7, 9, 1, 7, 9, 9, 1, 7, 1, 7, 1, 3, 7, 3, 7, 9, 9, 3, 9, 3, 9, 1, 3, 3, 3, 3, 7, 1, 3, 7, 1, 9, 7, 7, 9, 3, 9, 7, 1, 3, 1, 7, 1, 9, 3, 7, 7, 1, 3, 9, 3, 1, 7, 7, 3, 9, 1, 3, 9, 3, 9, 7, 7, 1, 7, 9, 3, 3, 9, 7, 9, 1, 3, 9, 7, 7, 9, 1, 9, 9, 3, 9, 1, 7, 7, 3, 1, 7, 1, 3, 3, 9, 1, 9, 7, 3, 1, 7, 1, 9, 3, 1, 7, 1, 1, 3, 3, 9, 1, 3, 7, 9, 3, 3, 3, 1, 7, 3, 9, 1, 9, 9, 7, 1, 3, 1, 9, 9, 3, 7, 9, 3, 7, 9, 1, 1, 9, 1, 7, 1, 9, 1, 3, 9, 7, 3, 9, 3, 1, 9, 9, 7, 1, 1, 9, 9, 1, 7, 1, 7, 3, 3, 9, 1, 7, 9, 9, 7, 3, 7, 9, 9, 7, 1, 1, 1, 7, 3, 3, 7, 9, 1, 1, 7, 3, 3, 9, 1, 9, 1, 3, 9, 7, 3, 7, 3, 9, 3, 9, 7, 3, 9, 3, 7, 9, 1, 1, 1, 9, 7, 3, 3, 1, 1, 9, 3, 1, 7, 7, 1, 1, 3, 7, 1, 3, 7, 9, 7, 9, 1, 3, 3, 7, 3, 1, 9, 1, 7, 3, 9, 1, 3, 3, 7, 9, 1, 7, 9, 7, 9, 3, 9, 1, 9, 7, 3, 1, 3, 9, 3, 7, 9, 7, 1, 9, 1, 1, 3, 3, 1, 7, 9, 3, 7, 3, 9, 7, 1, 1, 3, 1, 7, 3, 3, 1, 9, 9, 3, 1, 7, 9, 9, 7, 3, 7, 9, 9, 1, 3, 9, 7, 7, 3, 7, 9, 7, 3, 9, 1, 7, 9, 3, 3, 1, 3, 9, 7, 9, 7, 9, 7, 1, 3, 1, 9, 3, 9, 7, 7, 1, 7, 9, 3, 7, 3, 9, 7, 1, 3, 7, 1, 3, 1, 3, 7, 3, 7, 9, 1, 9, 1, 7, 3, 3, 9, 7, 7, 7, 9, 1, 3, 9, 7, 9, 1, 1, 7, 9, 3, 3, 3, 9, 3, 9, 1, 9, 1, 1, 7, 3, 7, 1, 7, 1, 9, 9, 9, 1, 7, 1, 7, 3, 7, 1, 7, 1, 7, 1, 3, 7, 3, 7, 9, 7, 1, 1, 3, 9, 3, 9, 7, 9, 3, 1, 9, 3, 9, 7, 3, 9, 1, 7, 3, 9, 3, 1, 9, 7, 9, 7, 7, 3, 1, 1, 3, 3, 9, 1, 3, 9, 7, 1, 3, 7, 1, 3, 9, 1, 7, 9, 3, 9, 9, 1, 3, 1, 9, 1, 7, 1, 7, 9, 3, 1, 9, 9, 7, 9, 1, 3, 1, 3, 7, 1, 7, 9, 3, 9, 9, 7, 3, 9, 3, 7, 9, 1, 3, 1, 1, 3, 7, 7, 3, 1, 3, 3, 7, 9, 3, 9, 1, 7, 3, 1, 3, 1, 7, 1, 3, 9, 7, 1, 1, 7, 1, 1, 7, 3, 3, 7, 9, 9, 7, 7, 9, 1, 1, 3, 9, 3, 3, 9, 1, 3, 3, 7, 3, 9, 9, 1, 7, 9, 7, 7, 9, 3, 3, 1, 1, 1, 7, 1, 3, 9, 1, 7, 9, 3, 1, 9, 9, 1, 7, 3, 9, 1, 1, 3, 3, 1, 1, 3, 9, 3, 3, 7, 9, 9, 1, 3, 7, 9, 1, 9, 9, 7, 1, 1, 3, 7, 7, 9, 1, 7, 3, 3, 9, 9, 1, 1, 9, 3, 9, 1, 3, 1, 1, 1, 3, 1, 7, 7, 3, 9, 1, 7, 7, 1, 1, 9, 3, 7, 3, 9, 1, 7, 1, 3, 9, 7, 7, 9, 1, 3, 9, 3, 3, 7, 9, 3, 1, 7, 3, 7, 1, 9, 3, 7, 3, 7, 3, 3, 1, 9, 1, 3, 7, 9, 7, 1, 7, 9, 9, 7, 7, 1, 3, 7, 9, 9, 1, 7, 7, 3, 7, 9, 1, 3, 9, 3, 1, 7, 9, 9, 9, 1, 7, 9, 9, 1, 7, 9, 3, 7, 9, 1, 7, 1, 1, 1, 3, 7, 3, 9, 1, 9, 1, 3, 7, 1, 3, 7, 3, 3, 9, 9, 3, 7, 9, 3, 7, 9, 1, 1, 7, 3, 9, 3, 1, 1, 7, 3, 9, 7, 7, 3, 1, 7, 9, 3, 1, 3, 9, 7, 3, 7, 9, 1, 7, 3, 1, 7, 3, 1, 7, 3, 3, 7, 9, 3, 9, 1, 3, 7, 9, 3, 7, 1, 7, 9, 1, 3, 7, 1, 3, 9, 7, 9, 7, 9, 3, 7, 7, 9, 9, 1, 3, 7, 1, 3, 3, 1, 3, 7, 3, 9, 7, 3, 3, 9, 1, 9, 9, 7, 7, 3, 7, 1, 3, 7, 1, 9, 3, 7, 7, 9, 3, 9, 1, 3, 9, 1, 1, 9, 1, 3, 9, 3, 7, 7, 9, 7, 3, 9, 9, 1, 7, 1, 1, 7, 3, 9, 3, 7, 7, 3, 1, 9, 9, 1, 3, 7, 9, 3, 1, 7, 9, 7, 9, 9, 9, 1, 7, 3, 9, 1, 9, 3, 1, 9, 7, 1, 3, 7, 9, 7, 3, 3, 7, 1, 1, 7, 9, 9, 1, 7, 1, 7, 3, 9, 7, 3, 3, 9, 1, 9, 7, 9, 1, 7, 7, 3, 9, 7, 9, 7, 9, 9, 1, 1, 3, 9, 3, 7, 3, 9, 7, 1, 3, 1, 9, 9, 1, 9, 3, 9, 3, 9, 7, 3, 7, 1, 1, 7, 7, 9, 1, 3, 9, 1, 7, 9, 3, 1, 7, 1, 7, 3, 7, 1, 7, 3, 9, 1, 7, 7, 1, 7, 3, 7, 9, 1, 3, 1, 3, 9, 3, 7, 7, 7, 9, 1, 3, 3, 1, 3, 9, 1, 9, 3, 7, 9, 7, 3, 9, 9, 7, 3, 1, 3, 3, 1, 3, 9, 9, 1, 3, 9, 1, 3, 7, 9, 1, 1, 9, 3, 7, 3, 7, 3, 9, 7, 9, 9, 7, 3, 1, 9, 1, 3, 7, 3, 7, 7, 3, 7, 3, 1, 1, 3, 9, 7, 7, 7, 9, 1, 3, 7, 9, 7, 3, 1, 7, 1, 1, 1, 3, 9, 9, 1, 1, 9, 1, 9, 3, 7, 7, 3, 1, 7, 1, 3, 7, 9, 3, 3, 3, 3, 1, 3, 1, 9, 1, 7, 9, 7, 9, 9, 1, 3, 9, 9, 1, 7, 3, 7, 3, 1, 9, 3, 9, 7, 7, 9, 3, 1, 1, 7, 3, 7, 3, 7, 1, 9, 1, 3, 9, 1, 1, 3, 7, 1, 3, 1, 7, 1, 9, 1, 9, 1, 1, 9, 9, 9, 7, 1, 9, 1, 7, 7, 7, 9, 1, 3, 7, 9, 9, 7, 9, 9, 7, 3, 1, 1, 9, 1, 7, 7, 7, 1, 3, 1, 1, 9, 7, 9, 3, 1, 9, 3, 1, 1, 9, 1, 7, 9, 3, 1, 3, 7, 9, 7, 3, 9, 1, 7, 9, 7, 3, 3, 1, 7, 9, 1, 3, 1, 3, 7, 1, 9, 7, 3, 9, 7, 9, 1, 7, 1, 1, 3, 9, 7, 3, 1, 3, 7, 1, 9, 7, 1, 7, 9, 9, 1, 3, 7, 3, 9, 1, 3, 7, 9, 1, 3, 7, 1, 7, 9, 1, 3, 3, 1, 7, 9, 3, 7, 7, 3, 9, 3, 9, 3, 3, 9, 1, 1, 9, 7, 7, 9, 9, 7, 9, 9, 1, 3, 9, 7, 9, 1, 3, 9, 3, 3, 1, 7, 1, 7, 7, 9, 7, 1, 7, 1, 3, 1, 1, 9, 3, 9, 7, 9, 7, 1, 7, 3, 9, 1, 3, 1, 9, 1, 9, 7, 1, 3, 3, 1, 9, 3, 3, 9, 1, 1, 7, 9, 3, 1, 3, 7, 9, 9, 3, 9, 9, 7, 9, 7, 7, 1, 3, 7, 3, 1, 1, 7, 1, 7, 1, 3, 7, 7, 3, 9, 1, 7, 9, 9, 1, 1, 7, 1, 3, 3, 9, 3, 7, 1, 9, 3, 7, 1, 9, 1, 3, 3, 7, 3, 9, 3, 9, 7, 3, 9, 7, 1, 7, 9, 9, 1, 3, 9, 9, 3, 7, 3, 7, 3, 1, 9, 7, 7, 9, 1, 9, 3, 7, 1, 1, 7, 7, 3, 9, 3, 1, 9, 3, 1, 9, 1, 3, 3, 9, 1, 9, 7, 3, 9, 1, 7, 1, 3, 3, 7, 1, 7, 1, 7, 9, 3, 9, 3, 9, 7, 1, 3, 9, 1, 3, 9, 3, 7, 9, 1, 9, 1, 1, 7, 7, 9, 1, 9, 9, 1, 3, 9, 3, 9, 1, 7, 1, 3, 7, 1, 9, 3, 9, 3, 1, 7, 7, 1, 3, 3, 9, 3, 9, 3, 7, 7, 3, 7, 7, 3, 9, 3, 1, 3, 1, 3, 9, 7, 1, 3, 9, 3, 1, 3, 9, 1, 7, 7, 9, 9, 1, 3, 9, 1, 7, 7, 9, 1, 3, 9, 1, 3, 7, 1, 9, 7, 3, 7, 9, 1, 1, 7, 9, 3, 3, 7, 3, 7, 9, 1, 7, 9, 7, 3, 9, 7, 3, 9, 1, 7, 3, 3, 7, 1, 9, 9, 7, 1, 1, 3, 7, 3, 7, 1, 3, 9, 3, 3, 9, 1, 3, 7, 7, 7, 1, 3, 9, 1, 1, 3, 7, 1, 7, 1, 3, 1, 3, 9, 3, 1, 9, 1, 7, 9, 1, 9, 3, 7, 9, 1, 1, 3, 3, 1, 1, 3, 9, 3, 7, 1, 9, 9, 3, 9, 1, 1, 1, 3, 7, 7, 9, 1, 7, 3, 9, 7, 1, 7, 3, 9, 9, 1, 9, 9, 3, 9, 1, 9, 1, 7, 3, 9, 7, 7, 9, 3, 3, 9, 9, 1, 3, 9, 9, 1, 7, 3, 3, 9, 7, 3, 7, 9, 3, 7, 3, 7, 3, 1, 1, 3, 9, 1, 9, 1, 7, 3, 1, 3, 9, 3, 7, 1, 9, 9, 1, 9, 7, 1, 1, 3, 9, 9, 7, 3, 9, 1, 9, 1, 7, 7, 7, 7, 1, 3, 9, 7, 3, 9, 1, 7, 1, 3, 9, 7, 7, 9, 7, 1, 9, 1, 1, 3, 9, 1, 3, 3, 9, 9, 7, 9, 1, 7, 7, 1, 3, 7, 3, 3, 9, 1, 7, 3, 9, 7, 1, 3, 7, 7, 3, 1, 7, 3, 1, 3, 1, 7, 3, 7, 3, 1, 3, 9, 7, 9, 3, 1, 3, 1, 1, 9, 1, 9, 1, 7, 3, 9, 1, 1, 3, 1, 9, 7, 3, 9, 1, 7, 1, 3, 7, 1, 3, 9, 1, 7, 1, 9, 3, 3, 7, 7, 9, 3, 3, 1, 1, 9, 1, 3, 9, 9, 1, 7, 9, 1, 9, 9, 1, 1, 7, 3, 1, 7, 7, 3, 9, 9, 1, 3, 7, 9, 1, 7, 3, 3, 1, 9, 1, 7, 9, 7, 1, 3, 7, 3, 3, 7, 3, 1, 7, 9, 3, 7, 1, 9, 9, 1, 1, 7, 9, 1, 3, 1, 3, 3, 7, 9, 1, 7, 1, 7, 9, 9, 9, 3, 9, 3, 3, 1, 3, 1, 3, 1, 9, 3, 7, 7, 3, 1, 3, 7, 1, 3, 9, 7, 9, 3, 1, 7, 7, 3, 9, 7, 3, 9, 9, 1, 3, 7, 3, 1, 1, 3, 9, 9, 7, 9, 1, 1, 7, 3, 7, 3, 1, 3, 7, 9, 3, 9, 1, 9, 9, 9, 1, 7, 9, 3, 7, 7, 3, 7, 1, 1, 1, 7, 1, 3, 3, 1, 7, 1, 3, 3, 1, 9, 7, 1, 7, 9, 3, 9, 7, 9, 7, 7, 9, 3, 9, 7, 1, 3, 9, 9, 1, 7, 3, 3, 9, 3, 9, 7, 9, 7, 1, 7, 1, 1, 7, 1, 7, 1, 3, 9, 3, 9, 7, 1, 3, 7, 7, 9, 9, 3, 3, 3, 9, 1, 1, 3, 9, 7, 3, 1, 3, 7, 9, 3, 1, 7, 1, 9, 9, 1, 9, 7, 3, 9, 7, 9, 7, 1, 3, 3, 9, 7, 1, 1, 7, 1, 7, 9, 7, 3, 7, 9, 9, 9, 3, 7, 1, 7, 3, 1, 9, 1, 7, 9, 9, 1, 7, 9, 9, 1, 1, 3, 7, 3, 3, 9, 7, 1, 3, 9, 1, 3, 1, 1, 7, 3, 3, 7, 1, 1, 3, 7, 3, 1, 3, 7, 3, 1, 9, 7, 9, 1, 7, 9, 1, 9, 1, 3, 3, 9, 7, 1, 9, 1, 7, 3, 1, 7, 3, 3, 9, 7, 3, 7, 1, 3, 9, 9, 7, 3, 1, 3, 7, 1, 7, 7, 3, 3, 9, 7, 1, 3, 3, 1, 7, 3, 1, 9, 3, 9, 1, 7, 3, 1, 1, 9, 3, 7, 3, 1, 9, 9, 1, 7, 9, 1, 3, 3, 7, 7, 3, 9, 1, 7, 3, 1, 9, 1, 3, 1, 3, 9, 7, 3, 9, 1, 3, 7, 3, 7, 1, 3, 7, 9, 9, 9, 3, 7, 9, 9, 3, 7, 1, 9, 1, 9, 7, 1, 9, 7, 9, 1, 3, 9, 9, 3, 7, 3, 9, 1, 7, 9, 3, 1, 9, 3, 9, 9, 7, 7, 1, 3, 9, 3, 1, 3, 1, 3, 7, 3, 1, 7, 7, 3, 9, 9, 7, 1, 7, 1, 1, 3, 9, 3, 1, 3, 9, 7, 3, 9, 7, 3, 1, 7, 3, 9, 9, 1, 9, 3, 9, 3, 7, 3, 1, 7, 7, 1, 3, 1, 9, 7, 7, 3, 1, 9, 1, 1, 3, 1, 7, 9, 9, 7, 7, 3, 7, 1, 9, 3, 9, 3, 7, 9, 3, 9, 7, 1, 7, 1, 3, 3, 9, 1, 3, 9, 3, 3, 1, 7, 3, 3, 7, 3, 9, 7, 9, 1, 7, 9, 3, 9, 7, 3, 1, 7, 9, 9, 1, 7, 1, 1, 9, 9, 1, 7, 3, 7, 1, 9, 3, 7, 7, 3, 1, 7, 3, 1, 7, 9, 1, 7, 3, 7, 1, 7, 3, 9, 3, 7, 9, 3, 7, 9, 1, 3, 1, 1, 3, 7, 9, 9, 3, 3, 1, 3, 3, 1, 3, 9, 7, 9, 1, 3, 1, 3, 7, 9, 9, 7, 9, 3, 1, 1, 7, 9, 9, 1, 3, 9, 1, 3, 7, 9, 7, 1, 3, 9, 1, 3, 9, 7, 7, 3, 9, 3, 7, 1, 3, 3, 9, 3, 1, 3, 7, 1, 3, 9, 7, 1, 9, 7, 3, 9, 7, 7, 1, 9, 1, 7, 1, 9, 9, 9, 3, 7, 7, 7, 3, 7, 9, 1, 1, 9, 3, 7, 9, 3, 3, 9, 9, 3, 7, 7, 3, 1, 1, 3, 1, 7, 3, 9, 1, 1, 3, 7, 3, 9, 1, 9, 7, 7, 9, 1, 3, 1, 3, 3, 9, 7, 3, 7, 9, 3, 3, 9, 7, 3, 3, 1, 7, 9, 7, 1, 1, 1, 9, 7, 1, 7, 9, 9, 3, 9, 7, 1, 7, 3, 3, 9, 3, 1, 7, 3, 9, 1, 3, 9, 3, 9, 1, 7, 9, 7, 1, 9, 7, 3, 9, 1, 7, 9, 9, 9, 3, 7, 3, 1, 3, 7, 9, 7, 7, 9, 9, 1, 3, 3, 1, 7, 1, 1, 9, 3, 9, 1, 3, 9, 7, 9, 7, 1, 9, 9, 1, 3, 7, 9, 7, 3, 9, 1, 3, 3, 7, 9, 3, 7, 9, 7, 9, 1, 1, 7, 1, 7, 9, 7, 3, 3, 9, 7, 1, 3, 7, 7, 9, 7, 9, 1, 7, 1, 7, 9, 1, 1, 1, 7, 3, 9, 7, 9, 7, 1, 1, 7, 9, 3, 1, 9, 9, 1, 9, 1, 7, 7, 7, 9, 7, 3, 1, 3, 7, 7, 9, 1, 7, 1, 7, 3, 9, 1, 3, 9, 3, 7, 1, 7, 9, 3, 9, 3, 9, 3, 1, 7, 9, 1, 3, 7, 3, 9, 1, 9, 1, 9, 7, 3, 1, 7, 7, 9, 1, 3, 9, 9, 1, 3, 3, 9, 1, 7, 9, 9, 1, 3, 9, 1, 1, 9, 1, 7, 7, 1, 3, 9, 7, 3, 9, 1, 1, 3, 3, 1, 3, 7, 3, 3, 1, 3, 9, 9, 3, 3, 3, 1, 1, 1, 3, 9, 3, 3, 7, 1, 9, 9, 3, 7, 3, 7, 9, 1, 3, 1, 9, 7, 3, 3, 9, 3, 1, 7, 9, 9, 7, 9, 9, 1, 3, 9, 1, 3, 7, 1, 3, 1, 7, 1, 3, 3, 1, 7, 9, 3, 9, 3, 9, 1, 9, 1, 1, 7, 3, 1, 7, 7, 3, 1, 9, 3, 7, 1, 7, 9, 3, 7, 3, 7, 9, 3, 9, 1, 3, 7, 9, 1, 9, 1, 7, 9, 7, 3, 7, 9, 1, 1, 7, 9, 1, 7, 3, 1, 7, 9, 9, 1, 9, 1, 1, 7, 9, 1, 3, 1, 7, 3, 7, 9, 9, 1, 7, 7, 9, 9, 9, 7, 7, 9, 3, 1, 3, 7, 3, 1, 7, 3, 9, 7, 1, 3, 9, 3, 1, 1, 9, 3, 7, 1, 7, 3, 9, 1, 7, 3, 9, 7, 9, 3, 1, 9, 3, 7, 7, 9, 3, 9, 1, 7, 1, 3, 7, 3, 1, 7, 3, 1, 3, 9, 3, 9, 1, 3, 7, 7, 9, 1, 9, 3, 1, 3, 7, 1, 7, 1, 3, 9, 1, 3, 7, 9, 3, 7, 3, 7, 9, 3, 9, 3, 7, 9, 1, 1, 7, 9, 7, 9, 1, 3, 3, 7, 7, 1, 1, 9, 3, 7, 7, 3, 1, 7, 9, 9, 1, 9, 1, 7, 7, 3, 9, 1, 1, 3, 7, 3, 7, 9, 1, 7, 9, 1, 7, 9, 1, 3, 1, 7, 9, 1, 7, 1, 7, 1, 3, 9, 3, 1, 7, 9, 3, 1, 1, 3, 7, 3, 7, 1, 3, 9, 7, 3, 7, 9, 1, 3, 9, 3, 7, 9, 7, 3, 7, 9, 1, 1, 3, 9, 1, 3, 7, 1, 9, 3, 1, 1, 7, 3, 9, 9, 7, 1, 9, 3, 1, 7, 3, 3, 9, 3, 3, 3, 1, 9, 1, 7, 7, 1, 7, 1, 7, 9, 1, 3, 3, 7, 1, 9, 7, 1, 3, 1, 1, 9, 3, 7, 9, 7, 3, 9, 3, 3, 9, 1, 1, 3, 3, 3, 3, 1, 7, 9, 1, 7, 9, 3, 7, 9, 7, 3, 9, 9, 1, 7, 3, 9, 1, 7, 3, 9, 7, 9, 3, 9, 7, 3, 9, 7, 1, 3, 7, 9, 1, 9, 9, 1, 7, 3, 3, 3, 1, 3, 7, 7, 7, 1, 9, 1, 1, 1, 3, 9, 1, 7, 9, 3, 1, 7, 9, 7, 1, 7, 1, 7, 7, 1, 1, 9, 1, 3, 9, 7, 3, 3, 1, 7, 3, 1, 3, 9, 1, 7, 3, 9, 7, 3, 9, 7, 7, 9, 1, 1, 9, 1, 3, 9, 3, 7, 9, 1, 7, 1, 3, 7, 9, 9, 1, 3, 9, 1, 9, 1, 3, 1, 7, 3, 1, 7, 3, 3, 9, 1, 1, 3, 9, 3, 3, 3, 7, 3, 7, 1, 3, 1, 7, 7, 9, 9, 1, 9, 7, 9, 9, 1, 3, 3, 7, 9, 3, 3, 7, 9, 9, 9, 7, 9, 3, 1, 7, 1, 9, 9, 1, 7, 9, 3, 7, 7, 9, 3, 7, 1, 3, 9, 1, 3, 3, 9, 7, 1, 3, 7, 7, 1, 7, 9, 1, 7, 9, 1, 7, 7, 9, 9, 9, 1, 7, 1, 3, 9, 1, 1, 9, 7, 7, 9, 1, 9, 3, 9, 3, 1, 9, 7, 9, 3, 9, 1, 3, 7, 9, 7, 3, 1, 3, 3, 7, 1, 3, 9, 3, 9, 9, 7, 9, 1, 9, 7, 3, 9, 3, 7, 7, 9, 1, 3, 7, 9, 1, 7, 1, 1, 3, 7, 3, 9, 9, 3, 3, 1, 9, 1, 7, 7, 7, 3, 9, 1, 7, 9, 3, 3, 7, 9, 1, 9, 3, 7, 1, 7, 9, 7, 9, 1, 9, 1, 7, 1, 3, 7, 9, 3, 3, 9, 9, 1, 7, 7, 9, 9, 3, 9, 1, 3, 7, 3, 9, 7, 7, 9, 1, 1, 3, 9, 7, 7, 9, 3, 9, 1, 3, 7, 9, 1, 7, 1, 7, 3, 1, 7, 1, 3, 1, 7, 7, 9, 3, 1, 3, 7, 9, 3, 9, 1, 7, 1, 7, 7, 9, 3, 9, 9, 1, 3, 9, 3, 7, 3, 1, 9, 3, 7, 3, 1, 7, 1, 7, 3, 3, 7, 1, 7, 9, 9, 1, 1, 1, 9, 1, 3, 9, 1, 9, 1, 3, 7, 1, 9, 9, 7, 1, 7, 3, 7, 7, 9, 1, 7, 3, 3, 9, 7, 1, 7, 7, 9, 7, 1, 3, 9, 1, 9, 7, 3, 3, 1, 1, 7, 3, 3, 7, 3, 9, 1, 7, 3, 9, 9, 1, 3, 3, 9, 7, 7, 9, 3, 7, 9, 1, 7, 1, 7, 3, 9, 1, 7, 9, 9, 3, 1, 7, 9, 3, 1, 7, 7, 3, 9, 1, 3, 3, 7, 1, 9, 3, 9, 3, 7, 9, 3, 9, 1, 1, 9, 1, 7, 7, 3, 1, 9, 7, 1, 3, 9, 3, 1, 7, 7, 9, 3, 9, 1, 1, 1, 7, 1, 3, 3, 9, 7, 1, 3, 7, 7, 9, 3, 7, 9, 7, 3, 9, 1, 1, 3, 9, 9, 3, 3, 7, 3, 7, 3, 7, 1, 7, 9, 1, 7, 3, 7, 3, 9, 3, 7, 1, 9, 1, 7, 3, 7, 3, 9, 9, 7, 1, 3, 7, 1, 1, 7, 9, 9, 7, 3, 9, 1, 3, 9, 1, 1, 7, 3, 7, 9, 1, 7, 9, 7, 1, 9, 9, 1, 1, 9, 1, 3, 7, 1, 9, 9, 7, 9, 3, 1, 9, 9, 1, 7, 9, 7, 3, 3, 7, 1, 3, 3, 3, 9, 1, 9, 9, 1, 7, 3, 9, 7, 7, 9, 3, 9, 7, 3, 9, 7, 9, 3, 1, 1, 1, 3, 7, 9, 3, 9, 1, 3, 1, 7, 1, 9, 3, 1, 7, 9, 3, 7, 3, 7, 3, 7, 9, 9, 1, 7, 3, 9, 7, 3, 9, 7, 3, 3, 1, 3, 9, 1, 7, 7, 3, 1, 7, 9, 3, 7, 1, 3, 7, 9, 1, 1, 9, 7, 9, 1, 1, 1, 3, 7, 3, 3, 3, 1, 1, 7, 3, 7, 7, 9, 1, 7, 1, 1, 3, 3, 7, 1, 7, 1, 9, 7, 7, 3, 7, 9, 1, 9, 9, 7, 9, 1, 3, 1, 1, 9, 3, 1, 7, 3, 3, 1, 9, 9, 9, 1, 7, 7, 1, 7, 3, 9, 3, 3, 1, 9, 7, 3, 3, 9, 3, 9, 1, 3, 3, 7, 1, 7, 3, 1, 7, 1, 9, 9, 3, 7, 9, 1, 1, 7, 1, 3, 3, 7, 1, 3, 9, 1, 1, 7, 3, 9, 1, 3, 7, 3, 9, 1, 7, 9, 1, 3, 1, 7, 7, 9, 9, 1, 9, 7, 9, 3, 9, 9, 1, 3, 7, 1, 7, 1, 7, 7, 9, 3, 1, 7, 9, 1, 1, 7, 1, 3, 7, 9, 3, 7, 3, 9, 1, 3, 9, 7, 3, 9, 7, 9, 3, 3, 9, 3, 7, 9, 3, 3, 1, 1, 1, 7, 1, 3, 3, 3, 7, 7, 7, 9, 7, 3, 1, 3, 9, 7, 1, 7, 1, 3, 9, 7, 9, 1, 7, 7, 3, 9, 7, 7, 1, 1, 3, 3, 7, 1, 9, 7, 9, 1, 7, 3, 9, 1, 1, 3, 7, 1, 3, 1, 1, 9, 7, 7, 9, 7, 1, 3, 9, 1, 7, 3, 9, 7, 3, 3, 7, 9, 3, 1, 7, 3, 3, 9, 9, 7, 7, 9, 9, 9, 1, 7, 3, 9, 3, 9, 3, 7, 3, 7, 1, 3, 9, 7, 3, 1, 9, 1, 1, 9, 3, 1, 9, 7, 1, 7, 3, 9, 7, 7, 1, 9, 9, 9, 3, 7, 1, 3, 1, 3, 9, 7, 1, 7, 9, 1, 1, 7, 9, 9, 1, 3, 3, 1, 7, 9, 3, 9, 1, 7, 3, 1, 7, 7, 9, 9, 1, 3, 7, 1, 1, 3, 9, 9, 1, 7, 7, 9, 1, 7, 9, 3, 9, 7, 7, 7, 9, 3, 3, 1, 1, 3, 7, 1, 3, 7, 1, 9, 3, 1, 9, 3, 9, 7, 9, 7, 3, 9, 7, 3, 7, 3, 1, 7, 3, 3, 1, 3, 9, 1, 3, 7, 1, 3, 9, 3, 9, 1, 9, 3, 1, 7, 7, 9, 3, 1, 3, 7, 3, 7, 3, 1, 7, 1, 1, 3, 7, 9, 9, 9, 7, 3, 7, 1, 1, 3, 7, 1, 1, 3, 7, 9, 1, 7, 7, 7, 7, 7, 3, 9, 7, 7, 1, 1, 9, 1, 7, 3, 7, 3, 9, 7, 3, 7, 9, 7, 3, 1, 9, 1, 1, 7, 9, 1, 3, 9, 3, 1, 3, 1, 7, 3, 3, 3, 9, 7, 3, 3, 1, 3, 9, 1, 3, 7, 1, 3, 1, 7, 7, 7, 7, 3, 9, 1, 7, 3, 3, 3, 1, 7, 1, 3, 9, 3, 7, 3, 1, 9, 9, 3, 7, 7, 1, 3, 7, 9, 9, 3, 9, 3, 3, 7, 1, 1, 7, 3, 1, 9, 3, 9, 1, 3, 1, 7, 9, 1, 1, 3, 7, 3, 1, 7, 9, 3, 1, 7, 9, 3, 3, 7, 7, 7, 9, 1, 3, 7, 3, 1, 3, 9, 1, 9, 7, 9, 7, 3, 9, 3, 7, 9, 9, 3, 3, 1, 7, 3, 1, 3, 1, 9, 3, 7, 1, 7, 3, 9, 1, 1, 9, 7, 3, 9, 1, 1, 3, 7, 7, 3, 7, 3, 9, 9, 7, 1, 9, 3, 9, 7, 9, 1, 3, 7, 9, 1, 9, 1, 7, 3, 3, 7, 1, 9, 3, 9, 3, 7, 9, 3, 1, 7, 9, 3, 1, 7, 1, 7, 7, 1, 3, 3, 7, 3, 9, 1, 3, 9, 1, 7, 1, 1, 9, 9, 1, 3, 3, 9, 9, 1, 7, 3, 7, 3, 7, 9, 9, 3, 7, 1, 7, 9, 1, 1, 3, 9, 9, 7, 1, 7, 9, 1, 3, 7, 9, 3, 1, 1, 1, 7, 1, 9, 7, 3, 9, 3, 7, 3, 7, 3, 9, 9, 1, 7, 1, 3, 7, 1, 7, 3, 3, 9, 3, 1, 3, 1, 7, 1, 7, 9, 9, 9, 1, 7, 1, 7, 3, 1, 7, 1, 7, 9, 1, 3, 7, 1, 7, 9, 7, 9, 9, 3, 9, 7, 9, 1, 9, 3, 1, 3, 9, 1, 9, 3, 7, 3, 3, 7, 1, 3, 1, 7, 9, 9, 7, 7, 9, 1, 9, 1, 9, 7, 1, 7, 3, 1, 3, 9, 1, 7, 9, 7, 1, 1, 3, 3, 9, 3, 3, 9, 3, 7, 3, 9, 1, 7, 3, 7, 7, 9, 1, 3, 7, 1, 3, 3, 7, 1, 9, 3, 9, 3, 7, 9, 1, 9, 1, 7, 9, 9, 1, 1, 3, 9, 9, 3, 1, 3, 9, 7, 1, 9, 1, 7, 9, 3, 7, 9, 9, 1, 1, 7, 1, 7, 3, 9, 9, 1, 3, 1, 3, 9, 7, 3, 9, 3, 7, 1, 7, 7, 1, 3, 9, 1, 7, 3, 7, 7, 9, 3, 9, 1, 3, 7, 1, 3, 7, 3, 3, 1, 7, 9, 7, 9, 3, 9, 3, 7, 1, 3, 1, 1, 7, 9, 7, 1, 1, 3, 3, 7, 7, 9, 7, 1, 7, 9, 3, 7, 7, 9, 1, 3, 9, 9, 1, 3, 9, 3, 3, 1, 9, 3, 9, 3, 3, 7, 1, 7, 9, 3, 9, 1, 9, 3, 1, 9, 1, 7, 3, 7, 9, 3, 9, 1, 1, 9, 9, 1, 9, 7, 1, 3, 3, 9, 7, 1, 7, 7, 1, 3, 7, 9, 9, 1, 3, 9, 1, 3, 1, 3, 7, 1, 7, 1, 7, 9, 3, 1, 7, 3, 7, 3, 9, 9, 3, 1, 7, 9, 7, 3, 7, 3, 7, 9, 9, 1, 3, 9, 7, 3, 1, 3, 1, 7, 7, 9, 3, 9, 7, 7, 1, 9, 9, 1, 1, 3, 7, 3, 9, 7, 1, 3, 9, 1, 3, 3, 7, 9, 9, 1, 1, 3, 1, 7, 9, 3, 9, 7, 3, 9, 3, 1, 3, 7, 7, 1, 3, 9, 1, 7, 3, 1, 1, 7, 1, 7, 7, 3, 3, 7, 3, 9, 1, 1, 7, 3, 1, 1, 3, 1, 7, 7, 3, 1, 7, 3, 3, 9, 3, 9, 7, 1, 7, 9, 9, 7, 1, 9, 9, 3, 3, 1, 1, 9, 9, 7, 7, 3, 1, 7, 9, 1, 1, 9, 3, 9, 7, 9, 1, 3, 7, 9, 7, 1, 1, 7, 9, 3, 1, 7, 9, 1, 9, 1, 3, 7, 3, 3, 9, 1, 3, 7, 1, 1, 7, 7, 9, 7, 9, 9, 1, 3, 3, 7, 9, 1, 3, 1, 3, 7, 9, 1, 7, 7, 7, 7, 1, 9, 9, 1, 3, 9, 3, 1, 7, 3, 3, 1, 9, 1, 3, 7, 7, 9, 1, 7, 1, 7, 9, 1, 3, 7, 9, 3, 7, 1, 9, 3, 7, 1, 9, 3, 7, 7, 3, 1, 3, 9, 7, 1, 1, 1, 9, 1, 3, 7, 7, 9, 9, 1, 7, 9, 3, 7, 1, 9, 1, 3, 7, 9, 1, 9, 7, 9, 3, 7, 1, 1, 7, 3, 3, 9, 1, 1, 1, 3, 9, 9, 9, 7, 7, 1, 3, 1, 7, 7, 9, 1, 7, 9, 3, 7, 9, 3, 7, 1, 3, 7, 7, 9, 7, 3, 1, 9, 7, 9, 9, 7, 1, 1, 3, 9, 7, 3, 1, 7, 9, 1, 7, 3, 9, 1, 7, 7, 1, 3, 3, 7, 9, 3, 1, 7, 3, 9, 9, 3, 9, 1, 7, 1, 3, 9, 1, 1, 3, 3, 1, 3, 7, 3, 7, 9, 9, 1, 9, 9, 1, 1, 9, 3, 9, 9, 1, 7, 7, 1, 3, 7, 9, 3, 9, 3, 1, 7, 1, 3, 9, 7, 9, 1, 3, 7, 9, 3, 7, 9, 1, 1, 7, 3, 9, 1, 7, 9, 9, 7, 3, 9, 3, 7, 9, 7, 1, 7, 3, 7, 3, 1, 1, 3, 3, 3, 1, 9, 1, 1, 9, 9, 1, 3, 9, 1, 7, 1, 7, 7, 7, 1, 7, 9, 3, 1, 1, 7, 9, 1, 7, 1, 7, 3, 3, 7, 9, 1, 3, 3, 1, 7, 9, 7, 9, 3, 9, 1, 1, 1, 3, 7, 3, 1, 7, 9, 1, 7, 3, 7, 3, 1, 7, 3, 9, 3, 9, 1, 3, 3, 3, 9, 1, 7, 3, 1, 9, 3, 1, 1, 7, 1, 7, 1, 1, 3, 3, 7, 3, 7, 7, 7, 9, 7, 9, 7, 1, 7, 9, 7, 1, 3, 7, 3, 1, 3, 3, 7, 3, 7, 3, 7, 9, 9, 7, 9, 3, 9, 9, 3, 7, 9, 7, 3, 1, 7, 1, 3, 3, 1, 9, 3, 3, 7, 3, 7, 7, 9, 3, 3, 7, 9, 1, 7, 3, 7, 1, 1, 3, 9, 1, 7, 3, 9, 7, 1, 9, 7, 1, 3, 3, 3, 7, 9, 3, 1, 7, 3, 9, 1, 3, 7, 9, 1, 3, 3, 9, 1, 1, 9, 3, 1, 7, 1, 9, 3, 9, 7, 1, 3, 9, 7, 1, 7, 7, 3, 9, 1, 9, 7, 3, 1, 3, 7, 3, 3, 7, 9, 1, 1, 9, 9, 9, 3, 3, 7, 3, 9, 1, 7, 9, 7, 7, 9, 1, 7, 3, 3, 9, 1, 3, 3, 3, 7, 9, 7, 1, 1, 3, 9, 3, 1, 7, 9, 9, 7, 1, 7, 9, 7, 9, 1, 7, 9, 7, 3, 1, 7, 9, 1, 1, 3, 7, 1, 7, 1, 9, 3, 3, 7, 3, 9, 9, 1, 1, 7, 9, 1, 7, 1, 3, 1, 7, 1, 3, 9, 9, 3, 9, 9, 3, 3, 1, 1, 3, 9, 9, 9, 1, 3, 3, 9, 7, 9, 1, 1, 3, 7, 9, 7, 3, 1, 1, 7, 3, 7, 1, 3, 7, 1, 3, 9, 7, 9, 7, 7, 3, 9, 1, 1, 9, 9, 1, 7, 9, 7, 3, 7, 3, 1, 3, 1, 7, 9, 3, 1, 9, 9, 3, 7, 7, 9, 7, 1, 3, 9, 3, 1, 7, 9, 3, 9, 9, 3, 9, 1, 1, 3, 9, 9, 3, 7, 9, 1, 9, 7, 1, 7, 7, 3, 7, 7, 9, 1, 9, 9, 9, 7, 9, 7, 7, 3, 7, 9, 1, 7, 7, 1, 3, 1, 3, 1, 3, 7, 1, 9, 9, 3, 1, 9, 3, 7, 9, 3, 9, 9, 1, 3, 3, 1, 7, 3, 9, 7, 3, 7, 9, 9, 1, 7, 7, 3, 7, 3, 7, 9, 1, 1, 3, 1, 1, 1, 9, 9, 1, 7, 7, 9, 3, 3, 9, 3, 7, 9, 9, 1, 7, 1, 3, 9, 7, 9, 9, 7, 1, 7, 7, 9, 3, 7, 1, 9, 1, 9, 3, 9, 1, 7, 1, 7, 1, 7, 7, 7, 9, 9, 3, 9, 1, 7, 3, 7, 1, 9, 1, 7, 3, 1, 7, 1, 9, 3, 7, 1, 9, 3, 7, 9, 3, 7, 1, 3, 9, 9, 3, 1, 7, 7, 3, 7, 3, 9, 7, 9, 3, 7, 9, 1, 1, 1, 3, 7, 1, 7, 1, 7, 1, 7, 1, 9, 3, 7, 3, 7, 9, 1, 9, 1, 3, 9, 1, 9, 3, 9, 1, 9, 1, 3, 3, 9, 1, 3, 7, 9, 3, 7, 9, 1, 7, 1, 3, 3, 9, 3, 1, 7, 7, 9, 9, 1, 1, 3, 7, 3, 3, 7, 9, 1, 3, 7, 7, 3, 9, 3, 7, 9, 9, 1, 1, 7, 1, 3, 1, 7, 3, 9, 3, 9, 9, 9, 3, 3, 7, 3, 1, 7, 9, 3, 9, 1, 7, 3, 9, 1, 3, 3, 7, 9, 9, 3, 7, 1, 3, 1, 1, 3, 1, 3, 7, 1, 7, 7, 1, 9, 1, 1, 7, 9, 7, 3, 7, 9, 9, 1, 7, 1, 3, 3, 9, 9, 9, 7, 9, 9, 7, 1, 9, 7, 3, 1, 1, 1, 7, 3, 3, 7, 9, 7, 9, 3, 1, 3, 7, 3, 9, 3, 1, 9, 3, 7, 7, 3, 1, 7, 9, 1, 7, 7, 1, 3, 9, 7, 3, 7, 3, 1, 9, 1, 7, 3, 1, 7, 1, 1, 7, 7, 3, 1, 7, 9, 3, 1, 7, 3, 9, 7, 3, 9, 1, 7, 9, 9, 3, 9, 3, 7, 9, 1, 7, 9, 1, 3, 9, 9, 3, 1, 3, 3, 9, 7, 3, 9, 7, 3, 3, 1, 7, 9, 7, 9, 9, 7, 9, 9, 1, 3, 1, 7, 7, 9, 1, 7, 1, 1, 3, 3, 9, 3, 7, 9, 9, 1, 3, 3, 7, 1, 9, 9, 3, 1, 7, 7, 1, 1, 9, 1, 7, 3, 7, 9, 1, 7, 1, 9, 9, 3, 7, 9, 3, 3, 7, 9, 3, 7, 9, 1, 1, 3, 3, 1, 3, 9, 7, 1, 9, 3, 1, 7, 3, 7, 9, 1, 3, 9, 7, 3, 9, 3, 7, 9, 1, 3, 3, 1, 1, 9, 3, 9, 1, 7, 3, 9, 1, 3, 9, 7, 7, 9, 1, 1, 9, 1, 9, 3, 7, 1, 9, 1, 7, 3, 7, 3, 1, 3, 9, 3, 1, 9, 3, 1, 3, 7, 9, 7, 1, 7, 1, 9, 3, 7, 3, 1, 3, 9, 3, 7, 7, 3, 1, 3, 7, 7, 3, 1, 3, 3, 1, 9, 3, 1, 7, 9, 9, 1, 3, 9, 7, 9, 7, 9, 1, 3, 9, 1, 9, 3, 9, 7, 3, 7, 9, 1, 1, 3, 7, 3, 7, 1, 1, 3, 3, 7, 7, 3, 9, 1, 7, 9, 3, 3, 7, 3, 7, 1, 7, 1, 7, 3, 3, 1, 7, 3, 3, 9, 9, 1, 7, 9, 3, 9, 1, 3, 3, 7, 1, 1, 1, 3, 7, 3, 9, 7, 3, 9, 7, 3, 9, 1, 7, 3, 9, 3, 9, 7, 9, 9, 7, 1, 3, 9, 7, 1, 1, 1, 1, 1, 3, 9, 3, 1, 3, 9, 1, 7, 7, 7, 1, 7, 9, 3, 1, 9, 3, 9, 1, 3, 1, 7, 1, 9, 1, 7, 1, 3, 9, 1, 1, 9, 7, 9, 1, 1, 7, 9, 7, 7, 3, 1, 1, 3, 7, 3, 7, 9, 1, 1, 7, 1, 7, 3, 9, 9, 1, 7, 9, 3, 9, 1, 3, 1, 7, 9, 3, 9, 3, 7, 9, 1, 1, 3, 7, 9, 7, 7, 9, 1, 1, 9, 9, 7, 3, 9, 9, 7, 9, 9, 1, 3, 7, 9, 9, 3, 1, 7, 1, 7, 1, 7, 7, 7, 3, 9, 7, 1, 1, 3, 3, 9, 9, 9, 1, 7, 9, 3, 7, 9, 9, 1, 3, 1, 7, 9, 7, 1, 3, 7, 7, 1, 7, 1, 7, 3, 9, 1, 1, 3, 7, 3, 9, 9, 7, 7, 3, 1, 1, 9, 1, 7, 9, 3, 7, 7, 3, 9, 1, 9, 9, 3, 1, 7, 1, 9, 1, 9, 1, 9, 1, 3, 7, 9, 1, 1, 7, 7, 1, 1, 7, 9, 3, 7, 9, 1, 3, 7, 9, 9, 3, 9, 3, 9, 7, 3, 7, 3, 1, 7, 3, 9, 1, 7, 9, 3, 1, 7, 9, 1, 1, 3, 9, 1, 3, 1, 7, 3, 9, 3, 3, 9, 7, 7, 3, 1, 7, 1, 3, 1, 1, 3, 3, 1, 1, 7, 9, 7, 9, 3, 7, 1, 3, 7, 1, 3, 7, 3, 9, 3, 7, 7, 7, 9, 7, 3, 9, 9, 7, 9, 7, 9, 3, 9, 7, 1, 7, 1, 9, 7, 1, 3, 7, 7, 7, 9, 9, 3, 9, 9, 7, 1, 1, 1, 9, 1, 7, 1, 7, 1, 3, 3, 9, 1, 7, 9, 3, 9, 3, 9, 1, 7, 3, 3, 1, 7, 1, 3, 9, 7, 9, 7, 3, 9, 1, 1, 7, 7, 3, 1, 7, 1, 9, 3, 1, 9, 3, 1, 1, 7, 9, 1, 1, 3, 9, 7, 3, 3, 9, 3, 9, 9, 3, 3, 7, 3, 1, 7, 9, 9, 1, 7, 7, 1, 3, 9, 3, 7, 1, 1, 9, 1, 3, 7, 9, 9, 7, 1, 3, 7, 9, 1, 3, 9, 3, 1, 7, 9, 9, 1, 7, 3, 7, 3, 1, 9, 1, 3, 7, 1, 3, 9, 9, 7, 3, 9, 1, 1, 1, 3, 1, 7, 7, 3, 9, 1, 1, 3, 7, 3, 1, 1, 7, 9, 7, 9, 7, 9, 9, 7, 1, 7, 3, 1, 3, 3, 7, 9, 1, 7, 7, 3, 7, 9, 3, 9, 7, 7, 3, 7, 7, 3, 7, 1, 9, 3, 1, 9, 1, 1, 3, 7, 7, 9, 9, 7, 1, 3, 9, 1, 3, 9, 7, 3, 7, 9, 3, 7, 7, 9, 1, 1, 3, 3, 7, 9, 7, 9, 9, 3, 1, 7, 3, 9, 7, 7, 9, 1, 7, 9, 9, 3, 9, 7, 1, 3, 9, 1, 7, 3, 3, 7, 7, 1, 3, 9, 3, 7, 9, 9, 7, 3, 1, 3, 9, 7, 1, 3, 9, 3, 9, 1, 7, 3, 7, 3, 3, 9, 1, 1, 7, 3, 7, 7, 9, 1, 7, 9, 9, 7, 9, 1, 1, 3, 7, 9, 3, 9, 3, 1, 7, 1, 7, 9, 9, 1, 3, 7, 3, 9, 3, 7, 3, 1, 3, 3, 9, 1, 7, 9, 1, 7, 1, 3, 3, 9, 9, 1, 3, 9, 1, 3, 7, 9, 3, 7, 9, 7, 9, 1, 3, 7, 7, 9, 1, 7, 1, 7, 3, 7, 9, 1, 3, 9, 1, 7, 1, 3, 9, 3, 9, 1, 9, 3, 9, 9, 1, 7, 3, 1, 7, 7, 9, 1, 1, 3, 9, 1, 9, 3, 1, 7, 7, 1, 9, 1, 3, 9, 1, 1, 7, 1, 9, 3, 9, 7, 7, 1, 9, 3, 1, 3, 9, 3, 9, 1, 7, 3, 1, 1, 3, 7, 3, 9, 9, 1, 3, 1, 7, 9, 3, 9, 7, 3, 9, 1, 7, 9, 7, 3, 9, 1, 7, 3, 1, 3, 9, 1, 1, 7, 9, 1, 1, 9, 7, 1, 9, 7, 3, 3, 7, 1, 7, 7, 9, 9, 9, 9, 3, 3, 9, 7, 1, 3, 7, 7, 1, 3, 7, 1, 7, 3, 7, 9, 9, 7, 1, 3, 7, 9, 3, 1, 3, 3, 7, 1, 7, 1, 9, 3, 9, 3, 9, 3, 7, 9, 9, 1, 3, 1, 1, 3, 9, 9, 7, 1, 3, 9, 7, 1, 3, 9, 1, 7, 9, 9, 1, 9, 1, 9, 9, 9, 1, 9, 9, 1, 1, 3, 9, 1, 7, 3, 9, 1, 7, 3, 7, 3, 7, 9, 3, 3, 9, 3, 1, 9, 3, 9, 9, 1, 7, 1, 1, 7, 3, 7, 3, 7, 7, 7, 9, 1, 7, 9, 7, 3, 1, 3, 3, 3, 7, 1, 1, 7, 9, 3, 1, 1, 9, 1, 1, 7, 3, 9, 7, 3, 9, 1, 7, 1, 3, 9, 7, 3, 9, 9, 3, 7, 9, 3, 3, 1, 1, 3, 7, 3, 7, 3, 1, 1, 7, 3, 1, 9, 3, 1, 3, 1, 7, 3, 9, 7, 7, 9, 1, 7, 9, 1, 3, 1, 7, 7, 1, 9, 3, 3, 1, 7, 7, 3, 9, 7, 9, 1, 3, 9, 7, 1, 3, 9, 7, 1, 9, 1, 3, 7, 1, 7, 9, 1, 3, 7, 3, 9, 1, 7, 9, 1, 3, 3, 1, 3, 9, 7, 9, 9, 3, 9, 7, 7, 9, 9, 3, 3, 7, 1, 7, 9, 3, 3, 3, 9, 1, 7, 7, 3, 3, 7, 1, 9, 1, 7, 9, 3, 1, 3, 3, 1, 7, 1, 9, 1, 7, 1, 1, 7, 1, 3, 9, 3, 9, 9, 1, 7, 3, 1, 7, 1, 9, 9, 9, 1, 7, 1, 3, 9, 9, 7, 1, 7, 3, 1, 1, 7, 9, 7, 7, 7, 7, 3, 1, 3, 7, 1, 7, 3, 3, 7, 9, 9, 1, 7, 3, 9, 9, 1, 3, 7, 1, 1, 3, 3, 9, 3, 9, 1, 3, 9, 3, 7, 7, 1, 3, 3, 7, 3, 9, 3, 7, 1, 1, 9, 9, 3, 7, 3, 7, 7, 9, 3, 1, 7, 3, 9, 1, 3, 1, 3, 3, 9, 3, 9, 3, 3, 9, 9, 7, 9, 7, 9, 9, 7, 9, 3, 1, 3, 9, 1, 1, 3, 7, 1, 7, 9, 1, 3, 9, 3, 1, 7, 7, 9, 1, 3, 9, 3, 9, 1, 7, 1, 9, 3, 9, 7, 1, 7, 9, 7, 3, 7, 9, 9, 1, 3, 9, 1, 3, 7, 7, 9, 3, 7, 1, 9, 1, 7, 7, 3, 7, 3, 9, 9, 3, 3, 1, 7, 3, 9, 7, 3, 1, 1, 3, 9, 1, 7, 9, 1, 3, 7, 9, 3, 7, 9, 3, 1, 9, 3, 7, 1, 9, 1, 7, 9, 1, 1, 3, 7, 7, 1, 7, 3, 3, 3, 3, 9, 9, 3, 1, 7, 1, 3, 9, 7, 9, 7, 3, 9, 1, 3, 3, 1, 9, 3, 9, 1, 9, 9, 7, 9, 1, 7, 9, 1, 1, 3, 7, 9, 7, 9, 1, 9, 7, 3, 1, 9, 1, 7, 9, 3, 9, 7, 3, 1, 7, 9, 9, 7, 9, 9, 9, 1, 3, 3, 1, 3, 9, 1, 3, 3, 9, 3, 7, 1, 9, 3, 1, 9, 9, 7, 1, 3, 1, 3, 1, 7, 1, 9, 9, 9, 9, 9, 1, 3, 7, 9, 1, 9, 1, 7, 3, 1, 9, 3, 3, 7, 1, 7, 3, 7, 3, 9, 1, 3, 9, 1, 1, 3, 9, 7, 9, 3, 1, 7, 9, 7, 7, 9, 3, 7, 3, 7, 3, 7, 1, 1, 9, 1, 7, 3, 9, 1, 7, 9, 7, 9, 3, 3, 9, 7, 1, 1, 7, 7, 1, 3, 3, 3, 9, 1, 9, 9, 1, 1, 1, 3, 7, 1, 1, 9, 3, 7, 3, 1, 1, 7, 1, 1, 7, 9, 7, 1, 3, 7, 1, 9, 1, 3, 3, 7, 1, 3, 9, 1, 3, 3, 1, 1, 1, 9, 1, 7, 9, 3, 7, 3, 7, 9, 1, 7, 3, 7, 1, 7, 7, 9, 3, 7, 7, 9, 9, 9, 1, 7, 1, 9, 9, 7, 1, 1, 3, 9, 3, 7, 9, 3, 3, 3, 7, 9, 7, 7, 1, 1, 9, 1, 1, 7, 1, 3, 9, 1, 9, 3, 3, 7, 9, 3, 7, 3, 9, 3, 1, 1, 9, 9, 1, 7, 1, 7, 1, 3, 7, 3, 1, 7, 9, 9, 1, 1, 7, 3, 7, 9, 3, 1, 1, 3, 1, 3, 1, 7, 1, 3, 7, 3, 9, 1, 7, 9, 9, 1, 7, 1, 7, 9, 9, 3, 9, 3, 9, 3, 3, 3, 1, 7, 3, 3, 9, 9, 1, 1, 9, 3, 9, 1, 3, 7, 1, 3, 9, 3, 7, 7, 1, 7, 9, 1, 7, 7, 9, 9, 3, 7, 9, 3, 3, 1, 7, 9, 1, 9, 1, 7, 9, 1, 7, 1, 9, 1, 1, 1, 3, 3, 9, 7, 9, 7, 9, 9, 7, 9, 1, 7, 3, 9, 3, 3, 9, 3, 7, 1, 3, 9, 7, 1, 1, 7, 1, 1, 3, 3, 9, 9, 3, 7, 1, 3, 7, 9, 3, 1, 3, 9, 1, 7, 9, 1, 1, 9, 7, 1, 7, 9, 7, 7, 1, 3, 3, 9, 7, 7, 7, 1, 9, 3, 3, 7, 7, 9, 9, 1, 1, 7, 3, 7, 3, 9, 3, 9, 7, 1, 7, 9, 7, 9, 9, 1, 1, 7, 9, 3, 7, 9, 7, 9, 3, 3, 9, 7, 1, 3, 9, 1, 9, 1, 7, 3, 3, 9, 7, 9, 1, 3, 9, 3, 7, 3, 7, 9, 9, 1, 1, 3, 7, 9, 7, 7, 1, 3, 3, 1, 9, 3, 3, 7, 1, 3, 9, 1, 7, 3, 1, 7, 1, 3, 3, 9, 3, 7, 3, 7, 1, 7, 3, 7, 1, 3, 9, 1, 3, 1, 3, 9, 1, 9, 7, 7, 9, 7, 3, 1, 1, 7, 9, 1, 3, 3, 9, 1, 1, 7, 3, 7, 9, 3, 7, 1, 1, 1, 1, 7, 9, 7, 3, 1, 1, 9, 9, 7, 1, 3, 7, 7, 1, 9, 9, 1, 7, 9, 9, 1, 3, 9, 3, 9, 1, 1, 7, 9, 3, 1, 1, 1, 7, 3, 3, 9, 7, 7, 1, 7, 1, 7, 3, 1, 1, 9, 1, 3, 9, 3, 7, 7, 3, 9, 1, 3, 1, 7, 1, 9, 9, 9, 1, 7, 3, 1, 7, 9, 9, 7, 3, 1, 1, 3, 9, 3, 7, 9, 7, 9, 1, 9, 1, 9, 7, 1, 3, 9, 7, 9, 3, 7, 9, 1, 9, 3, 9, 7, 1, 7, 3, 7, 3, 9, 1, 7, 9, 7, 7, 7, 1, 9, 1, 1, 3, 7, 3, 1, 3, 3, 7, 7, 9, 3, 7, 7, 3, 7, 9, 7, 3, 9, 1, 1, 1, 9, 9, 1, 7, 1, 9, 3, 7, 7, 9, 7, 7, 1, 3, 3, 1, 1, 9, 9, 1, 3, 1, 7, 3, 9, 3, 3, 7, 1, 3, 9, 1, 7, 3, 9, 3, 9, 3, 7, 7, 3, 7, 9, 7, 1, 7, 1, 3, 7, 9, 9, 3, 9, 1, 9, 3, 1, 9, 1, 9, 3, 7, 3, 9, 7, 9, 3, 1, 3, 7, 9, 1, 7, 9, 3, 1, 9, 1, 3, 7, 3, 9, 1, 3, 9, 7, 1, 1, 7, 9, 9, 7, 3, 1, 1, 9, 7, 1, 7, 9, 7, 3, 9, 3, 3, 9, 7, 1, 9, 1, 3, 9, 9, 1, 3, 3, 9, 3, 3, 3, 9, 7, 7, 3, 7, 7, 9, 1, 1, 7, 9, 9, 3, 7, 7, 1, 9, 7, 3, 7, 9, 9, 3, 9, 1, 1, 1, 3, 3, 1, 7, 3, 7, 3, 1, 3, 1, 3, 1, 9, 1, 3, 3, 9, 9, 1, 3, 7, 7, 3, 9, 1, 7, 9, 7, 1, 3, 9, 3, 1, 3, 7, 9, 7, 1, 1, 7, 9, 1, 1, 3, 3, 7, 1, 7, 3, 7, 1, 7, 3, 7, 3, 3, 7, 9, 1, 1, 9, 1, 3, 3, 9, 1, 3, 9, 7, 9, 9, 3, 3, 1, 9, 9, 7, 1, 1, 3, 7, 1, 7, 3, 7, 1, 3, 9, 9, 9, 7, 1, 7, 3, 9, 3, 9, 1, 7, 9, 3, 7, 9, 3, 1, 9, 9, 1, 3, 1, 1, 3, 7, 1, 9, 3, 9, 7, 9, 7, 1, 9, 3, 9, 1, 7, 3, 9, 9, 7, 7, 3, 9, 3, 7, 3, 7, 1, 3, 7, 1, 9, 9, 1, 1, 3, 7, 1, 1, 9, 9, 1, 7, 9, 7, 1, 7, 7, 3, 9, 7, 3, 9, 9, 3, 1, 1, 3, 7, 1, 1, 3, 1, 1, 3, 7, 1, 9, 3, 9, 7, 7, 1, 7, 3, 9, 3, 7, 3, 7, 9, 3, 3, 1, 3, 7, 1, 3, 1, 3, 7, 9, 9, 1, 7, 9, 9, 9, 9, 1, 7, 3, 1, 9, 1, 7, 1, 3, 3, 9, 3, 9, 1, 3, 3, 7, 1, 9, 1, 9, 1, 7, 7, 9, 7, 9, 7, 9, 3, 7, 3, 1, 1, 7, 1, 3, 3, 3, 9, 1, 7, 7, 9, 1, 3, 9, 3, 1, 3, 9, 1, 7, 3, 1, 1, 3, 7, 9, 7, 3, 1, 7, 3, 9, 7, 3, 9, 3, 7, 9, 7, 9, 7, 1, 3, 1, 1, 3, 7, 3, 9, 1, 7, 3, 7, 1, 3, 9, 1, 3, 7, 9, 7, 1, 9, 3, 7, 7, 3, 9, 3, 9, 1, 3, 7, 7, 9, 1, 9, 1, 3, 7, 3, 9, 1, 7, 1, 9, 9, 1, 9, 7, 1, 9, 3, 9, 7, 1, 7, 9, 7, 1, 3, 7, 1, 3, 9, 1, 7, 3, 1, 3, 7, 1, 3, 1, 7, 9, 9, 3, 1, 1, 3, 1, 9, 3, 1, 7, 3, 9, 1, 3, 9, 1, 9, 1, 3, 1, 7, 9, 9, 1, 1, 3, 7, 1, 3, 9, 1, 7, 9, 3, 7, 9, 1, 1, 3, 1, 7, 3, 7, 3, 3, 9, 7, 3, 1, 7, 1, 1, 7, 9, 7, 9, 9, 3, 9, 1, 1, 1, 3, 9, 9, 3, 7, 9, 1, 3, 7, 9, 7, 9, 7, 9, 7, 1, 3, 7, 1, 3, 1, 3, 9, 7, 9, 3, 1, 9, 9, 3, 1, 7, 3, 3, 9, 1, 7, 3, 9, 9, 9, 7, 3, 9, 3, 9, 1, 7, 1, 7, 1, 9, 1, 7, 1, 7, 9, 3, 7, 9, 1, 3, 3, 1, 3, 9, 1, 9, 9, 9, 1, 9, 7, 9, 3, 3, 9, 1, 1, 3, 9, 1, 3, 9, 1, 3, 1, 9, 9, 1, 7, 3, 9, 1, 1, 3, 7, 9, 3, 3, 9, 1, 1, 3, 7, 1, 7, 9, 9, 9, 9, 1, 1, 9, 1, 3, 9, 7, 3, 3, 9, 9, 1, 3, 9, 3, 7, 1, 3, 7, 9, 1, 3, 1, 1, 7, 3, 1, 7, 9, 9, 7, 9, 7, 1, 1, 7, 7, 9, 9, 1, 3, 1, 3, 7, 7, 1, 3, 9, 9, 7, 3, 1, 7, 1, 9, 1, 7, 1, 1, 7, 1, 3, 7, 3, 9, 3, 7, 3, 9, 9, 7, 3, 7, 9, 1, 7, 9, 1, 7, 3, 1, 7, 9, 3, 7, 9, 3, 9, 3, 9, 7, 3, 1, 7, 9, 1, 1, 7, 9, 9, 7, 1, 3, 3, 9, 1, 1, 7, 7, 7, 9, 9, 9, 7, 3, 7, 7, 1, 3, 3, 1, 7, 9, 1, 7, 9, 3, 3, 7, 7, 1, 7, 9, 1, 7, 7, 3, 7, 9, 1, 7, 3, 7, 9, 9, 3, 7, 9, 3, 7, 1, 3, 9, 1, 3, 3, 9, 3, 7, 7, 9, 1, 7, 3, 1, 7, 7, 9, 3, 9, 7, 1, 7, 3, 3, 7, 9, 3, 1, 1, 1, 3, 3, 7, 7, 1, 3, 9, 7, 3, 7, 1, 7, 3, 9, 1, 7, 3, 1, 9, 3, 7, 3, 9, 9, 3, 9, 7, 9, 1, 7, 3, 1, 3, 9, 3, 3, 1, 1, 9, 9, 1, 3, 3, 9, 3, 3, 1, 7, 3, 3, 9, 1, 7, 9, 1, 1, 3, 7, 7, 3, 9, 7, 3, 9, 7, 1, 3, 7, 1, 9, 9, 9, 1, 3, 7, 9, 9, 3, 3, 3, 1, 7, 9, 3, 1, 1, 7, 9, 7, 3, 9, 9, 1, 7, 9, 1, 7, 1, 3, 9, 1, 1, 3, 7, 1, 3, 7, 1, 7, 3, 7, 3, 9, 7, 3, 7, 9, 1, 7, 3, 7, 3, 7, 3, 1, 1, 3, 9, 7, 3, 9, 3, 1, 7, 9, 1, 1, 3, 9, 3, 3, 7, 1, 7, 7, 1, 9, 1, 9, 1, 3, 3, 7, 1, 9, 7, 3, 7, 3, 7, 9, 1, 7, 9, 1, 3, 1, 3, 7, 9, 7, 9, 1, 9, 3, 1, 7, 3, 9, 3, 1, 3, 9, 3, 3, 3, 7, 3, 9, 3, 3, 9, 3, 1, 9, 3, 1, 1, 9, 9, 1, 3, 9, 7, 3, 1, 9, 3, 1, 9, 3, 9, 7, 1, 7, 1, 7, 1, 9, 3, 7, 1, 7, 1, 7, 9, 7, 3, 7, 9, 9, 7, 1, 7, 3, 9, 1, 3, 9, 7, 9, 1, 9, 3, 3, 3, 9, 3, 1, 3, 9, 3, 3, 7, 9, 9, 3, 7, 3, 7, 1, 3, 9, 1, 7, 9, 1, 7, 7, 3, 7, 3, 9, 7, 9, 1, 3, 1, 7, 1, 7, 3, 3, 7, 3, 1, 7, 9, 3, 3, 7, 9, 1, 1, 9, 1, 3, 7, 3, 1, 1, 3, 9, 7, 7, 9, 1, 1, 9, 3, 3, 7, 1, 9, 1, 7, 9, 9, 7, 9, 1, 9, 7, 3, 9, 3, 1, 7, 9, 1, 7, 3, 1, 3, 9, 1, 7, 1, 9, 7, 7, 9, 3, 9, 7, 9, 1, 1, 9, 9, 9, 7, 3, 9, 7, 3, 7, 7, 1, 9, 1, 9, 7, 7, 3, 3, 7, 7, 9, 3, 9, 3, 9, 1, 1, 7, 3, 3, 7, 3, 1, 3, 7, 1, 3, 7, 9, 3, 9, 7, 9, 1, 7, 9, 1, 9, 3, 1, 7, 7, 3, 7, 9, 3, 3, 9, 3, 1, 7, 3, 7, 7, 1, 7, 3, 7, 9, 3, 9, 1, 1, 3, 7, 9, 7, 9, 7, 1, 3, 9, 3, 9, 9, 1, 1, 3, 3, 9, 3, 7, 7, 9, 3, 7, 9, 3, 1, 7, 3, 1, 1, 7, 9, 3, 7, 7, 1, 9, 3, 9, 7, 9, 9, 3, 3, 3, 7, 3, 7, 3, 9, 1, 7, 1, 9, 9, 7, 7, 7, 7, 9, 3, 7, 1, 1, 3, 7, 9, 9, 1, 1, 3, 9, 7, 9, 3, 7, 1, 9, 3, 7, 3, 9, 1, 7, 9, 9, 1, 9, 9, 1, 7, 3, 7, 9, 3, 9, 1, 3, 3, 1, 9, 1, 3, 9, 3, 9, 7, 1, 1, 7, 7, 9, 9, 3, 9, 9, 3, 1, 1, 7, 9, 1, 3, 7, 1, 9, 1, 3, 1, 3, 7, 9, 1, 3, 1, 9, 7, 7, 1, 3, 7, 3, 9, 7, 3, 9, 7, 3, 1, 1, 1, 7, 9, 9, 1, 9, 9, 3, 3, 1, 7, 3, 7, 1, 1, 9, 1, 3, 1, 1, 9, 1, 7, 7, 3, 7, 9, 3, 9, 7, 1, 3, 9, 9, 1, 1, 1, 7, 9, 7, 1, 7, 9, 7, 1, 3, 7, 1, 3, 1, 7, 7, 7, 1, 3, 7, 9, 9, 3, 3, 1, 7, 3, 1, 7, 9, 3, 9, 3, 1, 1, 7, 1, 7, 9, 3, 9, 7, 1, 3, 7, 1, 3, 7, 1, 3, 1, 3, 7, 3, 9, 7, 9, 9, 1, 7, 3, 3, 9, 3, 7, 3, 1, 7, 3, 9, 9, 7, 1, 9, 1, 7, 9, 1, 3, 9, 1, 7, 1, 3, 7, 3, 1, 7, 9, 3, 7, 1, 7, 3, 7, 1, 3, 7, 3, 3, 9, 7, 3, 9, 7, 7, 1, 7, 7, 9, 9, 9, 7, 1, 7, 3, 1, 1, 9, 9, 3, 9, 1, 3, 1, 7, 9, 3, 9, 7, 3, 1, 1, 3, 9, 9, 1, 7, 9, 1, 9, 9, 1, 7, 7, 1, 1, 9, 1, 3, 9, 9, 7, 7, 1, 7, 7, 7, 3, 3, 9, 1, 7, 1, 9, 3, 7, 7, 1, 1, 7, 7, 3, 3, 1, 1, 1, 3, 1, 3, 3, 9, 7, 1, 7, 7, 3, 7, 3, 9, 7, 1, 3, 3, 9, 1, 7, 3, 7, 1, 9, 1, 7, 1, 9, 9, 1, 1, 7, 9, 3, 1, 3, 9, 7, 9, 9, 3, 7, 9, 1, 3, 7, 9, 1, 3, 1, 7, 3, 9, 7, 9, 3, 9, 1, 9, 3, 1, 7, 9, 9, 7, 1, 1, 7, 3, 7, 3, 7, 3, 1, 3, 1, 7, 9, 9, 7, 1, 3, 3, 9, 3, 1, 1, 1, 9, 9, 3, 7, 9, 1, 3, 7, 1, 3, 9, 1, 1, 7, 9, 1, 7, 7, 9, 3, 9, 1, 1, 1, 1, 1, 3, 9, 7, 7, 3, 9, 9, 7, 7, 1, 3, 9, 1, 3, 7, 9, 3, 9, 7, 3, 7, 1, 7, 3, 1, 9, 1, 7, 1, 3, 3, 7, 7, 3, 1, 9, 7, 1, 3, 7, 1, 9, 3, 7, 1, 7, 7, 9, 1, 3, 7, 3, 7, 7, 9, 1, 9, 9, 3, 9, 1, 1, 7, 3, 9, 7, 1, 3, 7, 3, 7, 1, 7, 3, 1, 1, 3, 3, 1, 1, 7, 9, 1, 9, 7, 1, 9, 1, 3, 9, 9, 9, 1, 1, 3, 9, 1, 3, 3, 7, 3, 7, 1, 7, 3, 9, 1, 7, 1, 3, 7, 9, 3, 3, 9, 1, 7, 1, 3, 7, 9, 3, 7, 3, 7, 1, 9, 7, 9, 7, 1, 9, 3, 7, 3, 1, 7, 3, 9, 1, 1, 9, 9, 7, 1, 3, 1, 1, 9, 3, 7, 9, 7, 7, 9, 3, 7, 3, 3, 3, 9, 3, 7, 9, 1, 1, 3, 9, 7, 3, 9, 1, 3, 3, 9, 1, 3, 7, 1, 7, 3, 1, 7, 9, 1, 1, 7, 1, 7, 7, 3, 9, 7, 9, 1, 3, 9, 1, 7, 3, 9, 3, 7, 9, 1, 9, 9, 1, 7, 3, 1, 1, 3, 7, 3, 7, 3, 9, 1, 3, 9, 1, 3, 1, 1, 3, 7, 3, 7, 9, 7, 9, 9, 1, 1, 3, 9, 3, 9, 1, 3, 1, 3, 9, 3, 9, 1, 1, 3, 7, 3, 3, 7, 7, 9, 3, 9, 7, 1, 9, 1, 9, 1, 7, 3, 9, 7, 1, 9, 3, 9, 7, 3, 9, 9, 7, 1, 3, 1, 7, 9, 9, 1, 1, 9, 3, 9, 9, 1, 9, 9, 1, 7, 1, 7, 3, 7, 1, 7, 9, 1, 3, 7, 3, 9, 1, 1, 7, 3, 9, 3, 7, 1, 1, 7, 9, 1, 1, 3, 7, 3, 3, 7, 9, 1, 9, 3, 7, 3, 7, 1, 9, 1, 3, 3, 1, 3, 1, 3, 7, 1, 7, 1, 9, 7, 3, 9, 1, 3, 9, 1, 7, 9, 9, 7, 7, 1, 7, 7, 3, 9, 1, 1, 7, 1, 1, 3, 3, 1, 1, 7, 1, 7, 3, 9, 3, 7, 9, 7, 1, 3, 9, 1, 3, 9, 3, 9, 1, 7, 9, 7, 3, 9, 7, 3, 1, 9, 1, 9, 1, 1, 3, 7, 3, 1, 3, 9, 9, 1, 1, 1, 7, 7, 9, 7, 9, 9, 1, 1, 9, 7, 9, 3, 3, 1, 7, 3, 1, 7, 1, 3, 7, 9, 1, 1, 9, 9, 7, 7, 1, 1, 7, 9, 3, 7, 1, 7, 9, 9, 1, 7, 3, 7, 3, 7, 1, 7, 3, 3, 9, 7, 7, 9, 7, 1, 3, 9, 3, 7, 7, 3, 9, 3, 7, 7, 9, 3, 9, 1, 7, 9, 1, 7, 7, 1, 3, 3, 9, 1, 1, 3, 3, 9, 1, 3, 9, 1, 9, 9, 1, 3, 7, 1, 7, 1, 3, 1, 1, 7, 9, 1, 7, 3, 1, 1, 3, 9, 7, 3, 7, 9, 1, 7, 1, 7, 9, 3, 9, 1, 7, 7, 9, 9, 3, 1, 1, 7, 3, 1, 9, 3, 7, 3, 7, 7, 3, 9, 1, 7, 3, 9, 1, 9, 1, 3, 3, 3, 9, 3, 9, 1, 3, 3, 3, 1, 9, 9, 7, 1, 7, 3, 7, 1, 3, 1, 7, 3, 3, 9, 9, 7, 3, 1, 7, 7, 9, 9, 1, 7, 7, 3, 7, 3, 7, 3, 1, 3, 1, 9, 3, 7, 7, 9, 1, 7, 1, 3, 9, 1, 3, 7, 9, 3, 1, 3, 1, 3, 7, 9, 3, 1, 7, 7, 9, 3, 9, 3, 7, 9, 3, 9, 9, 1, 7, 3, 9, 9, 7, 1, 1, 7, 7, 9, 3, 9, 1, 9, 9, 1, 1, 7, 1, 7, 1, 7, 7, 3, 1, 1, 7, 3, 7, 9, 3, 3, 9, 9, 1, 1, 1, 3, 3, 9, 7, 9, 3, 1, 3, 9, 7, 7, 3, 1, 1, 3, 3, 1, 3, 9, 3, 1, 9, 1, 9, 3, 1, 1, 9, 7, 1, 7, 3, 9, 7, 3, 1, 7, 1, 9, 1, 7, 9, 1, 3, 7, 1, 1, 3, 3, 7, 3, 7, 1, 9, 7, 3, 9, 9, 1, 9, 1, 7, 9, 7, 1, 3, 9, 7, 3, 1, 9, 7, 1, 7, 3, 1, 1, 3, 3, 9, 7, 9, 7, 1, 3, 3, 7, 3, 7, 3, 1, 9, 1, 3, 9, 7, 9, 9, 1, 9, 9, 7, 9, 1, 3, 1, 7, 9, 1, 3, 1, 9, 9, 3, 3, 1, 7, 3, 1, 7, 3, 3, 3, 1, 7, 3, 7, 7, 9, 7, 9, 7, 9, 3, 9, 7, 1, 1, 7, 1, 1, 3, 1, 3, 7, 9, 9, 3, 1, 7, 3, 7, 3, 9, 9, 1, 3, 1, 3, 9, 9, 1, 7, 9, 3, 1, 3, 7, 3, 9, 7, 9, 1, 7, 3, 3, 3, 9, 3, 9, 1, 7, 7, 1, 9, 1, 9, 3, 1, 7, 9, 7, 3, 9, 7, 9, 7, 9, 1, 3, 9, 1, 9, 9, 3, 9, 3, 1, 1, 1, 9, 3, 9, 1, 1, 3, 7, 1, 9, 7, 3, 7, 9, 7, 9, 7, 9, 3, 1, 7, 1, 3, 9, 9, 1, 3, 9, 7, 1, 7, 3, 9, 3, 7, 7, 3, 7, 9, 9, 3, 7, 1, 3, 1, 1, 9, 3, 3, 7, 9, 7, 9, 1, 1, 7, 7, 9, 3, 3, 9, 7, 3, 1, 7, 7, 3, 9, 1, 1, 3, 9, 9, 1, 9, 3, 7, 9, 1, 7, 3, 3, 7, 3, 7, 1, 9, 7, 1, 7, 3, 3, 3, 9, 1, 1, 3, 9, 1, 3, 3, 9, 9, 7, 3, 7, 3, 3, 7, 1, 7, 1, 9, 1, 3, 7, 9, 1, 3, 3, 7, 9, 9, 7, 9, 3, 7, 7, 3, 1, 7, 7, 1, 9, 1, 3, 9, 9, 1, 3, 7, 1, 9, 7, 7, 9, 3, 1, 9, 1, 3, 3, 7, 1, 3, 9, 7, 3, 1, 7, 7, 9, 1, 3, 3, 7, 3, 9, 1, 7, 3, 1, 3, 9, 7, 1, 3, 3, 1, 1, 3, 7, 1, 9, 7, 9, 9, 3, 1, 9, 7, 1, 7, 9, 3, 7, 9, 1, 3, 9, 1, 7, 3, 7, 1, 7, 9, 1, 7, 3, 7, 3, 1, 7, 1, 9, 9, 1, 3, 1, 7, 1, 3, 3, 3, 7, 9, 7, 3, 9, 3, 7, 9, 1, 7, 3, 9, 1, 7, 3, 1, 7, 7, 1, 3, 9, 9, 9, 1, 3, 9, 7, 1, 9, 3, 9, 9, 3, 7, 9, 3, 9, 1, 9, 1, 3, 1, 1, 3, 9, 3, 9, 1, 1, 3, 9, 3, 1, 1, 7, 9, 7, 9, 1, 9, 9, 1, 7, 3, 3, 3, 7, 7, 1, 7, 1, 7, 1, 3, 9, 9, 1, 3, 9, 1, 7, 9, 7, 1, 9, 7, 1, 3, 7, 9, 9, 3, 1, 3, 7, 1, 3, 1, 7, 1, 9, 9, 9, 7, 1, 7, 7, 3, 9, 3, 7, 3, 7, 9, 1, 3, 9, 1, 9, 3, 9, 1, 7, 7, 9, 3, 7, 7, 3, 7, 1, 7, 9, 3, 9, 3, 9, 7, 1, 3, 7, 1, 9, 3, 7, 9, 1, 7, 1, 3, 7, 3, 9, 7, 9, 3, 1, 7, 7, 9, 9, 9, 3, 1, 7, 3, 7, 1, 1, 3, 3, 7, 7, 9, 7, 3, 9, 7, 3, 3, 7, 3, 1, 7, 9, 1, 3, 9, 7, 1, 9, 1, 3, 3, 1, 1, 7, 9, 3, 3, 9, 3, 1, 7, 9, 7, 7, 9, 7, 1, 3, 7, 9, 3, 7, 3, 7, 1, 3, 1, 7, 1, 7, 7, 9, 3, 3, 9, 7, 9, 3, 9, 1, 7, 3, 9, 1, 3, 9, 7, 9, 1, 1, 3, 1, 7, 1, 9, 3, 3, 7, 9, 7, 1, 7, 9, 9, 7, 3, 7, 1, 9, 9, 1, 9, 7, 3, 3, 7, 3, 3, 7, 9, 9, 9, 1, 7, 1, 3, 3, 9, 7, 1, 3, 1, 1, 9, 1, 7, 3, 7, 9, 1, 1, 7, 9, 1, 7, 1, 3, 3, 7, 1, 7, 9, 3, 9, 7, 3, 9, 7, 9, 1, 1, 3, 9, 1, 7, 7, 1, 1, 7, 3, 9, 7, 3, 9, 9, 1, 7, 1, 7, 3, 3, 9, 7, 3, 1, 1, 9, 1, 7, 9, 7, 3, 7, 7, 3, 1, 1, 3, 1, 9, 1, 1, 3, 1, 1, 3, 7, 1, 7, 3, 3, 7, 3, 9, 7, 1, 9, 9, 9, 9, 7, 9, 1, 1, 1, 7, 9, 7, 3, 7, 7, 3, 3, 3, 9, 1, 9, 7, 7, 1, 1, 9, 3, 1, 7, 1, 9, 7, 9, 3, 1, 9, 9, 3, 7, 9, 7, 9, 3, 9, 3, 9, 3, 7, 7, 3, 1, 7, 7, 9, 1, 3, 9, 1, 1, 3, 7, 9, 7, 3, 7, 1, 7, 9, 1, 3, 9, 1, 7, 3, 7, 3, 7, 9, 3, 1, 7, 9, 3, 1, 7, 9, 1, 9, 9, 1, 1, 7, 7, 3, 9, 1, 9, 3, 7, 9, 3, 1, 7, 3, 9, 9, 7, 3, 7, 9, 7, 3, 3, 3, 3, 9, 1, 7, 1, 3, 9, 7, 9, 1, 7, 7, 3, 3, 9, 1, 3, 9, 1, 7, 7, 1, 7, 9, 3, 7, 3, 1, 9, 3, 9, 1, 9, 7, 1, 9, 9, 1, 7, 3, 9, 1, 9, 1, 3, 7, 1, 7, 1, 3, 3, 9, 3, 7, 9, 7, 7, 1, 7, 7, 3, 1, 7, 3, 7, 3, 7, 9, 9, 7, 7, 7, 3, 1, 3, 7, 3, 7, 9, 1, 9, 3, 1, 1, 9, 3, 9, 1, 9, 1, 7, 1, 3, 7, 3, 7, 7, 1, 9, 9, 1, 3, 1, 7, 9, 7, 1, 3, 9, 7, 3, 9, 1, 7, 9, 3, 7, 9, 1, 1, 7, 3, 9, 3, 1, 7, 9, 9, 7, 1, 1, 7, 9, 3, 1, 7, 3, 7, 3, 7, 9, 3, 7, 9, 7, 3, 7, 1, 9, 1, 9, 7, 1, 3, 7, 9, 3, 7, 1, 1, 7, 9, 7, 1, 9, 3, 7, 9, 1, 7, 1, 3, 9, 9, 3, 1, 3, 3, 7, 1, 7, 7, 9, 3, 9, 7, 3, 1, 7, 3, 7, 9, 1, 1, 9, 1, 3, 1, 3, 9, 3, 1, 7, 9, 1, 7, 9, 9, 7, 7, 1, 1, 3, 9, 1, 3, 9, 7, 3, 7, 1, 7, 9, 1, 3, 9, 7, 9, 7, 1, 9, 3, 3, 1, 1, 7, 9, 3, 3, 1, 7, 9, 1, 9, 3, 9, 1, 3, 1, 1, 7, 1, 3, 7, 3, 1, 7, 9, 3, 1, 1, 7, 9, 7, 7, 7, 3, 3, 9, 7, 7, 7, 3, 9, 7, 9, 1, 7, 9, 1, 1, 3, 7, 1, 3, 3, 3, 1, 7, 9, 1, 9, 1, 7, 3, 9, 1, 7, 1, 3, 7, 9, 9, 7, 3, 3, 7, 3, 9, 1, 3, 9, 7, 1, 7, 9, 7, 7, 7, 9, 9, 7, 3, 1, 9, 1, 9, 1, 1, 3, 9, 1, 9, 1, 1, 9, 1, 9, 1, 7, 1, 1, 3, 7, 9, 1, 7, 3, 7, 1, 3, 1, 7, 3, 9, 3, 7, 7, 1, 3, 9, 3, 7, 9, 9, 9, 1, 3, 9, 1, 1, 3, 1, 7, 3, 7, 7, 9, 1, 1, 9, 7, 3, 7, 3, 1, 3, 7, 9, 1, 1, 7, 9, 3, 7, 9, 3, 7, 1, 9, 9, 3, 9, 1, 3, 3, 3, 9, 3, 1, 9, 3, 9, 9, 1, 3, 7, 9, 1, 3, 7, 1, 1, 7, 3, 7, 9, 9, 7, 3, 7, 3, 9, 3, 9, 1, 3, 7, 3, 9, 1, 9, 3, 9, 3, 1, 3, 7, 7, 3, 1, 1, 3, 1, 3, 3, 1, 7, 9, 1, 3, 1, 9, 3, 7, 3, 1, 7, 9, 3, 7, 7, 9, 7, 3, 9, 7, 7, 7, 1, 9, 9, 7, 3, 9, 1, 9, 3, 7, 9, 1, 7, 9, 9, 1, 1, 7, 1, 7, 3, 1, 7, 3, 7, 3, 7, 9, 1, 1, 3, 7, 9, 7, 9, 7, 1, 9, 9, 1, 1, 9, 1, 1, 7, 3, 9, 1, 3, 1, 9, 1, 7, 3, 7, 3, 7, 1, 3, 9, 7, 7, 3, 9, 3, 1, 7, 9, 9, 7, 9, 1, 1, 9, 3, 9, 7, 1, 7, 7, 3, 3, 7, 3, 7, 9, 9, 1, 3, 9, 3, 3, 7, 3, 1, 7, 1, 3, 9, 7, 9, 9, 1, 9, 1, 7, 3, 7, 9, 3, 1, 9, 3, 9, 7, 1, 3, 1, 7, 3, 3, 7, 3, 3, 9, 1, 3, 7, 7, 3, 9, 1, 7, 3, 9, 9, 1, 7, 1, 9, 1, 1, 3, 9, 9, 3, 7, 9, 3, 9, 1, 7, 9, 9, 1, 1, 9, 1, 1, 9, 3, 3, 1, 3, 9, 3, 3, 3, 1, 7, 9, 9, 3, 9, 1, 9, 1, 7, 7, 3, 9, 3, 3, 9, 7, 9, 1, 3, 9, 3, 7, 9, 3, 7, 7, 3, 7, 9, 7, 1, 7, 3, 1, 9, 3, 1, 9, 7, 1, 3, 7, 3, 9, 1, 9, 7, 7, 1, 7, 7, 3, 7, 9, 1, 1, 3, 7, 3, 9, 1, 7, 7, 3, 7, 3, 9, 7, 1, 1, 3, 9, 1, 9, 9, 3, 3, 9, 7, 7, 7, 1, 9, 9, 3, 3, 9, 9, 9, 1, 3, 7, 1, 3, 9, 7, 9, 7, 1, 3, 9, 7, 3, 7, 1, 7, 1, 3, 7, 7, 9, 3, 9, 1, 7, 1, 7, 1, 7, 1, 7, 1, 3, 1, 7, 7, 9, 1, 9, 9, 7, 3, 9, 3, 1, 7, 3, 9, 7, 3, 7, 1, 3, 7, 9, 1, 3, 7, 3, 3, 7, 9, 3, 1, 9, 9, 7, 3, 7, 1, 7, 3, 9, 1, 7, 9, 9, 7, 1, 3, 7, 9, 7, 9, 3, 7, 1, 1, 3, 9, 1, 9, 7, 9, 3, 9, 9, 7, 9, 1, 7, 9, 1, 1, 1, 7, 3, 1, 9, 1, 7, 9, 3, 3, 7, 9, 7, 7, 9, 1, 3, 1, 9, 3, 7, 1, 7, 7, 7, 9, 9, 1, 1, 3, 3, 1, 7, 7, 1, 3, 3, 1, 1, 9, 7, 3, 1, 9, 9, 3, 1, 3, 7, 1, 3, 7, 1, 9, 9, 1, 7, 3, 9, 3, 7, 1, 1, 9, 1, 3, 7, 1, 7, 1, 1, 7, 3, 9, 3, 3, 9, 1, 7, 7, 3, 9, 7, 3, 1, 7, 9, 7, 1, 9, 7, 9, 9, 1, 3, 9, 3, 9, 3, 1, 1, 1, 7, 3, 9, 7, 3, 9, 7, 9, 3, 7, 9, 1, 7, 3, 1, 7, 1, 3, 9, 1, 9, 9, 1, 7, 9, 3, 1, 1, 3, 9, 7, 3, 3, 7, 3, 9, 3, 7, 1, 3, 9, 1, 9, 7, 1, 1, 7, 3, 9, 9, 7, 3, 1, 3, 7, 1, 1, 3, 3, 9, 1, 7, 3, 9, 9, 1, 3, 3, 9, 3, 3, 9, 7, 3, 7, 1, 9, 7, 7, 9, 9, 1, 9, 1, 3, 7, 1, 7, 1, 9, 7, 9, 3, 1, 3, 7, 9, 7, 1, 7, 3, 3, 1, 7, 3, 1, 9, 1, 7, 9, 9, 9, 3, 9, 1, 3, 9, 1, 7, 9, 9, 3, 3, 1, 1, 7, 1, 3, 1, 7, 3, 9, 3, 9, 1, 9, 9, 9, 7, 3, 1, 9, 3, 7, 9, 3, 9, 9, 1, 7, 7, 3, 7, 9, 9, 3, 9, 1, 1, 3, 9, 3, 7, 9, 1, 9, 7, 7, 9, 1, 7, 3, 1, 3, 9, 3, 7, 3, 7, 1, 7, 9, 3, 9, 1, 9, 3, 7, 1, 3, 7, 1, 1, 1, 3, 3, 9, 3, 7, 1, 9, 9, 7, 7, 9, 1, 7, 3, 7, 3, 1, 1, 3, 7, 9, 1, 3, 9, 7, 3, 9, 1, 1, 3, 3, 1, 7, 7, 1, 7, 1, 3, 9, 7, 9, 7, 9, 3, 1, 3, 1, 7, 3, 9, 1, 9, 3, 9, 7, 9, 7, 3, 3, 9, 7, 7, 1, 3, 7, 9, 9, 3, 7, 9, 9, 1, 7, 1, 3, 9, 1, 7, 1, 7, 1, 3, 9, 3, 7, 3, 3, 9, 9, 1, 1, 9, 3, 7, 1, 3, 7, 1, 9, 7, 1, 3, 3, 9, 1, 1, 9, 1, 9, 1, 1, 3, 7, 9, 3, 9, 1, 7, 9, 3, 7, 3, 3, 1, 1, 9, 1, 3, 7, 1, 7, 3, 9, 7, 9, 1, 7, 1, 7, 3, 1, 9, 7, 7, 9, 1, 7, 3, 9, 3, 3, 1, 9, 1, 7, 3, 7, 3, 9, 1, 9, 3, 1, 7, 9, 7, 7, 9, 3, 7, 9, 1, 3, 1, 3, 1, 9, 3, 7, 1, 1, 3, 7, 1, 9, 1, 3, 1, 1, 3, 9, 3, 7, 3, 9, 3, 7, 9, 9, 1, 7, 1, 1, 3, 3, 7, 7, 1, 3, 3, 7, 7, 9, 3, 9, 9, 3, 9, 9, 1, 7, 1, 7, 3, 3, 9, 9, 3, 9, 1, 7, 1, 1, 1, 7, 9, 1, 7, 1, 3, 9, 3, 3, 7, 9, 7, 9, 1, 7, 9, 1, 7, 3, 1, 7, 7, 3, 3, 9, 1, 7, 7, 9, 3, 9, 3, 7, 9, 7, 3, 7, 7, 1, 9, 1, 7, 3, 9, 1, 1, 7, 1, 7, 9, 3, 7, 9, 3, 1, 9, 3, 1, 7, 9, 7, 1, 3, 7, 9, 1, 3, 1, 7, 9, 7, 9, 3, 7, 3, 3, 1, 1, 3, 9, 1, 1, 3, 1, 3, 9, 1, 7, 7, 3, 7, 1, 1, 1, 3, 9, 3, 1, 1, 9, 7, 3, 3, 7, 7, 3, 3, 3, 9, 9, 9, 7, 9, 1, 3, 7, 1, 3, 1, 9, 3, 9, 7, 7, 9, 1, 7, 9, 3, 1, 3, 7, 7, 7, 3, 7, 1, 9, 3, 1, 1, 3, 7, 9, 1, 7, 9, 1, 3, 9, 3, 3, 1, 7, 9, 1, 7, 3, 3, 1, 9, 1, 3, 9, 3, 9, 7, 1, 9, 7, 9, 9, 1, 3, 1, 7, 9, 7, 9, 3, 9, 1, 3, 1, 7, 3, 7, 7, 3, 7, 9, 1, 7, 3, 9, 3, 7, 1, 3, 9, 7, 1, 3, 1, 9, 7, 1, 3, 7, 7, 3, 9, 1, 3, 9, 1, 3, 1, 3, 9, 3, 9, 7, 9, 3, 1, 7, 9, 3, 1, 1, 7, 9, 3, 1, 1, 9, 7, 3, 9, 7, 9, 3, 1, 3, 1, 7, 1, 3, 9, 9, 3, 3, 1, 1, 3, 7, 7, 7, 1, 7, 3, 7, 3, 3, 9, 9, 1, 3, 7, 9, 9, 3, 1, 3, 3, 7, 1, 3, 9, 1, 3, 1, 7, 1, 3, 9, 7, 7, 9, 7, 9, 9, 1, 7, 9, 3, 9, 3, 7, 3, 1, 3, 7, 3, 9, 1, 7, 3, 7, 9, 9, 7, 3, 1, 1, 3, 7, 9, 7, 9, 1, 1, 1, 3, 7, 3, 1, 7, 3, 1, 3, 9, 1, 7, 1, 9, 9, 1, 7, 3, 9, 9, 7, 1, 3, 9, 9, 9, 3, 3, 9, 1, 7, 9, 9, 3, 1, 7, 7, 7, 7, 1, 3, 7, 3, 9, 7, 3, 3, 7, 1, 1, 7, 1, 7, 9, 9, 9, 1, 1, 3, 9, 3, 1, 3, 7, 9, 9, 7, 1, 3, 1, 1, 7, 3, 3, 7, 9, 3, 7, 9, 9, 3, 9, 1, 3, 3, 7, 1, 9, 7, 1, 3, 7, 7, 9, 9, 1, 9, 7, 7, 1, 7, 9, 3, 7, 9, 3, 1, 3, 9, 9, 3, 7, 9, 1, 1, 9, 7, 1, 3, 3, 9, 3, 1, 7, 3, 3, 9, 9, 1, 3, 1, 9, 7, 3, 3, 1, 3, 1, 7, 9, 3, 9, 7, 9, 7, 1, 9, 1, 1, 7, 3, 7, 1, 3, 9, 1, 7, 9, 1, 3, 1, 3, 7, 9, 3, 9, 9, 1, 7, 3, 1, 1, 9, 7, 3, 1, 7, 9, 7, 9, 3, 7, 1, 3, 7, 3, 7, 3, 9, 1, 9, 1, 7, 1, 3, 9, 3, 7, 9, 3, 1, 1, 3, 9, 1, 3, 7, 9, 9, 1, 7, 3, 7, 1, 7, 9, 9, 1, 3, 3, 9, 7, 1, 7, 1, 3, 9, 3, 1, 9, 1, 7, 9, 3, 9, 7, 1, 3, 1, 3, 1, 3, 7, 3, 1, 1, 3, 9, 3, 7, 9, 1, 3, 9, 9, 1, 1, 3, 3, 1, 9, 9, 7, 1, 7, 3, 7, 7, 3, 7, 1, 9, 1, 3, 9, 1, 9, 3, 1, 1, 3, 9, 9, 7, 7, 9, 1, 3, 9, 9, 7, 3, 9, 3, 1, 9, 1, 7, 9, 9, 7, 7, 9, 7, 9, 1, 1, 7, 7, 3, 3, 9, 1, 3, 1, 7, 9, 3, 1, 3, 7, 7, 9, 3, 3, 1, 9, 1, 3, 7, 7, 9, 9, 3, 1, 9, 1, 7, 9, 7, 3, 7, 1, 7, 3, 3, 9, 3, 9, 1, 7, 9, 3, 1, 9, 9, 1, 3, 7, 9, 1, 3, 3, 1, 9, 7, 3, 9, 1, 7, 9, 1, 3, 3, 9, 1, 7, 3, 7, 3, 9, 1, 7, 9, 1, 7, 1, 7, 9, 9, 3, 1, 1, 1, 1, 3, 9, 7, 3, 7, 3, 9, 9, 7, 1, 3, 9, 1, 9, 7, 1, 3, 1, 3, 9, 7, 3, 1, 3, 9, 1, 3, 1, 3, 9, 9, 9, 3, 7, 7, 1, 1, 1, 3, 1, 7, 7, 9, 7, 1, 9, 3, 3, 9, 9, 3, 1, 3, 3, 9, 1, 7, 3, 7, 3, 9, 3, 1, 3, 7, 7, 7, 9, 1, 1, 7, 9, 9, 1, 7, 7, 1, 9, 3, 7, 7, 1, 9, 1, 3, 1, 1, 3, 3, 1, 3, 1, 9, 3, 7, 9, 1, 7, 7, 9, 3, 7, 9, 3, 9, 1, 9, 9, 7, 1, 3, 9, 1, 7, 9, 9, 3, 1, 7, 9, 1, 1, 7, 7, 7, 3, 3, 3, 1, 1, 9, 9, 1, 7, 9, 3, 1, 3, 7, 9, 7, 1, 1, 3, 3, 7, 7, 1, 9, 9, 1, 3, 3, 1, 3, 9, 1, 9, 1, 7, 3, 9, 3, 9, 7, 7, 1, 7, 7, 3, 1, 7, 9, 9, 1, 7, 1, 3, 1, 3, 7, 7, 9, 9, 1, 7, 7, 9, 9, 1, 7, 3, 9, 1, 7, 1, 1, 7, 7, 9, 9, 1, 7, 3, 9, 1, 7, 3, 3, 3, 1, 3, 3, 7, 1, 3, 9, 7, 3, 3, 9, 7, 9, 3, 1, 9, 1, 7, 1, 7, 3, 9, 7, 1, 7, 1, 7, 3, 3, 3, 7, 1, 1, 7, 9, 3, 1, 7, 1, 1, 9, 1, 9, 3, 9, 1, 1, 7, 3, 9, 1, 7, 1, 9, 9, 7, 7, 9, 1, 7, 3, 1, 9, 1, 3, 7, 3, 3, 7, 3, 9, 7, 3, 7, 9, 1, 3, 9, 3, 3, 9, 1, 7, 9, 1, 3, 7, 9, 7, 3, 3, 3, 7, 9, 1, 7, 1, 7, 9, 3, 9, 3, 9, 7, 1, 3, 7, 1, 3, 7, 3, 7, 9, 1, 3, 7, 1, 7, 7, 9, 1, 7, 1, 7, 3, 1, 7, 3, 9, 1, 3, 7, 1, 3, 3, 9, 1, 7, 1, 1, 7, 9, 3, 9, 1, 7, 9, 3, 1, 1, 3, 9, 1, 3, 9, 1, 3, 1, 3, 9, 3, 1, 3, 7, 1, 7, 3, 7, 1, 9, 9, 7, 7, 1, 3, 3, 1, 3, 9, 1, 7, 9, 3, 3, 3, 7, 9, 1, 3, 9, 7, 7, 3, 7, 3, 9, 9, 9, 1, 7, 3, 7, 9, 9, 1, 7, 1, 3, 7, 1, 9, 9, 3, 9, 1, 7, 1, 7, 9, 7, 9, 3, 7, 1, 3, 3, 7, 1, 9, 1, 9, 7, 3, 9, 7, 1, 7, 1, 1, 3, 3, 1, 3, 1, 7, 9, 9, 1, 7, 7, 7, 3, 9, 3, 1, 7, 1, 3, 9, 7, 3, 3, 9, 7, 9, 1, 9, 9, 9, 1, 7, 1, 7, 9, 1, 3, 7, 3, 9, 9, 3, 9, 3, 9, 7, 9, 1, 1, 3, 9, 1, 9, 9, 1, 7, 1, 3, 7, 3, 1, 9, 3, 7, 7, 3, 7, 9, 7, 9, 1, 3, 9, 3, 9, 7, 3, 9, 3, 7, 1, 3, 7, 9, 9, 9, 1, 7, 9, 9, 1, 7, 3, 1, 3, 7, 1, 7, 3, 7, 3, 9, 9, 1, 1, 7, 9, 3, 3, 7, 1, 1, 3, 7, 1, 9, 3, 7, 1, 1, 7, 9, 7, 3, 7, 1, 9, 3, 7, 7, 3, 3, 7, 3, 9, 1, 3, 7, 7, 9, 7, 3, 7, 3, 9, 7, 9, 1, 3, 9, 3, 7, 1, 7, 9, 1, 3, 9, 1, 3, 7, 9, 7, 9, 1, 7, 9, 1, 1, 7, 1, 3, 7, 1, 7, 9, 7, 1, 9, 9, 9, 3, 9, 3, 7, 1, 3, 1, 7, 1, 7, 1, 3, 9, 3, 1, 9, 3, 1, 9, 1, 7, 1, 3, 3, 9, 7, 7, 9, 1, 7, 7, 3, 1, 3, 7, 1, 7, 3, 7, 7, 9, 3, 9, 3, 7, 9, 3, 1, 3, 9, 3, 1, 3, 9, 1, 1, 7, 1, 1, 9, 3, 3, 3, 1, 3, 3, 9, 9, 3, 9, 1, 3, 9, 1, 7, 1, 7, 1, 7, 3, 1, 3, 7, 9, 1, 3, 1, 1, 7, 9, 3, 7, 3, 9, 9, 7, 3, 3, 1, 7, 9, 7, 3, 9, 1, 9, 1, 3, 7, 9, 7, 1, 7, 1, 1, 3, 1, 1, 9, 7, 3, 1, 7, 7, 9, 3, 9, 1, 9, 9, 7, 9, 7, 7, 3, 7, 9, 9, 1, 3, 7, 3, 1, 3, 3, 1, 9, 1, 9, 1, 7, 3, 9, 3, 9, 1, 3, 9, 7, 3, 7, 1, 3, 9, 9, 7, 1, 1, 3, 1, 3, 1, 1, 7, 9, 1, 1, 3, 1, 3, 7, 3, 9, 7, 7, 1, 9, 7, 7, 3, 1, 3, 7, 9, 3, 9, 1, 3, 7, 1, 7, 3, 7, 3, 7, 7, 7, 1, 3, 9, 1, 1, 3, 9, 1, 9, 3, 7, 9, 1, 1, 7, 9, 9, 1, 3, 9, 3, 7, 7, 9, 7, 3, 7, 9, 1, 3, 7, 7, 3, 3, 3, 7, 9, 9, 1, 9, 1, 9, 1, 3, 1, 7, 9, 3, 1, 1, 3, 7, 3, 9, 1, 1, 3, 9, 1, 7, 3, 3, 1, 3, 1, 3, 9, 7, 1, 7, 9, 9, 9, 1, 7, 1, 7, 9, 7, 1, 9, 3, 7, 7, 7, 9, 3, 7, 9, 9, 3, 1, 1, 3, 7, 9, 9, 9, 3, 1, 7, 9, 3, 1, 7, 7, 1, 9, 1, 7, 3, 9, 1, 3, 9, 7, 3, 9, 9, 1, 9, 1, 7, 7, 7, 9, 1, 1, 7, 9, 3, 9, 1, 7, 1, 9, 7, 9, 3, 7, 7, 3, 1, 7, 9, 9, 1, 9, 3, 7, 1, 9, 7, 1, 7, 7, 3, 1, 3, 9, 1, 7, 9, 1, 3, 7, 3, 1, 3, 1, 7, 3, 9, 1, 3, 9, 3, 9, 9, 3, 9, 7, 9, 7, 9, 3, 1, 3, 3, 7, 9, 9, 7, 7, 9, 1, 7, 1, 9, 1, 7, 3, 3, 1, 3, 9, 1, 3, 1, 9, 1, 7, 7, 7, 9, 9, 7, 3, 9, 3, 1, 9, 7, 1, 1, 3, 9, 3, 1, 1, 7, 9, 1, 3, 7, 9, 1, 3, 7, 7, 1, 7, 7, 3, 3, 7, 1, 9, 3, 3, 9, 7, 3, 9, 3, 1, 7, 9, 7, 9, 1, 1, 3, 9, 3, 9, 1, 1, 9, 7, 1, 3, 7, 3, 3, 7, 3, 9, 7, 9, 9, 7, 3, 9, 1, 7, 3, 1, 7, 9, 1, 7, 1, 9, 7, 9, 1, 3, 3, 1, 7, 9, 9, 7, 1, 3, 9, 3, 7, 1, 9, 1, 1, 7, 9, 1, 3, 1, 1, 9, 3, 7, 9, 1, 7, 7, 3, 9, 3, 7, 9, 1, 9, 9, 1, 3, 3, 9, 7, 3, 7, 9, 1, 1, 9, 7, 9, 9, 1, 7, 3, 9, 7, 9, 3, 9, 3, 1, 3, 9, 3, 7, 9, 9, 1, 3, 3, 9, 1, 7, 3, 7, 1, 3, 9, 9, 9, 7, 7, 7, 9, 1, 1, 3, 7, 9, 9, 1, 7, 1, 1, 9, 1, 9, 1, 3, 9, 7, 9, 3, 9, 7, 3, 7, 3, 7, 3, 1, 3, 1, 7, 9, 1, 7, 3, 3, 9, 1, 3, 3, 9, 1, 9, 9, 1, 7, 1, 3, 3, 9, 1, 3, 7, 1, 3, 7, 9, 7, 9, 7, 9, 1, 1, 7, 9, 3, 1, 7, 1, 9, 7, 1, 7, 9, 7, 9, 7, 1, 3, 9, 7, 9, 9, 3, 3, 7, 3, 1, 7, 7, 1, 1, 3, 7, 3, 9, 7, 1, 3, 9, 1, 3, 1, 1, 9, 9, 9, 1, 7, 3, 9, 1, 3, 9, 1, 9, 9, 1, 1, 1, 7, 3, 9, 7, 1, 7, 9, 9, 1, 9, 3, 1, 7, 3, 7, 3, 9, 7, 7, 9, 3, 7, 9, 7, 1, 7, 1, 3, 9, 7, 7, 3, 3, 7, 3, 3, 1, 1, 9, 9, 1, 9, 7, 9, 1, 9, 3, 1, 1, 1, 9, 3, 7, 9, 3, 1, 7, 1, 9, 9, 1, 7, 3, 1, 3, 9, 1, 3, 3, 3, 3, 1, 7, 9, 1, 7, 9, 9, 1, 9, 1, 1, 7, 9, 9, 3, 3, 9, 9, 1, 1, 9, 7, 3, 9, 3, 7, 7, 3, 7, 7, 1, 3, 1, 7, 7, 7, 1, 3, 7, 3, 1, 1, 3, 7, 9, 3, 9, 7, 1, 3, 9, 7, 1, 3, 7, 3, 9, 1, 7, 3, 9, 1, 1, 1, 9, 3, 1, 7, 7, 3, 9, 3, 7, 3, 3, 7, 9, 1, 3, 9, 1, 3, 7, 9, 3, 9, 1, 9, 3, 9, 1, 7, 9, 3, 1, 3, 9, 7, 1, 9, 7, 9, 7, 3, 7, 9, 9, 1, 3, 7, 1, 3, 7, 9, 1, 7, 3, 7, 9, 3, 1, 7, 3, 1, 7, 7, 1, 3, 9, 1, 3, 7, 9, 3, 1, 3, 3, 9, 1, 7, 1, 3, 3, 9, 1, 7, 1, 7, 3, 9, 1, 9, 7, 3, 3, 9, 3, 3, 9, 1, 7, 1, 3, 7, 9, 7, 1, 7, 9, 1, 7, 3, 7, 1, 7, 9, 9, 1, 3, 3, 3, 9, 3, 9, 1, 3, 9, 1, 7, 9, 3, 7, 9, 1, 1, 3, 9, 9, 9, 7, 1, 7, 3, 9, 7, 1, 7, 9, 7, 9, 7, 9, 9, 3, 7, 9, 9, 1, 3, 9, 1, 1, 9, 7, 3, 1, 3, 7, 9, 3, 7, 7, 3, 1, 1, 3, 7, 3, 3, 9, 1, 7, 9, 1, 7, 3, 3, 9, 1, 7, 3, 1, 3, 7, 1, 3, 3, 7, 3, 9, 1, 7, 1, 1, 9, 9, 1, 1, 3, 9, 3, 9, 9, 1, 9, 1, 3, 7, 9, 1, 7, 7, 9, 1, 3, 7, 1, 7, 9, 3, 9, 7, 7, 9, 3, 1, 7, 1, 9, 1, 1, 1, 1, 9, 7, 3, 9, 1, 3, 9, 1, 1, 3, 3, 7, 7, 1, 1, 7, 9, 3, 3, 7, 7, 9, 1, 3, 7, 9, 9, 7, 1, 3, 7, 7, 3, 1, 9, 1, 1, 3, 9, 3, 9, 3, 1, 7, 7, 1, 7, 3, 7, 7, 9, 9, 7, 3, 1, 7, 3, 7, 1, 7, 3, 9, 1, 3, 9, 9, 1, 3, 3, 7, 3, 1, 9, 1, 7, 1, 7, 9, 7, 3, 9, 7, 9, 7, 1, 7, 3, 1, 7, 7, 3, 1, 3, 9, 9, 7, 9, 3, 7, 7, 9, 3, 1, 7, 1, 7, 9, 1, 3, 9, 1, 7, 9, 3, 9, 9, 3, 7, 1, 3, 9, 9, 9, 7, 3, 9, 7, 7, 1, 3, 1, 3, 3, 1, 9, 3, 9, 7, 3, 9, 1, 1, 9, 7, 7, 1, 3, 1, 3, 9, 3, 7, 9, 7, 7, 9, 7, 7, 3, 3, 7, 3, 7, 1, 3, 3, 1, 9, 7, 1, 7, 3, 9, 1, 3, 7, 3, 7, 1, 1, 9, 9, 7, 3, 1, 7, 9, 3, 7, 9, 9, 7, 9, 1, 9, 3, 7, 1, 9, 1, 1, 9, 3, 7, 3, 7, 9, 3, 7, 9, 9, 3, 9, 3, 1, 3, 1, 3, 7, 1, 9, 3, 9, 7, 1, 1, 9, 1, 3, 1, 3, 9, 7, 7, 9, 1, 7, 3, 7, 7, 3, 7, 9, 9, 1, 9, 3, 9, 1, 9, 3, 7, 7, 9, 1, 9, 3, 1, 1, 3, 7, 9, 1, 1, 3, 3, 7, 3, 9, 7, 3, 9, 1, 7, 1, 7, 1, 7, 1, 3, 7, 9, 9, 3, 1, 7, 9, 3, 1, 7, 3, 1, 7, 9, 1, 9, 3, 9, 7, 9, 1, 3, 7, 1, 3, 1, 7, 3, 1, 3, 7, 1, 7, 9, 3, 9, 3, 9, 1, 1, 9, 1, 7, 1, 3, 7, 1, 9, 1, 7, 7, 9, 7, 3, 3, 9, 1, 3, 7, 9, 3, 1, 7, 1, 9, 7, 3, 7, 9, 7, 3, 9, 9, 1, 7, 9, 1, 3, 7, 3, 7, 3, 9, 3, 1, 9, 3, 1, 7, 7, 3, 9, 1, 1, 3, 9, 1, 7, 7, 9, 9, 7, 1, 3, 3, 1, 7, 1, 1, 3, 9, 1, 9, 3, 9, 7, 1, 1, 3, 9, 7, 9, 3, 9, 7, 3, 7, 1, 7, 3, 9, 9, 1, 7, 1, 9, 7, 9, 1, 3, 9, 3, 9, 7, 3, 3, 1, 3, 7, 9, 7, 7, 3, 7, 1, 3, 1, 7, 9, 1, 3, 9, 7, 3, 1, 1, 7, 1, 3, 9, 7, 1, 7, 1, 3, 9, 1, 7, 3, 7, 3, 3, 1, 7, 9, 1, 7, 1, 3, 3, 7, 1, 3, 9, 1, 9, 3, 7, 1, 7, 7, 1, 9, 7, 3, 7, 3, 1, 9, 1, 1, 3, 7, 3, 1, 9, 1, 3, 1, 9, 3, 1, 7, 1, 3, 1, 7, 9, 9, 3, 9, 3, 7, 7, 9, 7, 9, 7, 7, 9, 1, 9, 3, 1, 3, 3, 9, 1, 9, 3, 9, 9, 3, 7, 1, 7, 9, 3, 1, 3, 3, 7, 9, 3, 7, 7, 1, 3, 7, 9, 9, 1, 1, 9, 9, 1, 3, 9, 3, 1, 3, 1, 7, 3, 1, 9, 1, 1, 3, 7, 9, 7, 1, 3, 3, 7, 7, 3, 1, 3, 7, 3, 9, 7, 3, 1, 9, 3, 1, 7, 9, 3, 1, 3, 1, 7, 7, 3, 9, 3, 1, 3, 9, 3, 7, 1, 3, 9, 3, 7, 7, 1, 7, 9, 3, 3, 9, 3, 3, 7, 9, 7, 3, 1, 7, 9, 1, 1, 9, 1, 7, 3, 9, 7, 3, 1, 1, 9, 9, 9, 1, 1, 7, 1, 3, 9, 1, 3, 7, 9, 3, 1, 7, 9, 3, 1, 1, 3, 7, 9, 3, 9, 1, 7, 9, 7, 1, 7, 3, 7, 7, 9, 1, 7, 9, 7, 1, 3, 3, 7, 9, 7, 3, 9, 1, 1, 9, 1, 1, 7, 1, 1, 1, 9, 1, 3, 7, 7, 3, 9, 1, 7, 1, 3, 1, 1, 3, 7, 9, 9, 7, 9, 3, 9, 7, 7, 3, 9, 7, 1, 3, 9, 1, 7, 1, 3, 7, 3, 7, 3, 1, 7, 1, 3, 7, 9, 9, 7, 3, 7, 9, 1, 3, 9, 1, 7, 9, 3, 9, 7, 1, 3, 3, 1, 9, 1, 3, 7, 7, 1, 3, 3, 7, 3, 9, 1, 9, 9, 9, 3, 7, 7, 7, 1, 7, 3, 1, 3, 7, 1, 3, 9, 1, 7, 7, 3, 9, 7, 9, 3, 9, 3, 9, 7, 1, 1, 3, 7, 1, 7, 7, 9, 1, 1, 3, 7, 1, 3, 9, 7, 7, 3, 9, 7, 3, 1, 1, 3, 9, 3, 3, 7, 1, 7, 7, 9, 7, 3, 9, 1, 3, 7, 1, 7, 9, 3, 9, 1, 3, 9, 7, 7, 9, 1, 1, 9, 9, 1, 7, 1, 7, 9, 1, 3, 7, 7, 3, 9, 1, 7, 7, 1, 7, 9, 7, 1, 3, 3, 9, 3, 1, 7, 1, 7, 9, 9, 3, 1, 1, 7, 1, 7, 3, 7, 1, 7, 9, 9, 1, 7, 3, 7, 9, 9, 7, 1, 3, 7, 1, 9, 1, 9, 3, 7, 9, 3, 1, 1, 9, 3, 3, 9, 7, 1, 7, 3, 9, 3, 7, 7, 7, 9, 3, 1, 1, 9, 9, 9, 7, 9, 7, 3, 9, 3, 9, 7, 1, 3, 7, 9, 7, 9, 9, 7, 7, 1, 7, 9, 3, 3, 7, 3, 1, 1, 9, 1, 3, 9, 7, 3, 9, 3, 1, 7, 3, 3, 1, 1, 3, 3, 9, 7, 7, 3, 3, 7, 9, 1, 7, 1, 1, 7, 1, 3, 7, 9, 7, 7, 3, 7, 3, 9, 1, 7, 9, 1, 7, 1, 9, 3, 9, 1, 3, 7, 3, 1, 7, 9, 1, 3, 9, 1, 7, 7, 1, 3, 9, 3, 3, 3, 7, 7, 9, 9, 1, 1, 3, 7, 1, 7, 1, 3, 9, 7, 1, 7, 3, 1, 3, 9, 1, 7, 1, 3, 9, 9, 7, 1, 3, 7, 9, 1, 3, 9, 9, 3, 1, 9, 1, 7, 9, 1, 7, 1, 7, 7, 3, 9, 3, 9, 7, 7, 3, 9, 3, 9, 1, 7, 3, 7, 1, 1, 9, 3, 1, 3, 1, 7, 3, 9, 1, 9, 9, 9, 9, 1, 9, 9, 7, 1, 1, 3, 1, 7, 7, 1, 3, 3, 9, 7, 3, 9, 9, 7, 3, 3, 1, 7, 9, 3, 7, 9, 3, 7, 3, 7, 3, 9, 1, 1, 3, 1, 3, 3, 1, 9, 7, 9, 1, 3, 7, 9, 1, 9, 3, 9, 1, 1, 7, 1, 9, 9, 1, 7, 7, 9, 7, 9, 1, 7, 9, 1, 3, 7, 3, 9, 1, 1, 7, 1, 3, 3, 9, 3, 1, 3, 7, 7, 1, 9, 3, 3, 1, 7, 3, 1, 7, 1, 3, 7, 9, 7, 9, 3, 1, 1, 7, 3, 9, 1, 7, 3, 9, 3, 1, 3, 1, 7, 7, 3, 3, 1, 7, 3, 9, 3, 9, 3, 7, 3, 7, 7, 9, 1, 1, 9, 9, 3, 1, 1, 3, 3, 9, 9, 3, 9, 1, 7, 1, 7, 9, 1, 3, 7, 3, 3, 7, 3, 9, 7, 1, 1, 7, 9, 3, 9, 7, 1, 1, 7, 9, 1, 7, 7, 9, 9, 3, 9, 3, 1, 3, 1, 7, 9, 9, 3, 1, 7, 1, 9, 9, 3, 1, 1, 1, 3, 3, 9, 7, 1, 7, 3, 7, 1, 1, 7, 1, 9, 1, 7, 7, 3, 7, 9, 3, 9, 9, 1, 7, 7, 1, 3, 9, 9, 7, 9, 3, 1, 3, 1, 7, 3, 3, 9, 1, 7, 9, 7, 3, 7, 3, 9, 7, 3, 9, 3, 1, 9, 1, 7, 1, 7, 3, 9, 1, 7, 9, 7, 1, 7, 7, 3, 9, 1, 7, 3, 9, 1, 1, 7, 9, 1, 9, 3, 1, 3, 7, 9, 7, 1, 9, 3, 9, 1, 7, 3, 9, 1, 9, 3, 7, 3, 9, 1, 9, 1, 7, 7, 9, 9, 1, 7, 7, 9, 9, 1, 1, 9, 1, 3, 3, 1, 9, 7, 3, 7, 1, 3, 3, 9, 3, 1, 3, 3, 3, 1, 1, 7, 9, 3, 9, 1, 9, 9, 1, 1, 3, 1, 7, 3, 7, 3, 7, 1, 9, 7, 3, 9, 1, 7, 7, 7, 9, 7, 9, 1, 9, 1, 1, 7, 3, 9, 9, 3, 9, 3, 9, 1, 3, 9, 7, 1, 9, 1, 9, 1, 1, 7, 7, 9, 1, 7, 9, 1, 3, 9, 1, 3, 1, 9, 3, 7, 1, 9, 9, 3, 1, 7, 9, 9, 1, 3, 7, 9, 3, 1, 1, 7, 1, 3, 3, 7, 3, 7, 9, 3, 1, 1, 9, 7, 1, 9, 1, 7, 3, 9, 9, 7, 7, 3, 3, 7, 9, 1, 7, 9, 1, 1, 3, 7, 3, 1, 7, 1, 3, 7, 7, 7, 3, 9, 3, 1, 3, 7, 7, 9, 7, 3, 1, 1, 9, 1, 9, 7, 3, 9, 9, 1, 7, 3, 9, 1, 3, 9, 1, 7, 9, 3, 7, 9, 9, 1, 7, 9, 3, 1, 9, 1, 3, 9, 9, 1, 3, 1, 7, 3, 7, 9, 7, 1, 1, 1, 3, 3, 1, 7, 3, 7, 9, 3, 9, 1, 7, 7, 9, 3, 9, 1, 3, 1, 7, 3, 3, 9, 7, 9, 9, 3, 7, 9, 9, 3, 7, 3, 7, 7, 9, 7, 9, 3, 9, 7, 3, 1, 3, 9, 9, 1, 7, 1, 9, 1, 3, 7, 3, 9, 7, 1, 3, 9, 9, 3, 7, 1, 3, 9, 3, 9, 7, 9, 3, 7, 1, 7, 9, 9, 1, 3, 9, 7, 9, 7, 1, 3, 7, 1, 7, 1, 1, 3, 9, 1, 7, 3, 7, 3, 9, 3, 1, 9, 1, 3, 7, 3, 7, 1, 9, 7, 3, 7, 9, 1, 9, 9, 1, 7, 1, 7, 7, 1, 3, 9, 3, 9, 3, 1, 9, 1, 7, 1, 9, 1, 7, 3, 1, 1, 3, 9, 1, 3, 1, 7, 1, 7, 3, 9, 1, 7, 9, 7, 1, 3, 1, 7, 9, 7, 3, 9, 7, 9, 9, 7, 9, 3, 1, 1, 1, 3, 7, 9, 1, 3, 1, 7, 1, 3, 7, 7, 7, 9, 9, 7, 3, 7, 9, 1, 3, 7, 9, 3, 3, 1, 7, 1, 7, 7, 1, 3, 9, 1, 3, 3, 9, 7, 3, 1, 9, 7, 1, 9, 3, 7, 3, 9, 9, 1, 9, 1, 1, 7, 1, 3, 9, 7, 9, 3, 1, 7, 9, 1, 3, 3, 1, 3, 1, 7, 9, 7, 9, 7, 1, 3, 1, 9, 7, 3, 9, 7, 1, 7, 9, 1, 9, 3, 9, 1, 1, 3, 1, 9, 3, 1, 3, 9, 3, 1, 3, 3, 9, 9, 9, 1, 7, 9, 3, 7, 1, 1, 1, 9, 1, 3, 7, 1, 3, 7, 9, 1, 7, 1, 3, 7, 3, 7, 9, 1, 9, 9, 1, 3, 1, 1, 1, 7, 3, 7, 9, 1, 9, 7, 3, 7, 7, 9, 1, 3, 9, 1, 3, 7, 3, 3, 7, 1, 9, 3, 1, 9, 9, 1, 1, 9, 3, 3, 9, 1, 3, 9, 1, 7, 1, 7, 7, 3, 1, 1, 7, 9, 1, 3, 7, 7, 1, 7, 9, 1, 7, 7, 7, 7, 3, 7, 7, 3, 9, 3, 7, 9, 9, 1, 7, 1, 7, 1, 9, 9, 3, 1, 7, 7, 3, 1, 7, 1, 3, 7, 3, 1, 7, 1, 9, 3, 9, 3, 9, 1, 9, 7, 1, 3, 7, 9, 1, 1, 7, 3, 7, 3, 9, 7, 3, 1, 3, 7, 3, 1, 1, 1, 9, 3, 1, 1, 3, 9, 9, 3, 9, 1, 3, 1, 7, 9, 3, 7, 1, 7, 7, 9, 1, 3, 7, 7, 3, 1, 3, 9, 1, 9, 9, 3, 9, 7, 9, 7, 1, 3, 1, 3, 1, 1, 3, 9, 3, 7, 7, 9, 7, 1, 7, 9, 9, 7, 3, 3, 7, 3, 9, 9, 1, 7, 9, 1, 3, 1, 1, 7, 7, 1, 1, 9, 3, 1, 3, 9, 7, 7, 1, 7, 3, 3, 9, 1, 7, 3, 7, 9, 9, 1, 9, 9, 1, 3, 1, 9, 3, 3, 1, 9, 9, 7, 7, 1, 3, 3, 3, 7, 3, 9, 1, 9, 1, 7, 3, 7, 1, 9, 3, 3, 7, 9, 1, 7, 9, 3, 9, 7, 3, 1, 3, 3, 9, 7, 1, 3, 1, 3, 7, 9, 3, 1, 3, 7, 9, 1, 7, 3, 1, 7, 9, 1, 3, 9, 3, 7, 9, 1, 9, 3, 9, 1, 3, 7, 9, 1, 1, 7, 3, 3, 1, 1, 7, 9, 1, 3, 9, 1, 1, 9, 7, 3, 7, 9, 3, 7, 9, 9, 7, 1, 9, 9, 1, 7, 3, 9, 3, 3, 7, 9, 1, 9, 9, 9, 7, 9, 1, 9, 9, 1, 3, 1, 1, 3, 3, 9, 7, 9, 3, 9, 7, 9, 1, 1, 7, 3, 3, 9, 7, 1, 9, 3, 9, 1, 3, 7, 3, 1, 3, 9, 9, 3, 9, 1, 7, 1, 7, 3, 9, 3, 7, 3, 7, 9, 7, 9, 1, 7, 3, 9, 7, 3, 9, 9, 9, 3, 3, 7, 7, 3, 9, 7, 1, 1, 9, 3, 9, 3, 9, 3, 7, 9, 1, 1, 3, 9, 3, 9, 3, 3, 7, 9, 9, 1, 7, 1, 3, 7, 1, 9, 3, 7, 7, 9, 1, 7, 9, 1, 3, 7, 9, 1, 1, 1, 3, 1, 7, 1, 7, 3, 7, 7, 9, 1, 1, 7, 3, 1, 3, 7, 3, 7, 3, 9, 3, 3, 1, 9, 7, 9, 1, 7, 7, 9, 1, 3, 7, 9, 1, 1, 3, 9, 7, 3, 9, 3, 7, 7, 1, 3, 9, 1, 1, 9, 7, 3, 7, 3, 7, 1, 7, 9, 1, 3, 3, 7, 9, 1, 7, 9, 1, 3, 7, 3, 7, 7, 9, 7, 7, 9, 1, 9, 7, 9, 3, 1, 9, 9, 9, 1, 3, 1, 7, 9, 1, 3, 1, 7, 3, 1, 3, 9, 1, 7, 3, 1, 7, 3, 7, 1, 9, 7, 1, 9, 1, 7, 7, 3, 7, 9, 3, 1, 9, 1, 3, 7, 9, 1, 7, 3, 7, 3, 9, 3, 7, 1, 7, 7, 9, 3, 7, 7, 3, 7, 1, 7, 1, 9, 7, 1, 7, 9, 1, 1, 1, 9, 3, 1, 7, 9, 3, 9, 9, 9, 1, 3, 7, 1, 3, 7, 1, 3, 3, 9, 1, 7, 7, 9, 3, 9, 3, 7, 9, 9, 1, 3, 3, 3, 9, 1, 3, 1, 9, 3, 1, 3, 7, 9, 3, 7, 1, 1, 9, 3, 1, 7, 7, 9, 1, 7, 3, 3, 9, 1, 1, 3, 1, 7, 1, 3, 9, 1, 9, 7, 1, 3, 1, 1, 9, 1, 7, 7, 3, 9, 1, 3, 9, 7, 3, 7, 7, 3, 9, 7, 9, 3, 9, 7, 3, 1, 3, 7, 1, 3, 9, 9, 7, 3, 1, 7, 3, 9, 3, 3, 7, 1, 3, 9, 9, 1, 3, 9, 7, 7, 3, 7, 1, 7, 1, 3, 3, 1, 3, 7, 1, 1, 3, 3, 9, 3, 9, 7, 3, 7, 3, 1, 7, 1, 3, 7, 9, 9, 1, 3, 9, 9, 3, 1, 1, 9, 1, 9, 9, 3, 7, 3, 7, 7, 3, 1, 3, 9, 3, 9, 1, 1, 3, 7, 7, 3, 1, 7, 1, 1, 3, 9, 7, 3, 7, 7, 9, 7, 3, 7, 9, 1, 7, 9, 9, 1, 7, 1, 3, 9, 9, 1, 7, 7, 9, 1, 7, 3, 7, 9, 3, 9, 1, 7, 1, 3, 9, 7, 1, 3, 1, 7, 9, 3, 1, 1, 7, 3, 9, 3, 1, 1, 7, 3, 9, 7, 1, 9, 1, 9, 9, 7, 3, 1, 9, 1, 1, 7, 1, 7, 3, 9, 9, 9, 3, 1, 1, 7, 9, 1, 1, 7, 1, 7, 9, 9, 7, 7, 9, 7, 1, 9, 3, 9, 3, 7, 9, 1, 1, 3, 7, 3, 3, 3, 1, 7, 1, 9, 1, 3, 3, 1, 3, 7, 9, 3, 9, 3, 1, 7, 3, 3, 7, 1, 9, 1, 9, 3, 3, 7, 1, 3, 1, 3, 1, 7, 1, 7, 3, 7, 9, 7, 1, 9, 7, 9, 7, 1, 3, 9, 1, 9, 3, 3, 9, 3, 1, 9, 9, 1, 7, 3, 1, 9, 3, 7, 3, 7, 1, 9, 3, 9, 9, 7, 9, 9, 7, 7, 9, 3, 9, 1, 3, 1, 9, 1, 7, 1, 3, 7, 3, 7, 3, 7, 9, 7, 1, 3, 9, 3, 1, 1, 7, 1, 3, 9, 9, 7, 9, 3, 7, 1, 7, 7, 7, 9, 7, 1, 1, 7, 9, 1, 9, 3, 9, 9, 7, 9, 9, 3, 9, 1, 7, 9, 7, 9, 1, 3, 9, 3, 1, 9, 3, 1, 3, 9, 9, 1, 3, 7, 7, 3, 7, 3, 9, 1, 7, 9, 3, 1, 3, 9, 1, 7, 1, 7, 9, 9, 9, 7, 7, 3, 7, 3, 9, 1, 3, 7, 3, 7, 9, 9, 3, 7, 9, 1, 3, 7, 9, 7, 1, 7, 1, 7, 3, 9, 7, 1, 7, 3, 7, 1, 3, 3, 1, 7, 3, 7, 1, 1, 9, 1, 1, 3, 9, 9, 1, 9, 1, 7, 7, 3, 1, 3, 7, 3, 3, 7, 1, 7, 9, 1, 7, 3, 9, 9, 7, 1, 3, 7, 9, 3, 1, 9, 1, 7, 9, 9, 1, 3, 9, 1, 3, 7, 7, 9, 3, 1, 7, 9, 1, 7, 7, 3, 7, 9, 1, 9, 1, 1, 7, 9, 1, 3, 7, 3, 3, 1, 7, 9, 1, 3, 3, 7, 9, 1, 1, 3, 9, 1, 1, 7, 1, 9, 9, 3, 1, 1, 9, 3, 7, 9, 3, 9, 9, 9, 7, 1, 9, 7, 9, 7, 3, 9, 9, 7, 1, 7, 9, 1, 9, 3, 1, 9, 7, 7, 1, 3, 3, 3, 9, 7, 3, 3, 7, 9, 3, 9, 9, 1, 3, 7, 3, 1, 1, 7, 3, 1, 1, 9, 1, 9, 3, 7, 9, 3, 7, 1, 3, 9, 7, 9, 7, 3, 3, 3, 9, 1, 1, 3, 3, 7, 3, 1, 9, 1, 9, 7, 7, 7, 3, 3, 9, 7, 1, 7, 9, 7, 9, 3, 7, 3, 9, 1, 1, 7, 1, 7, 3, 3, 9, 3, 3, 1, 9, 1, 3, 1, 7, 9, 9, 9, 7, 1, 9, 3, 7, 1, 7, 7, 9, 1, 3, 3, 9, 1, 9, 1, 1, 3, 1, 7, 9, 3, 1, 1, 7, 3, 3, 7, 7, 9, 1, 9, 3, 1, 7, 3, 9, 1, 3, 7, 1, 7, 1, 1, 3, 1, 3, 7, 9, 9, 3, 9, 7, 3, 7, 1, 7, 1, 3, 7, 9, 1, 1, 3, 7, 9, 1, 1, 3, 1, 7, 3, 3, 1, 9, 7, 7, 1, 1, 7, 3, 9, 3, 9, 1, 1, 3, 3, 9, 7, 3, 3, 9, 3, 1, 3, 7, 1, 3, 9, 3, 1, 7, 9, 9, 7, 9, 7, 9, 1, 3, 7, 9, 1, 1, 3, 3, 7, 9, 1, 3, 7, 3, 7, 9, 1, 7, 1, 1, 9, 3, 1, 1, 3, 9, 1, 3, 9, 3, 7, 9, 7, 7, 3, 1, 9, 1, 9, 3, 9, 1, 3, 7, 7, 7, 3, 9, 3, 9, 9, 9, 7, 9, 7, 1, 7, 3, 1, 7, 9, 3, 7, 7, 9, 9, 1, 1, 7, 1, 1, 9, 3, 3, 7, 9, 9, 1, 7, 7, 1, 1, 7, 9, 7, 3, 9, 3, 1, 3, 9, 1, 7, 9, 3, 9, 1, 3, 3, 7, 1, 7, 7, 1, 9, 3, 3, 1, 1, 3, 1, 7, 1, 3, 9, 7, 1, 3, 9, 7, 3, 1, 7, 7, 9, 7, 9, 9, 3, 9, 1, 3, 9, 3, 7, 3, 9, 7, 9, 3, 9, 7, 9, 1, 7, 1, 1, 7, 1, 3, 1, 3, 9, 3, 7, 9, 9, 3, 3, 1, 7, 1, 7, 1, 1, 3, 7, 3, 9, 7, 1, 3, 9, 1, 3, 1, 7, 1, 7, 9, 3, 9, 7, 1, 3, 9, 3, 7, 3, 9, 3, 7, 9, 1, 7, 3, 1, 7, 3, 1, 1, 9, 7, 1, 9, 3, 7, 1, 3, 7, 7, 3, 3, 7, 9, 1, 3, 9, 7, 3, 1, 3, 9, 1, 7, 9, 9, 9, 9, 1, 7, 3, 9, 3, 9, 3, 1, 7, 3, 7, 9, 9, 3, 7, 9, 3, 9, 9, 7, 1, 3, 9, 7, 1, 3, 7, 1, 9, 9, 9, 1, 3, 7, 1, 3, 1, 1, 7, 7, 7, 3, 9, 1, 3, 9, 7, 1, 3, 7, 1, 3, 9, 9, 1, 3, 1, 1, 3, 9, 7, 7, 9, 7, 9, 9, 9, 7, 3, 3, 9, 9, 9, 3, 7, 1, 7, 9, 3, 7, 9, 9, 3, 9, 9, 3, 1, 7, 1, 3, 3, 9, 1, 7, 9, 7, 3, 9, 3, 9, 3, 7, 3, 7, 1, 3, 7, 9, 1, 3, 1, 1, 9, 7, 1, 3, 1, 7, 3, 3, 9, 1, 7, 7, 1, 9, 1, 3, 7, 3, 3, 9, 3, 9, 3, 7, 3, 1, 3, 7, 7, 3, 3, 7, 9, 3, 7, 1, 3, 9, 7, 9, 3, 1, 7, 9, 1, 3, 1, 7, 1, 9, 3, 7, 1, 3, 9, 1, 9, 9, 3, 1, 7, 9, 7, 3, 7, 3, 1, 3, 9, 1, 7, 1, 3, 1, 7, 7, 1, 3, 3, 9, 7, 3, 9, 1, 7, 3, 1, 1, 9, 1, 7, 3, 7, 3, 9, 3, 9, 7, 1, 3, 9, 7, 9, 7, 9, 9, 1, 9, 7, 9, 9, 7, 3, 1, 7, 1, 9, 3, 7, 1, 7, 3, 9, 1, 7, 1, 7, 1, 3, 9, 3, 9, 1, 1, 1, 9, 1, 9, 3, 9, 7, 7, 1, 3, 3, 7, 9, 1, 7, 3, 7, 1, 7, 7, 9, 9, 7, 3, 9, 1, 7, 3, 9, 1, 7, 1, 3, 1, 7, 7, 3, 7, 1, 3, 1, 3, 9, 7, 3, 3, 3, 1, 7, 1, 7, 7, 9, 1, 1, 9, 9, 1, 9, 7, 1, 3, 1, 3, 7, 1, 3, 1, 9, 1, 9, 3, 1, 1, 3, 9, 1, 7, 7, 9, 1, 3, 7, 9, 3, 3, 9, 9, 1, 3, 9, 7, 3, 9, 7, 3, 1, 9, 1, 7, 9, 9, 3, 7, 3, 3, 9, 3, 3, 1, 9, 9, 1, 3, 3, 1, 9, 9, 1, 7, 1, 3, 1, 3, 3, 9, 7, 1, 9, 3, 9, 7, 1, 3, 9, 3, 3, 1, 9, 9, 1, 9, 3, 7, 7, 7, 7, 9, 3, 3, 9, 3, 1, 7, 7, 3, 3, 3, 7, 7, 3, 7, 7, 9, 9, 7, 3, 7, 3, 9, 7, 9, 3, 3, 9, 7, 1, 7, 9, 7, 3, 9, 1, 1, 9, 9, 1, 3, 1, 1, 9, 1, 3, 9, 7, 7, 3, 9, 3, 7, 9, 1, 3, 9, 3, 1, 3, 7, 1, 7, 7, 1, 7, 7, 9, 3, 9, 7, 9, 3, 9, 3, 7, 1, 3, 9, 3, 7, 9, 1, 7, 9, 1, 7, 9, 1, 1, 7, 9, 9, 7, 1, 3, 7, 1, 1, 7, 9, 7, 1, 9, 9, 1, 7, 9, 3, 3, 7, 3, 7, 3, 1, 7, 3, 9, 1, 3, 3, 3, 7, 3, 1, 1, 3, 9, 1, 1, 7, 7, 3, 9, 3, 7, 7, 3, 9, 7, 9, 3, 7, 9, 9, 1, 9, 7, 9, 1, 7, 1, 7, 3, 1, 1, 9, 7, 7, 1, 1, 7, 7, 3, 7, 9, 1, 9, 1, 3, 3, 9, 3, 7, 9, 1, 9, 3, 3, 7, 1, 3, 7, 3, 9, 1, 3, 9, 9, 3, 1, 7, 1, 7, 9, 3, 7, 9, 3, 1, 9, 9, 7, 9, 1, 7, 9, 3, 7, 7, 3, 7, 9, 9, 7, 1, 1, 3, 7, 1, 3, 9, 1, 7, 7, 3, 9, 7, 9, 1, 1, 3, 1, 7, 1, 9, 3, 7, 3, 7, 3, 1, 9, 9, 1, 1, 3, 7, 1, 3, 1, 1, 7, 3, 3, 1, 7, 9, 7, 3, 3, 7, 1, 9, 1, 9, 3, 7, 9, 3, 9, 1, 1, 1, 3, 9, 1, 3, 3, 3, 9, 7, 9, 7, 1, 3, 9, 7, 1, 7, 3, 3, 7, 1, 7, 1, 3, 3, 9, 3, 9, 1, 9, 9, 1, 3, 9, 1, 1, 9, 7, 1, 3, 9, 1, 7, 3, 3, 7, 3, 1, 9, 9, 1, 1, 7, 1, 1, 7, 3, 1, 7, 1, 3, 9, 7, 9, 9, 9, 3, 9, 9, 1, 7, 3, 9, 7, 3, 7, 9, 1, 3, 7, 3, 1, 7, 9, 1, 3, 3, 3, 9, 3, 9, 7, 7, 1, 7, 7, 3, 1, 3, 7, 9, 9, 1, 9, 7, 3, 1, 1, 3, 9, 3, 7, 1, 7, 9, 9, 1, 7, 9, 9, 7, 3, 3, 3, 1, 7, 3, 7, 3, 3, 7, 7, 3, 7, 9, 7, 7, 9, 9, 1, 7, 1, 3, 9, 7, 3, 3, 7, 7, 9, 3, 9, 1, 7, 7, 9, 3, 7, 7, 1, 9, 9, 1, 9, 3, 1, 3, 1, 7, 1, 9, 3, 7, 1, 7, 3, 9, 7, 1, 7, 1, 7, 1, 9, 7, 3, 9, 1, 1, 3, 1, 3, 7, 9, 7, 9, 9, 1, 7, 9, 7, 9, 9, 1, 3, 9, 1, 3, 9, 3, 9, 1, 7, 9, 9, 1, 1, 7, 1, 1, 9, 1, 3, 7, 3, 7, 3, 1, 1, 3, 1, 9, 1, 7, 9, 1, 3, 9, 9, 1, 7, 7, 1, 1, 9, 7, 1, 3, 9, 9, 1, 1, 3, 3, 1, 7, 1, 7, 3, 9, 7, 7, 1, 7, 7, 9, 3, 7, 1, 7, 7, 9, 1, 7, 1, 3, 3, 7, 9, 9, 1, 3, 9, 3, 9, 1, 3, 9, 7, 3, 7, 9, 3, 9, 7, 9, 3, 9, 3, 9, 3, 9, 1, 1, 3, 1, 1, 3, 9, 1, 7, 1, 9, 1, 1, 7, 3, 9, 9, 7, 9, 1, 1, 9, 1, 7, 1, 7, 9, 3, 3, 9, 3, 1, 7, 7, 9, 9, 1, 7, 1, 1, 7, 3, 7, 7, 9, 3, 7, 7, 1, 7, 1, 7, 3, 9, 9, 7, 1, 1, 9, 3, 7, 7, 9, 3, 7, 3, 3, 9, 1, 7, 3, 9, 1, 1, 7, 3, 3, 7, 9, 3, 3, 3, 9, 9, 1, 7, 7, 3, 3, 1, 1, 9, 7, 9, 3, 7, 1, 7, 3, 9, 3, 1, 1, 9, 9, 3, 7, 1, 3, 7, 3, 7, 1, 3, 7, 9, 1, 7, 7, 1, 9, 9, 1, 7, 3, 9, 3, 9, 7, 1, 3, 7, 1, 1, 7, 3, 9, 3, 7, 1, 3, 9, 1, 3, 9, 3, 1, 3, 9, 1, 7, 1, 3, 9, 9, 9, 9, 1, 7, 3, 1, 1, 7, 3, 1, 3, 7, 9, 1, 7, 7, 7, 1, 9, 3, 3, 3, 7, 9, 9, 1, 7, 1, 3, 1, 3, 7, 1, 3, 1, 3, 3, 7, 9, 1, 7, 7, 3, 9, 9, 1, 7, 1, 9, 1, 7, 1, 3, 9, 9, 7, 1, 9, 3, 7, 7, 9, 3, 7, 9, 1, 9, 1, 7, 7, 1, 9, 3, 7, 3, 7, 1, 3, 9, 1, 3, 7, 9, 9, 1, 1, 9, 1, 9, 3, 7, 9, 3, 3, 3, 9, 1, 3, 3, 1, 7, 9, 9, 9, 7, 1, 7, 3, 1, 3, 7, 1, 7, 3, 7, 1, 1, 9, 9, 1, 3, 7, 7, 3, 7, 1, 7, 9, 3, 9, 1, 7, 1, 1, 3, 9, 9, 1, 3, 3, 1, 9, 7, 3, 3, 7, 3, 9, 7, 3, 9, 1, 7, 3, 9, 1, 3, 7, 9, 3, 9, 7, 1, 3, 9, 3, 7, 9, 3, 1, 7, 3, 1, 3, 3, 7, 1, 7, 7, 9, 3, 1, 3, 1, 1, 9, 1, 9, 1, 9, 7, 3, 9, 3, 3, 9, 1, 7, 9, 1, 9, 9, 1, 1, 9, 7, 3, 7, 3, 3, 7, 3, 1, 9, 3, 7, 9, 7, 9, 1, 7, 9, 3, 3, 1, 1, 1, 7, 1, 7, 3, 9, 7, 3, 7, 9, 3, 1, 1, 3, 7, 9, 7, 3, 9, 3, 9, 7, 1, 9, 1, 9, 1, 3, 1, 7, 3, 9, 1, 3, 7, 9, 1, 7, 3, 7, 1, 3, 9, 9, 1, 3, 7, 1, 9, 1, 7, 7, 9, 1, 3, 3, 9, 9, 7, 9, 1, 1, 3, 1, 3, 9, 3, 9, 7, 1, 9, 3, 1, 3, 9, 1, 1, 3, 7, 9, 9, 1, 7, 9, 1, 3, 9, 7, 1, 3, 3, 9, 3, 7, 3, 7, 3, 7, 9, 3, 9, 1, 3, 9, 9, 3, 9, 1, 9, 7, 3, 9, 9, 3, 7, 1, 9, 1, 7, 3, 7, 9, 7, 1, 7, 9, 1, 7, 9, 3, 1, 3, 7, 9, 7, 3, 9, 1, 3, 7, 3, 7, 1, 9, 3, 7, 9, 3, 7, 3, 9, 1, 7, 3, 7, 1, 1, 7, 1, 3, 9, 1, 7, 7, 1, 7, 9, 1, 1, 1, 1, 3, 7, 3, 1, 3, 3, 1, 3, 9, 7, 7, 1, 9, 1, 1, 7, 1, 7, 1, 3, 7, 3, 1, 9, 7, 9, 7, 1, 7, 3, 7, 9, 3, 1, 7, 9, 9, 1, 9, 7, 7, 3, 7, 9, 3, 1, 1, 9, 9, 1, 7, 1, 7, 9, 7, 7, 9, 9, 9, 3, 3, 9, 3, 9, 3, 7, 9, 7, 1, 1, 3, 1, 9, 9, 1, 1, 9, 7, 7, 3, 7, 9, 3, 9, 1, 3, 1, 9, 1, 7, 3, 9, 9, 1, 7, 9, 1, 9, 1, 3, 7, 3, 3, 9, 7, 1, 7, 9, 3, 9, 7, 9, 7, 1, 3, 7, 9, 9, 7, 1, 9, 7, 1, 3, 3, 7, 9, 1, 7, 3, 3, 7, 9, 7, 9, 9, 3, 7, 1, 3, 9, 7, 1, 7, 9, 3, 9, 1, 1, 1, 3, 1, 1, 3, 7, 3, 3, 9, 1, 3, 7, 3, 7, 9, 1, 3, 9, 3, 9, 1, 9, 3, 3, 7, 3, 1, 7, 1, 1, 7, 7, 1, 7, 7, 1, 9, 7, 1, 9, 7, 3, 9, 1, 3, 7, 1, 7, 9, 1, 3, 9, 1, 1, 9, 1, 1, 3, 1, 9, 1, 3, 7, 9, 7, 3, 1, 7, 9, 3, 7, 9, 7, 9, 9, 3, 9, 1, 1, 3, 9, 3, 3, 7, 9, 3, 7, 7, 3, 9, 9, 9, 3, 7, 3, 1, 7, 3, 7, 1, 1, 9, 3, 9, 1, 7, 7, 7, 9, 3, 9, 3, 9, 3, 3, 1, 1, 3, 7, 9, 1, 7, 3, 7, 3, 1, 3, 7, 3, 7, 7, 1, 7, 3, 3, 3, 9, 7, 1, 3, 1, 3, 1, 7, 3, 7, 3, 9, 3, 9, 7, 1, 3, 7, 1, 7, 1, 3, 9, 7, 9, 3, 9, 9, 9, 3, 7, 9, 1, 3, 7, 9, 7, 9, 1, 7, 3, 3, 3, 7, 7, 1, 3, 9, 1, 3, 7, 9, 3, 9, 7, 1, 9, 9, 7, 7, 7, 1, 9, 1, 3, 3, 1, 1, 3, 9, 3, 9, 3, 9, 3, 7, 7, 3, 7, 9, 9, 3, 9, 1, 7, 3, 9, 7, 9, 1, 7, 3, 7, 3, 1, 3, 9, 1, 7, 3, 7, 9, 3, 7, 7, 3, 1, 9, 7, 1, 3, 7, 1, 9, 9, 3, 9, 7, 9, 1, 1, 9, 1, 1, 7, 9, 1, 3, 3, 1, 9, 1, 9, 1, 3, 9, 1, 3, 7, 3, 7, 3, 7, 1, 3, 1, 9, 7, 9, 3, 1, 3, 9, 7, 1, 9, 7, 1, 7, 1, 7, 9, 1, 3, 3, 1, 7, 1, 7, 9, 1, 3, 1, 7, 1, 3, 3, 9, 9, 1, 1, 3, 9, 3, 9, 3, 1, 1, 3, 9, 3, 7, 1, 7, 1, 7, 3, 7, 1, 3, 7, 3, 7, 7, 7, 9, 1, 9, 7, 1, 9, 7, 1, 9, 1, 7, 3, 1, 3, 1, 7, 9, 1, 3, 7, 1, 3, 9, 3, 9, 9, 1, 3, 1, 7, 9, 7, 3, 9, 3, 1, 7, 7, 9, 7, 7, 7, 3, 7, 9, 1, 7, 1, 7, 7, 3, 1, 1, 9, 1, 1, 9, 7, 9, 1, 7, 1, 1, 3, 9, 9, 7, 1, 7, 9, 3, 1, 7, 9, 1, 3, 1, 1, 3, 9, 3, 9, 3, 7, 9, 3, 9, 1, 3, 7, 1, 3, 9, 3, 7, 7, 9, 9, 3, 7, 9, 7, 7, 1, 3, 9, 1, 3, 9, 1, 9, 1, 7, 3, 9, 7, 9, 1, 1, 9, 1, 7, 1, 1, 3, 7, 1, 7, 3, 7, 7, 9, 7, 9, 1, 7, 7, 3, 7, 9, 1, 9, 1, 9, 7, 1, 3, 1, 3, 9, 3, 7, 9, 1, 7, 7, 3, 9, 7, 9, 3, 7, 9, 1, 7, 3, 3, 9, 7, 3, 9, 3, 1, 9, 1, 7, 1, 3, 7, 9, 7, 1, 3, 9, 3, 3, 7, 9, 7, 3, 9, 1, 1, 3, 9, 1, 1, 9, 3, 3, 9, 3, 7, 3, 1, 7, 7, 9, 1, 1, 9, 1, 3, 7, 3, 1, 3, 1, 1, 7, 9, 1, 7, 1, 3, 7, 9, 7, 3, 7, 3, 7, 1, 9, 3, 9, 1, 3, 3, 7, 9, 1, 1, 3, 7, 3, 9, 7, 1, 3, 9, 7, 3, 3, 1, 9, 3, 1, 9, 1, 3, 3, 1, 7, 9, 1, 9, 7, 1, 9, 3, 9, 7, 1, 3, 9, 3, 9, 1, 7, 7, 9, 3, 7, 7, 1, 3, 7, 1, 9, 1, 9, 1, 7, 3, 7, 1, 9, 7, 3, 7, 7, 9, 1, 9, 1, 7, 7, 9, 1, 3, 1, 7, 9, 9, 1, 3, 9, 1, 7, 1, 9, 1, 1, 9, 3, 9, 3, 1, 7, 7, 9, 1, 7, 3, 1, 9, 1, 7, 9, 3, 1, 9, 1, 3, 7, 1, 7, 9, 9, 9, 3, 9, 1, 9, 1, 3, 9, 7, 7, 3, 7, 1, 3, 9, 7, 7, 1, 3, 9, 3, 3, 9, 3, 9, 7, 7, 3, 9, 1, 1, 1, 9, 9, 7, 1, 3, 1, 1, 9, 7, 7, 9, 1, 3, 9, 1, 3, 7, 9, 9, 1, 1, 7, 9, 1, 7, 3, 9, 7, 7, 9, 3, 1, 3, 7, 3, 1, 7, 3, 7, 9, 3, 7, 1, 7, 9, 1, 7, 9, 1, 3, 7, 9, 7, 1, 1, 9, 7, 7, 9, 3, 9, 1, 3, 9, 9, 1, 9, 3, 7, 1, 9, 7, 7, 9, 7, 3, 9, 1, 3, 1, 7, 7, 9, 9, 7, 9, 1, 7, 3, 7, 7, 7, 3, 3, 7, 3, 9, 1, 7, 3, 7, 7, 3, 7, 1, 9, 3, 7, 1, 9, 9, 1, 1, 7, 3, 3, 7, 1, 9, 1, 7, 3, 7, 1, 7, 9, 1, 3, 7, 9, 3, 1, 1, 3, 9, 1, 3, 7, 9, 7, 9, 9, 9, 7, 1, 7, 7, 9, 3, 3, 7, 1, 9, 1, 3, 3, 7, 9, 3, 9, 7, 9, 3, 7, 9, 1, 3, 7, 9, 1, 3, 9, 7, 3, 3, 7, 1, 9, 1, 7, 1, 7, 7, 9, 9, 7, 3, 1, 7, 1, 3, 9, 1, 3, 9, 1, 7, 7, 3, 9, 7, 9, 1, 3, 9, 1, 7, 9, 9, 7, 3, 7, 3, 1, 7, 3, 9, 1, 1, 7, 1, 3, 3, 7, 1, 9, 3, 9, 7, 3, 7, 9, 9, 1, 7, 3, 1, 9, 1, 9, 1, 7, 1, 7, 1, 7, 9, 3, 7, 3, 9, 1, 7, 3, 9, 1, 1, 3, 1, 3, 1, 7, 1, 7, 1, 9, 9, 3, 3, 7, 1, 3, 7, 1, 9, 9, 1, 7, 3, 9, 3, 3, 7, 3, 1, 7, 3, 9, 7, 9, 1, 1, 3, 3, 9, 3, 3, 9, 3, 7, 3, 9, 7, 1, 7, 9, 1, 3, 3, 3, 3, 9, 1, 9, 7, 7, 1, 7, 3, 3, 3, 9, 1, 9, 1, 3, 3, 7, 7, 7, 7, 9, 1, 7, 1, 9, 1, 7, 3, 7, 9, 1, 9, 9, 1, 7, 9, 3, 1, 3, 1, 7, 3, 9, 7, 3, 9, 3, 3, 9, 9, 7, 9, 9, 7, 1, 3, 9, 1, 3, 9, 3, 3, 9, 7, 1, 3, 7, 3, 1, 1, 1, 7, 9, 9, 1, 7, 1, 9, 3, 3, 1, 1, 7, 7, 3, 9, 9, 9, 3, 7, 3, 7, 9, 1, 3, 9, 1, 3, 3, 1, 3, 9, 3, 7, 9, 1, 9, 7, 3, 9, 1, 3, 9, 3, 7, 3, 1, 1, 3, 3, 1, 7, 9, 1, 7, 7, 3, 9, 1, 1, 7, 7, 1, 3, 9, 1, 9, 1, 7, 1, 7, 1, 1, 7, 9, 9, 3, 9, 1, 7, 9, 3, 7, 9, 3, 9, 3, 3, 9, 1, 7, 1, 3, 1, 1, 9, 7, 1, 3, 1, 3, 9, 7, 3, 7, 7, 3, 7, 1, 3, 1, 1, 3, 9, 7, 1, 7, 7, 1, 1, 9, 9, 1, 3, 9, 9, 3, 9, 1, 3, 7, 9, 7, 3, 9, 7, 3, 9, 1, 3, 7, 7, 1, 7, 9, 3, 3, 7, 9, 1, 7, 7, 9, 3, 1, 9, 9, 9, 1, 3, 3, 1, 3, 9, 3, 7, 1, 7, 7, 1, 1, 7, 9, 1, 3, 7, 9, 1, 7, 3, 1, 9, 9, 3, 7, 3, 7, 7, 1, 7, 9, 3, 1, 1, 3, 9, 9, 3, 3, 7, 9, 3, 3, 9, 3, 7, 7, 1, 7, 3, 1, 7, 3, 7, 1, 7, 1, 9, 1, 3, 9, 9, 7, 7, 9, 1, 3, 7, 7, 9, 1, 3, 7, 1, 9, 9, 1, 1, 3, 9, 3, 9, 7, 7, 9, 7, 3, 3, 9, 1, 1, 7, 9, 3, 1, 3, 9, 1, 3, 9, 7, 3, 7, 1, 7, 3, 3, 1, 3, 7, 3, 9, 3, 1, 7, 9, 3, 1, 7, 1, 7, 3, 7, 1, 7, 9, 7, 7, 9, 3, 1, 3, 9, 1, 3, 9, 7, 3, 9, 9, 3, 7, 7, 9, 3, 7, 9, 9, 7, 1, 3, 1, 1, 3, 7, 9, 1, 9, 3, 1, 7, 3, 7, 1, 7, 9, 1, 7, 9, 9, 3, 9, 7, 1, 1, 9, 9, 7, 3, 1, 3, 9, 1, 7, 1, 7, 3, 9, 7, 3, 1, 3, 1, 7, 1, 7, 7, 3, 1, 9, 3, 9, 1, 7, 7, 1, 9, 1, 3, 3, 7, 9, 3, 1, 7, 3, 7, 9, 1, 1, 7, 3, 7, 9, 3, 9, 3, 3, 9, 3, 7, 1, 9, 3, 9, 3, 3, 9, 9, 9, 1, 7, 1, 3, 1, 9, 1, 9, 3, 7, 7, 9, 1, 3, 1, 7, 3, 9, 1, 7, 9, 1, 3, 1, 3, 1, 3, 9, 3, 9, 1, 1, 9, 7, 7, 9, 7, 9, 7, 7, 3, 3, 3, 9, 7, 7, 3, 7, 9, 7, 1, 3, 1, 1, 9, 3, 7, 1, 7, 7, 1, 9, 9, 3, 7, 9, 1, 9, 3, 1, 3, 9, 1, 1, 7, 9, 1, 7, 3, 9, 9, 3, 9, 1, 3, 1, 7, 9, 7, 7, 9, 3, 9, 7, 1, 9, 9, 3, 9, 7, 3, 1, 1, 3, 9, 7, 9, 3, 9, 1, 7, 3, 7, 9, 1, 3, 9, 3, 7, 1, 7, 1, 3, 3, 1, 3, 3, 9, 3, 1, 3, 9, 9, 7, 3, 9, 1, 7, 1, 3, 9, 9, 1, 3, 1, 7, 7, 7, 3, 9, 7, 7, 9, 3, 7, 9, 7, 3, 9, 7, 3, 1, 9, 3, 1, 7, 1, 3, 7, 7, 9, 1, 1, 3, 3, 1, 7, 1, 7, 1, 7, 9, 3, 9, 7, 1, 7, 9, 1, 3, 9, 1, 3, 1, 3, 9, 7, 1, 3, 7, 3, 1, 3, 9, 1, 1, 9, 1, 7, 1, 3, 7, 1, 3, 3, 3, 1, 1, 9, 3, 9, 1, 3, 9, 1, 1, 7, 3, 9, 1, 3, 7, 7, 9, 7, 1, 3, 1, 9, 3, 9, 7, 9, 9, 7, 9, 7, 1, 9, 9, 7, 9, 9, 3, 9, 9, 3, 1, 1, 7, 9, 3, 9, 1, 7, 3, 1, 1, 3, 7, 7, 9, 1, 3, 1, 3, 9, 7, 1, 3, 1, 3, 7, 7, 7, 9, 9, 1, 9, 1, 3, 1, 3, 7, 3, 9, 1, 3, 9, 7, 3, 9, 1, 7, 1, 3, 9, 9, 1, 7, 3, 9, 1, 1, 7, 3, 7, 7, 1, 3, 7, 9, 7, 1, 7, 1, 1, 3, 9, 1, 1, 1, 9, 1, 1, 1, 7, 3, 7, 9, 1, 3, 1, 7, 3, 9, 3, 9, 9, 7, 3, 7, 3, 1, 3, 7, 7, 7, 1, 3, 7, 9, 1, 7, 9, 3, 9, 3, 1, 7, 3, 1, 1, 3, 3, 7, 9, 1, 1, 3, 1, 7, 1, 3, 3, 1, 7, 9, 3, 3, 9, 9, 1, 9, 7, 1, 7, 3, 7, 3, 9, 3, 1, 3, 1, 1, 3, 3, 9, 1, 3, 7, 3, 7, 9, 3, 1, 1, 9, 3, 1, 7, 3, 7, 9, 1, 9, 7, 7, 9, 1, 9, 3, 1, 1, 7, 9, 1, 3, 9, 3, 1, 7, 3, 1, 1, 7, 3, 7, 9, 9, 1, 9, 3, 9, 1, 1, 3, 7, 9, 9, 9, 9, 1, 7, 7, 7, 9, 9, 3, 7, 9, 9, 1, 3, 3, 1, 3, 3, 7, 9, 3, 7, 1, 9, 7, 1, 3, 9, 3, 3, 1, 9, 9, 1, 1, 7, 9, 7, 3, 3, 3, 9, 9, 1, 3, 3, 1, 7, 9, 7, 9, 1, 3, 9, 3, 7, 1, 1, 7, 9, 3, 9, 1, 7, 7, 9, 1, 3, 1, 7, 1, 7, 1, 7, 3, 3, 3, 7, 7, 9, 1, 7, 3, 9, 7, 3, 7, 9, 9, 1, 1, 3, 9, 7, 1, 3, 3, 9, 1, 9, 3, 9, 7, 7, 1, 9, 1, 1, 9, 3, 3, 9, 7, 3, 7, 1, 3, 9, 9, 7, 9, 1, 7, 3, 7, 3, 1, 1, 7, 7, 9, 1, 7, 1, 9, 3, 9, 1, 9, 7, 3, 7, 7, 1, 7, 9, 9, 1, 3, 7, 9, 1, 3, 7, 9, 7, 1, 3, 9, 3, 3, 1, 7, 3, 1, 7, 3, 9, 1, 7, 3, 3, 9, 1, 9, 1, 9, 3, 1, 7, 9, 7, 1, 7, 9, 9, 7, 3, 1, 7, 9, 3, 3, 7, 1, 9, 7, 1, 3, 9, 1, 7, 3, 9, 1, 7, 7, 9, 1, 7, 1, 7, 9, 7, 7, 7, 3, 7, 9, 1, 3, 9, 9, 1, 1, 3, 3, 7, 3, 9, 9, 3, 7, 1, 9, 1, 7, 9, 1, 1, 3, 7, 9, 7, 7, 9, 1, 3, 3, 7, 1, 9, 9, 7, 7, 3, 9, 7, 9, 3, 1, 3, 7, 1, 7, 1, 3, 3, 1, 9, 3, 1, 7, 3, 9, 3, 1, 1, 1, 3, 9, 7, 7, 9, 9, 3, 7, 7, 1, 9, 1, 7, 9, 7, 3, 9, 7, 9, 7, 9, 1, 7, 1, 7, 9, 9, 1, 3, 9, 1, 7, 9, 1, 3, 9, 3, 9, 1, 7, 7, 3, 7, 9, 7, 9, 1, 3, 1, 7, 3, 7, 9, 9, 7, 7, 3, 7, 1, 3, 9, 1, 1, 7, 9, 7, 9, 3, 3, 7, 7, 3, 7, 9, 3, 1, 3, 1, 3, 9, 1, 9, 1, 3, 9, 3, 1, 3, 9, 1, 3, 1, 1, 3, 9, 3, 1, 1, 3, 9, 7, 9, 1, 7, 1, 9, 9, 9, 3, 1, 9, 9, 7, 7, 9, 7, 1, 1, 3, 7, 9, 1, 3, 1, 1, 3, 3, 7, 1, 9, 3, 3, 7, 1, 1, 9, 1, 3, 3, 9, 1, 7, 1, 7, 9, 7, 7, 1, 1, 3, 3, 3, 1, 1, 7, 1, 1, 1, 7, 7, 9, 1, 7, 9, 3, 7, 1, 3, 3, 9, 7, 9, 1, 9, 3, 1, 9, 3, 3, 7, 9, 1, 1, 1, 3, 7, 1, 3, 9, 3, 7, 9, 3, 9, 1, 3, 7, 1, 9, 1, 3, 7, 1, 3, 7, 9, 9, 3, 7, 9, 7, 3, 1, 9, 9, 1, 3, 7, 1, 3, 9, 3, 9, 7, 1, 7, 7, 3, 7, 3, 9, 1, 9, 1, 7, 9, 1, 1, 1, 7, 3, 7, 3, 1, 1, 7, 9, 3, 9, 9, 7, 9, 3, 3, 9, 9, 9, 1, 7, 7, 9, 1, 3, 7, 3, 3, 7, 3, 9, 1, 7, 3, 3, 7, 3, 7, 9, 1, 7, 3, 7, 1, 7, 1, 9, 1, 3, 7, 9, 3, 9, 3, 9, 1, 1, 9, 1, 3, 9, 3, 9, 1, 9, 1, 7, 3, 7, 9, 9, 9, 3, 9, 7, 3, 1, 7, 3, 3, 1, 1, 9, 7, 7, 1, 7, 9, 3, 3, 1, 3, 3, 9, 1, 7, 7, 7, 7, 3, 3, 1, 9, 9, 7, 7, 9, 1, 1, 7, 1, 7, 3, 7, 1, 9, 1, 7, 1, 3, 9, 7, 9, 1, 7, 9, 7, 9, 3, 7, 1, 9, 3, 7, 9, 7, 7, 3, 9, 1, 1, 9, 7, 1, 3, 1, 7, 9, 9, 1, 3, 9, 1, 3, 7, 9, 3, 1, 9, 7, 1, 3, 3, 1, 7, 7, 3, 7, 1, 3, 1, 7, 9, 9, 1, 7, 1, 7, 9, 1, 7, 3, 3, 1, 3, 1, 7, 9, 3, 9, 7, 1, 1, 1, 3, 1, 9, 7, 3, 9, 7, 7, 9, 9, 3, 9, 3, 3, 7, 3, 1, 7, 3, 3, 7, 9, 1, 3, 7, 3, 3, 1, 9, 9, 1, 3, 9, 3, 1, 7, 9, 9, 3, 9, 1, 7, 1, 3, 9, 3, 9, 9, 1, 9, 3, 1, 7, 1, 3, 9, 3, 1, 7, 7, 9, 1, 9, 7, 9, 1, 7, 9, 7, 1, 9, 7, 1, 3, 7, 3, 9, 7, 1, 7, 3, 3, 1, 3, 3, 9, 7, 1, 7, 7, 9, 7, 7, 1, 9, 9, 3, 9, 7, 1, 9, 3, 9, 1, 7, 9, 9, 3, 1, 3, 7, 1, 7, 3, 1, 7, 1, 7, 9, 3, 1, 3, 7, 9, 1, 9, 7, 7, 1, 3, 7, 1, 3, 7, 3, 7, 9, 1, 7, 1, 3, 1, 9, 3, 7, 3, 3, 1, 7, 3, 1, 7, 3, 3, 9, 7, 3, 7, 1, 7, 9, 3, 9, 1, 3, 7, 9, 3, 7, 1, 1, 7, 1, 7, 1, 7, 3, 7, 3, 9, 9, 3, 9, 1, 1, 3, 3, 7, 9, 7, 9, 1, 9, 3, 1, 7, 9, 7, 9, 9, 7, 7, 9, 3, 1, 7, 9, 1, 3, 1, 7, 7, 3, 9, 1, 3, 7, 9, 3, 7, 7, 9, 3, 7, 3, 1, 9, 1, 9, 3, 9, 3, 3, 9, 1, 1, 3, 9, 7, 3, 9, 7, 3, 1, 1, 7, 3, 1, 7, 9, 1, 9, 3, 9, 1, 7, 1, 1, 9, 9, 7, 1, 7, 1, 9, 3, 3, 9, 1, 9, 9, 3, 9, 1, 1, 7, 3, 9, 1, 7, 7, 7, 3, 9, 1, 1, 3, 3, 9, 1, 3, 3, 9, 7, 9, 7, 1, 7, 3, 7, 7, 9, 1, 7, 3, 9, 1, 3, 3, 7, 1, 9, 1, 9, 9, 1, 7, 7, 1, 3, 7, 1, 7, 9, 1, 1, 9, 1, 7, 3, 9, 1, 7, 3, 7, 3, 1, 3, 7, 3, 3, 7, 3, 7, 9, 7, 1, 1, 7, 9, 1, 1, 9, 1, 9, 1, 1, 3, 3, 3, 7, 1, 7, 9, 3, 9, 9, 7, 9, 3, 1, 3, 3, 7, 3, 1, 7, 1, 9, 9, 7, 7, 3, 1, 9, 1, 3, 7, 3, 9, 7, 7, 3, 7, 1, 9, 7, 1, 9, 3, 7, 9, 1, 9, 3, 1, 1, 9, 1, 7, 1, 1, 3, 7, 7, 3, 7, 3, 7, 7, 7, 3, 9, 9, 1, 7, 1, 3, 9, 7, 7, 9, 1, 1, 3, 9, 1, 3, 9, 3, 9, 1, 7, 3, 3, 9, 3, 7, 1, 7, 9, 3, 1, 9, 9, 1, 3, 9, 1, 3, 9, 9, 7, 9, 7, 7, 9, 1, 9, 3, 7, 3, 3, 7, 9, 3, 3, 7, 3, 3, 7, 1, 1, 7, 1, 7, 7, 7, 1, 7, 1, 1, 7, 1, 3, 3, 9, 3, 1, 7, 9, 3, 3, 7, 9, 7, 7, 9, 9, 3, 7, 1, 3, 7, 3, 9, 1, 7, 9, 1, 1, 7, 1, 7, 9, 1, 3, 7, 3, 7, 7, 9, 9, 1, 7, 1, 1, 9, 1, 1, 3, 1, 9, 3, 7, 3, 7, 3, 9, 3, 9, 1, 3, 1, 7, 3, 3, 1, 3, 7, 1, 9, 3, 9, 1, 1, 9, 7, 3, 3, 3, 9, 7, 3, 1, 1, 7, 3, 7, 9, 1, 3, 7, 1, 3, 7, 1, 9, 9, 7, 3, 9, 3, 7, 7, 9, 1, 1, 3, 7, 1, 7, 3, 9, 9, 3, 3, 1, 9, 9, 7, 9, 1, 7, 1, 9, 3, 7, 3, 9, 7, 1, 7, 9, 7, 9, 1, 1, 3, 3, 9, 3, 1, 3, 3, 1, 3, 9, 1, 1, 7, 1, 3, 9, 1, 7, 1, 1, 9, 9, 9, 3, 7, 9, 9, 7, 1, 3, 7, 3, 1, 9, 9, 1, 1, 3, 1, 7, 1, 7, 1, 1, 7, 1, 3, 1, 9, 3, 7, 9, 3, 7, 3, 9, 7, 7, 9, 3, 7, 1, 3, 1, 7, 9, 3, 9, 7, 9, 3, 1, 3, 3, 1, 7, 3, 1, 3, 9, 7, 3, 3, 9, 9, 3, 9, 9, 7, 7, 1, 9, 1, 7, 9, 1, 9, 3, 1, 3, 1, 9, 1, 9, 7, 3, 7, 3, 1, 3, 1, 9, 1, 7, 7, 3, 7, 9, 3, 9, 3, 9, 3, 1, 1, 7, 9, 1, 3, 9, 3, 1, 7, 3, 1, 3, 9, 9, 1, 9, 3, 1, 1, 9, 3, 9, 7, 7, 3, 1, 1, 9, 1, 7, 9, 3, 3, 7, 1, 7, 9, 1, 9, 1, 3, 1, 9, 3, 9, 7, 1, 3, 9, 3, 9, 1, 1, 3, 1, 7, 1, 7, 9, 7, 7, 3, 9, 1, 7, 9, 9, 1, 1, 1, 3, 9, 7, 1, 3, 1, 7, 3, 1, 3, 1, 3, 7, 9, 1, 1, 9, 3, 3, 3, 1, 9, 1, 3, 9, 3, 7, 9, 1, 9, 1, 3, 3, 3, 9, 1, 7, 9, 3, 1, 7, 7, 9, 9, 7, 1, 3, 9, 7, 1, 7, 3, 1, 7, 9, 9, 9, 1, 3, 1, 3, 9, 1, 9, 9, 7, 3, 7, 7, 7, 3, 9, 7, 7, 3, 9, 1, 7, 7, 7, 3, 3, 7, 1, 7, 7, 9, 1, 7, 9, 9, 1, 7, 7, 7, 3, 3, 7, 3, 1, 3, 7, 9, 9, 7, 1, 3, 1, 9, 7, 9, 1, 9, 7, 1, 7, 1, 7, 1, 3, 1, 7, 7, 9, 7, 3, 1, 3, 1, 9, 7, 3, 3, 7, 7, 9, 9, 7, 7, 9, 7, 9, 9, 1, 7, 1, 7, 1, 3, 7, 9, 1, 9, 9, 3, 1, 9, 3, 1, 3, 7, 3, 3, 9, 7, 1, 9, 7, 7, 3, 9, 1, 7, 3, 1, 9, 3, 9, 1, 3, 3, 9, 7, 1, 7, 1, 7, 9, 1, 7, 9, 3, 7, 9, 7, 3, 9, 7, 3, 9, 1, 7, 1, 9, 3, 1, 7, 1, 7, 3, 9, 3, 3, 1, 1, 3, 1, 7, 3, 3, 9, 9, 7, 3, 9, 3, 1, 7, 3, 7, 9, 1, 3, 3, 1, 1, 3, 7, 7, 1, 3, 9, 9, 9, 7, 9, 1, 1, 1, 9, 3, 9, 1, 1, 7, 1, 7, 1, 7, 9, 3, 9, 1, 3, 9, 9, 7, 9, 1, 3, 3, 7, 9, 1, 7, 9, 3, 7, 9, 9, 9, 3, 1, 7, 1, 1, 7, 3, 9, 1, 7, 9, 3, 1, 1, 7, 9, 3, 7, 1, 3, 7, 9, 1, 3, 1, 3, 9, 1, 3, 9, 3, 7, 7, 3, 7, 9, 9, 7, 3, 7, 9, 9, 7, 3, 7, 1, 9, 1, 7, 1, 3, 9, 7, 1, 3, 3, 1, 7, 3, 1, 9, 3, 9, 7, 3, 7, 3, 1, 9, 7, 3, 7, 1, 9, 1, 9, 1, 1, 3, 9, 7, 1, 7, 3, 1, 7, 9, 3, 7, 9, 9, 1, 1, 9, 3, 7, 7, 1, 9, 3, 7, 3, 7, 3, 3, 7, 9, 7, 7, 1, 7, 3, 3, 9, 7, 9, 1, 3, 9, 7, 1, 9, 3, 1, 7, 9, 1, 9, 9, 7, 9, 7, 3, 1, 7, 3, 1, 1, 7, 3, 7, 9, 3, 9, 1, 3, 1, 7, 1, 3, 9, 1, 9, 9, 1, 7, 1, 7, 1, 1, 3, 3, 9, 3, 9, 3, 3, 3, 3, 7, 9, 9, 1, 7, 1, 7, 1, 3, 7, 3, 3, 9, 1, 9, 7, 3, 9, 7, 7, 3, 7, 1, 3, 9, 7, 3, 9, 7, 9, 3, 1, 1, 3, 9, 1, 1, 3, 1, 9, 3, 1, 1, 9, 3, 7, 9, 1, 7, 9, 3, 7, 3, 9, 3, 7, 1, 7, 1, 3, 7, 7, 9, 3, 1, 9, 3, 1, 3, 1, 9, 7, 9, 3, 9, 1, 3, 7, 1, 9, 1, 7, 1, 9, 1, 1, 7, 7, 1, 7, 3, 1, 3, 3, 9, 7, 9, 1, 3, 7, 3, 7, 9, 1, 9, 7, 3, 3, 1, 7, 3, 1, 3, 1, 3, 3, 7, 1, 7, 7, 3, 3, 1, 1, 9, 1, 7, 9, 9, 7, 7, 3, 9, 7, 1, 9, 3, 9, 3, 1, 1, 3, 7, 3, 9, 7, 7, 1, 1, 9, 1, 1, 7, 7, 7, 1, 3, 7, 7, 7, 3, 7, 3, 1, 9, 3, 1, 7, 9, 3, 3, 9, 7, 1, 3, 9, 3, 7, 7, 9, 9, 3, 7, 9, 3, 1, 1, 7, 3, 3, 7, 7, 9, 1, 9, 3, 1, 1, 3, 1, 3, 9, 7, 3, 9, 1, 3, 9, 7, 9, 3, 1, 1, 3, 7, 3, 3, 1, 9, 1, 7, 9, 7, 1, 9, 3, 3, 9, 7, 3, 7, 9, 1, 9, 1, 9, 3, 3, 1, 7, 1, 9, 3, 9, 1, 9, 7, 3, 3, 7, 7, 1, 3, 1, 9, 1, 9, 1, 1, 9, 3, 1, 7, 9, 1, 1, 9, 9, 7, 1, 7, 3, 1, 3, 3, 7, 7, 1, 9, 3, 9, 9, 7, 3, 7, 9, 7, 9, 7, 7, 3, 9, 1, 1, 3, 9, 1, 7, 7, 3, 1, 3, 3, 1, 1, 1, 3, 9, 1, 7, 3, 3, 9, 3, 7, 3, 1, 7, 9, 1, 7, 1, 3, 9, 7, 1, 7, 9, 7, 1, 7, 7, 7, 9, 3, 9, 1, 7, 9, 9, 1, 7, 9, 1, 3, 7, 3, 9, 3, 7, 9, 3, 9, 1, 1, 7, 3, 9, 1, 7, 9, 3, 7, 3, 9, 9, 7, 1, 3, 1, 7, 9, 7, 9, 1, 3, 9, 3, 1, 7, 3, 1, 7, 7, 1, 9, 1, 1, 9, 9, 3, 1, 7, 3, 9, 1, 9, 1, 7, 7, 3, 7, 9, 9, 1, 1, 9, 9, 3, 7, 3, 1, 3, 3, 9, 3, 1, 7, 9, 3, 9, 7, 1, 3, 9, 1, 3, 7, 9, 1, 7, 7, 9, 7, 7, 3, 1, 7, 3, 7, 1, 9, 1, 1, 1, 1, 3, 7, 3, 9, 9, 9, 3, 7, 9, 3, 7, 3, 1, 3, 3, 7, 9, 1, 1, 3, 7, 9, 9, 9, 7, 7, 1, 9, 3, 1, 7, 9, 1, 1, 9, 3, 7, 7, 3, 1, 1, 7, 9, 3, 3, 3, 7, 3, 9, 3, 9, 3, 3, 7, 9, 3, 7, 3, 7, 1, 1, 7, 9, 9, 7, 7, 9, 7, 9, 9, 3, 1, 1, 7, 9, 7, 7, 1, 7, 9, 1, 1, 1, 7, 3, 9, 9, 1, 9, 1, 7, 1, 7, 1, 3, 9, 7, 1, 3, 3, 7, 9, 7, 7, 7, 9, 3, 3, 7, 1, 7, 9, 7, 3, 3, 1, 9, 1, 7, 3, 1, 9, 1, 1, 3, 9, 1, 3, 9, 9, 1, 1, 9, 3, 9, 1, 3, 9, 9, 1, 7, 3, 7, 7, 3, 3, 1, 1, 7, 1, 9, 7, 9, 7, 1, 3, 3, 1, 7, 3, 1, 3, 7, 7, 9, 3, 9, 7, 7, 3, 9, 9, 1, 1, 3, 9, 3, 7, 9, 3, 3, 7, 9, 9, 9, 1, 7, 9, 1, 1, 3, 7, 9, 3, 1, 3, 1, 3, 7, 3, 3, 9, 3, 9, 9, 7, 1, 7, 1, 9, 7, 3, 7, 1, 3, 9, 1, 9, 7, 1, 3, 9, 1, 3, 1, 3, 1, 7, 9, 1, 7, 3, 1, 1, 3, 9, 9, 1, 3, 7, 1, 7, 7, 3, 9, 7, 9, 3, 7, 7, 9, 1, 3, 7, 1, 1, 7, 7, 1, 3, 9, 9, 7, 1, 9, 3, 1, 9, 1, 3, 1, 3, 9, 7, 9, 3, 9, 7, 3, 3, 7, 7, 1, 1, 7, 9, 9, 9, 1, 7, 3, 3, 3, 1, 3, 3, 9, 9, 3, 7, 7, 3, 9, 7, 9, 1, 7, 1, 9, 3, 7, 3, 9, 9, 3, 7, 9, 1, 1, 7, 7, 1, 3, 3, 1, 7, 9, 3, 9, 3, 7, 7, 7, 3, 7, 9, 1, 9, 1, 1, 1, 7, 1, 9, 1, 3, 9, 9, 9, 1, 1, 3, 3, 1, 3, 9, 7, 7, 1, 7, 9, 7, 9, 1, 3, 3, 9, 1, 3, 9, 1, 3, 7, 1, 7, 9, 7, 9, 3, 9, 3, 7, 1, 3, 7, 9, 3, 1, 1, 3, 9, 9, 7, 1, 7, 7, 3, 9, 1, 7, 9, 1, 3, 1, 1, 9, 3, 9, 7, 7, 1, 9, 7, 9, 9, 3, 7, 9, 7, 1, 9, 3, 3, 3, 9, 1, 7, 9, 7, 9, 7, 3, 7, 3, 9, 9, 3, 3, 9, 9, 1, 7, 7, 9, 9, 9, 7, 3, 7, 3, 7, 3, 7, 9, 1, 7, 9, 7, 3, 1, 1, 3, 3, 7, 9, 3, 3, 9, 1, 1, 9, 9, 1, 3, 9, 3, 1, 9, 9, 7, 9, 1, 7, 7, 9, 9, 3, 9, 1, 7, 7, 1, 9, 7, 7, 9, 3, 1, 7, 1, 7, 3, 7, 3, 3, 9, 1, 7, 7, 9, 1, 3, 7, 7, 9, 1, 9, 3, 9, 3, 7, 1, 3, 1, 3, 7, 7, 1, 3, 3, 3, 7, 3, 7, 1, 7, 3, 3, 7, 9, 9, 9, 1, 3, 3, 7, 1, 9, 3, 1, 7, 9, 1, 7, 1, 3, 9, 3, 1, 3, 7, 9, 1, 7, 3, 3, 3, 9, 7, 1, 3, 9, 1, 3, 3, 9, 1, 7, 1, 9, 1, 7, 7, 7, 1, 1, 9, 1, 7, 1, 7, 7, 9, 7, 1, 7, 9, 3, 9, 7, 3, 3, 9, 7, 1, 3, 7, 1, 3, 1, 1, 9, 9, 9, 7, 3, 7, 3, 7, 3, 7, 9, 1, 1, 1, 7, 7, 3, 3, 9, 1, 3, 1, 1, 3, 7, 3, 9, 7, 9, 1, 9, 3, 9, 1, 7, 1, 9, 1, 7, 1, 3, 9, 3, 1, 9, 3, 7, 1, 3, 1, 7, 3, 9, 7, 9, 3, 7, 9, 9, 7, 3, 7, 3, 9, 1, 3, 7, 1, 3, 7, 1, 3, 7, 9, 7, 1, 1, 9, 1, 9, 3, 9, 7, 9, 3, 7, 7, 9, 3, 7, 7, 1, 3, 9, 3, 1, 7, 1, 7, 1, 3, 7, 1, 7, 3, 3, 1, 7, 3, 9, 7, 3, 9, 3, 1, 9, 1, 1, 9, 1, 9, 3, 1, 7, 1, 1, 7, 1, 3, 7, 1, 9, 9, 1, 7, 3, 7, 1, 1, 3, 9, 9, 1, 7, 7, 9, 1, 7, 9, 7, 9, 1, 3, 3, 9, 7, 3, 7, 7, 3, 9, 7, 3, 9, 3, 7, 1, 1, 3, 1, 1, 7, 9, 1, 1, 7, 7, 3, 3, 3, 1, 3, 3, 3, 7, 1, 9, 7, 3, 9, 1, 7, 7, 9, 1, 3, 1, 7, 3, 3, 9, 1, 9, 3, 3, 7, 9, 3, 7, 1, 3, 7, 9, 3, 1, 1, 3, 3, 1, 7, 9, 9, 3, 7, 3, 3, 9, 3, 9, 3, 1, 7, 1, 7, 3, 3, 1, 7, 7, 3, 9, 1, 9, 1, 7, 3, 9, 1, 7, 9, 1, 9, 3, 3, 7, 3, 3, 1, 1, 3, 7, 9, 1, 9, 9, 9, 1, 7, 1, 3, 1, 3, 7, 1, 3, 7, 1, 7, 3, 9, 1, 1, 9, 1, 7, 1, 1, 1, 3, 3, 9, 7, 7, 9, 7, 9, 3, 1, 7, 9, 9, 7, 1, 7, 1, 3, 7, 1, 7, 3, 7, 9, 1, 7, 9, 3, 7, 1, 3, 7, 1, 3, 9, 3, 9, 3, 7, 9, 7, 9, 7, 3, 7, 9, 1, 1, 3, 3, 3, 3, 9, 7, 1, 3, 9, 1, 1, 7, 1, 7, 9, 9, 7, 9, 3, 1, 1, 3, 7, 9, 3, 7, 9, 1, 9, 1, 7, 1, 3, 9, 7, 9, 1, 7, 3, 9, 3, 7, 9, 3, 3, 9, 3, 9, 1, 1, 1, 7, 1, 1, 3, 9, 9, 9, 1, 1, 9, 3, 1, 1, 7, 9, 9, 1, 3, 1, 7, 3, 1, 7, 9, 1, 7, 7, 9, 9, 9, 7, 3, 3, 1, 9, 3, 9, 7, 1, 1, 9, 3, 1, 1, 3, 1, 3, 7, 1, 7, 3, 3, 3, 1, 1, 9, 7, 9, 3, 9, 3, 1, 1, 3, 7, 7, 7, 3, 1, 7, 3, 9, 3, 9, 7, 9, 1, 3, 7, 3, 9, 3, 7, 1, 7, 7, 1, 9, 3, 9, 7, 9, 3, 9, 1, 7, 7, 3, 9, 7, 1, 3, 1, 3, 1, 9, 3, 1, 7, 1, 3, 7, 9, 3, 7, 9, 1, 3, 7, 7, 9, 3, 3, 1, 9, 7, 1, 7, 7, 1, 3, 7, 9, 1, 7, 3, 7, 7, 1, 3, 9, 7, 7, 1, 1, 7, 7, 9, 3, 1, 1, 7, 9, 1, 1, 9, 9, 3, 9, 7, 3, 9, 3, 3, 3, 7, 3, 7, 9, 9, 1, 3, 7, 9, 3, 7, 1, 3, 3, 7, 1, 1, 9, 9, 9, 9, 7, 1, 9, 7, 9, 3, 1, 3, 7, 1, 7, 3, 7, 1, 9, 9, 1, 3, 1, 7, 9, 9, 3, 3, 9, 1, 9, 1, 9, 1, 3, 3, 1, 3, 9, 9, 7, 1, 7, 7, 1, 3, 9, 3, 9, 3, 1, 7, 3, 1, 7, 3, 1, 7, 3, 9, 9, 7, 9, 1, 3, 1, 3, 7, 1, 1, 1, 9, 9, 3, 7, 9, 3, 9, 3, 3, 7, 3, 3, 9, 1, 7, 9, 9, 1, 7, 1, 3, 9, 3, 7, 9, 9, 7, 1, 3, 7, 9, 3, 3, 1, 1, 1, 3, 7, 9, 9, 7, 1, 9, 9, 7, 7, 1, 9, 1, 3, 1, 3, 9, 3, 7, 1, 9, 7, 3, 7, 1, 7, 3, 7, 3, 7, 9, 7, 3, 1, 1, 3, 1, 9, 7, 9, 1, 7, 9, 9, 7, 9, 9, 3, 1, 9, 9, 7, 1, 3, 7, 9, 1, 9, 3, 1, 7, 9, 1, 7, 9, 3, 9, 7, 3, 1, 3, 9, 7, 9, 3, 7, 3, 7, 9, 9, 9, 1, 3, 7, 9, 3, 7, 3, 1, 1, 3, 9, 1, 3, 1, 1, 9, 1, 9, 3, 7, 9, 9, 1, 7, 7, 1, 3, 3, 9, 9, 1, 9, 1, 9, 9, 3, 1, 9, 1, 7, 3, 7, 1, 7, 1, 3, 7, 3, 1, 7, 7, 9, 3, 9, 7, 1, 1, 3, 9, 1, 1, 7, 9, 1, 3, 9, 7, 3, 9, 7, 1, 3, 9, 7, 1, 3, 9, 1, 3, 3, 9, 1, 3, 7, 9, 1, 7, 1, 7, 3, 9, 1, 3, 9, 3, 1, 9, 3, 7, 7, 9, 1, 9, 9, 1, 3, 7, 3, 7, 3, 9, 1, 9, 9, 1, 1, 3, 7, 1, 7, 3, 1, 3, 1, 7, 3, 9, 1, 3, 9, 9, 7, 9, 7, 1, 7, 3, 7, 3, 1, 3, 7, 3, 9, 1, 9, 3, 9, 3, 7, 9, 3, 1, 3, 9, 1, 9, 9, 1, 3, 9, 9, 1, 3, 9, 1, 1, 7, 9, 7, 3, 1, 3, 9, 1, 3, 7, 1, 9, 3, 9, 7, 1, 7, 9, 1, 1, 1, 1, 3, 3, 9, 7, 1, 7, 7, 9, 3, 7, 9, 1, 7, 9, 3, 3, 9, 1, 7, 9, 1, 7, 1, 7, 9, 7, 3, 1, 7, 1, 3, 9, 7, 7, 9, 7, 3, 1, 1, 7, 1, 3, 7, 1, 3, 1, 9, 1, 3, 3, 1, 7, 9, 7, 3, 7, 3, 9, 7, 1, 3, 9, 9, 7, 1, 7, 3, 7, 9, 9, 3, 9, 1, 3, 1, 9, 3, 9, 7, 1, 7, 7, 9, 1, 3, 7, 9, 9, 1, 3, 1, 1, 7, 9, 7, 9, 7, 3, 9, 9, 3, 7, 1, 9, 7, 7, 3, 1, 3, 9, 7, 1, 3, 1, 3, 9, 7, 1, 9, 7, 3, 7, 9, 9, 9, 1, 3, 3, 7, 3, 9, 1, 7, 9, 3, 3, 1, 7, 7, 9, 1, 1, 3, 9, 9, 7, 9, 7, 1, 7, 9, 7, 1, 7, 9, 9, 7, 9, 1, 9, 7, 7, 9, 7, 1, 7, 3, 1, 7, 1, 9, 9, 7, 3, 7, 1, 3, 1, 1, 3, 3, 9, 1, 7, 1, 9, 9, 7, 9, 9, 3, 1, 3, 3, 9, 7, 1, 7, 1, 3, 1, 7, 9, 9, 1, 3, 7, 1, 7, 9, 1, 7, 9, 3, 1, 3, 9, 9, 3, 7, 3, 9, 1, 7, 9, 9, 9, 9, 1, 1, 3, 7, 1, 9, 1, 3, 9, 3, 7, 9, 3, 7, 3, 1, 7, 1, 9, 7, 9, 9, 7, 3, 7, 1, 7, 3, 7, 3, 1, 7, 9, 3, 7, 9, 9, 1, 9, 1, 7, 9, 1, 7, 1, 7, 3, 7, 3, 9, 3, 7, 3, 9, 9, 9, 7, 7, 1, 3, 9, 1, 1, 7, 9, 3, 9, 7, 7, 9, 7, 3, 9, 9, 7, 1, 9, 3, 1, 3, 9, 7, 9, 1, 3, 1, 3, 9, 7, 3, 3, 9, 3, 3, 1, 9, 1, 3, 9, 7, 1, 1, 1, 9, 7, 1, 9, 1, 3, 7, 9, 1, 7, 3, 7, 1, 1, 9, 3, 9, 1, 9, 9, 7, 3, 3, 7, 9, 1, 9, 1, 3, 9, 9, 1, 9, 7, 1, 7, 3, 9, 1, 3, 7, 1, 7, 3, 9, 3, 7, 1, 7, 1, 7, 1, 9, 7, 9, 1, 7, 9, 1, 1, 3, 9, 7, 7, 3, 1, 9, 3, 1, 7, 3, 7, 1, 1, 9, 3, 7, 9, 7, 9, 1, 9, 9, 7, 9, 1, 9, 9, 7, 3, 1, 3, 3, 9, 1, 3, 1, 9, 3, 1, 1, 9, 3, 1, 7, 1, 7, 3, 1, 1, 3, 9, 1, 3, 3, 3, 1, 1, 3, 9, 9, 3, 7, 1, 7, 1, 9, 7, 1, 7, 9, 9, 1, 7, 3, 9, 7, 1, 1, 3, 3, 1, 3, 3, 1, 1, 9, 7, 1, 3, 7, 1, 7, 3, 3, 7, 1, 9, 3, 7, 9, 1, 1, 1, 7, 7, 3, 9, 1, 1, 9, 1, 1, 9, 3, 3, 7, 7, 9, 9, 7, 7, 7, 1, 7, 7, 9, 9, 1, 1, 1, 3, 9, 7, 9, 3, 3, 3, 1, 9, 1, 3, 9, 3, 9, 9, 1, 9, 3, 1, 1, 7, 3, 7, 3, 1, 3, 9, 1, 9, 1, 1, 3, 9, 9, 1, 3, 7, 1, 3, 7, 9, 3, 3, 7, 9, 9, 1, 1, 1, 1, 7, 3, 3, 3, 7, 7, 9, 3, 9, 7, 9, 7, 9, 1, 3, 9, 7, 3, 9, 3, 1, 9, 9, 7, 9, 1, 1, 3, 9, 3, 9, 7, 1, 7, 3, 1, 3, 3, 9, 3, 7, 7, 1, 7, 3, 1, 7, 9, 1, 3, 7, 3, 7, 9, 3, 1, 1, 9, 9, 7, 1, 9, 7, 9, 9, 1, 3, 9, 1, 3, 1, 7, 3, 7, 3, 7, 9, 3, 3, 1, 7, 3, 7, 1, 7, 1, 9, 7, 1, 1, 9, 7, 1, 3, 7, 3, 3, 3, 9, 7, 9, 7, 3, 7, 9, 9, 1, 3, 1, 9, 1, 7, 9, 9, 3, 9, 1, 7, 3, 1, 3, 7, 9, 1, 1, 3, 9, 7, 1, 7, 3, 7, 3, 7, 9, 1, 7, 9, 3, 9, 9, 3, 7, 7, 1, 9, 3, 9, 1, 1, 3, 9, 1, 7, 3, 9, 9, 3, 3, 7, 1, 3, 3, 3, 1, 9, 3, 7, 1, 9, 1, 7, 3, 9, 1, 7, 3, 3, 7, 1, 3, 1, 7, 9, 3, 9, 7, 9, 9, 3, 7, 1, 7, 3, 1, 9, 3, 3, 7, 9, 7, 1, 7, 9, 1, 3, 3, 9, 7, 3, 9, 3, 9, 7, 7, 1, 3, 3, 7, 9, 7, 1, 7, 7, 1, 7, 1, 1, 1, 7, 7, 9, 3, 7, 9, 9, 1, 1, 9, 3, 9, 7, 1, 1, 9, 7, 3, 7, 7, 7, 7, 9, 7, 7, 9, 3, 3, 7, 1, 1, 9, 3, 3, 1, 1, 7, 3, 7, 1, 9, 9, 3, 9, 1, 7, 9, 9, 7, 3, 1, 7, 1, 7, 3, 7, 9, 1, 7, 9, 9, 3, 3, 9, 3, 7, 9, 7, 3, 1, 1, 9, 7, 7, 1, 7, 9, 1, 1, 7, 3, 9, 1, 3, 1, 1, 3, 1, 7, 9, 3, 9, 3, 1, 3, 7, 9, 1, 9, 3, 7, 1, 7, 9, 7, 7, 9, 7, 9, 3, 1, 3, 7, 7, 7, 9, 3, 1, 9, 3, 1, 3, 7, 3, 1, 3, 9, 7, 7, 9, 3, 7, 7, 1, 7, 9, 1, 9, 1, 3, 9, 3, 1, 1, 3, 3, 1, 7, 1, 7, 1, 1, 7, 9, 3, 1, 7, 1, 3, 1, 3, 9, 1, 7, 3, 7, 7, 9, 7, 9, 9, 3, 7, 7, 3, 3, 9, 7, 7, 1, 9, 1, 7, 9, 1, 3, 7, 9, 7, 1, 3, 3, 9, 9, 3, 1, 9, 7, 3, 3, 7, 1, 3, 3, 1, 1, 1, 3, 9, 3, 9, 3, 9, 1, 3, 3, 1, 3, 7, 1, 3, 7, 3, 3, 9, 1, 1, 9, 7, 9, 9, 1, 7, 7, 3, 3, 9, 1, 1, 3, 9, 1, 7, 9, 9, 9, 3, 9, 1, 7, 7, 1, 3, 3, 7, 1, 7, 9, 3, 7, 3, 1, 7, 7, 9, 1, 7, 7, 1, 3, 9, 9, 7, 3, 9, 3, 7, 9, 1, 7, 1, 7, 3, 1, 9, 1, 7, 3, 9, 3, 9, 1, 3, 7, 3, 7, 1, 3, 9, 7, 1, 3, 3, 7, 3, 9, 3, 1, 7, 1, 7, 3, 7, 9, 7, 7, 3, 9, 1, 7, 1, 9, 7, 1, 9, 1, 3, 7, 7, 9, 1, 7, 1, 1, 3, 9, 7, 7, 3, 1, 7, 9, 3, 9, 3, 1, 9, 9, 1, 3, 3, 9, 1, 7, 3, 3, 3, 9, 7, 3, 9, 1, 1, 1, 7, 9, 9, 3, 9, 3, 1, 1, 7, 3, 7, 9, 7, 1, 3, 9, 9, 1, 3, 7, 3, 9, 1, 7, 1, 9, 3, 9, 7, 3, 1, 9, 1, 7, 7, 9, 1, 9, 3, 3, 3, 9, 7, 3, 3, 1, 7, 7, 3, 9, 1, 1, 7, 9, 1, 1, 7, 3, 9, 3, 9, 9, 9, 1, 7, 1, 7, 3, 1, 9, 3, 7, 9, 1, 7, 9, 1, 3, 1, 1, 9, 3, 3, 1, 1, 9, 3, 7, 3, 7, 1, 9, 1, 7, 7, 9, 1, 7, 3, 3, 9, 9, 7, 3, 1, 7, 9, 7, 9, 7, 1, 9, 9, 7, 9, 7, 3, 9, 9, 1, 3, 7, 1, 3, 1, 3, 9, 3, 7, 9, 9, 1, 3, 3, 1, 1, 3, 9, 3, 7, 3, 3, 7, 1, 9, 1, 7, 1, 1, 3, 1, 3, 9, 1, 7, 9, 1, 3, 9, 1, 3, 7, 7, 3, 1, 7, 1, 1, 9, 9, 3, 1, 7, 3, 1, 7, 9, 7, 1, 7, 3, 9, 3, 9, 7, 3, 7, 1, 3, 9, 3, 1, 3, 9, 9, 7, 1, 3, 9, 9, 1, 3, 7, 9, 1, 9, 7, 1, 3, 1, 3, 7, 3, 1, 9, 1, 3, 9, 7, 9, 9, 7, 1, 3, 1, 7, 7, 9, 1, 7, 7, 9, 1, 3, 3, 9, 1, 9, 1, 3, 9, 7, 9, 9, 7, 1, 1, 3, 9, 1, 1, 3, 9, 7, 9, 7, 9, 3, 9, 1, 3, 7, 1, 7, 7, 3, 9, 1, 3, 9, 7, 1, 3, 7, 1, 7, 9, 1, 1, 3, 1, 7, 3, 9, 1, 3, 9, 7, 7, 9, 1, 7, 7, 3, 3, 9, 7, 9, 3, 7, 1, 7, 7, 3, 9, 3, 1, 9, 7, 3, 7, 3, 7, 9, 7, 3, 9, 1, 7, 7, 3, 3, 3, 7, 1, 3, 7, 1, 3, 9, 9, 7, 9, 7, 3, 9, 3, 1, 1, 3, 7, 7, 1, 1, 3, 1, 3, 7, 1, 7, 9, 9, 1, 1, 7, 9, 1, 3, 7, 9, 1, 1, 7, 1, 3, 9, 1, 9, 9, 3, 1, 3, 3, 1, 1, 7, 9, 1, 3, 1, 7, 3, 9, 7, 3, 9, 1, 1, 3, 7, 3, 9, 7, 9, 9, 7, 3, 1, 1, 7, 9, 1, 3, 9, 7, 9, 1, 1, 3, 3, 1, 9, 3, 7, 9, 3, 3, 7, 7, 3, 1, 3, 1, 1, 7, 3, 9, 3, 7, 1, 7, 3, 7, 3, 9, 1, 1, 9, 3, 7, 7, 3, 7, 1, 3, 7, 3, 9, 3, 7, 7, 9, 1, 7, 9, 7, 3, 9, 3, 3, 9, 1, 1, 9, 7, 3, 3, 1, 7, 9, 1, 7, 7, 1, 3, 7, 1, 7, 7, 9, 1, 7, 7, 7, 1, 3, 9, 9, 1, 3, 7, 7, 3, 1, 3, 1, 7, 9, 1, 9, 1, 3, 7, 7, 1, 9, 7, 1, 9, 7, 1, 1, 7, 7, 3, 9, 3, 9, 3, 1, 7, 3, 9, 9, 1, 3, 9, 3, 3, 9, 3, 9, 3, 7, 7, 3, 9, 9, 7, 7, 7, 1, 3, 7, 1, 9, 3, 9, 3, 9, 9, 1, 1, 1, 9, 1, 1, 1, 9, 7, 9, 1, 7, 3, 7, 3, 7, 9, 1, 1, 7, 9, 1, 3, 1, 3, 7, 9, 7, 1, 1, 1, 7, 7, 9, 3, 9, 1, 7, 9, 1, 3, 7, 9, 9, 7, 7, 7, 9, 1, 7, 3, 9, 1, 7, 9, 3, 7, 1, 7, 9, 1, 7, 9, 1, 7, 3, 9, 3, 1, 7, 3, 9, 7, 3, 3, 7, 9, 9, 1, 3, 3, 9, 3, 7, 3, 7, 3, 1, 9, 1, 9, 3, 9, 1, 7, 3, 3, 3, 9, 3, 1, 9, 7, 9, 3, 9, 1, 7, 1, 7, 3, 9, 1, 9, 9, 3, 9, 1, 9, 1, 7, 3, 1, 3, 7, 3, 9, 3, 7, 1, 9, 1, 7, 9, 1, 7, 1, 3, 9, 9, 3, 7, 9, 1, 7, 1, 7, 1, 9, 3, 1, 3, 7, 7, 1, 3, 1, 7, 7, 9, 7, 1, 9, 9, 1, 1, 7, 3, 9, 3, 9, 1, 9, 1, 7, 3, 9, 1, 3, 9, 1, 1, 7, 9, 1, 7, 1, 7, 1, 9, 7, 7, 3, 3, 9, 3, 1, 7, 9, 1, 1, 9, 9, 7, 1, 1, 3, 1, 3, 1, 9, 1, 7, 9, 3, 9, 9, 7, 3, 9, 7, 9, 3, 9, 3, 3, 1, 3, 9, 1, 3, 9, 3, 3, 7, 1, 9, 7, 7, 9, 1, 1, 1, 3, 1, 7, 1, 7, 1, 3, 9, 9, 1, 7, 9, 3, 7, 1, 3, 7, 1, 7, 7, 3, 9, 1, 3, 3, 7, 3, 9, 9, 1, 3, 9, 9, 1, 7, 9, 1, 7, 1, 3, 3, 7, 9, 1, 7, 3, 1, 7, 7, 1, 3, 7, 9, 1, 7, 3, 9, 3, 7, 9, 7, 7, 9, 3, 9, 1, 1, 7, 9, 1, 3, 9, 1, 9, 3, 7, 7, 3, 9, 1, 7, 9, 1, 3, 1, 7, 3, 3, 9, 9, 1, 3, 3, 7, 9, 3, 9, 9, 1, 1, 1, 7, 1, 3, 7, 9, 1, 3, 9, 3, 9, 7, 1, 3, 1, 7, 9, 9, 7, 1, 7, 1, 9, 3, 9, 3, 7, 3, 7, 3, 7, 9, 3, 9, 9, 9, 1, 7, 9, 3, 7, 1, 3, 9, 3, 7, 3, 7, 9, 7, 9, 1, 3, 7, 9, 9, 7, 7, 9, 7, 1, 3, 1, 3, 9, 9, 3, 3, 7, 1, 3, 9, 1, 3, 3, 1, 9, 9, 7, 7, 9, 7, 3, 9, 1, 7, 3, 9, 3, 9, 3, 9, 1, 7, 1, 7, 9, 1, 9, 1, 3, 1, 7, 1, 9, 1, 1, 3, 3, 7, 3, 7, 7, 1, 3, 9, 9, 1, 7, 3, 7, 9, 3, 1, 1, 3, 9, 7, 3, 7, 1, 7, 3, 9, 7, 3, 9, 3, 7, 1, 7, 9, 7, 1, 3, 7, 3, 1, 9, 9, 7, 1, 3, 3, 3, 1, 3, 7, 3, 1, 7, 3, 7, 9, 1, 1, 3, 7, 9, 1, 9, 9, 3, 7, 1, 7, 9, 1, 3, 9, 1, 1, 7, 3, 7, 1, 7, 1, 3, 9, 3, 7, 3, 9, 1, 7, 3, 1, 3, 1, 1, 1, 7, 7, 7, 9, 1, 7, 1, 1, 9, 3, 9, 1, 9, 1, 1, 7, 9, 1, 7, 7, 3, 9, 3, 1, 7, 3, 1, 3, 3, 1, 9, 7, 9, 3, 7, 9, 9, 1, 1, 7, 7, 9, 9, 1, 7, 1, 3, 9, 1, 7, 1, 3, 3, 7, 9, 3, 7, 3, 1, 7, 7, 9, 7, 7, 3, 7, 1, 3, 9, 7, 7, 7, 3, 7, 9, 1, 9, 9, 1, 3, 9, 7, 3, 3, 1, 1, 3, 3, 1, 3, 9, 1, 3, 3, 9, 9, 1, 1, 3, 7, 3, 3, 7, 7, 3, 3, 1, 7, 9, 1, 3, 9, 1, 7, 1, 7, 9, 9, 1, 7, 9, 9, 7, 9, 3, 9, 3, 9, 1, 1, 7, 7, 1, 3, 3, 1, 9, 3, 9, 1, 7, 1, 7, 7, 9, 1, 7, 9, 9, 9, 7, 1, 3, 7, 9, 3, 9, 7, 9, 9, 3, 7, 1, 3, 9, 1, 3, 7, 7, 3, 3, 9, 7, 7, 9, 1, 1, 7, 1, 7, 3, 7, 7, 7, 7, 9, 7, 1, 1, 3, 7, 1, 7, 3, 1, 9, 7, 3, 7, 3, 7, 3, 9, 1, 7, 1, 3, 9, 1, 1, 7, 3, 1, 7, 1, 7, 3, 9, 9, 7, 9, 1, 7, 1, 3, 1, 7, 7, 9, 3, 1, 3, 9, 1, 7, 9, 7, 7, 9, 9, 9, 1, 9, 7, 9, 9, 1, 3, 1, 1, 3, 3, 7, 9, 3, 1, 7, 3, 9, 3, 9, 3, 7, 3, 9, 1, 3, 9, 1, 7, 9, 3, 7, 1, 1, 9, 3, 7, 1, 7, 7, 9, 7, 9, 1, 9, 9, 7, 1, 3, 1, 3, 9, 1, 7, 1, 3, 3, 1, 3, 1, 3, 9, 1, 1, 7, 9, 3, 9, 7, 1, 7, 1, 3, 7, 3, 9, 9, 1, 9, 1, 1, 7, 1, 3, 7, 1, 3, 3, 1, 3, 9, 9, 9, 7, 3, 3, 7, 9, 9, 9, 1, 3, 3, 3, 1, 7, 9, 7, 3, 1, 3, 7, 3, 9, 3, 1, 9, 1, 3, 3, 3, 9, 9, 9, 1, 7, 9, 3, 9, 3, 9, 7, 9, 9, 1, 3, 3, 7, 7, 9, 1, 3, 7, 9, 7, 9, 9, 1, 1, 3, 1, 1, 1, 1, 1, 7, 9, 3, 3, 7, 1, 9, 3, 9, 7, 1, 1, 7, 3, 1, 7, 3, 9, 3, 7, 9, 1, 7, 3, 9, 1, 7, 9, 3, 1, 7, 7, 9, 7, 3, 1, 1, 9, 9, 9, 1, 3, 7, 3, 7, 1, 7, 3, 9, 9, 1, 7, 3, 3, 9, 7, 3, 9, 1, 3, 7, 1, 7, 1, 9, 3, 7, 3, 3, 3, 9, 1, 1, 7, 9, 9, 3, 7, 1, 9, 9, 7, 7, 9, 3, 9, 1, 7, 3, 1, 3, 9, 7, 1, 9, 9, 1, 7, 1, 7, 7, 1, 3, 9, 3, 9, 1, 3, 1, 7, 1, 9, 3, 7, 3, 7, 3, 3, 1, 7, 1, 3, 7, 7, 9, 3, 1, 7, 9, 3, 1, 7, 3, 7, 7, 9, 9, 3, 9, 3, 3, 7, 9, 1, 9, 7, 3, 1, 3, 9, 7, 3, 9, 3, 1, 1, 3, 3, 3, 7, 3, 9, 1, 7, 9, 3, 9, 3, 1, 7, 1, 7, 3, 7, 1, 3, 7, 3, 3, 7, 9, 9, 1, 1, 9, 7, 9, 3, 9, 7, 1, 7, 9, 1, 7, 3, 7, 9, 9, 1, 1, 7, 7, 7, 9, 9, 3, 7, 7, 3, 1, 7, 3, 1, 7, 9, 1, 9, 1, 1, 9, 3, 1, 3, 9, 1, 7, 3, 1, 9, 1, 3, 9, 1, 3, 9, 1, 3, 7, 9, 7, 3, 1, 7, 9, 1, 7, 3, 3, 3, 7, 3, 7, 7, 9, 7, 9, 1, 1, 3, 9, 1, 3, 9, 3, 9, 7, 1, 7, 9, 1, 3, 1, 3, 3, 9, 1, 7, 3, 1, 1, 3, 3, 7, 3, 1, 9, 9, 7, 7, 3, 7, 1, 1, 7, 1, 9, 7, 9, 7, 3, 7, 3, 7, 7, 7, 9, 3, 1, 9, 9, 3, 9, 3, 1, 3, 7, 1, 3, 9, 1, 3, 1, 3, 7, 7, 3, 1, 1, 1, 3, 9, 7, 3, 1, 7, 9, 3, 9, 1, 3, 1, 7, 9, 1, 1, 7, 9, 3, 1, 7, 7, 7, 7, 9, 1, 9, 7, 1, 1, 3, 3, 9, 9, 9, 3, 7, 7, 3, 7, 1, 1, 7, 3, 9, 3, 9, 1, 1, 3, 7, 9, 1, 1, 7, 3, 1, 3, 1, 3, 7, 1, 7, 1, 7, 9, 7, 3, 9, 1, 3, 9, 1, 9, 3, 7, 1, 7, 9, 9, 7, 9, 9, 1, 3, 7, 1, 1, 7, 3, 9, 7, 3, 1, 3, 9, 1, 7, 7, 7, 9, 3, 3, 9, 7, 9, 7, 3, 7, 1, 3, 9, 1, 7, 3, 7, 1, 7, 7, 9, 7, 1, 9, 3, 9, 1, 9, 1, 9, 3, 3, 1, 1, 9, 3, 9, 3, 1, 7, 9, 7, 1, 9, 9, 1, 7, 9, 1, 9, 9, 1, 1, 1, 9, 7, 3, 7, 3, 7, 1, 1, 9, 3, 1, 9, 1, 7, 1, 9, 1, 3, 3, 7, 3, 7, 7, 7, 7, 1, 9, 9, 3, 7, 9, 1, 7, 9, 9, 3, 3, 3, 7, 1, 9, 9, 7, 9, 3, 3, 9, 3, 9, 3, 9, 1, 3, 1, 1, 1, 7, 9, 3, 9, 1, 9, 1, 1, 3, 9, 1, 7, 1, 7, 9, 3, 3, 9, 3, 1, 1, 7, 3, 9, 7, 3, 9, 3, 3, 9, 9, 7, 1, 7, 9, 1, 3, 9, 3, 3, 1, 7, 1, 3, 7, 9, 3, 1, 3, 1, 7, 9, 1, 7, 1, 1, 9, 7, 7, 9, 9, 3, 9, 7, 7, 1, 1, 9, 1, 3, 3, 7, 1, 7, 3, 1, 7, 1, 1, 1, 3, 7, 3, 3, 3, 9, 3, 7, 1, 3, 7, 7, 3, 9, 1, 1, 9, 3, 7, 3, 9, 3, 7, 1, 7, 1, 7, 1, 3, 9, 9, 3, 9, 9, 3, 7, 3, 7, 1, 3, 7, 3, 3, 9, 3, 9, 9, 1, 1, 7, 1, 7, 1, 1, 3, 7, 9, 7, 9, 3, 9, 7, 1, 9, 1, 3, 7, 9, 9, 1, 7, 9, 3, 3, 3, 3, 9, 9, 1, 9, 3, 1, 7, 7, 3, 1, 1, 9, 9, 7, 1, 7, 3, 7, 1, 1, 7, 9, 9, 3, 7, 9, 1, 3, 3, 1, 7, 3, 9, 1, 7, 1, 9, 1, 9, 7, 3, 9, 7, 1, 7, 9, 1, 3, 9, 1, 7, 7, 9, 3, 7, 3, 7, 3, 1, 3, 9, 3, 1, 7, 7, 9, 9, 1, 1, 7, 9, 1, 7, 1, 3, 7, 9, 3, 1, 7, 9, 7, 3, 9, 3, 9, 7, 9, 1, 7, 1, 9, 3, 9, 7, 7, 3, 1, 1, 3, 7, 1, 9, 7, 1, 9, 7, 1, 1, 9, 7, 7, 7, 9, 3, 9, 1, 3, 3, 9, 1, 7, 3, 9, 1, 9, 1, 7, 9, 3, 7, 9, 9, 1, 1, 9, 1, 7, 1, 7, 9, 1, 7, 9, 1, 7, 7, 1, 3, 9, 1, 3, 3, 9, 7, 7, 1, 1, 7, 9, 9, 7, 9, 7, 1, 3, 7, 9, 1, 7, 9, 1, 3, 7, 9, 3, 1, 3, 7, 3, 1, 3, 3, 1, 3, 9, 1, 1, 7, 7, 3, 9, 1, 7, 7, 9, 1, 1, 1, 1, 3, 7, 7, 9, 7, 7, 9, 3, 7, 1, 7, 9, 3, 9, 1, 3, 3, 1, 3, 7, 3, 7, 7, 9, 9, 1, 3, 7, 9, 1, 3, 7, 1, 7, 1, 9, 3, 7, 7, 3, 1, 3, 3, 3, 7, 9, 7, 3, 7, 3, 7, 3, 1, 9, 7, 7, 9, 3, 1, 3, 7, 1, 9, 7, 9, 1, 1, 3, 3, 7, 3, 3, 1, 3, 9, 1, 3, 3, 1, 9, 1, 7, 7, 9, 3, 9, 9, 7, 1, 3, 9, 9, 1, 3, 9, 1, 3, 7, 3, 7, 1, 9, 7, 9, 7, 1, 9, 7, 9, 1, 1, 3, 9, 9, 1, 9, 3, 7, 1, 7, 9, 3, 7, 3, 7, 1, 3, 7, 9, 3, 1, 3, 7, 3, 7, 9, 1, 9, 1, 3, 9, 1, 7, 1, 3, 7, 9, 7, 3, 1, 7, 3, 7, 9, 1, 1, 3, 1, 7, 1, 9, 9, 7, 9, 7, 9, 3, 9, 7, 3, 9, 1, 9, 7, 1, 3, 1, 7, 3, 9, 7, 3, 7, 9, 1, 7, 7, 1, 3, 1, 7, 9, 9, 1, 3, 7, 3, 3, 9, 3, 7, 7, 9, 1, 9, 3, 9, 1, 1, 9, 9, 1, 7, 7, 3, 3, 9, 1, 3, 9, 7, 7, 7, 9, 1, 3, 9, 3, 3, 7, 7, 1, 7, 1, 9, 1, 7, 9, 3, 9, 1, 9, 1, 3, 9, 7, 3, 7, 1, 3, 3, 1, 9, 3, 9, 9, 9, 9, 7, 7, 1, 3, 1, 3, 9, 1, 3, 7, 9, 1, 3, 7, 9, 9, 3, 7, 9, 7, 9, 7, 1, 3, 7, 1, 7, 9, 9, 3, 7, 1, 1, 3, 7, 9, 3, 7, 9, 1, 9, 7, 1, 1, 9, 3, 7, 9, 9, 9, 7, 7, 3, 9, 1, 7, 7, 3, 9, 1, 7, 7, 3, 7, 7, 3, 9, 3, 7, 9, 3, 1, 9, 1, 3, 3, 1, 3, 7, 7, 3, 1, 7, 9, 7, 7, 9, 3, 1, 7, 9, 1, 9, 3, 1, 7, 3, 1, 9, 7, 7, 7, 3, 7, 7, 7, 9, 9, 7, 7, 7, 3, 7, 3, 1, 1, 7, 9, 3, 9, 3, 9, 1, 9, 7, 1, 3, 9, 1, 1, 3, 7, 1, 9, 7, 9, 1, 7, 1, 3, 9, 7, 9, 1, 3, 9, 3, 7, 7, 9, 9, 1, 1, 3, 9, 3, 9, 1, 3, 1, 7, 1, 3, 9, 1, 3, 7, 1, 7, 3, 9, 3, 3, 9, 1, 3, 9, 1, 7, 7, 9, 3, 9, 1, 1, 3, 9, 1, 3, 7, 9, 3, 1, 7, 7, 3, 7, 3, 7, 1, 3, 9, 9, 1, 1, 7, 3, 7, 9, 3, 3, 9, 1, 3, 7, 9, 1, 7, 9, 1, 3, 9, 7, 1, 7, 1, 3, 7, 9, 3, 1, 1, 3, 3, 9, 7, 1, 9, 1, 7, 7, 9, 3, 9, 7, 1, 9, 9, 3, 1, 9, 7, 9, 9, 1, 7, 3, 3, 3, 7, 7, 9, 3, 1, 9, 3, 7, 7, 9, 1, 3, 7, 9, 3, 7, 7, 1, 9, 7, 9, 9, 3, 9, 3, 3, 1, 9, 1, 3, 9, 1, 7, 7, 7, 3, 1, 7, 1, 7, 3, 9, 1, 3, 9, 3, 9, 1, 1, 1, 3, 1, 3, 3, 1, 9, 7, 3, 7, 9, 1, 7, 7, 9, 1, 3, 9, 7, 3, 9, 1, 9, 3, 7, 1, 9, 1, 7, 3, 9, 1, 9, 3, 1, 7, 3, 1, 7, 3, 3, 7, 3, 7, 3, 9, 1, 1, 9, 3, 9, 3, 9, 1, 3, 9, 3, 7, 9, 7, 1, 3, 1, 1, 7, 3, 7, 3, 7, 1, 3, 9, 7, 1, 9, 1, 7, 3, 9, 7, 3, 7, 3, 1, 1, 9, 3, 3, 7, 3, 1, 9, 1, 9, 1, 9, 3, 9, 3, 9, 9, 3, 1, 9, 1, 7, 9, 1, 9, 1, 1, 3, 7, 3, 1, 3, 1, 3, 3, 1, 7, 7, 7, 1, 7, 3, 7, 1, 7, 7, 3, 7, 3, 9, 9, 3, 7, 9, 3, 3, 1, 1, 3, 3, 9, 3, 9, 7, 1, 9, 1, 7, 9, 1, 3, 9, 1, 9, 7, 3, 9, 1, 7, 9, 9, 3, 9, 1, 9, 1, 1, 3, 3, 3, 7, 1, 3, 1, 9, 7, 7, 1, 3, 1, 3, 7, 7, 3, 7, 3, 9, 1, 7, 3, 7, 1, 7, 9, 3, 7, 1, 3, 3, 9, 7, 1, 9, 1, 3, 1, 7, 3, 7, 3, 9, 7, 1, 3, 1, 1, 3, 1, 9, 3, 7, 9, 1, 7, 7, 9, 3, 9, 7, 9, 7, 3, 1, 7, 1, 3, 9, 3, 1, 7, 1, 7, 1, 3, 9, 9, 7, 1, 7, 3, 9, 7, 1, 3, 9, 1, 7, 9, 7, 1, 7, 1, 1, 3, 7, 3, 9, 7, 3, 7, 3, 7, 3, 9, 7, 7, 9, 1, 1, 7, 9, 3, 7, 3, 9, 3, 9, 3, 9, 9, 3, 1, 9, 3, 7, 1, 7, 3, 7, 1, 3, 9, 9, 7, 7, 9, 3, 9, 1, 3, 9, 9, 3, 1, 1, 3, 1, 1, 3, 3, 7, 3, 7, 7, 3, 7, 3, 1, 7, 1, 9, 7, 1, 7, 9, 7, 3, 9, 7, 3, 3, 1, 9, 1, 3, 1, 3, 3, 3, 9, 3, 7, 3, 9, 9, 3, 3, 1, 7, 9, 1, 7, 3, 7, 3, 9, 3, 7, 1, 7, 1, 7, 1, 9, 1, 1, 9, 1, 3, 3, 1, 7, 7, 3, 9, 1, 1, 3, 9, 1, 3, 7, 3, 1, 7, 7, 3, 1, 7, 1, 1, 9, 7, 3, 9, 7, 1, 9, 7, 3, 1, 9, 3, 9, 1, 3, 9, 3, 3, 7, 3, 9, 1, 9, 1, 7, 7, 3, 7, 3, 7, 1, 3, 9, 3, 9, 1, 3, 7, 1, 9, 7, 1, 3, 9, 1, 3, 9, 1, 7, 7, 1, 1, 3, 7, 9, 1, 3, 9, 3, 9, 7, 1, 9, 3, 9, 1, 7, 1, 1, 3, 9, 1, 1, 3, 9, 3, 7, 7, 9, 9, 1, 1, 3, 9, 3, 9, 1, 3, 1, 3, 3, 7, 9, 1, 9, 9, 7, 7, 9, 1, 3, 9, 7, 7, 9, 7, 1, 3, 7, 3, 7, 1, 7, 3, 3, 1, 9, 9, 3, 7, 3, 9, 9, 3, 9, 3, 1, 3, 3, 1, 1, 3, 1, 3, 9, 3, 7, 7, 7, 1, 9, 1, 1, 7, 7, 9, 7, 3, 9, 1, 7, 9, 3, 9, 1, 9, 3, 9, 7, 3, 9, 9, 3, 7, 9, 9, 3, 7, 1, 1, 3, 7, 7, 3, 9, 3, 1, 9, 1, 3, 3, 1, 7, 1, 3, 9, 1, 7, 1, 3, 7, 1, 9, 3, 1, 1, 9, 3, 1, 7, 1, 1, 7, 7, 9, 1, 7, 7, 9, 9, 1, 1, 7, 7, 9, 9, 1, 7, 9, 1, 1, 7, 3, 9, 3, 3, 1, 3, 9, 1, 3, 9, 3, 7, 1, 9, 3, 3, 3, 1, 9, 9, 1, 3, 7, 9, 9, 7, 3, 3, 3, 9, 3, 9, 1, 1, 7, 1, 9, 1, 7, 9, 9, 1, 3, 9, 7, 1, 3, 9, 7, 9, 7, 7, 3, 9, 3, 9, 7, 9, 7, 1, 1, 7, 1, 3, 3, 1, 9, 9, 1, 9, 9, 7, 9, 3, 7, 7, 3, 1, 9, 7, 3, 1, 7, 9, 9, 7, 9, 1, 1, 1, 7, 9, 9, 1, 3, 3, 9, 7, 3, 3, 7, 3, 9, 1, 7, 3, 1, 3, 3, 7, 7, 9, 7, 3, 1, 3, 7, 9, 3, 1, 7, 9, 1, 9, 3, 1, 3, 1, 3, 3, 9, 1, 3, 1, 1, 7, 7, 9, 7, 9, 9, 3, 9, 1, 3, 7, 9, 1, 1, 3, 9, 9, 7, 7, 9, 1, 9, 7, 3, 9, 3, 7, 3, 1, 9, 9, 1, 7, 1, 3, 9, 7, 1, 7, 1, 9, 1, 7, 3, 3, 7, 9, 1, 1, 7, 1, 3, 1, 9, 1, 7, 7, 1, 3, 7, 3, 9, 1, 3, 3, 7, 7, 7, 9, 3, 7, 9, 1, 7, 1, 3, 9, 3, 9, 9, 3, 9, 9, 3, 1, 7, 3, 1, 1, 7, 3, 7, 3, 9, 3, 9, 1, 1, 1, 9, 9, 1, 3, 9, 3, 7, 1, 3, 7, 7, 1, 7, 9, 3, 9, 1, 7, 9, 9, 7, 3, 7, 1, 3, 9, 1, 3, 7, 7, 7, 9, 1, 3, 7, 1, 1, 7, 1, 3, 9, 3, 9, 3, 1, 7, 9, 9, 7, 1, 9, 1, 7, 9, 1, 1, 3, 9, 1, 3, 1, 7, 9, 9, 1, 7, 3, 9, 1, 1, 7, 1, 7, 1, 9, 3, 7, 3, 9, 9, 7, 9, 3, 1, 7, 1, 3, 9, 1, 3, 9, 7, 1, 7, 9, 3, 7, 1, 7, 9, 3, 3, 9, 1, 1, 3, 9, 7, 1, 9, 1, 7, 9, 9, 1, 3, 7, 9, 3, 3, 1, 9, 3, 9, 1, 3, 3, 7, 7, 1, 3, 3, 9, 3, 1, 3, 7, 7, 9, 3, 9, 3, 1, 7, 9, 1, 7, 3, 1, 1, 9, 1, 9, 1, 9, 9, 7, 7, 3, 9, 1, 7, 3, 7, 3, 1, 9, 1, 3, 1, 7, 3, 7, 9, 7, 3, 7, 3, 9, 1, 3, 7, 1, 9, 9, 1, 7, 9, 1, 7, 9, 7, 7, 9, 1, 3, 9, 9, 7, 9, 9, 1, 7, 3, 3, 1, 9, 3, 9, 1, 3, 9, 3, 1, 3, 1, 7, 1, 7, 1, 9, 1, 7, 7, 9, 1, 7, 7, 9, 3, 1, 3, 1, 3, 1, 7, 1, 7, 9, 7, 1, 3, 1, 9, 9, 9, 1, 3, 9, 1, 1, 7, 9, 7, 9, 3, 7, 1, 3, 9, 1, 7, 3, 7, 9, 1, 7, 9, 9, 3, 1, 7, 1, 9, 3, 9, 1, 1, 7, 9, 3, 1, 7, 1, 9, 7, 1, 7, 9, 9, 1, 7, 1, 7, 7, 1, 3, 9, 1, 3, 7, 3, 3, 1, 1, 3, 3, 1, 7, 9, 3, 1, 1, 9, 3, 7, 3, 9, 7, 7, 9, 7, 1, 1, 3, 1, 3, 9, 3, 1, 1, 1, 7, 1, 7, 3, 9, 7, 9, 3, 7, 9, 1, 7, 7, 9, 7, 9, 3, 3, 7, 3, 3, 9, 3, 7, 1, 1, 3, 1, 7, 1, 1, 7, 3, 1, 1, 1, 3, 3, 9, 7, 1, 1, 7, 9, 7, 9, 9, 1, 7, 3, 1, 9, 3, 9, 7, 1, 3, 7, 3, 7, 3, 7, 3, 1, 3, 9, 1, 7, 9, 9, 7, 1, 3, 1, 9, 3, 9, 9, 3, 7, 7, 3, 7, 3, 9, 9, 1, 3, 3, 1, 7, 1, 7, 7, 9, 1, 1, 9, 9, 3, 7, 3, 9, 3, 7, 1, 3, 7, 1, 7, 1, 3, 7, 9, 1, 7, 3, 7, 9, 1, 1, 9, 7, 1, 7, 1, 7, 9, 3, 1, 1, 7, 9, 9, 3, 9, 3, 9, 1, 7, 3, 9, 3, 9, 3, 7, 9, 7, 3, 9, 3, 9, 1, 1, 7, 7, 1, 3, 7, 3, 9, 1, 3, 7, 1, 1, 7, 9, 7, 1, 3, 7, 7, 9, 1, 1, 3, 7, 3, 7, 1, 7, 9, 3, 9, 7, 3, 9, 7, 7, 1, 3, 9, 3, 9, 3, 7, 3, 7, 9, 3, 7, 1, 1, 3, 1, 9, 3, 3, 1, 9, 7, 7, 1, 9, 1, 7, 9, 7, 3, 9, 3, 7, 3, 7, 1, 7, 3, 3, 9, 1, 9, 9, 9, 7, 1, 1, 7, 1, 3, 1, 3, 1, 7, 9, 9, 3, 9, 1, 7, 3, 3, 3, 3, 9, 1, 7, 9, 3, 9, 7, 9, 1, 7, 9, 1, 7, 3, 7, 1, 7, 1, 3, 9, 7, 9, 1, 3, 9, 7, 1, 3, 9, 1, 3, 3, 3, 9, 7, 3, 1, 9, 3, 1, 7, 3, 1, 1, 7, 9, 9, 3, 7, 9, 3, 7, 9, 3, 7, 9, 1, 3, 1, 1, 7, 3, 1, 9, 9, 1, 9, 1, 1, 9, 3, 9, 1, 3, 9, 7, 3, 7, 1, 7, 7, 7, 1, 7, 1, 7, 3, 7, 3, 1, 3, 9, 1, 3, 9, 7, 1, 9, 1, 3, 1, 1, 1, 7, 1, 3, 9, 3, 7, 7, 9, 1, 1, 3, 1, 3, 7, 3, 9, 1, 3, 9, 7, 9, 7, 7, 3, 1, 9, 9, 7, 9, 3, 1, 3, 1, 9, 7, 1, 7, 3, 3, 9, 7, 7, 9, 3, 1, 9, 3, 1, 9, 1, 9, 1, 7, 9, 3, 9, 9, 9, 3, 9, 9, 7, 3, 3, 3, 9, 1, 3, 1, 7, 9, 3, 3, 1, 9, 3, 7, 1, 3, 1, 3, 9, 7, 7, 3, 1, 3, 9, 1, 9, 1, 3, 9, 1, 3, 3, 7, 7, 9, 1, 3, 9, 7, 1, 7, 7, 3, 7, 9, 9, 3, 1, 1, 3, 1, 7, 1, 3, 7, 3, 1, 1, 9, 3, 7, 3, 9, 7, 3, 7, 3, 1, 1, 3, 9, 3, 7, 1, 9, 1, 7, 1, 9, 9, 1, 3, 7, 9, 3, 3, 1, 9, 7, 7, 9, 1, 3, 9, 3, 1, 9, 1, 3, 1, 1, 3, 9, 1, 3, 9, 1, 7, 3, 7, 1, 3, 9, 7, 9, 7, 3, 1, 3, 9, 7, 3, 1, 1, 7, 3, 9, 3, 7, 9, 9, 1, 7, 7, 3, 9, 3, 7, 3, 1, 7, 3, 9, 7, 9, 7, 9, 7, 9, 1, 3, 3, 1, 7, 7, 9, 9, 3, 9, 7, 1, 9, 1, 3, 1, 7, 9, 3, 9, 9, 7, 1, 9, 9, 7, 9, 1, 7, 7, 9, 1, 9, 3, 9, 1, 1, 3, 7, 7, 9, 1, 1, 7, 1, 7, 1, 3, 9, 1, 3, 7, 1, 3, 7, 3, 9, 1, 1, 3, 1, 1, 3, 9, 1, 3, 9, 7, 9, 1, 1, 9, 3, 3, 7, 3, 7, 7, 9, 9, 3, 9, 3, 9, 7, 3, 9, 3, 9, 7, 7, 9, 1, 3, 9, 1, 7, 1, 1, 9, 7, 3, 1, 7, 7, 3, 3, 1, 3, 9, 3, 9, 9, 3, 9, 7, 9, 1, 7, 7, 1, 3, 9, 1, 9, 3, 3, 7, 3, 9, 1, 3, 3, 7, 3, 1, 9, 3, 3, 9, 1, 9, 1, 7, 7, 3, 1, 9, 3, 1, 1, 1, 9, 1, 7, 3, 9, 9, 1, 3, 7, 3, 7, 7, 9, 3, 7, 9, 1, 9, 3, 1, 3, 1, 7, 1, 3, 9, 7, 1, 3, 9, 3, 1, 1, 3, 1, 3, 7, 3, 1, 3, 9, 1, 9, 9, 7, 3, 7, 9, 1, 9, 1, 7, 7, 1, 3, 9, 1, 3, 1, 7, 9, 3, 7, 9, 3, 7, 1, 3, 1, 3, 7, 3, 1, 7, 7, 3, 3, 7, 9, 3, 3, 9, 1, 3, 1, 1, 3, 7, 1, 9, 9, 3, 7, 9, 9, 1, 3, 9, 1, 7, 3, 9, 7, 7, 3, 1, 1, 7, 3, 7, 9, 3, 9, 1, 3, 3, 9, 1, 1, 7, 7, 3, 9, 7, 1, 7, 9, 3, 7, 3, 7, 7, 9, 9, 9, 1, 7, 9, 7, 3, 7, 1, 9, 1, 3, 1, 3, 1, 1, 3, 1, 7, 1, 7, 7, 9, 7, 3, 9, 7, 7, 1, 9, 9, 7, 9, 3, 7, 3, 9, 3, 9, 3, 7, 7, 7, 3, 7, 9, 1, 7, 3, 7, 3, 7, 1, 9, 3, 7, 1, 7, 3, 9, 1, 3, 9, 7, 9, 7, 1, 1, 7, 3, 9, 7, 9, 9, 1, 7, 3, 1, 3, 7, 9, 3, 9, 7, 1, 3, 9, 3, 7, 1, 9, 9, 7, 9, 1, 3, 3, 3, 7, 3, 1, 7, 9, 9, 3, 7, 9, 1, 1, 3, 7, 7, 7, 3, 1, 7, 7, 9, 1, 3, 1, 9, 1, 9, 1, 7, 1, 1, 3, 7, 9, 3, 7, 1, 1, 7, 3, 1, 7, 7, 9, 3, 1, 7, 3, 7, 9, 3, 7, 1, 1, 1, 3, 7, 7, 1, 7, 7, 3, 1, 7, 9, 3, 3, 3, 9, 7, 1, 1, 9, 9, 3, 3, 1, 7, 1, 3, 9, 9, 3, 1, 7, 1, 3, 1, 3, 9, 3, 1, 9, 7, 3, 7, 3, 9, 7, 9, 3, 9, 3, 1, 7, 9, 3, 7, 9, 1, 9, 7, 1, 3, 7, 9, 3, 7, 1, 3, 3, 9, 1, 9, 3, 9, 1, 7, 9, 3, 1, 9, 9, 1, 7, 3, 1, 1, 9, 3, 7, 7, 1, 7, 9, 7, 1, 7, 3, 1, 7, 9, 9, 7, 3, 3, 9, 7, 1, 1, 9, 3, 1, 3, 9, 1, 9, 9, 9, 1, 7, 3, 3, 9, 1, 3, 9, 9, 1, 3, 7, 1, 7, 3, 1, 1, 3, 9, 3, 1, 3, 7, 9, 1, 1, 3, 7, 9, 1, 9, 9, 1, 3, 1, 7, 1, 3, 1, 9, 3, 7, 1, 7, 7, 7, 9, 3, 7, 3, 1, 9, 3, 1, 9, 9, 7, 9, 7, 3, 9, 3, 1, 1, 3, 7, 9, 7, 9, 3, 1, 3, 1, 7, 1, 7, 9, 3, 9, 1, 7, 9, 1, 9, 3, 9, 1, 3, 3, 7, 9, 1, 9, 3, 1, 3, 3, 1, 1, 7, 9, 1, 7, 1, 3, 7, 9, 3, 9, 1, 3, 3, 1, 7, 7, 3, 9, 7, 1, 9, 1, 7, 1, 3, 9, 3, 3, 7, 7, 3, 1, 1, 3, 7, 9, 1, 3, 9, 7, 7, 3, 9, 3, 7, 7, 9, 7, 1, 1, 9, 9, 3, 1, 3, 3, 9, 1, 7, 9, 1, 1, 7, 3, 1, 7, 1, 3, 9, 9, 7, 3, 9, 7, 3, 9, 9, 7, 7, 1, 9, 7, 3, 1, 1, 9, 9, 7, 3, 1, 7, 3, 9, 7, 3, 1, 7, 3, 9, 9, 7, 1, 3, 9, 3, 7, 3, 7, 3, 7, 9, 9, 1, 3, 9, 1, 7, 3, 1, 7, 3, 7, 9, 3, 9, 1, 3, 7, 9, 1, 7, 1, 3, 3, 1, 7, 7, 9, 1, 7, 9, 9, 1, 1, 3, 1, 3, 1, 1, 7, 7, 1, 9, 1, 3, 9, 3, 9, 1, 9, 7, 3, 1, 7, 1, 3, 7, 3, 7, 7, 3, 9, 3, 7, 1, 3, 7, 9, 9, 1, 9, 7, 9, 7, 3, 9, 1, 9, 3, 1, 7, 1, 3, 9, 1, 3, 1, 1, 9, 9, 1, 7, 7, 3, 3, 7, 9, 7, 3, 7, 9, 9, 9, 9, 1, 1, 9, 1, 3, 9, 9, 7, 7, 3, 3, 3, 1, 7, 7, 7, 9, 9, 9, 7, 7, 3, 1, 3, 7, 1, 3, 3, 7, 7, 9, 1, 3, 1, 3, 9, 7, 9, 1, 3, 1, 1, 9, 1, 3, 3, 1, 7, 1, 7, 3, 3, 7, 9, 1, 7, 1, 9, 3, 9, 7, 1, 7, 9, 9, 7, 3, 1, 7, 9, 7, 7, 9, 9, 1, 7, 3, 1, 1, 3, 1, 3, 9, 3, 1, 3, 9, 3, 1, 1, 9, 3, 9, 3, 1, 9, 3, 1, 1, 1, 7, 1, 9, 1, 3, 9, 3, 7, 3, 9, 7, 7, 9, 1, 1, 9, 1, 7, 1, 7, 1, 9, 3, 7, 9, 1, 9, 3, 3, 7, 9, 9, 3, 7, 7, 1, 7, 9, 7, 1, 1, 3, 7, 9, 7, 9, 7, 9, 1, 3, 3, 1, 1, 7, 3, 9, 3, 7, 3, 3, 3, 7, 7, 9, 3, 1, 1, 7, 1, 9, 1, 7, 7, 9, 3, 7, 1, 7, 9, 3, 7, 1, 9, 9, 1, 9, 7, 3, 7, 3, 9, 3, 3, 1, 7, 7, 9, 3, 1, 7, 9, 1, 9, 1, 7, 3, 3, 3, 9, 7, 1, 3, 1, 1, 7, 9, 9, 7, 9, 7, 3, 7, 1, 7, 3, 3, 3, 7, 7, 3, 3, 7, 1, 9, 1, 3, 9, 3, 1, 9, 3, 7, 7, 1, 1, 9, 7, 9, 3, 7, 9, 3, 9, 3, 9, 7, 3, 9, 9, 7, 9, 9, 1, 7, 3, 1, 7, 3, 9, 7, 7, 1, 7, 9, 1, 3, 3, 9, 3, 9, 3, 7, 3, 1, 9, 1, 7, 1, 3, 7, 9, 1, 1, 3, 9, 3, 9, 7, 1, 7, 9, 9, 3, 9, 7, 1, 3, 9, 7, 3, 3, 7, 1, 1, 7, 3, 7, 9, 1, 7, 3, 3, 9, 7, 9, 1, 7, 9, 9, 1, 7, 3, 9, 7, 1, 3, 7, 7, 7, 9, 1, 7, 1, 9, 1, 3, 9, 3, 1, 3, 7, 1, 3, 3, 1, 3, 7, 7, 3, 3, 7, 9, 1, 7, 1, 3, 3, 1, 7, 9, 3, 9, 1, 7, 3, 7, 7, 3, 9, 3, 9, 7, 1, 3, 1, 7, 7, 9, 3, 7, 9, 7, 1, 1, 3, 1, 7, 9, 1, 9, 7, 3, 1, 7, 7, 9, 1, 3, 1, 3, 9, 7, 7, 1, 7, 1, 3, 9, 1, 7, 9, 7, 3, 7, 9, 3, 7, 7, 3, 9, 1, 7, 9, 9, 1, 7, 7, 3, 9, 7, 9, 3, 9, 1, 7, 1, 9, 3, 9, 1, 7, 3, 9, 9, 7, 1, 1, 7, 9, 3, 1, 9, 1, 7, 3, 1, 7, 1, 3, 9, 7, 3, 7, 9, 1, 9, 1, 7, 9, 7, 3, 9, 9, 1, 7, 9, 3, 1, 3, 3, 1, 7, 7, 9, 3, 1, 7, 1, 7, 1, 3, 9, 9, 3, 9, 3, 7, 7, 1, 3, 9, 1, 3, 1, 1, 3, 3, 1, 9, 7, 9, 9, 7, 3, 7, 9, 9, 1, 9, 9, 3, 1, 3, 7, 7, 3, 1, 3, 7, 1, 3, 7, 3, 1, 3, 9, 7, 1, 9, 3, 1, 1, 7, 3, 7, 1, 7, 1, 3, 1, 7, 7, 1, 9, 1, 9, 7, 1, 9, 3, 7, 3, 9, 1, 3, 7, 9, 1, 3, 9, 7, 9, 3, 1, 7, 1, 9, 7, 7, 3, 3, 9, 1, 9, 3, 9, 7, 3, 9, 3, 1, 3, 1, 3, 7, 9, 1, 7, 9, 1, 3, 7, 9, 3, 9, 1, 9, 3, 1, 1, 9, 7, 3, 7, 3, 7, 9, 7, 3, 1, 3, 9, 1, 3, 7, 9, 1, 7, 9, 3, 1, 7, 9, 3, 1, 9, 1, 3, 1, 1, 7, 1, 3, 3, 9, 9, 3, 9, 9, 1, 3, 7, 3, 9, 1, 1, 3, 7, 7, 1, 7, 9, 9, 1, 7, 9, 9, 7, 3, 9, 7, 1, 3, 7, 3, 9, 9, 7, 1, 7, 3, 7, 9, 3, 7, 3, 1, 1, 7, 9, 1, 1, 3, 9, 1, 7, 1, 9, 7, 9, 9, 1, 7, 1, 1, 9, 1, 7, 9, 9, 3, 9, 1, 3, 7, 7, 3, 9, 1, 1, 3, 9, 1, 1, 7, 9, 3, 1, 1, 9, 9, 1, 7, 9, 9, 3, 3, 1, 7, 1, 1, 9, 3, 9, 1, 3, 3, 7, 3, 9, 9, 9, 7, 1, 1, 1, 9, 7, 3, 9, 9, 1, 1, 1, 7, 3, 1, 7, 1, 3, 7, 3, 3, 9, 9, 3, 3, 7, 1, 1, 3, 9, 3, 9, 7, 3, 7, 7, 1, 7, 9, 3, 7, 3, 9, 1, 9, 1, 3, 1, 1, 3, 9, 3, 7, 7, 9, 7, 9, 3, 7, 9, 1, 1, 9, 1, 7, 9, 1, 9, 7, 3, 1, 7, 7, 9, 9, 9, 3, 9, 1, 3, 7, 9, 3, 7, 9, 7, 1, 9, 7, 1, 1, 7, 3, 1, 7, 3, 3, 7, 9, 1, 3, 9, 7, 3, 9, 1, 3, 9, 3, 7, 1, 7, 1, 7, 9, 9, 3, 1, 3, 9, 7, 7, 3, 3, 7, 9, 9, 7, 9, 1, 3, 1, 9, 3, 9, 7, 1, 7, 3, 9, 1, 7, 3, 7, 9, 1, 3, 7, 7, 9, 1, 7, 7, 3, 9, 1, 9, 7, 9, 7, 1, 3, 7, 1, 9, 7, 9, 7, 1, 3, 1, 3, 7, 9, 1, 9, 1, 3, 7, 3, 7, 3, 1, 3, 1, 1, 1, 9, 9, 7, 7, 9, 3, 9, 1, 3, 1, 9, 1, 9, 3, 9, 7, 7, 9, 3, 7, 3, 3, 3, 9, 3, 9, 7, 9, 3, 1, 7, 9, 3, 7, 7, 9, 1, 7, 1, 3, 7, 7, 7, 9, 3, 1, 3, 7, 3, 1, 9, 9, 1, 3, 7, 9, 7, 3, 3, 9, 9, 3, 7, 9, 9, 7, 3, 3, 3, 7, 7, 9, 3, 9, 1, 7, 3, 3, 7, 3, 3, 9, 1, 3, 9, 1, 7, 1, 3, 7, 9, 9, 1, 1, 7, 9, 1, 1, 3, 9, 9, 3, 3, 1, 7, 3, 9, 1, 1, 3, 1, 3, 7, 1, 9, 7, 9, 3, 9, 1, 7, 3, 7, 3, 7, 1, 1, 7, 9, 7, 3, 7, 3, 3, 1, 3, 1, 7, 9, 3, 7, 1, 3, 9, 9, 1, 1, 9, 9, 1, 9, 1, 1, 1, 7, 9, 3, 3, 1, 7, 1, 3, 7, 7, 3, 9, 3, 9, 1, 7, 9, 1, 1, 7, 1, 9, 1, 9, 3, 3, 9, 3, 9, 3, 9, 1, 3, 7, 1, 3, 7, 7, 7, 9, 9, 1, 7, 3, 9, 1, 3, 1, 7, 1, 9, 3, 9, 7, 9, 7, 1, 1, 3, 9, 9, 3, 9, 7, 7, 7, 9, 3, 3, 3, 7, 9, 1, 7, 1, 3, 7, 1, 3, 9, 7, 3, 9, 9, 9, 1, 9, 7, 7, 1, 3, 9, 1, 3, 7, 7, 9, 7, 3, 7, 3, 1, 3, 3, 7, 3, 9, 1, 7, 7, 9, 3, 9, 1, 3, 7, 7, 9, 7, 1, 9, 1, 7, 1, 9, 7, 7, 1, 9, 7, 3, 9, 7, 1, 9, 9, 1, 7, 9, 7, 9, 1, 1, 9, 1, 7, 3, 7, 3, 7, 1, 7, 3, 1, 3, 9, 3, 1, 7, 7, 9, 9, 1, 7, 7, 3, 3, 1, 9, 1, 7, 9, 1, 3, 7, 7, 3, 9, 7, 3, 9, 3, 7, 3, 3, 1, 7, 7, 3, 9, 1, 7, 9, 7, 9, 3, 1, 9, 9, 1, 7, 9, 9, 3, 9, 1, 7, 9, 3, 7, 1, 1, 7, 3, 7, 9, 1, 9, 1, 7, 3, 3, 9, 3, 7, 3, 9, 3, 9, 7, 9, 9, 1, 9, 3, 7, 1, 3, 7, 1, 1, 3, 9, 7, 9, 7, 3, 1, 3, 7, 9, 3, 7, 1, 9, 3, 9, 1, 3, 9, 1, 3, 7, 1, 3, 9, 7, 1, 3, 3, 3, 1, 7, 3, 1, 7, 7, 3, 3, 9, 9, 9, 1, 9, 7, 1, 3, 3, 7, 7, 9, 1, 7, 3, 3, 1, 1, 3, 9, 1, 3, 3, 3, 9, 3, 7, 1, 3, 9, 1, 9, 1, 1, 3, 1, 9, 3, 7, 1, 3, 9, 1, 9, 7, 1, 7, 7, 3, 9, 9, 3, 1, 7, 7, 7, 1, 3, 9, 3, 3, 7, 1, 3, 1, 7, 3, 7, 7, 9, 3, 7, 3, 7, 3, 7, 3, 9, 1, 9, 1, 1, 3, 9, 7, 9, 9, 1, 7, 9, 1, 7, 9, 1, 9, 9, 1, 7, 3, 9, 1, 3, 7, 3, 7, 1, 7, 7, 9, 1, 3, 3, 3, 1, 3, 3, 1, 1, 3, 9, 7, 3, 7, 1, 9, 3, 7, 9, 3, 1, 1, 7, 9, 1, 7, 3, 7, 9, 7, 9, 7, 3, 3, 7, 9, 1, 9, 1, 3, 3, 7, 3, 7, 9, 1, 3, 7, 3, 9, 3, 1, 9, 1, 1, 7, 3, 1, 3, 1, 3, 7, 1, 7, 7, 3, 9, 7, 9, 7, 1, 7, 3, 1, 3, 9, 1, 3, 7, 7, 1, 9, 7, 9, 1, 1, 9, 9, 7, 3, 1, 7, 9, 9, 9, 1, 1, 1, 3, 7, 1, 3, 3, 9, 7, 9, 1, 9, 1, 7, 1, 7, 1, 3, 7, 3, 1, 3, 9, 1, 1, 3, 9, 7, 9, 1, 7, 9, 1, 1, 3, 3, 7, 3, 9, 1, 1, 9, 7, 7, 9, 7, 3, 9, 1, 1, 9, 7, 3, 9, 7, 9, 7, 3, 9, 1, 1, 7, 9, 1, 7, 1, 7, 3, 9, 7, 1, 7, 9, 9, 1, 3, 1, 1, 9, 3, 7, 3, 7, 3, 3, 9, 1, 1, 1, 7, 9, 3, 7, 7, 3, 3, 9, 7, 3, 9, 1, 1, 3, 9, 1, 3, 9, 3, 9, 7, 9, 1, 1, 7, 1, 7, 3, 3, 7, 3, 1, 9, 1, 3, 7, 3, 3, 9, 1, 9, 1, 3, 7, 7, 9, 7, 7, 3, 9, 1, 7, 9, 7, 1, 3, 9, 1, 7, 1, 7, 3, 9, 3, 9, 1, 7, 9, 3, 7, 3, 9, 7, 3, 9, 3, 7, 7, 7, 9, 1, 9, 9, 3, 9, 3, 9, 7, 1, 7, 3, 1, 3, 1, 1, 3, 9, 9, 3, 1, 7, 1, 3, 9, 1, 1, 3, 7, 7, 3, 9, 1, 9, 3, 9, 7, 1, 9, 1, 3, 9, 3, 7, 7, 1, 7, 3, 1, 3, 7, 3, 1, 7, 3, 3, 7, 7, 1, 9, 7, 1, 7, 3, 1, 9, 3, 3, 1, 7, 1, 1, 7, 3, 7, 3, 9, 7, 9, 1, 9, 9, 1, 7, 3, 7, 3, 7, 1, 3, 9, 9, 1, 3, 7, 9, 3, 9, 7, 9, 7, 1, 7, 7, 3, 7, 1, 1, 3, 9, 9, 7, 3, 9, 3, 7, 3, 7, 1, 1, 9, 9, 9, 1, 3, 7, 7, 3, 9, 3, 7, 9, 3, 1, 3, 9, 1, 1, 3, 7, 1, 7, 9, 1, 3, 9, 7, 1, 3, 7, 9, 3, 1, 3, 1, 9, 7, 3, 1, 1, 3, 9, 7, 1, 9, 1, 7, 3, 9, 9, 1, 3, 9, 1, 1, 3, 9, 1, 7, 1, 3, 1, 3, 7, 3, 7, 1, 7, 7, 3, 1, 7, 3, 9, 3, 9, 9, 1, 9, 3, 7, 9, 1, 7, 7, 3, 1, 1, 1, 7, 3, 7, 9, 7, 1, 9, 7, 3, 7, 3, 9, 7, 3, 9, 9, 1, 3, 9, 9, 3, 7, 1, 3, 3, 9, 9, 7, 7, 3, 1, 1, 7, 7, 9, 3, 1, 3, 9, 3, 7, 3, 9, 3, 7, 1, 7, 7, 3, 7, 9, 9, 1, 7, 9, 9, 1, 9, 7, 3, 1, 3, 9, 3, 7, 3, 1, 1, 1, 7, 9, 3, 1, 9, 9, 9, 1, 7, 7, 3, 1, 7, 9, 1, 3, 9, 7, 3, 3, 7, 3, 1, 3, 3, 9, 7, 1, 9, 9, 1, 9, 1, 1, 7, 9, 7, 3, 3, 3, 3, 7, 3, 7, 3, 9, 1, 7, 9, 1, 7, 1, 3, 1, 7, 1, 7, 9, 3, 7, 1, 7, 9, 3, 9, 1, 3, 9, 9, 3, 1, 7, 9, 7, 3, 9, 1, 1, 3, 3, 9, 1, 7, 7, 1, 9, 7, 7, 9, 9, 1, 3, 1, 1, 3, 7, 9, 1, 9, 3, 1, 1, 7, 9, 9, 3, 1, 1, 7, 1, 3, 9, 3, 3, 3, 7, 1, 9, 7, 9, 1, 3, 7, 3, 1, 3, 3, 7, 1, 7, 3, 1, 1, 7, 9, 9, 3, 9, 1, 7, 1, 3, 1, 1, 7, 3, 1, 3, 7, 9, 9, 9, 1, 3, 7, 7, 3, 7, 3, 9, 9, 7, 1, 7, 9, 7, 3, 7, 3, 3, 9, 9, 7, 1, 7, 7, 9, 9, 3, 7, 9, 1, 3, 1, 7, 9, 3, 9, 3, 9, 7, 9, 1, 3, 9, 9, 3, 3, 7, 3, 3, 1, 7, 9, 9, 1, 3, 7, 1, 7, 1, 3, 1, 3, 3, 9, 1, 7, 9, 1, 7, 9, 1, 7, 1, 3, 7, 1, 1, 3, 7, 9, 9, 9, 3, 3, 9, 1, 9, 1, 1, 3, 9, 3, 9, 3, 1, 9, 9, 3, 9, 1, 7, 9, 1, 7, 1, 7, 3, 1, 7, 3, 1, 7, 9, 3, 9, 7, 9, 7, 1, 3, 7, 9, 1, 9, 3, 9, 7, 9, 7, 9, 3, 7, 1, 9, 3, 7, 9, 1, 7, 3, 1, 7, 7, 9, 7, 1, 3, 9, 1, 3, 3, 9, 3, 9, 7, 7, 1, 7, 1, 7, 9, 7, 1, 9, 1, 9, 3, 9, 1, 3, 1, 3, 3, 7, 1, 7, 9, 3, 3, 3, 9, 3, 1, 3, 7, 7, 3, 9, 1, 9, 7, 3, 7, 3, 3, 9, 1, 1, 9, 1, 1, 3, 1, 9, 1, 3, 9, 1, 9, 3, 7, 9, 3, 7, 1, 3, 1, 1, 3, 1, 3, 7, 1, 3, 3, 1, 7, 9, 1, 7, 9, 7, 9, 3, 9, 1, 7, 1, 7, 3, 9, 1, 9, 3, 7, 7, 3, 7, 9, 3, 1, 7, 1, 9, 7, 1, 7, 7, 3, 9, 1, 3, 9, 9, 3, 3, 1, 9, 7, 7, 3, 3, 7, 7, 1, 3, 7, 9, 7, 1, 7, 1, 3, 9, 3, 3, 1, 7, 1, 1, 1, 3, 7, 9, 1, 3, 9, 9, 7, 9, 7, 1, 3, 1, 7, 9, 7, 7, 9, 9, 1, 1, 3, 3, 1, 3, 9, 1, 7, 7, 7, 1, 3, 7, 9, 7, 9, 1, 9, 9, 1, 3, 3, 1, 3, 7, 9, 7, 9, 9, 1, 7, 9, 1, 3, 9, 1, 7, 9, 3, 7, 9, 3, 7, 9, 3, 1, 7, 3, 7, 7, 3, 9, 9, 1, 7, 9, 1, 3, 1, 7, 9, 7, 3, 1, 7, 1, 7, 1, 3, 3, 9, 3, 9, 1, 3, 3, 9, 1, 1, 1, 3, 1, 3, 9, 3, 7, 9, 1, 7, 9, 3, 7, 7, 3, 9, 1, 7, 3, 1, 1, 7, 7, 3, 3, 7, 7, 9, 3, 9, 1, 7, 1, 3, 7, 1, 9, 1, 7, 7, 3, 9, 9, 1, 3, 3, 7, 9, 3, 7, 9, 9, 9, 7, 1, 3, 1, 7, 1, 3, 9, 1, 3, 7, 1, 3, 9, 9, 9, 3, 1, 9, 3, 7, 7, 9, 3, 9, 7, 3, 9, 1, 3, 3, 3, 3, 9, 1, 3, 7, 7, 1, 9, 7, 9, 9, 3, 1, 1, 9, 1, 7, 1, 3, 9, 9, 7, 7, 9, 3, 1, 3, 7, 3, 7, 1, 9, 3, 9, 3, 7, 1, 3, 7, 9, 9, 1, 9, 3, 3, 9, 1, 1, 7, 9, 3, 1, 7, 3, 1, 3, 7, 9, 9, 3, 7, 1, 3, 7, 1, 3, 9, 1, 9, 7, 1, 9, 3, 9, 3, 7, 3, 9, 1, 3, 7, 9, 9, 7, 7, 1, 7, 9, 1, 3, 3, 7, 3, 3, 9, 9, 9, 9, 1, 3, 9, 7, 7, 7, 9, 1, 7, 9, 3, 9, 3, 7, 1, 1, 9, 3, 7, 9, 3, 9, 9, 1, 3, 7, 3, 3, 9, 9, 7, 9, 1, 7, 9, 7, 7, 3, 7, 9, 1, 7, 1, 1, 3, 3, 9, 1, 7, 9, 1, 7, 1, 1, 1, 7, 9, 7, 3, 9, 9, 7, 1, 3, 7, 7, 3, 1, 3, 1, 3, 3, 7, 3, 1, 7, 9, 3, 9, 1, 3, 9, 7, 7, 3, 7, 9, 3, 1, 3, 1, 3, 1, 3, 1, 3, 9, 1, 1, 3, 9, 1, 3, 7, 9, 7, 3, 9, 9, 7, 9, 1, 3, 9, 7, 1, 1, 1, 7, 3, 1, 3, 9, 7, 3, 1, 3, 9, 1, 3, 9, 1, 9, 9, 3, 3, 1, 3, 7, 9, 1, 9, 7, 3, 9, 1, 9, 3, 3, 9, 1, 3, 3, 1, 3, 1, 1, 9, 7, 9, 3, 7, 1, 3, 9, 1, 7, 9, 3, 9, 3, 7, 1, 7, 9, 7, 9, 1, 7, 1, 1, 3, 7, 1, 3, 9, 1, 3, 9, 7, 7, 9, 7, 9, 7, 1, 3, 1, 1, 9, 3, 9, 7, 1, 3, 7, 1, 1, 3, 7, 3, 1, 7, 7, 1, 3, 9, 3, 1, 7, 9, 9, 1, 3, 9, 3, 1, 1, 7, 9, 3, 1, 7, 9, 3, 7, 7, 7, 9, 3, 1, 7, 9, 1, 1, 7, 9, 7, 3, 1, 7, 9, 3, 9, 3, 9, 7, 9, 7, 1, 3, 9, 1, 7, 7, 7, 1, 3, 9, 1, 7, 1, 1, 9, 7, 7, 7, 7, 1, 9, 3, 1, 1, 7, 3, 9, 3, 1, 9, 3, 3, 9, 7, 3, 3, 9, 1, 9, 1, 9, 3, 9, 7, 7, 1, 3, 7, 3, 9, 1, 7, 1, 3, 3, 9, 7, 1, 1, 7, 3, 7, 7, 9, 9, 7, 9, 1, 7, 1, 3, 1, 1, 7, 3, 1, 1, 1, 3, 1, 7, 9, 9, 1, 3, 1, 3, 1, 3, 7, 3, 1, 7, 9, 7, 7, 7, 9, 1, 3, 7, 9, 3, 3, 9, 3, 9, 1, 1, 1, 9, 7, 3, 7, 1, 9, 9, 7, 1, 1, 7, 3, 9, 1, 3, 3, 7, 7, 1, 1, 3, 1, 3, 9, 3, 1, 3, 9, 7, 7, 7, 3, 1, 9, 9, 9, 1, 1, 1, 3, 7, 7, 7, 3, 1, 3, 9, 1, 3, 7, 3, 9, 7, 3, 3, 1, 7, 9, 9, 9, 1, 9, 9, 1, 9, 1, 1, 3, 7, 1, 3, 7, 1, 3, 9, 1, 3, 9, 1, 7, 3, 7, 9, 3, 1, 7, 7, 9, 9, 1, 7, 3, 1, 7, 3, 9, 3, 1, 9, 3, 7, 3, 9, 9, 7, 1, 9, 3, 9, 9, 3, 9, 1, 9, 9, 7, 1, 7, 3, 1, 7, 1, 7, 9, 7, 9, 9, 9, 3, 9, 3, 9, 9, 1, 1, 7, 9, 1, 7, 9, 3, 3, 9, 1, 7, 1, 1, 9, 3, 9, 7, 9, 1, 7, 3, 7, 1, 9, 9, 7, 3, 7, 9, 1, 3, 9, 1, 9, 1, 3, 7, 3, 7, 7, 3, 7, 1, 1, 3, 7, 9, 9, 7, 1, 9, 3, 9, 3, 7, 9, 3, 1, 1, 3, 3, 1, 7, 7, 3, 9, 1, 3, 3, 1, 3, 3, 7, 9, 3, 9, 7, 9, 9, 1, 7, 7, 9, 9, 9, 9, 7, 9, 1, 7, 3, 9, 7, 3, 9, 1, 3, 7, 3, 7, 7, 3, 7, 9, 1, 7, 1, 9, 9, 7, 9, 3, 1, 3, 1, 1, 3, 1, 3, 1, 7, 1, 9, 1, 1, 3, 3, 1, 9, 3, 3, 3, 3, 9, 3, 7, 3, 1, 7, 9, 9, 9, 1, 7, 9, 7, 3, 9, 3, 9, 3, 1, 1, 3, 7, 3, 7, 1, 1, 9, 3, 9, 7, 7, 3, 9, 3, 9, 3, 9, 1, 7, 1, 7, 1, 3, 7, 7, 3, 9, 3, 7, 1, 1, 3, 7, 9, 7, 9, 7, 1, 3, 7, 3, 1, 9, 3, 9, 9, 3, 1, 1, 3, 7, 9, 9, 1, 7, 9, 9, 7, 3, 7, 1, 3, 1, 3, 7, 1, 9, 3, 3, 9, 7, 7, 9, 1, 7, 3, 1, 3, 7, 1, 9, 3, 9, 3, 7, 3, 1, 3, 9, 9, 1, 1, 3, 9, 1, 1, 7, 1, 3, 1, 9, 3, 7, 9, 9, 7, 3, 9, 1, 7, 1, 7, 1, 7, 3, 9, 3, 7, 9, 3, 9, 7, 7, 9, 9, 1, 3, 9, 3, 1, 1, 3, 9, 1, 9, 1, 3, 7, 9, 1, 7, 1, 1, 3, 9, 1, 3, 3, 9, 9, 7, 3, 1, 7, 3, 9, 9, 7, 9, 9, 1, 3, 1, 7, 3, 3, 7, 7, 9, 3, 1, 7, 3, 7, 7, 9, 9, 3, 7, 7, 1, 9, 1, 7, 3, 3, 9, 3, 3, 9, 9, 9, 1, 7, 3, 1, 3, 9, 7, 3, 9, 7, 3, 7, 9, 1, 3, 9, 1, 7, 3, 7, 1, 7, 3, 1, 7, 3, 9, 7, 7, 3, 1, 1, 9, 3, 9, 1, 7, 3, 7, 9, 1, 3, 3, 1, 9, 3, 1, 7, 9, 1, 3, 9, 1, 9, 7, 7, 7, 1, 3, 3, 9, 9, 9, 1, 7, 1, 3, 1, 3, 7, 3, 7, 3, 9, 7, 9, 9, 3, 1, 9, 9, 1, 7, 1, 9, 1, 9, 7, 9, 9, 7, 7, 9, 1, 3, 1, 3, 3, 9, 7, 9, 3, 9, 3, 9, 1, 1, 7, 1, 9, 3, 1, 3, 9, 1, 3, 1, 3, 7, 1, 7, 3, 9, 7, 3, 7, 9, 7, 7, 9, 1, 3, 9, 1, 3, 7, 9, 3, 1, 7, 3, 7, 9, 1, 1, 1, 1, 3, 1, 7, 7, 9, 7, 3, 7, 3, 9, 3, 7, 3, 3, 9, 3, 1, 9, 1, 9, 3, 9, 7, 3, 7, 1, 3, 9, 1, 7, 1, 7, 3, 1, 1, 7, 1, 3, 7, 9, 3, 1, 1, 3, 7, 3, 7, 9, 3, 9, 7, 3, 1, 7, 9, 1, 3, 7, 9, 7, 3, 9, 1, 3, 7, 1, 3, 9, 1, 7, 1, 3, 7, 9, 3, 3, 7, 9, 9, 3, 1, 3, 7, 3, 9, 9, 3, 1, 7, 7, 9, 1, 1, 9, 1, 3, 7, 3, 1, 7, 9, 1, 7, 1, 3, 3, 9, 1, 3, 7, 3, 9, 1, 9, 3, 9, 7, 7, 1, 3, 1, 7, 9, 1, 7, 3, 1, 7, 3, 9, 7, 9, 3, 9, 7, 7, 1, 7, 7, 9, 3, 9, 1, 7, 9, 1, 3, 3, 9, 7, 1, 9, 9, 3, 9, 9, 1, 3, 7, 3, 7, 9, 9, 7, 7, 7, 3, 7, 1, 1, 7, 9, 1, 7, 1, 3, 9, 1, 3, 9, 7, 3, 9, 9, 3, 7, 7, 7, 9, 3, 7, 1, 1, 7, 3, 9, 3, 1, 7, 9, 3, 7, 3, 7, 9, 1, 9, 1, 3, 9, 3, 7, 7, 9, 1, 3, 9, 1, 1, 3, 1, 3, 1, 3, 9, 3, 7, 3, 7, 7, 9, 3, 9, 7, 9, 1, 3, 7, 1, 3, 7, 7, 3, 7, 7, 7, 3, 3, 7, 1, 3, 1, 3, 9, 9, 1, 7, 3, 3, 9, 7, 9, 1, 3, 7, 3, 1, 7, 9, 1, 3, 9, 3, 9, 3, 7, 3, 9, 1, 3, 1, 3, 9, 7, 7, 3, 1, 3, 9, 1, 7, 3, 7, 1, 3, 7, 7, 1, 1, 7, 9, 3, 3, 9, 9, 9, 9, 3, 7, 1, 3, 7, 9, 9, 1, 3, 3, 7, 1, 7, 9, 3, 9, 1, 3, 7, 9, 1, 9, 7, 7, 9, 7, 7, 3, 1, 7, 9, 9, 1, 1, 9, 3, 9, 1, 1, 7, 3, 3, 9, 1, 7, 9, 3, 9, 3, 7, 7, 9, 1, 9, 1, 7, 3, 7, 1, 9, 3, 9, 3, 1, 7, 9, 9, 1, 3, 7, 9, 1, 1, 7, 1, 9, 3, 9, 3, 1, 7, 9, 7, 3, 1, 7, 1, 7, 7, 1, 3, 9, 1, 3, 9, 9, 3, 1, 9, 1, 7, 3, 9, 3, 9, 7, 7, 9, 9, 7, 9, 3, 9, 3, 3, 7, 3, 9, 1, 7, 9, 3, 7, 9, 3, 9, 9, 1, 3, 9, 1, 7, 7, 9, 3, 3, 1, 1, 1, 7, 9, 1, 7, 9, 1, 3, 9, 7, 7, 7, 9, 9, 1, 7, 3, 1, 9, 1, 1, 3, 7, 9, 7, 9, 3, 3, 1, 7, 3, 9, 1, 9, 3, 9, 7, 1, 1, 9, 7, 3, 7, 1, 3, 9, 9, 1, 1, 7, 9, 7, 7, 1, 7, 7, 1, 9, 3, 9, 7, 7, 9, 3, 1, 9, 1, 7, 7, 1, 1, 9, 9, 3, 7, 3, 9, 7, 7, 1, 9, 3, 1, 3, 9, 1, 1, 9, 3, 3, 9, 1, 1, 3, 9, 7, 9, 3, 7, 9, 1, 7, 1, 1, 3, 9, 7, 7, 9, 1, 7, 7, 3, 1, 7, 9, 3, 9, 1, 7, 9, 1, 7, 1, 7, 9, 3, 9, 7, 3, 1, 9, 3, 7, 9, 9, 3, 3, 1, 7, 7, 9, 9, 3, 3, 9, 1, 1, 9, 1, 7, 7, 9, 9, 7, 3, 7, 1, 7, 9, 1, 7, 9, 9, 9, 1, 7, 9, 7, 7, 3, 1, 3, 7, 9, 3, 9, 3, 1, 3, 3, 1, 7, 1, 7, 1, 7, 3, 1, 3, 3, 9, 3, 7, 3, 1, 7, 9, 1, 7, 3, 1, 9, 1, 3, 3, 1, 3, 7, 1, 3, 9, 1, 1, 9, 7, 7, 9, 1, 7, 9, 1, 7, 9, 3, 9, 3, 1, 9, 1, 7, 9, 1, 1, 3, 7, 1, 7, 3, 7, 9, 1, 1, 7, 3, 1, 7, 9, 1, 9, 3, 7, 3, 3, 1, 3, 9, 7, 1, 1, 7, 1, 7, 9, 1, 9, 1, 7, 9, 9, 3, 3, 9, 7, 7, 3, 1, 9, 3, 7, 1, 3, 9, 1, 3, 7, 3, 1, 7, 1, 9, 9, 7, 9, 1, 9, 3, 7, 7, 1, 9, 7, 3, 7, 9, 1, 3, 9, 3, 7, 3, 3, 9, 3, 7, 3, 7, 9, 1, 9, 9, 1, 7, 7, 3, 7, 3, 9, 1, 9, 9, 7, 1, 3, 1, 1, 3, 1, 7, 1, 3, 1, 7, 9, 9, 1, 1, 1, 9, 7, 1, 3, 1, 9, 9, 7, 9, 9, 9, 1, 3, 9, 1, 3, 3, 3, 3, 7, 1, 3, 7, 9, 9, 3, 9, 1, 7, 3, 1, 3, 9, 3, 9, 3, 1, 7, 9, 7, 7, 9, 1, 3, 7, 9, 7, 1, 3, 1, 3, 7, 1, 7, 7, 9, 3, 7, 1, 3, 3, 3, 9, 9, 7, 9, 1, 1, 7, 3, 7, 3, 9, 1, 7, 9, 3, 9, 9, 3, 9, 1, 7, 1, 3, 3, 9, 1, 9, 9, 1, 7, 3, 7, 7, 7, 7, 3, 9, 7, 3, 1, 7, 9, 1, 7, 1, 9, 1, 1, 3, 9, 9, 1, 1, 9, 3, 1, 7, 1, 1, 3, 3, 7, 3, 1, 7, 3, 1, 7, 7, 1, 1, 7, 3, 1, 7, 1, 3, 1, 3, 9, 1, 7, 1, 3, 9, 7, 9, 3, 9, 3, 9, 7, 1, 3, 9, 1, 7, 9, 9, 1, 3, 3, 9, 3, 7, 7, 3, 7, 3, 9, 7, 1, 7, 7, 9, 7, 9, 7, 9, 3, 9, 9, 3, 1, 9, 3, 9, 9, 3, 1, 1, 9, 1, 7, 1, 3, 9, 9, 1, 7, 1, 1, 9, 3, 1, 7, 9, 9, 7, 7, 9, 7, 1, 9, 1, 7, 3, 9, 1, 7, 3, 9, 7, 3, 7, 9, 1, 7, 1, 7, 3, 9, 7, 1, 7, 3, 9, 9, 9, 7, 1, 9, 7, 1, 3, 7, 3, 7, 7, 3, 7, 3, 7, 3, 9, 1, 9, 3, 9, 1, 1, 7, 9, 3, 1, 7, 3, 7, 9, 3, 7, 9, 3, 1, 7, 9, 7, 9, 1, 7, 3, 9, 7, 7, 9, 3, 9, 1, 9, 1, 7, 1, 7, 3, 7, 1, 3, 7, 9, 3, 7, 9, 1, 9, 1, 7, 1, 1, 3, 9, 3, 7, 9, 3, 9, 9, 7, 9, 1, 3, 1, 3, 3, 7, 7, 9, 3, 7, 9, 1, 1, 7, 9, 1, 1, 7, 3, 3, 1, 7, 3, 7, 9, 3, 3, 7, 9, 9, 3, 9, 1, 7, 9, 9, 1, 7, 1, 3, 7, 9, 3, 3, 7, 3, 1, 1, 3, 3, 1, 9, 1, 1, 3, 7, 9, 3, 7, 1, 7, 7, 1, 9, 7, 3, 9, 3, 7, 7, 1, 9, 1, 3, 3, 9, 1, 1, 9, 1, 9, 3, 9, 1, 7, 7, 7, 1, 7, 9, 1, 3, 1, 9, 9, 3, 7, 9, 3, 1, 3, 9, 9, 1, 1, 1, 1, 7, 9, 3, 1, 7, 9, 7, 3, 9, 1, 7, 3, 9, 1, 3, 9, 3, 7, 1, 7, 9, 1, 1, 9, 1, 1, 9, 3, 7, 3, 1, 3, 3, 1, 7, 9, 1, 7, 3, 3, 7, 7, 9, 1, 3, 9, 3, 7, 3, 7, 9, 1, 1, 7, 9, 1, 9, 7, 3, 3, 9, 1, 9, 3, 7, 7, 7, 7, 3, 9, 7, 1, 3, 1, 1, 3, 9, 1, 7, 9, 9, 1, 3, 7, 9, 1, 3, 7, 9, 1, 1, 9, 1, 1, 7, 9, 3, 1, 7, 9, 3, 3, 7, 3, 9, 1, 3, 9, 9, 1, 3, 7, 3, 1, 7, 3, 3, 9, 3, 1, 1, 9, 1, 1, 1, 1, 3, 1, 1, 7, 9, 9, 7, 3, 1, 9, 3, 7, 7, 9, 1, 3, 9, 1, 7, 3, 3, 3, 7, 9, 1, 1, 3, 7, 3, 7, 7, 3, 9, 3, 7, 9, 3, 7, 1, 3, 1, 7, 9, 3, 1, 7, 9, 9, 3, 7, 7, 9, 7, 3, 9, 3, 7, 1, 7, 7, 1, 3, 7, 9, 1, 3, 7, 9, 7, 3, 1, 9, 7, 9, 9, 3, 1, 3, 1, 7, 3, 1, 3, 1, 3, 9, 9, 7, 3, 7, 9, 3, 7, 3, 9, 7, 9, 1, 9, 3, 9, 3, 7, 7, 3, 3, 7, 1, 3, 1, 3, 9, 1, 7, 1, 9, 1, 7, 7, 3, 3, 9, 1, 1, 3, 9, 1, 3, 7, 1, 1, 7, 3, 9, 7, 9, 9, 1, 3, 1, 7, 9, 7, 1, 7, 1, 9, 9, 9, 3, 7, 9, 9, 1, 3, 7, 7, 3, 9, 1, 7, 9, 9, 3, 7, 3, 7, 3, 9, 3, 7, 9, 1, 1, 7, 3, 3, 9, 1, 3, 9, 7, 9, 3, 7, 3, 9, 1, 7, 9, 1, 3, 3, 7, 1, 7, 9, 7, 1, 3, 9, 1, 3, 1, 3, 7, 9, 1, 7, 3, 1, 7, 3, 9, 9, 1, 7, 1, 1, 7, 7, 3, 7, 9, 1, 3, 7, 9, 7, 1, 3, 3, 1, 1, 9, 3, 7, 9, 3, 3, 7, 1, 3, 1, 7, 1, 1, 9, 3, 7, 9, 7, 9, 7, 3, 9, 3, 7, 3, 7, 3, 7, 3, 9, 3, 1, 7, 1, 7, 1, 3, 9, 1, 1, 7, 7, 3, 1, 3, 7, 3, 7, 9, 1, 3, 1, 1, 7, 7, 9, 1, 3, 7, 3, 1, 7, 7, 7, 7, 9, 7, 9, 3, 1, 7, 7, 9, 1, 3, 7, 9, 3, 7, 7, 9, 9, 1, 3, 9, 3, 3, 9, 9, 3, 7, 9, 1, 7, 7, 1, 1, 3, 7, 9, 3, 3, 3, 7, 3, 3, 1, 7, 3, 3, 1, 7, 1, 3, 3, 1, 1, 9, 1, 7, 3, 1, 7, 9, 9, 7, 1, 7, 9, 1, 3, 7, 1, 7, 1, 7, 3, 9, 1, 7, 3, 7, 1, 3, 7, 3, 7, 1, 1, 1, 3, 3, 9, 1, 9, 3, 1, 1, 7, 3, 7, 7, 3, 9, 3, 9, 1, 9, 1, 7, 3, 9, 7, 7, 1, 7, 7, 9, 3, 7, 7, 1, 3, 9, 1, 1, 1, 1, 3, 7, 7, 9, 3, 9, 9, 3, 1, 9, 1, 7, 7, 9, 7, 9, 7, 3, 7, 9, 1, 3, 7, 9, 7, 1, 3, 9, 7, 3, 9, 7, 1, 3, 9, 3, 7, 9, 3, 3, 1, 1, 9, 1, 1, 3, 7, 9, 7, 3, 3, 7, 9, 3, 7, 9, 3, 9, 9, 7, 1, 9, 1, 7, 7, 1, 9, 3, 1, 7, 9, 7, 9, 1, 3, 9, 7, 3, 9, 9, 9, 7, 1, 3, 9, 7, 3, 3, 9, 1, 1, 3, 7, 9, 3, 7, 9, 3, 1, 7, 1, 7, 7, 3, 7, 3, 7, 1, 3, 9, 1, 3, 3, 9, 3, 7, 9, 1, 9, 3, 9, 3, 9, 1, 7, 3, 3, 9, 3, 9, 1, 3, 3, 7, 9, 1, 1, 9, 9, 1, 3, 3, 1, 9, 7, 1, 9, 1, 3, 7, 7, 9, 1, 7, 3, 7, 3, 7, 1, 3, 7, 3, 9, 7, 9, 9, 7, 3, 1, 9, 1, 9, 3, 1, 7, 3, 1, 7, 9, 9, 1, 7, 7, 9, 9, 9, 9, 9, 1, 3, 7, 9, 3, 1, 9, 9, 3, 9, 9, 1, 3, 3, 7, 1, 3, 7, 7, 7, 9, 1, 9, 9, 1, 7, 3, 7, 9, 1, 1, 1, 3, 7, 7, 9, 1, 1, 3, 3, 9, 3, 7, 9, 3, 7, 1, 9, 3, 1, 7, 3, 7, 9, 1, 1, 7, 9, 1, 3, 3, 9, 3, 7, 7, 7, 9, 1, 3, 1, 7, 3, 9, 7, 9, 1, 7, 7, 1, 7, 1, 9, 3, 3, 9, 9, 9, 7, 9, 7, 1, 9, 9, 7, 1, 3, 3, 3, 9, 1, 7, 3, 9, 7, 1, 3, 9, 3, 3, 1, 7, 3, 1, 7, 7, 9, 1, 1, 3, 7, 9, 3, 9, 9, 7, 1, 9, 7, 1, 1, 1, 3, 9, 1, 7, 1, 3, 1, 7, 3, 7, 3, 1, 7, 9, 9, 1, 1, 7, 7, 1, 7, 9, 9, 7, 1, 3, 3, 9, 1, 9, 7, 3, 9, 1, 3, 7, 7, 1, 7, 1, 9, 9, 3, 7, 7, 9, 9, 7, 9, 3, 9, 1, 9, 9, 9, 1, 7, 9, 1, 3, 3, 3, 9, 3, 9, 1, 7, 9, 9, 1, 7, 9, 3, 7, 3, 3, 9, 1, 1, 7, 3, 7, 3, 9, 9, 1, 9, 3, 9, 3, 1, 1, 9, 3, 7, 9, 7, 1, 7, 3, 1, 1, 7, 3, 7, 7, 3, 9, 3, 1, 1, 7, 9, 3, 3, 9, 7, 3, 7, 3, 3, 1, 7, 7, 3, 9, 3, 1, 9, 1, 3, 7, 7, 3, 3, 7, 9, 1, 9, 7, 9, 7, 7, 1, 7, 1, 3, 9, 7, 1, 3, 7, 1, 9, 1, 3, 9, 1, 9, 1, 9, 1, 3, 3, 9, 1, 1, 3, 7, 9, 1, 9, 1, 3, 3, 9, 1, 7, 3, 3, 3, 7, 3, 1, 1, 7, 9, 3, 9, 9, 9, 1, 1, 3, 9, 1, 7, 9, 3, 1, 3, 9, 1, 7, 3, 7, 9, 1, 7, 3, 3, 1, 7, 3, 1, 9, 1, 3, 3, 7, 9, 7, 7, 7, 7, 7, 9, 3, 7, 7, 3, 1, 3, 3, 3, 3, 1, 7, 9, 9, 9, 1, 7, 9, 9, 3, 3, 9, 1, 7, 1, 9, 7, 1, 7, 7, 3, 3, 7, 7, 9, 1, 1, 9, 3, 1, 1, 3, 1, 7, 9, 1, 9, 3, 7, 9, 3, 7, 1, 3, 3, 1, 3, 9, 3, 3, 1, 9, 9, 3, 7, 3, 9, 3, 7, 3, 7, 3, 7, 3, 9, 9, 3, 9, 9, 1, 1, 1, 1, 3, 7, 3, 3, 9, 1, 1, 7, 9, 9, 3, 9, 3, 9, 9, 7, 9, 7, 1, 9, 1, 9, 9, 7, 1, 3, 7, 9, 1, 7, 7, 3, 9, 1, 1, 3, 3, 9, 3, 1, 7, 1, 7, 9, 7, 1, 1, 7, 7, 1, 3, 9, 3, 7, 1, 3, 1, 1, 1, 3, 7, 9, 1, 7, 3, 9, 1, 9, 7, 3, 9, 3, 7, 9, 7, 9, 7, 3, 9, 1, 7, 1, 7, 9, 1, 7, 3, 7, 3, 9, 7, 1, 7, 3, 7, 3, 7, 9, 1, 9, 9, 1, 3, 3, 1, 7, 9, 1, 3, 9, 3, 7, 1, 9, 7, 7, 3, 1, 7, 1, 7, 9, 9, 7, 3, 7, 3, 9, 7, 3, 7, 3, 7, 9, 9, 1, 3, 3, 7, 1, 3, 7, 9, 3, 1, 7, 9, 1, 7, 1, 3, 9, 1, 9, 1, 7, 9, 1, 3, 1, 3, 3, 7, 7, 9, 1, 3, 7, 3, 3, 9, 1, 7, 7, 9, 3, 1, 7, 7, 1, 3, 9, 3, 3, 7, 9, 7, 3, 9, 3, 7, 7, 9, 9, 1, 3, 9, 3, 9, 7, 3, 9, 7, 1, 3, 1, 1, 7, 9, 9, 9, 7, 3, 1, 1, 3, 3, 3, 9, 3, 7, 3, 9, 1, 3, 7, 9, 9, 1, 7, 3, 9, 7, 1, 7, 1, 1, 3, 1, 7, 3, 9, 3, 9, 3, 9, 7, 9, 3, 7, 7, 7, 9, 1, 1, 3, 1, 3, 9, 7, 7, 9, 1, 9, 1, 3, 7, 1, 7, 1, 9, 1, 9, 9, 1, 3, 3, 3, 1, 7, 3, 1, 7, 9, 3, 1, 9, 1, 7, 9, 1, 3, 7, 9, 3, 9, 7, 1, 1, 7, 9, 7, 3, 9, 7, 7, 1, 1, 9, 3, 7, 3, 9, 3, 1, 3, 7, 3, 1, 3, 9, 9, 1, 7, 9, 1, 1, 1, 3, 9, 7, 1, 3, 3, 7, 7, 9, 9, 1, 7, 9, 1, 3, 9, 7, 1, 7, 9, 3, 3, 1, 1, 9, 1, 7, 9, 9, 7, 9, 9, 3, 9, 3, 7, 1, 1, 3, 1, 7, 9, 3, 1, 3, 7, 9, 1, 9, 3, 7, 7, 9, 9, 1, 9, 3, 1, 7, 9, 9, 9, 1, 3, 9, 3, 1, 9, 3, 1, 7, 9, 1, 7, 1, 7, 3, 1, 1, 7, 1, 7, 9, 3, 9, 3, 9, 1, 7, 3, 3, 1, 7, 1, 7, 3, 7, 1, 3, 7, 9, 3, 1, 7, 1, 1, 9, 1, 3, 1, 3, 7, 7, 9, 1, 3, 7, 9, 1, 7, 1, 9, 1, 9, 7, 3, 7, 3, 9, 1, 3, 9, 3, 1, 7, 1, 7, 9, 7, 9, 1, 9, 1, 7, 3, 7, 3, 9, 1, 3, 9, 3, 9, 7, 1, 7, 9, 7, 7, 1, 7, 9, 1, 1, 1, 7, 9, 1, 1, 9, 7, 9, 3, 9, 3, 7, 1, 9, 1, 1, 7, 7, 9, 7, 9, 7, 1, 3, 9, 7, 9, 3, 9, 7, 3, 9, 3, 7, 1, 1, 9, 9, 3, 7, 9, 1, 9, 1, 9, 3, 1, 7, 3, 1, 1, 3, 9, 3, 1, 7, 7, 3, 3, 1, 7, 7, 9, 9, 3, 7, 1, 7, 3, 9, 7, 9, 3, 9, 9, 1, 1, 3, 1, 3, 9, 7, 1, 7, 1, 1, 9, 3, 3, 1, 7, 1, 7, 1, 7, 9, 1, 3, 1, 7, 3, 9, 7, 7, 7, 1, 7, 9, 7, 3, 9, 7, 7, 1, 3, 7, 9, 3, 3, 9, 1, 1, 9, 1, 3, 7, 3, 9, 7, 1, 1, 3, 3, 1, 7, 9, 3, 9, 3, 9, 1, 7, 7, 1, 3, 9, 7, 7, 9, 7, 1, 3, 1, 9, 3, 1, 9, 1, 1, 9, 3, 7, 1, 9, 3, 1, 1, 7, 9, 7, 1, 3, 3, 9, 7, 1, 3, 9, 9, 7, 3, 7, 1, 1, 7, 9, 1, 7, 1, 7, 7, 9, 3, 7, 3, 9, 1, 7, 3, 9, 7, 1, 1, 7, 9, 3, 1, 3, 9, 3, 1, 1, 3, 7, 3, 7, 9, 1, 7, 9, 3, 7, 3, 1, 3, 7, 3, 3, 7, 3, 7, 9, 3, 7, 3, 1, 1, 1, 9, 7, 3, 1, 1, 3, 1, 1, 3, 7, 9, 7, 9, 1, 3, 9, 3, 7, 1, 3, 1, 7, 1, 9, 7, 3, 7, 1, 3, 3, 9, 1, 7, 9, 7, 1, 9, 1, 9, 1, 3, 9, 3, 7, 9, 1, 1, 3, 9, 7, 3, 1, 1, 9, 3, 9, 7, 3, 7, 9, 7, 7, 9, 1, 3, 7, 9, 7, 1, 9, 1, 3, 9, 3, 7, 3, 1, 7, 3, 3, 9, 1, 7, 3, 1, 7, 9, 1, 9, 9, 7, 9, 9, 1, 3, 1, 7, 3, 1, 1, 3, 3, 9, 1, 9, 7, 1, 7, 9, 3, 9, 7, 9, 1, 9, 3, 7, 1, 7, 9, 3, 7, 9, 7, 3, 1, 3, 7, 1, 1, 3, 3, 1, 3, 7, 3, 9, 7, 3, 1, 1, 7, 1, 1, 9, 3, 9, 1, 3, 1, 7, 3, 3, 9, 1, 1, 7, 1, 7, 3, 9, 7, 9, 9, 3, 1, 9, 7, 1, 7, 1, 1, 7, 9, 1, 9, 3, 7, 1, 7, 3, 9, 1, 7, 7, 3, 7, 3, 7, 7, 7, 7, 9, 9, 3, 1, 9, 3, 7, 3, 1, 7, 3, 9, 3, 7, 3, 9, 9, 1, 7, 3, 1, 1, 7, 3, 7, 3, 1, 7, 3, 1, 1, 3, 9, 3, 7, 1, 7, 9, 7, 3, 9, 9, 1, 9, 3, 9, 7, 1, 7, 7, 9, 3, 9, 1, 7, 1, 1, 3, 7, 1, 7, 7, 1, 9, 3, 1, 3, 1, 9, 9, 3, 9, 1, 7, 3, 9, 1, 9, 7, 9, 3, 7, 9, 7, 9, 1, 1, 9, 9, 1, 3, 1, 7, 1, 7, 3, 7, 3, 7, 9, 1, 9, 9, 1, 3, 3, 7, 1, 3, 3, 3, 1, 9, 1, 9, 3, 1, 3, 7, 9, 3, 9, 9, 7, 1, 3, 9, 7, 7, 9, 3, 9, 1, 3, 7, 9, 3, 9, 3, 9, 7, 1, 3, 3, 1, 9, 1, 7, 9, 3, 3, 1, 3, 1, 7, 9, 9, 1, 7, 3, 7, 9, 3, 9, 9, 7, 9, 1, 9, 7, 3, 1, 7, 9, 3, 9, 9, 1, 7, 9, 1, 7, 9, 1, 3, 7, 3, 7, 3, 7, 7, 7, 7, 9, 3, 9, 9, 1, 1, 7, 3, 3, 9, 3, 9, 3, 1, 3, 1, 3, 3, 7, 7, 1, 7, 1, 1, 3, 3, 7, 7, 3, 9, 3, 1, 3, 9, 9, 1, 7, 1, 3, 7, 9, 3, 9, 7, 1, 7, 9, 1, 3, 7, 9, 1, 1, 7, 1, 9, 9, 7, 7, 3, 3, 1, 9, 3, 7, 3, 7, 3, 7, 1, 3, 1, 1, 9, 3, 9, 1, 7, 9, 1, 1, 9, 9, 3, 7, 9, 1, 9, 3, 3, 3, 1, 9, 1, 3, 9, 1, 3, 9, 3, 3, 1, 9, 7, 1, 7, 1, 3, 3, 9, 1, 3, 9, 7, 3, 1, 7, 1, 3, 7, 3, 9, 1, 7, 7, 7, 1, 7, 9, 7, 7, 1, 1, 1, 7, 1, 9, 9, 7, 7, 9, 7, 7, 9, 1, 3, 9, 9, 3, 3, 9, 1, 9, 7, 7, 9, 3, 9, 3, 9, 1, 7, 7, 9, 3, 9, 1, 3, 9, 7, 1, 3, 7, 9, 7, 1, 9, 9, 1, 7, 3, 1, 3, 7, 3, 9, 1, 7, 3, 1, 9, 3, 3, 9, 9, 7, 9, 1, 1, 3, 7, 9, 3, 9, 7, 1, 9, 3, 7, 9, 1, 7, 1, 7, 3, 9, 7, 1, 7, 3, 1, 3, 3, 7, 1, 9, 9, 7, 1, 3, 3, 7, 1, 7, 3, 3, 7, 3, 1, 3, 3, 9, 7, 1, 1, 9, 7, 3, 9, 3, 7, 9, 3, 9, 7, 9, 1, 9, 9, 1, 1, 7, 3, 3, 1, 9, 7, 9, 3, 3, 7, 1, 1, 3, 9, 7, 3, 7, 1, 1, 1, 7, 1, 7, 9, 3, 7, 9, 1, 3, 7, 9, 1, 7, 3, 9, 7, 3, 1, 3, 7, 1, 7, 9, 1, 7, 1, 7, 9, 7, 7, 1, 1, 9, 3, 3, 9, 3, 1, 3, 9, 7, 9, 3, 9, 3, 7, 7, 9, 7, 9, 1, 7, 1, 3, 7, 9, 1, 7, 1, 7, 9, 3, 1, 7, 7, 9, 1, 3, 7, 1, 3, 9, 9, 1, 3, 9, 1, 3, 1, 9, 1, 9, 9, 1, 7, 9, 7, 3, 7, 9, 9, 1, 7, 7, 3, 9, 1, 1, 3, 7, 9, 9, 1, 1, 3, 9, 1, 3, 9, 3, 7, 3, 7, 7, 1, 3, 7, 3, 7, 9, 1, 3, 7, 7, 9, 1, 7, 3, 7, 9, 3, 1, 7, 9, 9, 3, 1, 7, 1, 9, 9, 7, 1, 3, 3, 1, 1, 7, 3, 9, 1, 3, 3, 1, 3, 9, 9, 1, 7, 9, 9, 1, 3, 1, 7, 1, 9, 1, 7, 1, 9, 7, 9, 1, 1, 9, 3, 9, 7, 3, 3, 9, 1, 3, 1, 3, 7, 9, 9, 7, 1, 3, 1, 9, 7, 1, 7, 9, 3, 9, 3, 7, 9, 9, 1, 3, 9, 7, 3, 7, 1, 7, 9, 9, 7, 1, 3, 9, 9, 1, 3, 7, 3, 1, 1, 3, 7, 9, 1, 7, 3, 1, 3, 9, 1, 7, 9, 3, 9, 3, 1, 1, 9, 9, 1, 7, 9, 9, 7, 9, 1, 3, 7, 7, 9, 7, 3, 9, 3, 1, 3, 7, 9, 3, 9, 7, 3, 9, 3, 7, 1, 3, 3, 9, 1, 3, 3, 3, 7, 7, 1, 3, 7, 3, 1, 3, 3, 3, 9, 3, 1, 1, 7, 3, 9, 9, 1, 9, 9, 9, 3, 7, 3, 7, 1, 3, 9, 3, 9, 7, 1, 9, 3, 3, 7, 1, 3, 7, 9, 1, 7, 3, 1, 7, 9, 1, 7, 9, 9, 7, 7, 3, 7, 9, 7, 1, 3, 7, 7, 7, 3, 7, 9, 1, 9, 3, 1, 1, 3, 9, 7, 1, 9, 1, 9, 7, 9, 9, 3, 9, 3, 9, 1, 1, 1, 3, 3, 7, 9, 1, 1, 1, 1, 9, 1, 3, 3, 3, 9, 1, 3, 1, 1, 3, 7, 9, 7, 1, 3, 7, 1, 3, 7, 7, 1, 7, 9, 1, 7, 9, 3, 9, 1, 7, 1, 3, 9, 7, 3, 7, 1, 7, 9, 7, 1, 3, 9, 1, 1, 7, 9, 9, 7, 9, 1, 7, 3, 3, 1, 9, 3, 7, 1, 9, 9, 9, 3, 7, 1, 9, 9, 3, 1, 1, 3, 9, 9, 1, 3, 9, 1, 3, 3, 3, 7, 7, 7, 1, 9, 3, 7, 1, 3, 9, 3, 7, 9, 1, 9, 9, 1, 7, 3, 1, 7, 7, 9, 3, 9, 7, 1, 7, 1, 1, 3, 3, 1, 1, 7, 9, 3, 9, 3, 9, 9, 7, 9, 3, 9, 9, 3, 9, 9, 7, 9, 1, 7, 3, 1, 7, 3, 7, 3, 1, 1, 7, 1, 3, 7, 9, 1, 1, 9, 9, 1, 7, 9, 1, 1, 3, 9, 3, 7, 1, 3, 9, 1, 7, 1, 7, 7, 1, 7, 9, 9, 1, 7, 3, 7, 9, 9, 1, 7, 3, 3, 7, 1, 9, 7, 3, 7, 9, 3, 9, 7, 1, 3, 3, 1, 7, 3, 7, 1, 9, 1, 1, 7, 9, 9, 1, 7, 9, 9, 9, 7, 7, 3, 9, 1, 7, 3, 1, 7, 9, 1, 9, 7, 3, 1, 3, 3, 9, 3, 9, 9, 9, 7, 7, 1, 7, 9, 3, 7, 1, 7, 1, 3, 9, 7, 3, 7, 3, 9, 7, 9, 9, 3, 3, 1, 7, 9, 9, 3, 7, 1, 1, 3, 9, 3, 7, 7, 7, 3, 9, 1, 1, 3, 7, 1, 3, 7, 9, 9, 9, 3, 1, 7, 3, 3, 1, 1, 9, 1, 9, 1, 9, 3, 9, 7, 1, 9, 7, 9, 3, 3, 9, 3, 7, 9, 3, 1, 7, 1, 3, 7, 1, 7, 1, 9, 3, 7, 7, 1, 1, 3, 9, 3, 7, 1, 1, 1, 7, 9, 3, 3, 7, 9, 1, 1, 7, 1, 7, 3, 3, 1, 7, 1, 3, 9, 1, 7, 9, 1, 1, 9, 9, 9, 1, 3, 9, 3, 9, 7, 3, 7, 7, 1, 7, 3, 1, 7, 9, 1, 3, 9, 3, 7, 9, 1, 1, 3, 9, 3, 1, 7, 3, 1, 9, 7, 9, 9, 3, 3, 3, 9, 1, 7, 7, 7, 3, 9, 1, 3, 3, 7, 3, 3, 7, 7, 9, 1, 7, 9, 3, 1, 7, 3, 7, 3, 9, 1, 3, 1, 3, 7, 3, 9, 3, 7, 7, 3, 9, 9, 3, 9, 3, 1, 3, 9, 1, 7, 1, 9, 7, 3, 9, 1, 7, 3, 1, 7, 1, 3, 1, 7, 3, 7, 9, 9, 1, 1, 7, 9, 3, 1, 7, 9, 1, 7, 1, 7, 9, 9, 7, 9, 3, 9, 9, 3, 7, 3, 9, 9, 3, 9, 7, 9, 3, 9, 7, 9, 7, 9, 1, 7, 3, 1, 1, 7, 7, 9, 1, 1, 3, 1, 1, 9, 1, 7, 7, 9, 1, 3, 9, 7, 3, 1, 9, 1, 3, 3, 9, 7, 1, 9, 9, 3, 9, 3, 9, 1, 7, 7, 3, 1, 3, 9, 1, 9, 1, 3, 1, 3, 7, 1, 3, 3, 7, 9, 7, 3, 3, 9, 1, 1, 7, 9, 1, 1, 9, 9, 1, 7, 1, 9, 3, 7, 1, 3, 7, 1, 7, 7, 9, 3, 9, 1, 3, 7, 7, 7, 9, 7, 1, 9, 3, 7, 9, 3, 1, 3, 1, 1, 3, 3, 9, 7, 7, 1, 9, 7, 1, 3, 3, 1, 9, 3, 9, 1, 7, 1, 7, 3, 9, 9, 7, 3, 1, 1, 9, 1, 1, 3, 9, 9, 1, 3, 1, 7, 1, 7, 9, 3, 3, 9, 3, 1, 1, 7, 7, 3, 7, 9, 1, 9, 3, 7, 1, 9, 3, 9, 1, 9, 3, 7, 9, 7, 9, 1, 7, 3, 1, 7, 1, 9, 9, 3, 1, 9, 7, 1, 1, 7, 9, 1, 3, 9, 9, 9, 7, 7, 9, 9, 3, 3, 7, 1, 9, 1, 1, 7, 3, 9, 3, 3, 3, 9, 7, 1, 9, 1, 9, 3, 7, 1, 7, 3, 7, 1, 3, 1, 7, 9, 9, 1, 3, 1, 3, 9, 9, 7, 1, 7, 3, 1, 7, 9, 1, 7, 3, 1, 1, 9, 1, 7, 7, 1, 7, 1, 3, 9, 7, 7, 7, 3, 7, 1, 3, 9, 9, 1, 1, 3, 3, 7, 1, 7, 3, 1, 7, 9, 1, 1, 3, 1, 3, 9, 3, 1, 3, 7, 7, 9, 7, 7, 1, 3, 7, 7, 7, 7, 9, 3, 1, 3, 7, 7, 1, 7, 7, 3, 9, 3, 3, 7, 7, 1, 7, 1, 3, 3, 7, 9, 9, 1, 9, 3, 1, 7, 1, 9, 3, 9, 9, 9, 1, 3, 7, 1, 3, 1, 7, 9, 3, 1, 7, 1, 3, 9, 1, 3, 9, 3, 1, 3, 3, 7, 1, 3, 9, 7, 1, 1, 7, 1, 7, 9, 3, 9, 9, 1, 1, 9, 9, 7, 1, 3, 7, 3, 9, 9, 3, 9, 3, 9, 1, 3, 1, 7, 1, 3, 9, 9, 1, 9, 3, 7, 9, 1, 7, 7, 1, 3, 7, 3, 7, 9, 1, 3, 7, 9, 3, 9, 9, 7, 9, 7, 9, 9, 3, 1, 3, 9, 3, 1, 3, 9, 7, 3, 3, 1, 3, 7, 1, 7, 9, 1, 7, 1, 7, 3, 7, 3, 9, 9, 1, 1, 9, 9, 3, 1, 7, 1, 3, 1, 3, 7, 3, 9, 7, 3, 9, 7, 9, 3, 1, 7, 7, 9, 9, 3, 1, 7, 1, 9, 1, 3, 9, 3, 7, 9, 9, 7, 1, 3, 7, 3, 9, 9, 1, 7, 9, 3, 9, 3, 7, 9, 3, 1, 3, 7, 9, 1, 7, 1, 7, 3, 7, 7, 9, 1, 1, 7, 1, 1, 3, 3, 9, 3, 7, 9, 1, 9, 7, 9, 7, 7, 1, 3, 3, 1, 7, 1, 7, 9, 9, 7, 3, 3, 9, 1, 7, 1, 3, 9, 1, 7, 9, 9, 1, 7, 9, 3, 1, 1, 9, 1, 7, 9, 1, 7, 9, 1, 3, 7, 7, 1, 7, 9, 1, 9, 1, 3, 7, 9, 1, 3, 1, 7, 1, 1, 7, 1, 3, 7, 9, 9, 7, 9, 1, 1, 7, 3, 7, 1, 3, 9, 7, 3, 9, 7, 3, 3, 1, 7, 3, 7, 9, 9, 7, 1, 3, 3, 1, 7, 9, 3, 3, 9, 1, 3, 9, 3, 1, 3, 9, 1, 7, 9, 3, 7, 1, 9, 7, 9, 3, 9, 9, 1, 7, 1, 3, 3, 7, 9, 9, 7, 7, 9, 7, 9, 1, 3, 7, 1, 7, 3, 7, 1, 3, 1, 7, 1, 7, 9, 7, 3, 1, 3, 9, 1, 9, 1, 7, 7, 7, 7, 7, 3, 9, 7, 9, 3, 9, 3, 9, 1, 3, 7, 9, 1, 9, 1, 3, 3, 1, 7, 3, 1, 1, 7, 1, 3, 7, 9, 9, 3, 9, 9, 1, 1, 1, 7, 3, 9, 3, 7, 3, 1, 1, 7, 7, 1, 1, 7, 7, 7, 3, 1, 1, 7, 9, 3, 9, 3, 3, 7, 1, 7, 3, 1, 3, 1, 7, 3, 9, 1, 3, 9, 1, 7, 7, 9, 7, 3, 9, 7, 9, 1, 1, 3, 3, 7, 1, 3, 3, 7, 9, 9, 1, 3, 3, 9, 7, 3, 7, 7, 7, 3, 1, 9, 3, 9, 1, 7, 7, 3, 1, 7, 1, 9, 9, 7, 9, 3, 1, 9, 7, 7, 9, 3, 9, 7, 9, 7, 3, 3, 1, 9, 3, 3, 7, 7, 7, 9, 9, 1, 7, 9, 7, 7, 3, 7, 3, 3, 7, 1, 1, 7, 7, 9, 3, 1, 3, 9, 9, 9, 1, 7, 9, 9, 3, 9, 1, 3, 7, 9, 1, 9, 1, 9, 1, 7, 3, 3, 1, 3, 9, 3, 9, 3, 1, 9, 7, 9, 1, 7, 9, 1, 7, 1, 9, 7, 9, 1, 7, 9, 1, 3, 7, 7, 9, 3, 9, 1, 3, 1, 3, 9, 7, 1, 7, 1, 9, 3, 1, 1, 7, 9, 9, 9, 7, 7, 3, 3, 9, 7, 3, 9, 1, 3, 9, 9, 9, 7, 9, 3, 9, 3, 7, 1, 3, 9, 1, 7, 9, 9, 1, 1, 7, 7, 9, 9, 7, 1, 1, 3, 9, 3, 7, 7, 1, 9, 7, 9, 3, 7, 1, 3, 9, 3, 9, 3, 7, 3, 7, 9, 3, 3, 9, 3, 3, 9, 1, 3, 3, 1, 9, 9, 1, 7, 3, 9, 1, 7, 1, 3, 9, 7, 1, 7, 3, 3, 9, 1, 3, 7, 1, 7, 3, 9, 1, 7, 9, 3, 7, 3, 7, 9, 3, 1, 1, 1, 3, 3, 1, 7, 9, 1, 1, 9, 1, 1, 3, 9, 3, 3, 7, 9, 9, 7, 1, 7, 1, 1, 3, 9, 3, 9, 7, 3, 3, 1, 3, 7, 3, 7, 1, 3, 1, 9, 7, 1, 3, 1, 1, 9, 1, 3, 3, 7, 1, 7, 9, 3, 1, 7, 1, 7, 9, 7, 3, 9, 7, 9, 3, 9, 9, 7, 3, 1, 7, 3, 1, 9, 1, 7, 3, 3, 7, 1, 3, 7, 3, 7, 7, 1, 3, 9, 7, 9, 7, 1, 7, 3, 9, 3, 7, 7, 9, 3, 9, 7, 9, 3, 7, 3, 1, 3, 3, 7, 1, 3, 7, 1, 1, 3, 1, 3, 1, 1, 7, 1, 7, 7, 1, 9, 9, 7, 7, 9, 3, 1, 7, 7, 3, 7, 3, 9, 3, 1, 7, 1, 9, 7, 9, 1, 7, 9, 9, 9, 1, 3, 1, 3, 1, 7, 1, 9, 3, 7, 3, 1, 1, 7, 1, 9, 3, 7, 7, 1, 7, 9, 1, 9, 7, 1, 1, 7, 9, 3, 9, 3, 1, 1, 1, 9, 1, 7, 9, 1, 1, 1, 7, 7, 9, 3, 1, 9, 1, 3, 9, 3, 3, 1, 1, 9, 9, 7, 3, 7, 7, 1, 1, 7, 9, 3, 9, 1, 3, 3, 7, 1, 9, 1, 7, 9, 3, 1, 7, 7, 9, 3, 9, 3, 9, 7, 9, 3, 3, 7, 3, 9, 9, 1, 1, 3, 3, 1, 7, 7, 7, 7, 9, 7, 3, 9, 9, 7, 1, 3, 9, 1, 3, 1, 3, 3, 9, 7, 1, 9, 1, 3, 9, 9, 1, 7, 7, 3, 7, 9, 1, 9, 1, 7, 9, 9, 9, 3, 7, 1, 7, 1, 3, 9, 9, 1, 1, 9, 7, 1, 3, 1, 3, 9, 3, 9, 1, 1, 7, 9, 7, 9, 3, 7, 3, 9, 3, 1, 9, 9, 3, 1, 3, 9, 9, 1, 3, 3, 3, 9, 1, 1, 7, 1, 1, 1, 7, 3, 7, 9, 1, 3, 7, 9, 9, 9, 3, 7, 9, 3, 9, 7, 1, 3, 1, 7, 1, 7, 3, 7, 9, 1, 1, 9, 3, 9, 1, 7, 9, 7, 1, 9, 3, 1, 9, 9, 7, 1, 7, 9, 1, 1, 1, 9, 9, 9, 3, 1, 7, 7, 9, 9, 7, 3, 7, 3, 1, 7, 9, 9, 1, 7, 3, 3, 1, 1, 3, 9, 7, 3, 1, 7, 9, 3, 7, 1, 1, 1, 1, 7, 1, 3, 9, 7, 1, 7, 9, 3, 3, 1, 1, 9, 9, 1, 1, 3, 3, 7, 7, 9, 3, 7, 3, 9, 3, 9, 7, 1, 1, 9, 9, 7, 3, 7, 7, 9, 7, 7, 9, 9, 3, 7, 3, 7, 3, 7, 3, 9, 3, 7, 1, 3, 9, 1, 1, 7, 7, 3, 3, 3, 7, 9, 3, 9, 1, 1, 7, 9, 9, 9, 1, 7, 3, 9, 1, 7, 1, 7, 1, 3, 9, 3, 7, 9, 3, 9, 9, 7, 9, 1, 9, 1, 7, 1, 3, 1, 7, 9, 9, 3, 9, 1, 9, 9, 1, 7, 1, 3, 9, 3, 1, 7, 3, 9, 1, 1, 3, 7, 3, 9, 7, 3, 9, 9, 7, 1, 7, 3, 1, 7, 1, 9, 7, 7, 1, 1, 3, 7, 1, 3, 3, 1, 9, 9, 7, 1, 1, 7, 9, 9, 3, 9, 1, 7, 1, 7, 3, 1, 3, 9, 9, 1, 7, 1, 3, 9, 1, 9, 1, 7, 9, 7, 7, 9, 3, 7, 1, 7, 9, 9, 1, 7, 9, 9, 1, 7, 1, 1, 1, 7, 9, 3, 7, 3, 9, 1, 3, 7, 9, 3, 7, 9, 7, 9, 1, 7, 9, 7, 1, 1, 7, 7, 7, 1, 3, 9, 1, 7, 3, 1, 3, 9, 3, 1, 7, 1, 9, 3, 7, 7, 9, 1, 9, 3, 9, 1, 7, 1, 1, 9, 9, 3, 7, 3, 9, 1, 9, 7, 7, 9, 9, 9, 3, 1, 7, 7, 9, 3, 7, 9, 9, 9, 1, 9, 3, 7, 3, 1, 1, 3, 7, 3, 3, 9, 9, 1, 3, 9, 3, 3, 7, 3, 7, 1, 1, 7, 3, 7, 3, 3, 7, 9, 7, 1, 7, 3, 9, 3, 9, 9, 1, 9, 1, 7, 3, 7, 3, 3, 9, 1, 3, 7, 3, 1, 3, 7, 9, 3, 7, 9, 7, 1, 9, 1, 9, 3, 9, 3, 9, 3, 9, 9, 7, 3, 1, 1, 7, 3, 1, 7, 1, 1, 1, 7, 9, 1, 7, 1, 3, 7, 1, 3, 9, 1, 7, 7, 9, 9, 3, 1, 7, 3, 7, 1, 7, 1, 3, 9, 3, 3, 9, 3, 1, 1, 3, 7, 3, 3, 1, 7, 1, 3, 3, 7, 9, 3, 7, 9, 7, 9, 1, 7, 1, 7, 9, 3, 7, 1, 7, 3, 9, 3, 9, 7, 1, 9, 1, 3, 7, 3, 1, 1, 3, 9, 9, 1, 1, 3, 3, 7, 3, 7, 1, 9, 9, 9, 1, 7, 3, 3, 7, 9, 7, 7, 1, 3, 1, 7, 1, 7, 1, 9, 3, 7, 7, 1, 1, 3, 9, 1, 3, 3, 9, 3, 9, 1, 7, 9, 1, 9, 3, 3, 9, 7, 3, 1, 7, 7, 3, 9, 3, 7, 9, 3, 9, 3, 1, 7, 9, 7, 1, 7, 1, 7, 1, 1, 3, 1, 7, 9, 9, 9, 3, 3, 7, 3, 9, 3, 1, 7, 7, 3, 9, 3, 9, 3, 1, 1, 7, 9, 9, 1, 7, 1, 1, 7, 1, 1, 9, 7, 9, 9, 3, 7, 1, 7, 1, 3, 7, 3, 3, 1, 3, 7, 3, 1, 7, 1, 7, 7, 7, 9, 1, 7, 9, 3, 9, 7, 9, 1, 9, 1, 1, 3, 9, 7, 1, 7, 9, 3, 7, 9, 1, 9, 1, 3, 7, 7, 1, 3, 3, 9, 3, 9, 1, 9, 3, 7, 1, 1, 3, 7, 1, 7, 7, 3, 9, 3, 3, 1, 3, 7, 1, 9, 1, 9, 1, 1, 1, 7, 9, 1, 7, 3, 7, 7, 9, 3, 7, 9, 3, 3, 9, 1, 3, 3, 7, 9, 7, 7, 9, 7, 9, 9, 9, 1, 7, 7, 9, 1, 9, 9, 1, 7, 9, 7, 3, 9, 1, 3, 7, 9, 3, 7, 3, 3, 9, 9, 7, 7, 9, 7, 1, 9, 9, 1, 3, 9, 1, 1, 7, 9, 3, 9, 1, 1, 9, 1, 9, 1, 1, 1, 3, 1, 9, 7, 3, 1, 3, 1, 7, 3, 9, 7, 1, 7, 7, 7, 1, 3, 7, 1, 7, 9, 3, 9, 3, 9, 3, 1, 9, 7, 9, 1, 3, 1, 3, 3, 9, 7, 1, 7, 9, 3, 9, 1, 7, 3, 1, 3, 9, 1, 9, 7, 3, 1, 7, 3, 9, 9, 1, 7, 7, 9, 9, 7, 3, 3, 1, 9, 3, 1, 7, 1, 1, 3, 3, 3, 7, 3, 9, 7, 7, 7, 1, 3, 9, 1, 7, 3, 3, 7, 3, 1, 3, 3, 9, 1, 7, 1, 3, 7, 9, 1, 9, 3, 1, 7, 3, 9, 1, 3, 9, 7, 7, 1, 9, 1, 7, 1, 9, 7, 9, 3, 1, 1, 7, 9, 3, 1, 9, 9, 1, 7, 9, 1, 1, 3, 7, 3, 3, 9, 1, 9, 9, 1, 1, 3, 3, 3, 9, 9, 7, 9, 1, 3, 3, 7, 3, 7, 3, 9, 7, 1, 1, 3, 9, 7, 3, 7, 9, 9, 9, 7, 1, 1, 7, 1, 1, 3, 1, 7, 3, 9, 3, 9, 3, 3, 1, 9, 9, 1, 7, 9, 3, 9, 1, 7, 3, 9, 9, 1, 7, 9, 3, 1, 7, 7, 1, 7, 9, 1, 7, 9, 9, 1, 3, 3, 7, 7, 7, 3, 1, 7, 3, 9, 1, 7, 1, 1, 7, 9, 3, 7, 1, 7, 9, 3, 9, 9, 7, 1, 3, 7, 7, 9, 3, 7, 3, 9, 3, 9, 1, 3, 7, 1, 3, 3, 3, 9, 7, 3, 9, 7, 7, 1, 3, 7, 9, 1, 1, 7, 9, 7, 9, 9, 7, 3, 7, 7, 9, 3, 9, 1, 7, 7, 1, 1, 3, 9, 1, 3, 9, 3, 1, 3, 9, 3, 7, 1, 3, 9, 9, 1, 7, 1, 7, 9, 3, 1, 3, 1, 3, 9, 9, 7, 9, 7, 3, 9, 1, 3, 9, 9, 3, 9, 9, 1, 7, 9, 9, 7, 3, 1, 1, 7, 9, 3, 3, 1, 7, 3, 9, 3, 7, 3, 1, 7, 1, 9, 3, 7, 7, 9, 3, 3, 7, 7, 3, 1, 7, 9, 7, 3, 7, 1, 7, 3, 3, 1, 1, 3, 1, 9, 9, 3, 9, 9, 3, 7, 1, 3, 7, 3, 7, 3, 1, 9, 7, 1, 7, 3, 7, 7, 3, 9, 1, 3, 1, 3, 7, 9, 1, 7, 9, 3, 1, 9, 1, 7, 1, 3, 3, 9, 7, 1, 7, 9, 9, 1, 9, 3, 9, 1, 1, 9, 3, 7, 9, 1, 7, 9, 7, 1, 7, 3, 1, 3, 3, 7, 3, 7, 3, 9, 1, 7, 3, 9, 1, 7, 3, 7, 3, 7, 9, 7, 1, 3, 7, 1, 9, 7, 9, 3, 7, 1, 3, 9, 3, 9, 1, 3, 7, 9, 1, 3, 7, 1, 7, 3, 1, 1, 7, 9, 3, 1, 1, 9, 9, 1, 7, 9, 1, 3, 9, 9, 1, 3, 9, 1, 9, 3, 7, 3, 1, 9, 3, 7, 3, 9, 1, 1, 3, 7, 7, 3, 9, 1, 3, 7, 7, 7, 9, 3, 9, 3, 3, 9, 1, 1, 7, 7, 9, 3, 3, 1, 3, 3, 9, 7, 9, 3, 9, 7, 3, 3, 7, 3, 9, 9, 9, 1, 7, 3, 7, 7, 7, 3, 9, 1, 1, 3, 7, 1, 1, 7, 1, 7, 1, 3, 9, 3, 7, 1, 7, 9, 1, 1, 9, 7, 1, 3, 7, 1, 3, 9, 7, 9, 1, 7, 7, 1, 9, 3, 7, 9, 9, 1, 3, 3, 9, 1, 3, 3, 9, 9, 1, 9, 7, 9, 9, 7, 3, 1, 3, 7, 3, 1, 1, 9, 1, 9, 3, 1, 7, 7, 3, 7, 1, 1, 9, 3, 7, 1, 3, 1, 9, 9, 9, 7, 9, 1, 7, 1, 3, 3, 9, 1, 3, 7, 1, 1, 1, 7, 3, 9, 9, 1, 3, 9, 9, 3, 3, 1, 3, 3, 9, 7, 1, 7, 1, 9, 3, 9, 3, 9, 1, 3, 7, 1, 3, 3, 3, 3, 7, 9, 1, 3, 7, 9, 9, 1, 3, 7, 3, 7, 3, 9, 1, 7, 9, 3, 1, 9, 1, 7, 7, 9, 1, 7, 9, 3, 1, 9, 9, 7, 1, 1, 3, 3, 3, 3, 1, 7, 9, 3, 9, 7, 9, 7, 7, 9, 3, 1, 7, 9, 7, 7, 3, 9, 7, 9, 9, 7, 3, 9, 3, 7, 3, 9, 7, 9, 9, 3, 9, 1, 1, 7, 9, 3, 7, 1, 9, 1, 7, 3, 1, 7, 9, 9, 7, 9, 7, 9, 9, 3, 3, 9, 7, 7, 9, 7, 3, 3, 7, 1, 1, 7, 3, 9, 1, 3, 7, 9, 1, 3, 9, 9, 7, 9, 9, 1, 3, 9, 1, 1, 9, 7, 9, 7, 7, 9, 3, 7, 7, 3, 9, 3, 9, 7, 1, 1, 1, 1, 3, 1, 3, 1, 1, 9, 1, 7, 3, 7, 1, 7, 9, 1, 7, 9, 7, 1, 3, 7, 3, 9, 1, 9, 3, 7, 9, 1, 1, 7, 3, 1, 1, 9, 9, 7, 7, 7, 9, 7, 9, 9, 1, 7, 3, 9, 1, 7, 3, 9, 3, 1, 7, 1, 7, 9, 1, 9, 7, 1, 3, 7, 1, 9, 9, 7, 1, 7, 7, 7, 1, 7, 1, 9, 3, 3, 9, 7, 9, 1, 7, 3, 3, 1, 7, 3, 7, 3, 1, 7, 7, 1, 3, 1, 3, 3, 1, 3, 7, 7, 9, 1, 7, 1, 7, 9, 7, 1, 3, 7, 3, 9, 3, 1, 3, 9, 9, 3, 7, 7, 7, 3, 1, 9, 1, 7, 3, 3, 9, 1, 7, 3, 9, 7, 1, 9, 1, 7, 3, 9, 7, 1, 9, 3, 7, 1, 9, 9, 1, 3, 1, 7, 7, 9, 7, 9, 1, 1, 3, 9, 1, 7, 3, 7, 1, 9, 3, 7, 9, 1, 1, 9, 1, 9, 3, 9, 3, 7, 9, 3, 1, 3, 7, 9, 1, 9, 3, 3, 9, 7, 3, 9, 9, 9, 1, 3, 3, 9, 7, 1, 3, 7, 7, 3, 9, 1, 3, 7, 9, 9, 3, 7, 9, 7, 1, 7, 9, 3, 1, 9, 3, 1, 7, 9, 1, 9, 7, 9, 3, 7, 9, 1, 1, 7, 3, 3, 9, 9, 7, 3, 7, 9, 9, 3, 9, 9, 7, 3, 1, 3, 9, 3, 1, 9, 3, 3, 3, 7, 7, 3, 7, 3, 1, 1, 3, 9, 7, 9, 1, 9, 1, 1, 3, 9, 9, 1, 3, 7, 9, 3, 9, 7, 9, 3, 1, 1, 1, 3, 9, 3, 1, 1, 1, 9, 3, 9, 3, 1, 7, 3, 7, 3, 1, 1, 3, 7, 3, 9, 9, 9, 7, 7, 1, 9, 7, 9, 7, 9, 1, 3, 9, 1, 7, 1, 1, 7, 9, 1, 3, 9, 3, 7, 3, 9, 9, 1, 1, 1, 9, 9, 1, 9, 3, 7, 3, 1, 1, 7, 3, 9, 7, 3, 9, 3, 1, 1, 7, 9, 3, 9, 1, 9, 1, 9, 3, 1, 3, 9, 7, 9, 3, 7, 9, 1, 7, 3, 1, 7, 1, 1, 3, 7, 7, 9, 3, 7, 9, 9, 7, 3, 9, 1, 7, 3, 1, 9, 3, 9, 1, 3, 7, 1, 9, 1, 3, 1, 1, 7, 3, 9, 7, 9, 1, 7, 1, 1, 3, 7, 3, 3, 7, 3, 3, 1, 3, 1, 7, 9, 9, 3, 1, 3, 7, 1, 1, 3, 7, 3, 1, 7, 9, 1, 7, 3, 1, 7, 1, 7, 1, 9, 1, 7, 3, 3, 9, 9, 1, 7, 1, 7, 3, 1, 1, 9, 3, 9, 3, 7, 7, 9, 3, 9, 7, 3, 7, 7, 9, 7, 1, 7, 3, 1, 3, 7, 3, 3, 9, 1, 7, 3, 3, 3, 7, 7, 9, 3, 7, 9, 3, 9, 9, 1, 1, 3, 9, 9, 3, 7, 3, 1, 9, 3, 3, 9, 1, 1, 3, 1, 3, 9, 3, 3, 1, 1, 7, 1, 9, 1, 9, 7, 9, 3, 3, 9, 9, 1, 1, 7, 3, 1, 3, 9, 3, 7, 1, 1, 9, 1, 3, 7, 1, 3, 9, 9, 1, 1, 9, 9, 1, 7, 3, 7, 3, 7, 3, 9, 1, 1, 7, 7, 7, 9, 1, 7, 1, 7, 9, 3, 1, 7, 3, 7, 3, 3, 3, 7, 3, 9, 1, 3, 9, 7, 7, 9, 7, 7, 9, 1, 3, 1, 3, 7, 1, 1, 3, 1, 7, 3, 3, 7, 3, 1, 7, 9, 7, 9, 1, 7, 9, 9, 1, 9, 3, 9, 7, 1, 9, 7, 3, 9, 3, 9, 3, 1, 7, 3, 1, 7, 9, 1, 3, 7, 1, 3, 9, 1, 7, 7, 9, 1, 1, 9, 9, 7, 1, 1, 7, 7, 3, 9, 1, 1, 1, 3, 7, 7, 3, 9, 3, 9, 3, 3, 3, 9, 9, 3, 1, 9, 1, 1, 1, 9, 1, 7, 1, 3, 7, 7, 3, 9, 7, 3, 9, 3, 7, 9, 3, 9, 7, 3, 3, 7, 3, 7, 3, 7, 1, 9, 1, 7, 1, 3, 1, 3, 3, 9, 7, 9, 1, 7, 1, 9, 7, 9, 9, 9, 1, 7, 9, 3, 1, 9, 1, 3, 9, 3, 9, 3, 3, 7, 9, 3, 1, 7, 7, 9, 3, 9, 1, 9, 3, 1, 3, 3, 1, 7, 3, 9, 1, 3, 9, 3, 7, 1, 9, 1, 3, 9, 3, 9, 7, 3, 7, 1, 7, 9, 1, 3, 9, 1, 7, 7, 9, 3, 9, 1, 7, 3, 9, 7, 3, 1, 9, 1, 7, 9, 3, 1, 9, 1, 7, 3, 9, 1, 3, 9, 1, 3, 9, 3, 7, 9, 1, 7, 7, 3, 1, 1, 7, 9, 1, 1, 7, 9, 3, 3, 9, 9, 1, 7, 9, 3, 1, 7, 3, 7, 3, 9, 9, 7, 3, 7, 7, 1, 7, 1, 9, 3, 9, 1, 7, 1, 3, 3, 7, 1, 9, 9, 7, 7, 1, 3, 9, 3, 1, 3, 3, 3, 1, 7, 3, 9, 9, 1, 7, 9, 3, 7, 9, 1, 7, 3, 7, 3, 3, 7, 1, 9, 1, 7, 1, 9, 3, 1, 1, 3, 9, 3, 7, 1, 9, 7, 1, 3, 7, 3, 7, 7, 3, 9, 1, 3, 9, 9, 1, 7, 1, 3, 9, 1, 7, 1, 7, 9, 1, 3, 9, 7, 9, 9, 1, 9, 1, 9, 3, 3, 3, 7, 1, 3, 7, 1, 7, 9, 1, 1, 3, 9, 3, 7, 7, 9, 9, 7, 9, 1, 7, 9, 7, 7, 3, 9, 3, 3, 1, 7, 3, 1, 7, 9, 9, 1, 7, 7, 1, 3, 7, 1, 7, 9, 9, 9, 3, 1, 3, 3, 9, 7, 3, 3, 3, 1, 1, 7, 1, 7, 9, 7, 9, 9, 7, 3, 9, 1, 1, 1, 7, 9, 1, 7, 1, 7, 7, 1, 7, 9, 1, 3, 9, 1, 7, 3, 9, 7, 7, 1, 7, 3, 9, 9, 9, 1, 1, 9, 3, 9, 1, 7, 9, 9, 9, 7, 1, 7, 1, 9, 7, 7, 9, 1, 9, 1, 3, 3, 9, 1, 7, 3, 1, 3, 3, 9, 1, 3, 9, 9, 1, 9, 1, 3, 9, 1, 3, 7, 9, 9, 3, 9, 1, 1, 1, 7, 9, 1, 7, 1, 3, 9, 7, 3, 7, 3, 1, 9, 9, 9, 7, 1, 9, 1, 3, 7, 9, 1, 1, 1, 7, 9, 3, 1, 3, 7, 3, 1, 3, 1, 7, 9, 3, 7, 9, 3, 7, 1, 9, 7, 7, 3, 3, 7, 7, 9, 1, 3, 9, 9, 1, 7, 3, 7, 7, 7, 9, 7, 3, 9, 1, 3, 1, 7, 9, 1, 7, 9, 1, 3, 3, 7, 3, 9, 1, 3, 7, 3, 7, 1, 7, 9, 1, 7, 7, 1, 7, 1, 3, 9, 7, 9, 7, 9, 1, 7, 9, 1, 3, 3, 9, 1, 3, 7, 1, 9, 3, 1, 7, 9, 3, 1, 7, 9, 3, 1, 1, 9, 1, 1, 7, 9, 1, 7, 3, 9, 1, 3, 9, 3, 7, 1, 9, 3, 9, 3, 3, 7, 1, 9, 3, 7, 7, 9, 1, 3, 1, 9, 1, 9, 7, 1, 3, 9, 3, 3, 1, 7, 3, 3, 7, 3, 1, 7, 1, 7, 9, 9, 1, 7, 7, 1, 7, 3, 7, 3, 9, 1, 1, 9, 9, 3, 9, 7, 9, 1, 9, 7, 1, 1, 1, 1, 7, 7, 3, 9, 1, 1, 3, 7, 7, 9, 1, 3, 1, 3, 9, 9, 1, 1, 9, 7, 7, 9, 7, 7, 3, 7, 3, 7, 1, 9, 3, 7, 9, 1, 7, 1, 9, 9, 7, 7, 3, 9, 7, 1, 3, 9, 1, 3, 9, 3, 7, 3, 9, 9, 7, 7, 3, 7, 7, 1, 3, 9, 9, 1, 9, 3, 7, 3, 3, 7, 9, 9, 1, 9, 3, 3, 9, 3, 3, 9, 3, 1, 7, 3, 7, 3, 7, 1, 3, 3, 9, 1, 1, 9, 9, 3, 3, 9, 1, 7, 1, 7, 7, 9, 7, 3, 9, 3, 9, 9, 3, 7, 3, 1, 3, 9, 1, 9, 7, 7, 3, 7, 3, 1, 3, 9, 1, 1, 3, 1, 3, 9, 9, 7, 1, 1, 7, 9, 3, 7, 1, 7, 1, 9, 1, 9, 1, 3, 9, 1, 1, 3, 3, 7, 1, 9, 3, 9, 1, 3, 7, 9, 7, 1, 3, 7, 9, 1, 7, 1, 7, 9, 1, 7, 9, 3, 9, 7, 1, 3, 7, 3, 9, 1, 3, 1, 3, 9, 9, 1, 7, 1, 3, 7, 9, 1, 3, 1, 1, 7, 1, 3, 3, 9, 3, 9, 3, 1, 9, 1, 9, 9, 7, 7, 9, 3, 1, 3, 7, 9, 1, 3, 3, 9, 7, 1, 7, 3, 9, 7, 7, 9, 1, 3, 7, 3, 1, 7, 7, 9, 7, 9, 7, 1, 3, 7, 3, 9, 1, 7, 1, 1, 3, 9, 1, 3, 7, 1, 3, 9, 9, 7, 3, 9, 7, 9, 1, 7, 9, 9, 1, 1, 9, 9, 1, 7, 7, 1, 1, 3, 7, 3, 7, 3, 3, 9, 1, 7, 9, 7, 1, 9, 3, 9, 1, 7, 9, 9, 3, 3, 1, 1, 3, 7, 1, 7, 7, 7, 3, 1, 3, 9, 1, 7, 9, 7, 3, 7, 1, 3, 3, 7, 3, 1, 3, 9, 7, 1, 9, 1, 1, 3, 9, 1, 3, 1, 3, 7, 9, 7, 7, 3, 9, 7, 7, 7, 7, 3, 9, 3, 7, 3, 7, 7, 9, 7, 3, 9, 1, 3, 7, 3, 9, 7, 9, 9, 9, 7, 7, 1, 3, 1, 3, 7, 9, 1, 1, 9, 3, 1, 7, 1, 3, 3, 7, 9, 3, 9, 3, 7, 9, 3, 1, 7, 3, 9, 1, 9, 7, 3, 1, 3, 7, 1, 1, 7, 1, 9, 7, 3, 9, 1, 9, 1, 1, 9, 3, 1, 1, 7, 3, 9, 1, 9, 3, 7, 1, 7, 9, 3, 9, 3, 9, 7, 9, 1, 3, 9, 1, 1, 9, 1, 9, 3, 1, 7, 3, 1, 9, 7, 9, 3, 9, 3, 7, 7, 3, 7, 7, 9, 1, 1, 3, 1, 3, 7, 1, 1, 7, 9, 1, 7, 3, 7, 9, 9, 3, 7, 9, 7, 1, 3, 7, 9, 1, 7, 9, 3, 9, 9, 3, 1, 7, 9, 1, 1, 7, 7, 9, 7, 9, 1, 9, 7, 1, 1, 7, 3, 7, 3, 3, 7, 7, 1, 9, 3, 1, 7, 7, 1, 1, 3, 7, 3, 7, 9, 1, 7, 3, 9, 3, 9, 1, 9, 9, 1, 7, 9, 9, 3, 3, 7, 1, 3, 9, 1, 7, 1, 3, 9, 7, 9, 1, 3, 1, 3, 3, 1, 9, 3, 7, 1, 7, 9, 1, 3, 7, 3, 7, 3, 1, 3, 7, 9, 1, 7, 3, 3, 7, 7, 9, 9, 7, 3, 7, 3, 7, 1, 9, 9, 3, 7, 1, 3, 7, 7, 1, 7, 9, 9, 1, 9, 1, 9, 3, 3, 1, 3, 7, 9, 1, 1, 3, 3, 7, 1, 7, 3, 7, 3, 1, 3, 7, 9, 1, 9, 3, 9, 3, 1, 1, 3, 1, 3, 7, 9, 7, 9, 9, 3, 9, 7, 1, 3, 9, 3, 3, 7, 7, 3, 1, 3, 7, 1, 1, 7, 1, 7, 9, 7, 1, 3, 7, 9, 7, 9, 3, 7, 3, 1, 7, 9, 3, 1, 7, 1, 1, 1, 9, 7, 9, 3, 1, 7, 1, 3, 3, 1, 3, 7, 9, 1, 7, 1, 3, 3, 3, 1, 3, 7, 7, 1, 7, 1, 3, 9, 3, 9, 1, 3, 7, 9, 3, 9, 3, 9, 3, 7, 1, 3, 3, 9, 3, 9, 1, 3, 1, 1, 3, 7, 9, 3, 9, 3, 1, 9, 1, 7, 7, 9, 3, 9, 7, 3, 9, 1, 9, 1, 3, 1, 7, 7, 9, 1, 1, 3, 1, 3, 9, 7, 9, 3, 1, 3, 3, 1, 1, 9, 1, 7, 7, 9, 7, 3, 1, 3, 9, 1, 9, 1, 7, 3, 9, 1, 3, 7, 3, 3, 1, 7, 3, 9, 1, 1, 1, 9, 3, 1, 3, 9, 1, 1, 7, 3, 1, 3, 7, 7, 9, 1, 9, 1, 3, 7, 3, 3, 9, 1, 9, 9, 1, 7, 1, 1, 3, 3, 1, 1, 7, 9, 1, 9, 1, 7, 1, 7, 3, 7, 3, 7, 9, 3, 3, 3, 7, 1, 3, 7, 3, 1, 9, 3, 1, 7, 7, 9, 3, 9, 1, 3, 9, 1, 7, 3, 9, 3, 9, 1, 1, 7, 7, 9, 3, 1, 9, 1, 1, 7, 3, 9, 7, 3, 7, 7, 9, 9, 7, 3, 3, 9, 1, 7, 3, 1, 9, 1, 7, 7, 9, 3, 1, 7, 7, 1, 3, 3, 9, 1, 1, 3, 9, 9, 1, 3, 3, 7, 3, 9, 7, 7, 3, 1, 9, 1, 3, 9, 9, 7, 9, 7, 3, 9, 1, 7, 1, 9, 9, 9, 1, 7, 9, 7, 3, 3, 1, 7, 9, 1, 7, 3, 7, 9, 3, 9, 1, 7, 1, 7, 9, 3, 3, 9, 7, 1, 1, 3, 9, 7, 7, 9, 9, 9, 1, 3, 9, 1, 7, 3, 9, 1, 7, 3, 7, 9, 3, 9, 1, 1, 3, 9, 3, 9, 7, 1, 3, 9, 3, 7, 1, 3, 7, 7, 9, 1, 3, 9, 1, 9, 7, 9, 1, 9, 3, 1, 1, 7, 7, 9, 1, 3, 9, 3, 7, 9, 1, 1, 1, 7, 1, 3, 3, 7, 7, 9, 9, 3, 1, 7, 3, 3, 7, 7, 9, 7, 9, 3, 1, 9, 1, 3, 3, 1, 3, 3, 1, 7, 9, 1, 7, 7, 9, 1, 1, 3, 3, 1, 9, 7, 9, 9, 7, 7, 1, 9, 9, 1, 7, 1, 7, 1, 7, 9, 1, 7, 1, 1, 7, 3, 9, 3, 9, 3, 1, 7, 1, 9, 9, 7, 1, 3, 7, 3, 7, 1, 7, 3, 7, 3, 1, 1, 7, 9, 1, 1, 3, 7, 9, 3, 1, 7, 7, 3, 7, 9, 9, 1, 7, 1, 7, 7, 9, 1, 3, 7, 3, 1, 9, 1, 1, 9, 3, 7, 9, 9, 1, 7, 3, 1, 7, 1, 3, 7, 7, 7, 9, 3, 3, 1, 3, 9, 1, 3, 1, 3, 9, 7, 3, 3, 1, 7, 9, 9, 1, 7, 7, 9, 3, 7, 1, 7, 3, 1, 7, 3, 9, 7, 1, 3, 3, 7, 7, 3, 9, 9, 3, 3, 1, 1, 3, 9, 7, 9, 3, 7, 3, 7, 9, 1, 3, 1, 3, 7, 3, 9, 1, 7, 3, 7, 3, 7, 9, 3, 7, 1, 7, 7, 3, 9, 3, 9, 3, 1, 9, 3, 9, 1, 7, 9, 9, 1, 9, 7, 9, 3, 3, 7, 3, 9, 7, 1, 9, 3, 3, 9, 9, 7, 3, 7, 9, 3, 3, 1, 7, 1, 1, 7, 1, 7, 9, 1, 7, 3, 3, 7, 9, 1, 9, 7, 7, 3, 3, 7, 9, 1, 9, 7, 3, 9, 3, 1, 7, 3, 3, 1, 1, 7, 9, 3, 9, 1, 3, 3, 9, 1, 9, 7, 9, 1, 3, 7, 9, 1, 3, 9, 1, 9, 7, 1, 3, 3, 9, 3, 9, 7, 1, 7, 9, 9, 1, 3, 3, 1, 1, 7, 9, 3, 1, 9, 7, 1, 3, 3, 1, 1, 7, 9, 3, 3, 1, 7, 9, 7, 3, 9, 3, 3, 7, 9, 9, 7, 1, 3, 1, 7, 3, 9, 3, 7, 9, 1, 7, 7, 9, 3, 9, 1, 9, 1, 1, 7, 3, 9, 1, 3, 3, 3, 1, 7, 1, 7, 1, 9, 1, 3, 3, 9, 7, 3, 9, 3, 7, 1, 3, 7, 9, 9, 7, 9, 7, 7, 9, 7, 9, 3, 9, 7, 1, 3, 3, 1, 3, 9, 1, 3, 9, 3, 1, 7, 1, 3, 7, 7, 1, 3, 9, 7, 1, 1, 9, 1, 7, 1, 3, 9, 3, 7, 9, 3, 1, 3, 1, 3, 9, 9, 3, 7, 9, 1, 1, 3, 9, 7, 9, 7, 3, 7, 9, 1, 1, 3, 7, 1, 7, 1, 3, 3, 9, 3, 9, 3, 9, 7, 1, 3, 3, 3, 1, 3, 9, 7, 7, 3, 7, 9, 7, 1, 3, 1, 9, 3, 1, 3, 1, 7, 9, 1, 7, 3, 9, 1, 9, 9, 7, 1, 7, 3, 9, 7, 9, 3, 7, 3, 7, 9, 3, 1, 7, 3, 1, 7, 1, 7, 7, 1, 7, 3, 3, 3, 9, 1, 7, 1, 1, 3, 9, 3, 9, 7, 7, 7, 9, 3, 7, 1, 7, 1, 7, 9, 1, 7, 3, 1, 7, 3, 7, 9, 1, 3, 7, 3, 3, 1, 3, 9, 9, 7, 9, 9, 3, 7, 1, 3, 7, 3, 1, 9, 1, 1, 7, 7, 9, 7, 3, 9, 3, 7, 9, 3, 3, 1, 3, 7, 1, 9, 1, 9, 3, 1, 3, 7, 9, 7, 7, 9, 3, 3, 3, 3, 3, 7, 1, 7, 7, 9, 7, 3, 9, 7, 1, 3, 7, 1, 3, 3, 1, 7, 1, 3, 9, 3, 1, 9, 3, 3, 1, 7, 9, 9, 3, 9, 3, 3, 9, 7, 9, 1, 3, 3, 7, 9, 1, 1, 3, 9, 1, 7, 7, 1, 9, 7, 3, 9, 9, 1, 1, 3, 1, 7, 1, 1, 3, 1, 9, 3, 7, 3, 1, 7, 9, 3, 1, 9, 1, 7, 3, 9, 3, 1, 7, 1, 7, 9, 7, 7, 9, 1, 3, 7, 3, 3, 9, 1, 7, 7, 9, 1, 3, 7, 9, 7, 7, 9, 3, 7, 9, 1, 7, 9, 1, 7, 9, 7, 9, 9, 1, 7, 9, 1, 7, 3, 1, 3, 3, 9, 3, 1, 1, 9, 7, 9, 1, 7, 1, 7, 9, 9, 3, 3, 7, 7, 3, 7, 7, 3, 1, 3, 9, 9, 1, 1, 3, 3, 3, 7, 1, 3, 7, 1, 7, 3, 1, 9, 7, 9, 3, 9, 7, 1, 3, 7, 3, 7, 3, 9, 1, 9, 7, 1, 7, 1, 3, 3, 9, 3, 1, 9, 3, 7, 3, 7, 7, 9, 1, 3, 9, 1, 7, 3, 9, 1, 1, 1, 1, 9, 1, 7, 1, 3, 7, 1, 1, 7, 9, 7, 9, 3, 9, 1, 1, 3, 9, 3, 7, 1, 7, 1, 7, 7, 7, 3, 7, 1, 3, 3, 3, 3, 9, 7, 7, 3, 9, 1, 7, 9, 3, 1, 7, 1, 7, 3, 9, 1, 3, 7, 1, 9, 3, 3, 9, 9, 1, 1, 7, 9, 3, 7, 7, 7, 3, 1, 7, 7, 9, 7, 9, 7, 1, 9, 1, 9, 3, 1, 3, 9, 9, 9, 3, 9, 9, 7, 1, 3, 3, 3, 7, 1, 7, 1, 9, 9, 7, 9, 1, 9, 7, 7, 1, 3, 1, 1, 9, 3, 9, 3, 1, 3, 3, 9, 1, 3, 3, 3, 7, 7, 3, 1, 3, 1, 3, 1, 7, 9, 1, 9, 7, 3, 3, 9, 3, 9, 9, 7, 9, 3, 9, 9, 9, 3, 9, 1, 7, 9, 3, 1, 7, 1, 9, 9, 3, 7, 9, 1, 1, 7, 1, 1, 1, 1, 3, 7, 9, 1, 1, 7, 7, 9, 7, 1, 3, 3, 1, 7, 3, 9, 7, 9, 3, 7, 1, 7, 7, 3, 7, 3, 3, 7, 9, 3, 7, 3, 1, 1, 3, 9, 9, 1, 7, 1, 3, 3, 3, 7, 1, 9, 9, 9, 3, 9, 7, 7, 3, 1, 3, 7, 3, 9, 1, 3, 1, 3, 9, 1, 1, 7, 1, 9, 9, 9, 1, 3, 7, 1, 7, 3, 7, 9, 3, 9, 9, 3, 9, 1, 7, 3, 3, 3, 1, 1, 1, 9, 3, 1, 1, 3, 9, 1, 1, 1, 3, 9, 9, 7, 9, 3, 1, 7, 9, 7, 1, 3, 9, 1, 1, 3, 3, 7, 3, 9, 9, 7, 7, 1, 7, 7, 3, 9, 9, 1, 7, 3, 9, 1, 7, 1, 9, 9, 7, 7, 3, 9, 3, 3, 1, 9, 7, 3, 9, 1, 3, 3, 9, 3, 7, 3, 1, 3, 9, 9, 1, 7, 7, 1, 1, 3, 7, 3, 7, 1, 3, 3, 7, 3, 7, 9, 9, 1, 1, 9, 9, 7, 3, 1, 7, 1, 3, 9, 3, 1, 7, 1, 9, 9, 7, 9, 7, 3, 7, 9, 1, 3, 1, 3, 1, 3, 9, 7, 3, 9, 1, 3, 7, 3, 3, 9, 3, 3, 7, 9, 1, 7, 3, 3, 9, 3, 7, 1, 9, 1, 7, 1, 1, 7, 3, 9, 7, 1, 1, 3, 7, 3, 1, 3, 3, 7, 3, 7, 7, 9, 9, 1, 9, 1, 7, 9, 3, 1, 7, 9, 7, 9, 1, 7, 9, 7, 3, 3, 9, 9, 9, 3, 7, 3, 1, 3, 7, 1, 1, 7, 1, 3, 7, 3, 9, 1, 1, 3, 7, 3, 9, 3, 1, 9, 7, 3, 9, 9, 3, 1, 7, 9, 3, 3, 7, 3, 7, 9, 1, 1, 3, 1, 7, 7, 1, 7, 3, 7, 1, 9, 3, 9, 7, 7, 9, 7, 1, 3, 9, 1, 7, 3, 9, 1, 1, 3, 3, 1, 7, 1, 7, 3, 1, 3, 3, 9, 1, 1, 9, 1, 3, 1, 3, 7, 9, 7, 9, 3, 1, 3, 9, 9, 7, 7, 9, 3, 7, 3, 3, 1, 7, 7, 1, 7, 9, 3, 1, 1, 1, 7, 1, 7, 3, 9, 1, 3, 7, 7, 9, 9, 7, 1, 3, 9, 9, 7, 1, 7, 9, 9, 1, 9, 9, 9, 7, 7, 3, 1, 7, 3, 9, 7, 3, 9, 7, 1, 7, 3, 1, 9, 1, 9, 1, 3, 7, 1, 7, 3, 9, 1, 3, 7, 9, 9, 7, 3, 9, 1, 3, 7, 1, 9, 3, 7, 3, 3, 1, 3, 1, 7, 9, 3, 1, 3, 7, 1, 7, 1, 3, 7, 9, 9, 9, 1, 1, 3, 9, 7, 3, 9, 7, 7, 1, 1, 3, 3, 3, 9, 9, 3, 9, 3, 7, 1, 3, 9, 1, 7, 9, 3, 3, 9, 9, 1, 3, 7, 1, 7, 1, 1, 3, 3, 9, 9, 3, 7, 1, 7, 3, 1, 7, 7, 3, 7, 7, 9, 3, 1, 7, 1, 1, 1, 3, 9, 1, 9, 1, 1, 3, 9, 1, 9, 9, 3, 9, 1, 1, 3, 3, 7, 1, 7, 9, 1, 9, 1, 9, 1, 7, 9, 1, 1, 1, 9, 1, 3, 7, 1, 3, 1, 3, 7, 9, 7, 3, 9, 7, 9, 3, 3, 9, 9, 7, 9, 9, 7, 7, 1, 3, 9, 3, 7, 9, 1, 7, 9, 3, 9, 7, 1, 1, 3, 7, 9, 1, 7, 3, 9, 1, 7, 9, 3, 1, 9, 1, 9, 3, 9, 1, 7, 9, 1, 1, 7, 3, 7, 3, 7, 3, 9, 9, 3, 9, 3, 9, 9, 7, 9, 1, 7, 7, 7, 3, 1, 3, 9, 7, 1, 7, 3, 9, 3, 9, 9, 3, 7, 7, 9, 3, 7, 3, 1, 3, 7, 7, 1, 7, 9, 1, 9, 3, 9, 7, 3, 1, 9, 3, 1, 3, 1, 1, 9, 9, 7, 9, 1, 7, 9, 1, 7, 3, 9, 7, 7, 1, 3, 9, 1, 7, 7, 1, 3, 7, 1, 3, 1, 3, 7, 1, 9, 3, 7, 3, 9, 1, 9, 3, 7, 1, 7, 7, 1, 1, 1, 1, 3, 3, 9, 3, 9, 7, 9, 1, 9, 7, 1, 9, 7, 3, 9, 3, 7, 1, 3, 7, 1, 7, 3, 7, 1, 1, 7, 7, 9, 3, 7, 7, 9, 7, 9, 1, 1, 9, 3, 1, 1, 1, 7, 3, 1, 7, 3, 3, 9, 7, 3, 9, 7, 1, 3, 9, 7, 9, 1, 9, 3, 3, 1, 9, 9, 3, 1, 7, 7, 9, 9, 1, 7, 7, 3, 7, 3, 3, 7, 7, 1, 7, 9, 7, 9, 9, 1, 3, 3, 3, 7, 1, 3, 7, 3, 7, 9, 1, 9, 1, 7, 3, 9, 1, 9, 9, 3, 1, 7, 7, 3, 9, 1, 7, 9, 1, 3, 7, 9, 3, 1, 1, 9, 3, 1, 9, 3, 9, 3, 7, 3, 9, 1, 3, 7, 9, 1, 9, 9, 1, 7, 7, 1, 9, 1, 3, 1, 3, 1, 9, 3, 3, 9, 1, 1, 3, 3, 1, 7, 1, 7, 3, 7, 3, 9, 1, 1, 1, 3, 7, 9, 1, 3, 1, 1, 3, 9, 3, 3, 7, 9, 3, 9, 7, 3, 1, 1, 7, 3, 7, 1, 9, 9, 7, 1, 3, 7, 9, 1, 3, 9, 7, 9, 9, 9, 7, 7, 1, 1, 3, 9, 3, 9, 3, 9, 7, 1, 3, 7, 3, 7, 9, 9, 1, 7, 9, 7, 1, 3, 3, 7, 3, 9, 3, 9, 1, 1, 9, 9, 7, 7, 1, 3, 9, 7, 3, 1, 3, 3, 7, 7, 9, 7, 9, 1, 7, 3, 7, 9, 9, 1, 1, 3, 3, 9, 7, 7, 9, 3, 1, 7, 7, 3, 9, 1, 1, 1, 9, 1, 3, 9, 7, 1, 7, 7, 7, 9, 9, 3, 9, 7, 3, 7, 1, 7, 3, 9, 7, 1, 7, 1, 9, 1, 7, 7, 3, 9, 1, 1, 7, 1, 9, 1, 3, 7, 9, 3, 3, 7, 3, 1, 7, 9, 7, 9, 1, 1, 1, 3, 1, 3, 9, 1, 7, 7, 9, 3, 9, 1, 9, 3, 3, 9, 1, 9, 7, 7, 3, 9, 3, 9, 3, 9, 1, 9, 9, 9, 1, 3, 7, 1, 7, 9, 1, 3, 1, 9, 3, 9, 7, 7, 3, 9, 3, 7, 7, 9, 3, 9, 7, 3, 3, 9, 1, 7, 3, 9, 3, 9, 1, 9, 3, 3, 7, 7, 9, 9, 7, 7, 1, 1, 1, 3, 7, 1, 3, 9, 1, 3, 1, 1, 7, 7, 9, 7, 9, 9, 1, 7, 9, 1, 3, 9, 7, 3, 3, 9, 9, 7, 9, 1, 1, 3, 3, 9, 1, 1, 9, 7, 3, 7, 7, 7, 1, 3, 1, 9, 1, 9, 7, 1, 3, 9, 1, 7, 3, 1, 7, 1, 9, 3, 7, 3, 9, 7, 3, 7, 9, 3, 1, 9, 3, 7, 1, 1, 3, 7, 9, 9, 7, 3, 1, 3, 3, 7, 7, 3, 9, 7, 9, 1, 9, 9, 1, 3, 7, 9, 7, 1, 3, 1, 7, 3, 7, 7, 7, 3, 3, 1, 7, 1, 3, 7, 1, 7, 9, 9, 9, 3, 9, 1, 7, 9, 1, 3, 3, 3, 9, 3, 7, 7, 9, 3, 1, 1, 7, 9, 3, 7, 9, 9, 7, 9, 3, 9, 1, 3, 7, 9, 9, 1, 7, 3, 7, 1, 3, 3, 7, 9, 7, 1, 3, 3, 9, 1, 3, 1, 9, 7, 3, 9, 3, 9, 3, 9, 3, 7, 7, 3, 7, 7, 9, 3, 7, 1, 1, 3, 1, 1, 7, 3, 9, 3, 1, 9, 3, 1, 7, 1, 9, 1, 3, 3, 7, 3, 9, 1, 7, 9, 3, 1, 1, 3, 3, 7, 3, 1, 9, 9, 1, 9, 7, 7, 7, 3, 7, 3, 9, 7, 1, 7, 1, 7, 3, 7, 3, 9, 3, 7, 1, 9, 7, 3, 9, 3, 9, 1, 3, 7, 3, 7, 1, 1, 7, 7, 3, 7, 1, 3, 3, 1, 3, 3, 7, 3, 9, 1, 9, 1, 1, 9, 9, 1, 7, 7, 7, 7, 1, 3, 1, 1, 9, 9, 3, 7, 9, 9, 3, 7, 3, 9, 7, 7, 9, 7, 9, 7, 9, 7, 3, 9, 3, 7, 9, 3, 1, 9, 1, 3, 9, 7, 7, 7, 7, 7, 7, 9, 1, 9, 9, 3, 7, 1, 3, 7, 7, 3, 1, 1, 7, 1, 3, 9, 9, 7, 1, 3, 3, 9, 9, 9, 3, 9, 1, 3, 9, 7, 1, 1, 9, 9, 7, 9, 1, 7, 9, 7, 3, 7, 1, 1, 3, 1, 1, 1, 7, 3, 9, 7, 3, 1, 7, 9, 3, 1, 7, 1, 9, 9, 1, 1, 7, 1, 9, 7, 3, 7, 9, 3, 3, 3, 9, 1, 9, 1, 1, 3, 7, 1, 3, 3, 9, 1, 1, 1, 3, 9, 7, 9, 1, 3, 1, 1, 7, 3, 1, 7, 3, 1, 9, 1, 7, 7, 9, 7, 9, 3, 1, 7, 1, 1, 9, 7, 9, 9, 3, 7, 9, 1, 1, 9, 1, 1, 7, 9, 1, 1, 3, 3, 3, 7, 1, 3, 3, 7, 1, 7, 1, 7, 3, 9, 3, 7, 1, 3, 1, 7, 3, 9, 7, 9, 9, 7, 1, 3, 3, 9, 7, 1, 3, 9, 7, 9, 7, 3, 3, 3, 7, 1, 3, 7, 9, 9, 7, 7, 3, 9, 3, 9, 7, 3, 9, 1, 7, 1, 3, 9, 3, 7, 3, 7, 3, 1, 3, 9, 3, 3, 1, 1, 9, 3, 9, 1, 1, 1, 1, 7, 9, 3, 9, 1, 1, 9, 9, 7, 7, 9, 1, 7, 1, 3, 7, 7, 3, 7, 9, 7, 1, 1, 3, 1, 3, 3, 9, 1, 3, 9, 9, 7, 1, 7, 9, 3, 3, 9, 7, 1, 7, 9, 1, 7, 1, 1, 7, 7, 7, 9, 3, 9, 7, 9, 7, 9, 1, 1, 3, 3, 9, 7, 1, 7, 9, 1, 9, 7, 3, 3, 9, 1, 3, 1, 3, 3, 3, 7, 7, 3, 3, 7, 1, 9, 3, 9, 7, 1, 1, 3, 7, 9, 9, 3, 3, 3, 7, 1, 3, 1, 9, 7, 1, 9, 3, 7, 7, 9, 1, 3, 9, 3, 9, 7, 3, 3, 1, 1, 3, 9, 7, 7, 9, 7, 1, 3, 1, 1, 3, 1, 3, 7, 1, 3, 1, 3, 9, 7, 1, 7, 7, 9, 9, 3, 1, 9, 1, 7, 9, 3, 7, 1, 3, 1, 7, 9, 1, 7, 1, 7, 7, 9, 7, 7, 9, 9, 3, 7, 3, 3, 1, 3, 3, 1, 3, 9, 3, 1, 9, 7, 9, 1, 7, 9, 1, 3, 1, 3, 1, 1, 3, 1, 1, 9, 1, 7, 9, 3, 1, 7, 3, 9, 7, 9, 1, 1, 7, 9, 3, 7, 7, 9, 3, 9, 1, 3, 7, 1, 3, 7, 7, 3, 3, 9, 7, 1, 7, 9, 3, 9, 1, 9, 9, 1, 1, 3, 7, 7, 1, 9, 9, 1, 1, 7, 9, 3, 9, 3, 1, 3, 9, 7, 1, 9, 9, 1, 1, 1, 9, 9, 1, 7, 9, 7, 1, 3, 7, 3, 1, 9, 9, 1, 1, 1, 1, 1, 3, 1, 3, 3, 7, 1, 9, 3, 3, 7, 9, 9, 1, 1, 7, 3, 9, 1, 1, 3, 7, 7, 7, 7, 9, 9, 3, 7, 3, 9, 7, 9, 1, 3, 9, 7, 3, 1, 3, 7, 7, 9, 3, 3, 7, 9, 1, 9, 3, 9, 1, 7, 1, 7, 9, 1, 1, 3, 7, 9, 1, 3, 7, 3, 9, 3, 7, 9, 1, 7, 1, 3, 9, 3, 9, 9, 7, 1, 3, 9, 9, 1, 1, 7, 7, 3, 9, 7, 9, 3, 1, 1, 3, 1, 3, 9, 9, 3, 9, 3, 7, 9, 3, 1, 7, 9, 1, 7, 3, 9, 7, 9, 1, 3, 7, 1, 7, 3, 1, 1, 9, 1, 3, 1, 3, 7, 1, 3, 7, 3, 3, 7, 9, 1, 7, 7, 7, 3, 7, 3, 9, 9, 1, 7, 1, 9, 7, 7, 3, 9, 9, 7, 1, 1, 3, 7, 3, 3, 3, 1, 7, 9, 3, 9, 3, 3, 9, 7, 3, 7, 9, 1, 7, 9, 9, 7, 3, 9, 3, 1, 1, 9, 3, 1, 7, 3, 7, 3, 7, 3, 3, 1, 9, 1, 3, 1, 3, 7, 7, 9, 9, 3, 9, 1, 7, 3, 7, 1, 1, 1, 3, 7, 1, 7, 3, 3, 7, 9, 1, 3, 9, 9, 7, 1, 9, 3, 1, 3, 7, 1, 3, 1, 3, 7, 1, 7, 3, 9, 1, 7, 9, 7, 1, 7, 3, 9, 7, 1, 3, 1, 1, 1, 7, 1, 9, 9, 7, 9, 1, 7, 9, 1, 3, 9, 9, 1, 7, 1, 3, 7, 9, 3, 9, 9, 1, 3, 1, 7, 1, 3, 7, 9, 9, 3, 3, 3, 9, 3, 9, 1, 7, 9, 1, 1, 7, 1, 9, 9, 1, 9, 3, 1, 3, 1, 7, 7, 9, 9, 1, 9, 3, 9, 3, 1, 7, 7, 7, 3, 1, 7, 9, 9, 1, 3, 7, 7, 1, 7, 9, 3, 9, 7, 9, 7, 3, 9, 3, 7, 9, 9, 7, 1, 7, 3, 1, 9, 1, 9, 9, 7, 7, 1, 7, 1, 7, 9, 1, 7, 3, 3, 7, 1, 7, 3, 7, 9, 3, 3, 7, 9, 3, 1, 3, 9, 9, 3, 7, 3, 1, 1, 7, 7, 9, 3, 7, 9, 3, 9, 7, 3, 9, 9, 3, 1, 1, 7, 7, 9, 7, 1, 1, 3, 7, 3, 9, 7, 3, 7, 3, 9, 3, 9, 9, 9, 7, 9, 7, 1, 7, 1, 7, 9, 1, 3, 9, 3, 1, 1, 9, 7, 7, 1, 9, 1, 9, 9, 3, 9, 9, 3, 7, 9, 3, 1, 7, 3, 7, 3, 1, 7, 9, 1, 3, 9, 1, 7, 9, 1, 7, 7, 1, 7, 1, 9, 1, 3, 7, 9, 9, 1, 1, 7, 1, 1, 3, 1, 3, 7, 7, 9, 1, 7, 9, 3, 3, 1, 3, 1, 7, 3, 7, 1, 7, 7, 9, 1, 3, 1, 3, 1, 3, 3, 9, 9, 3, 1, 1, 9, 9, 3, 3, 9, 7, 1, 7, 3, 1, 9, 1, 7, 7, 9, 3, 1, 3, 3, 1, 7, 3, 7, 3, 9, 1, 9, 1, 9, 9, 1, 9, 1, 1, 1, 7, 9, 1, 7, 1, 3, 1, 9, 9, 7, 3, 7, 1, 9, 1, 9, 1, 1, 3, 9, 3, 9, 7, 7, 3, 9, 7, 3, 3, 7, 9, 1, 3, 7, 3, 9, 3, 9, 7, 3, 1, 3, 7, 9, 1, 3, 1, 1, 9, 3, 7, 7, 7, 1, 7, 9, 1, 7, 3, 9, 7, 9, 7, 3, 1, 3, 9, 1, 7, 7, 9, 1, 1, 9, 7, 3, 1, 7, 1, 1, 9, 1, 7, 1, 7, 3, 7, 7, 1, 9, 1, 3, 7, 3, 9, 9, 3, 1, 3, 9, 3, 9, 7, 9, 7, 3, 7, 9, 3, 3, 9, 7, 1, 3, 7, 9, 1, 7, 1, 7, 9, 9, 7, 9, 3, 1, 9, 1, 3, 3, 1, 7, 1, 9, 1, 7, 3, 1, 7, 9, 9, 1, 1, 3, 9, 3, 7, 9, 1, 7, 7, 3, 7, 3, 3, 9, 1, 7, 7, 9, 1, 7, 3, 7, 3, 3, 1, 9, 1, 7, 1, 9, 1, 3, 9, 3, 1, 3, 1, 3, 9, 7, 1, 3, 7, 7, 9, 9, 1, 7, 3, 9, 3, 1, 1, 9, 3, 7, 1, 1, 1, 3, 7, 9, 9, 1, 9, 3, 3, 9, 1, 3, 9, 9, 3, 3, 9, 9, 9, 1, 7, 9, 7, 9, 3, 9, 7, 1, 7, 3, 7, 3, 9, 9, 9, 7, 3, 7, 9, 3, 1, 7, 9, 7, 7, 3, 1, 1, 1, 7, 1, 7, 3, 9, 3, 1, 9, 1, 7, 1, 3, 9, 7, 9, 7, 7, 9, 3, 1, 3, 3, 7, 9, 1, 7, 1, 9, 7, 7, 9, 1, 9, 9, 1, 3, 3, 9, 1, 3, 1, 7, 9, 1, 3, 9, 7, 1, 9, 3, 1, 3, 9, 1, 1, 3, 7, 1, 1, 9, 9, 7, 1, 3, 3, 9, 9, 7, 3, 9, 1, 3, 7, 3, 1, 9, 1, 7, 3, 1, 7, 9, 9, 7, 3, 1, 3, 7, 9, 9, 3, 1, 1, 3, 9, 9, 1, 9, 1, 7, 1, 3, 3, 7, 3, 9, 1, 7, 3, 1, 7, 9, 3, 7, 1, 3, 1, 7, 9, 9, 1, 7, 3, 1, 7, 3, 9, 1, 3, 9, 7, 3, 9, 7, 3, 9, 7, 9, 1, 7, 9, 3, 3, 7, 7, 3, 9, 1, 1, 9, 1, 3, 7, 9, 3, 9, 1, 7, 9, 3, 9, 3, 7, 7, 1, 3, 1, 3, 7, 9, 3, 7, 9, 1, 7, 3, 7, 1, 7, 1, 3, 7, 9, 3, 7, 1, 9, 3, 7, 1, 1, 9, 1, 1, 1, 7, 1, 9, 3, 7, 7, 9, 7, 1, 3, 7, 7, 9, 1, 3, 3, 9, 7, 1, 9, 7, 1, 9, 7, 3, 7, 1, 1, 3, 1, 7, 1, 3, 1, 9, 3, 7, 3, 7, 3, 9, 9, 1, 1, 9, 9, 7, 1, 9, 1, 3, 9, 7, 9, 3, 7, 1, 7, 9, 1, 1, 3, 7, 1, 7, 9, 1, 3, 9, 1, 9, 3, 9, 1, 3, 7, 3, 7, 9, 1, 3, 1, 1, 1, 7, 3, 1, 7, 9, 1, 3, 3, 9, 3, 9, 9, 7, 9, 3, 7, 7, 9, 9, 9, 1, 7, 1, 7, 9, 9, 1, 1, 3, 1, 7, 3, 7, 1, 9, 1, 1, 9, 3, 7, 7, 3, 3, 3, 1, 9, 7, 7, 1, 7, 3, 7, 7, 7, 7, 3, 3, 9, 7, 1, 9, 9, 7, 1, 1, 1, 9, 3, 1, 3, 9, 1, 7, 9, 1, 3, 7, 1, 7, 3, 1, 3, 9, 1, 3, 3, 7, 3, 9, 3, 1, 1, 1, 7, 3, 7, 1, 7, 3, 9, 9, 3, 1, 7, 9, 7, 1, 7, 1, 3, 7, 7, 1, 7, 3, 1, 9, 3, 1, 7, 1, 3, 9, 7, 3, 1, 3, 1, 1, 1, 3, 1, 3, 3, 7, 1, 1, 7, 9, 3, 9, 1, 1, 3, 7, 3, 3, 3, 1, 3, 9, 7, 7, 1, 3, 1, 1, 3, 9, 7, 3, 9, 3, 3, 3, 9, 3, 9, 1, 3, 7, 1, 7, 1, 9, 3, 7, 9, 1, 3, 9, 9, 1, 7, 7, 7, 3, 9, 3, 1, 1, 9, 1, 9, 1, 3, 9, 1, 9, 3, 7, 7, 3, 9, 3, 7, 9, 3, 1, 3, 9, 1, 1, 9, 3, 1, 1, 7, 3, 1, 7, 1, 1, 9, 3, 1, 7, 9, 7, 7, 9, 1, 7, 3, 7, 3, 7, 9, 9, 1, 3, 7, 9, 9, 7, 3, 7, 3, 9, 1, 3, 7, 1, 9, 3, 9, 7, 7, 3, 7, 1, 9, 1, 1, 3, 9, 3, 3, 1, 1, 3, 9, 7, 3, 9, 3, 3, 9, 1, 7, 3, 9, 1, 7, 1, 9, 7, 1, 7, 9, 3, 7, 7, 7, 9, 7, 7, 7, 7, 7, 9, 3, 1, 1, 7, 1, 9, 1, 9, 3, 7, 9, 1, 1, 9, 7, 3, 7, 9, 1, 7, 9, 1, 7, 1, 7, 1, 1, 7, 3, 1, 7, 9, 3, 1, 1, 9, 1, 7, 3, 1, 9, 3, 7, 9, 9, 3, 9, 7, 9, 7, 1, 7, 3, 3, 1, 7, 9, 3, 1, 7, 9, 3, 7, 1, 3, 9, 1, 3, 9, 3, 7, 1, 9, 7, 7, 1, 1, 3, 3, 1, 9, 1, 3, 1, 3, 3, 9, 7, 3, 9, 3, 9, 1, 1, 7, 9, 1, 9, 3, 1, 9, 7, 3, 7, 3, 9, 1, 9, 1, 3, 9, 3, 3, 1, 9, 9, 7, 7, 1, 3, 7, 9, 7, 3, 9, 1, 1, 9, 7, 7, 7, 1, 9, 3, 7, 1, 3, 3, 7, 9, 9, 3, 9, 7, 1, 3, 7, 9, 1, 9, 3, 7, 1, 3, 9, 9, 7, 1, 9, 1, 3, 9, 1, 9, 9, 7, 7, 9, 1, 1, 9, 3, 9, 9, 7, 7, 3, 7, 1, 1, 7, 9, 3, 7, 7, 9, 7, 7, 1, 3, 9, 3, 7, 1, 7, 3, 9, 7, 7, 1, 9, 1, 7, 3, 1, 9, 9, 1, 3, 3, 7, 9, 7, 1, 7, 1, 3, 9, 3, 9, 3, 3, 7, 1, 1, 3, 1, 3, 1, 7, 1, 9, 7, 1, 3, 9, 3, 9, 7, 3, 9, 3, 1, 7, 1, 7, 3, 3, 9, 3, 7, 7, 7, 9, 3, 1, 3, 9, 9, 1, 3, 3, 9, 7, 9, 7, 1, 3, 7, 1, 7, 3, 1, 7, 9, 9, 1, 1, 3, 9, 7, 7, 3, 9, 3, 1, 9, 7, 1, 9, 9, 7, 9, 3, 7, 1, 3, 9, 9, 1, 7, 3, 1, 1, 3, 1, 7, 9, 1, 7, 7, 3, 1, 7, 9, 3, 3, 9, 3, 9, 7, 3, 1, 3, 9, 1, 7, 9, 9, 7, 1, 3, 3, 9, 7, 3, 7, 1, 1, 3, 3, 7, 1, 9, 1, 7, 3, 7, 3, 1, 1, 9, 7, 7, 1, 9, 7, 3, 9, 7, 3, 3, 3, 7, 1, 3, 9, 1, 7, 7, 9, 3, 9, 1, 1, 3, 9, 7, 3, 7, 3, 3, 3, 1, 3, 9, 9, 1, 9, 9, 7, 1, 9, 7, 1, 3, 9, 1, 1, 7, 1, 7, 3, 3, 7, 9, 1, 7, 1, 7, 9, 1, 7, 1, 7, 3, 9, 7, 3, 9, 7, 1, 1, 7, 3, 7, 3, 7, 1, 1, 1, 9, 1, 9, 7, 1, 9, 3, 3, 7, 9, 9, 7, 3, 3, 9, 7, 1, 3, 9, 1, 3, 9, 9, 1, 7, 3, 9, 7, 7, 9, 7, 1, 3, 9, 7, 7, 7, 9, 7, 9, 1, 1, 7, 3, 1, 1, 3, 9, 3, 7, 9, 1, 9, 1, 7, 1, 7, 3, 9, 7, 7, 1, 7, 9, 7, 1, 7, 7, 9, 3, 9, 1, 1, 3, 9, 3, 1, 9, 7, 1, 9, 1, 9, 1, 7, 3, 3, 9, 9, 9, 7, 1, 3, 7, 7, 1, 9, 1, 3, 9, 1, 3, 9, 7, 1, 1, 7, 9, 3, 7, 3, 7, 9, 7, 7, 1, 1, 1, 3, 3, 1, 1, 3, 7, 3, 1, 1, 3, 7, 3, 7, 9, 1, 3, 3, 1, 9, 3, 1, 9, 3, 7, 9, 3, 9, 7, 9, 7, 3, 9, 1, 7, 3, 7, 3, 7, 3, 1, 1, 7, 1, 7, 3, 9, 9, 1, 7, 3, 9, 1, 7, 9, 9, 7, 1, 7, 9, 9, 1, 9, 7, 1, 3, 1, 7, 3, 9, 3, 9, 1, 3, 9, 7, 9, 1, 3, 3, 3, 3, 9, 3, 9, 1, 9, 1, 9, 7, 9, 1, 1, 3, 9, 3, 9, 3, 9, 9, 1, 7, 9, 3, 9, 3, 1, 7, 7, 9, 9, 1, 1, 9, 9, 7, 7, 3, 7, 3, 7, 3, 3, 7, 3, 9, 1, 7, 3, 1, 1, 3, 7, 3, 3, 9, 1, 7, 7, 7, 3, 9, 1, 9, 9, 3, 1, 1, 3, 7, 3, 3, 1, 9, 1, 7, 3, 9, 7, 9, 7, 1, 9, 3, 7, 7, 7, 3, 1, 3, 3, 9, 7, 1, 1, 3, 9, 3, 7, 9, 7, 7, 1, 9, 7, 1, 9, 1, 7, 9, 3, 1, 1, 9, 3, 3, 1, 3, 7, 9, 7, 7, 9, 1, 7, 1, 7, 3, 9, 9, 7, 3, 7, 3, 1, 7, 9, 9, 1, 1, 9, 7, 9, 1, 3, 7, 1, 1, 1, 7, 1, 3, 7, 1, 7, 1, 1, 9, 7, 7, 3, 9, 3, 1, 3, 1, 3, 9, 7, 7, 1, 7, 9, 9, 1, 7, 1, 3, 9, 3, 1, 7, 3, 1, 1, 3, 7, 3, 7, 1, 1, 3, 9, 7, 7, 7, 9, 7, 3, 9, 1, 1, 1, 9, 9, 1, 1, 7, 1, 9, 1, 7, 9, 7, 9, 1, 9, 3, 9, 3, 7, 3, 1, 9, 1, 3, 9, 1, 7, 7, 1, 3, 7, 7, 9, 3, 9, 7, 1, 7, 1, 9, 7, 3, 7, 9, 1, 1, 3, 1, 7, 7, 3, 1, 9, 7, 3, 3, 9, 3, 1, 9, 1, 9, 7, 3, 1, 3, 3, 7, 7, 7, 7, 1, 9, 7, 7, 1, 7, 9, 3, 7, 3, 1, 3, 7, 1, 1, 1, 1, 7, 3, 7, 3, 9, 1, 3, 9, 1, 3, 7, 9, 1, 7, 7, 9, 9, 1, 3, 3, 9, 1, 3, 7, 1, 3, 9, 9, 7, 7, 7, 9, 1, 3, 9, 3, 3, 7, 9, 7, 3, 1, 1, 7, 3, 9, 7, 9, 1, 3, 9, 1, 3, 3, 7, 9, 7, 1, 7, 3, 1, 3, 9, 9, 3, 9, 1, 9, 3, 3, 9, 1, 3, 7, 7, 9, 3, 9, 1, 9, 3, 7, 3, 3, 3, 1, 9, 9, 3, 7, 9, 1, 1, 7, 1, 3, 9, 1, 7, 3, 1, 1, 9, 1, 1, 3, 7, 1, 3, 9, 1, 1, 1, 9, 7, 3, 9, 3, 9, 7, 9, 1, 3, 7, 3, 3, 9, 1, 1, 7, 3, 3, 9, 9, 9, 1, 1, 1, 9, 1, 7, 3, 3, 9, 3, 3, 7, 9, 9, 7, 3, 7, 7, 1, 3, 3, 1, 1, 3, 7, 1, 3, 9, 1, 3, 9, 7, 3, 7, 9, 1, 1, 7, 9, 1, 3, 7, 7, 1, 7, 3, 1, 9, 9, 1, 9, 7, 9, 1, 7, 9, 3, 9, 3, 7, 9, 1, 3, 9, 3, 3, 9, 9, 1, 7, 1, 9, 1, 7, 7, 9, 9, 3, 7, 9, 1, 7, 9, 9, 1, 7, 1, 1, 3, 7, 9, 9, 1, 3, 1, 7, 3, 1, 3, 7, 7, 1, 3, 3, 9, 3, 1, 7, 3, 7, 9, 1, 3, 9, 1, 1, 7, 7, 9, 3, 9, 3, 7, 3, 3, 9, 9, 9, 1, 7, 3, 7, 1, 9, 9, 7, 9, 1, 1, 3, 7, 7, 9, 7, 3, 7, 3, 3, 7, 1, 7, 1, 7, 9, 1, 7, 7, 3, 9, 3, 1, 9, 7, 1, 7, 1, 3, 9, 1, 3, 3, 3, 1, 3, 9, 9, 1, 9, 9, 1, 7, 1, 3, 9, 7, 9, 1, 7, 3, 9, 1, 3, 3, 9, 3, 9, 3, 3, 9, 1, 9, 9, 1, 3, 1, 9, 3, 7, 9, 7, 7, 3, 3, 9, 1, 7, 7, 7, 7, 7, 9, 3, 9, 7, 9, 1, 7, 9, 1, 7, 1, 3, 3, 1, 1, 9, 7, 7, 3, 7, 9, 9, 1, 1, 3, 3, 1, 9, 7, 1, 7, 9, 7, 3, 9, 1, 7, 9, 9, 1, 7, 3, 9, 7, 3, 3, 7, 1, 3, 9, 3, 9, 3, 3, 3, 3, 7, 7, 9, 9, 7, 3, 9, 3, 1, 1, 9, 7, 9, 1, 9, 3, 1, 7, 9, 1, 3, 7, 9, 3, 9, 1, 3, 7, 3, 7, 9, 1, 7, 1, 7, 3, 3, 9, 7, 9, 3, 3, 7, 7, 1, 3, 3, 1, 1, 3, 7, 1, 3, 9, 9, 1, 1, 3, 3, 9, 1, 7, 9, 9, 1, 7, 9, 1, 9, 1, 9, 7, 1, 9, 7, 7, 9, 9, 7, 7, 3, 9, 7, 9, 1, 1, 1, 3, 3, 7, 3, 9, 3, 9, 3, 7, 3, 1, 1, 7, 9, 1, 7, 7, 9, 1, 7, 3, 7, 9, 3, 7, 3, 9, 1, 9, 9, 1, 3, 1, 3, 7, 3, 7, 3, 7, 9, 3, 1, 1, 7, 1, 9, 3, 7, 3, 1, 1, 9, 9, 1, 7, 7, 9, 9, 7, 7, 9, 1, 3, 3, 1, 7, 1, 3, 7, 1, 7, 3, 9, 1, 1, 3, 9, 9, 7, 3, 1, 7, 1, 9, 9, 7, 1, 9, 1, 1, 3, 9, 7, 1, 3, 7, 9, 7, 9, 3, 1, 9, 1, 3, 7, 9, 1, 7, 1, 3, 9, 3, 3, 9, 7, 3, 9, 3, 7, 3, 9, 3, 7, 1, 9, 3, 9, 1, 7, 1, 3, 7, 9, 1, 1, 3, 7, 1, 1, 7, 9, 9, 7, 1, 1, 7, 1, 3, 3, 1, 7, 3, 1, 7, 9, 3, 1, 3, 1, 1, 3, 3, 1, 3, 9, 3, 1, 3, 9, 3, 1, 7, 9, 1, 3, 9, 1, 3, 3, 3, 1, 7, 7, 9, 3, 9, 7, 3, 1, 9, 1, 7, 1, 3, 1, 1, 3, 9, 7, 9, 1, 7, 3, 9, 1, 7, 1, 7, 1, 3, 9, 9, 9, 1, 7, 3, 3, 1, 1, 9, 1, 7, 3, 1, 3, 9, 3, 9, 7, 1, 3, 7, 9, 1, 7, 9, 7, 7, 9, 9, 9, 9, 1, 1, 3, 7, 3, 3, 1, 7, 9, 1, 3, 7, 7, 9, 9, 3, 9, 7, 1, 9, 3, 7, 7, 9, 3, 9, 1, 7, 1, 3, 9, 1, 7, 9, 3, 9, 1, 3, 9, 7, 3, 9, 7, 9, 7, 1, 3, 1, 9, 3, 1, 9, 1, 7, 1, 9, 1, 3, 9, 1, 3, 1, 9, 3, 3, 7, 9, 1, 1, 3, 3, 1, 3, 9, 1, 1, 3, 9, 7, 1, 7, 1, 3, 1, 7, 7, 9, 7, 9, 9, 7, 3, 1, 7, 9, 1, 1, 1, 3, 9, 3, 9, 1, 7, 9, 7, 1, 3, 7, 1, 9, 7, 3, 7, 3, 1, 9, 7, 3, 3, 1, 9, 3, 7, 9, 1, 9, 7, 3, 7, 1, 3, 7, 3, 1, 3, 7, 7, 1, 9, 9, 7, 1, 9, 3, 9, 9, 3, 9, 1, 1, 7, 9, 7, 3, 9, 9, 7, 9, 1, 1, 3, 1, 7, 9, 7, 9, 1, 1, 9, 7, 3, 7, 9, 1, 3, 9, 1, 3, 1, 1, 1, 3, 9, 3, 3, 3, 9, 9, 1, 3, 9, 1, 1, 3, 3, 1, 3, 7, 3, 9, 1, 9, 9, 1, 1, 3, 3, 7, 3, 1, 3, 7, 9, 3, 1, 7, 9, 1, 7, 3, 9, 3, 9, 3, 9, 7, 1, 1, 9, 7, 9, 3, 7, 1, 7, 9, 7, 3, 7, 9, 7, 9, 3, 9, 1, 3, 7, 9, 1, 3, 7, 1, 3, 7, 1, 1, 9, 3, 3, 1, 7, 7, 9, 9, 7, 3, 9, 3, 7, 1, 3, 1, 1, 7, 9, 9, 1, 1, 9, 3, 9, 7, 1, 3, 9, 9, 7, 1, 7, 9, 1, 3, 9, 1, 3, 7, 3, 1, 7, 7, 3, 9, 3, 3, 7, 9, 1, 9, 7, 9, 7, 1, 3, 9, 3, 9, 7, 1, 1, 9, 9, 7, 1, 3, 9, 9, 9, 1, 9, 7, 9, 1, 1, 9, 3, 7, 7, 9, 1, 9, 7, 3, 7, 7, 7, 7, 1, 7, 3, 9, 3, 7, 1, 7, 1, 3, 1, 1, 3, 7, 7, 7, 9, 1, 3, 9, 3, 9, 1, 1, 9, 9, 1, 7, 3, 1, 3, 7, 7, 1, 3, 7, 3, 9, 3, 7, 1, 1, 3, 1, 9, 7, 7, 3, 1, 3, 9, 7, 9, 7, 3, 9, 9, 9, 9, 3, 7, 3, 9, 1, 1, 9, 7, 7, 1, 1, 3, 7, 7, 9, 3, 7, 7, 3, 9, 1, 3, 7, 9, 3, 7, 9, 1, 3, 9, 1, 1, 7, 9, 7, 7, 3, 9, 7, 9, 7, 3, 3, 7, 1, 1, 9, 1, 7, 1, 3, 3, 3, 7, 1, 3, 7, 7, 7, 9, 3, 9, 1, 7, 9, 9, 1, 3, 9, 3, 3, 7, 1, 3, 9, 1, 7, 9, 7, 3, 7, 3, 3, 9, 1, 1, 7, 9, 7, 1, 7, 7, 9, 7, 7, 3, 9, 9, 1, 3, 7, 9, 1, 7, 3, 9, 9, 1, 3, 7, 1, 9, 1, 3, 9, 7, 1, 9, 3, 1, 7, 3, 7, 1, 3, 1, 9, 9, 1, 3, 7, 1, 7, 1, 9, 3, 7, 1, 3, 9, 1, 7, 1, 3, 7, 9, 1, 3, 7, 3, 1, 3, 9, 9, 1, 7, 3, 9, 3, 7, 9, 7, 9, 1, 3, 7, 3, 9, 1, 9, 3, 7, 7, 9, 3, 1, 9, 1, 7, 9, 1, 9, 1, 1, 9, 7, 1, 3, 1, 9, 3, 9, 1, 3, 7, 7, 3, 3, 3, 9, 1, 3, 9, 1, 3, 9, 1, 1, 7, 9, 9, 1, 7, 3, 1, 7, 9, 7, 1, 9, 1, 7, 9, 3, 9, 9, 1, 1, 7, 1, 7, 7, 3, 7, 3, 9, 9, 3, 1, 7, 7, 3, 1, 7, 1, 3, 9, 3, 9, 1, 7, 3, 3, 9, 7, 1, 9, 7, 7, 3, 1, 7, 1, 7, 1, 1, 9, 3, 9, 3, 9, 7, 3, 3, 7, 3, 9, 3, 7, 9, 3, 3, 7, 7, 9, 1, 7, 1, 7, 9, 1, 7, 1, 9, 1, 9, 1, 3, 9, 9, 7, 3, 3, 7, 9, 9, 9, 3, 1, 7, 7, 9, 1, 9, 7, 7, 3, 3, 7, 7, 3, 9, 9, 9, 1, 3, 7, 9, 7, 7, 9, 3, 1, 1, 9, 3, 7, 3, 7, 3, 7, 3, 7, 3, 7, 7, 9, 7, 3, 3, 9, 7, 1, 3, 7, 3, 9, 1, 1, 9, 1, 7, 9, 9, 7, 3, 7, 9, 1, 1, 7, 3, 9, 9, 7, 7, 3, 1, 3, 7, 9, 1, 3, 9, 7, 1, 3, 9, 1, 3, 3, 1, 3, 9, 1, 1, 3, 1, 7, 7, 9, 1, 9, 7, 9, 3, 3, 1, 7, 9, 9, 1, 3, 1, 1, 3, 9, 3, 9, 7, 9, 7, 3, 9, 1, 7, 3, 7, 9, 3, 1, 3, 9, 1, 7, 9, 9, 1, 9, 1, 7, 1, 1, 3, 9, 9, 9, 1, 1, 3, 9, 1, 3, 7, 9, 3, 3, 1, 3, 3, 7, 7, 1, 3, 9, 9, 9, 1, 7, 9, 3, 1, 1, 7, 9, 7, 9, 7, 1, 7, 1, 7, 3, 9, 7, 3, 7, 7, 3, 1, 7, 7, 1, 7, 9, 3, 9, 1, 3, 9, 1, 3, 9, 3, 9, 3, 7, 1, 9, 7, 7, 7, 1, 9, 7, 7, 3, 9, 1, 7, 1, 7, 1, 9, 7, 9, 3, 9, 1, 3, 7, 3, 7, 3, 9, 1, 7, 3, 9, 7, 9, 3, 1, 9, 7, 1, 3, 9, 1, 3, 3, 9, 1, 7, 1, 9, 1, 1, 7, 3, 7, 9, 1, 3, 7, 9, 7, 3, 9, 9, 7, 1, 3, 7, 1, 3, 3, 7, 3, 9, 7, 3, 7, 9, 9, 3, 9, 1, 1, 7, 7, 3, 9, 1, 3, 3, 1, 1, 9, 1, 9, 7, 3, 7, 9, 1, 1, 7, 3, 9, 7, 7, 3, 7, 3, 7, 3, 9, 1, 7, 3, 9, 3, 1, 7, 9, 3, 3, 9, 1, 3, 9, 3, 9, 1, 3, 7, 9, 1, 3, 7, 7, 9, 9, 1, 3, 7, 9, 1, 3, 9, 3, 1, 9, 1, 7, 9, 3, 1, 3, 7, 7, 3, 1, 1, 3, 9, 7, 1, 9, 3, 1, 3, 7, 7, 7, 3, 1, 1, 7, 9, 1, 7, 1, 7, 3, 7, 3, 9, 7, 9, 3, 9, 7, 1, 9, 9, 1, 3, 9, 1, 3, 9, 9, 1, 1, 7, 7, 1, 1, 3, 7, 1, 7, 1, 9, 3, 3, 7, 1, 3, 9, 1, 3, 9, 7, 1, 3, 9, 1, 3, 3, 1, 7, 9, 9, 1, 3, 9, 3, 9, 1, 7, 1, 3, 1, 3, 9, 3, 3, 1, 7, 1, 1, 1, 9, 1, 7, 3, 9, 7, 7, 9, 3, 1, 1, 7, 9, 3, 1, 9, 3, 3, 1, 7, 3, 9, 7, 9, 9, 3, 9, 1, 7, 7, 3, 9, 1, 3, 9, 7, 9, 9, 9, 1, 1, 7, 3, 9, 1, 7, 7, 3, 9, 1, 3, 7, 7, 1, 9, 1, 1, 3, 1, 3, 3, 9, 3, 7, 3, 3, 7, 1, 7, 7, 1, 3, 9, 1, 9, 3, 7, 1, 3, 9, 1, 3, 7, 9, 9, 1, 3, 3, 9, 1, 3, 9, 9, 1, 1, 7, 3, 7, 7, 9, 3, 7, 3, 9, 3, 1, 7, 1, 9, 3, 7, 3, 9, 7, 7, 7, 3, 9, 9, 1, 7, 1, 7, 7, 7, 9, 1, 9, 9, 3, 7, 1, 7, 1, 1, 3, 1, 7, 7, 1, 1, 3, 1, 9, 9, 3, 9, 9, 3, 1, 7, 1, 3, 9, 7, 3, 1, 1, 7, 3, 1, 7, 1, 7, 9, 1, 3, 1, 7, 9, 1, 7, 3, 3, 3, 9, 9, 7, 9, 1, 3, 1, 1, 3, 9, 1, 1, 3, 1, 3, 3, 9, 7, 7, 9, 3, 7, 9, 3, 7, 3, 9, 7, 7, 9, 1, 1, 1, 1, 7, 9, 7, 3, 7, 7, 1, 9, 7, 9, 7, 1, 1, 1, 3, 9, 7, 9, 9, 7, 3, 9, 1, 7, 9, 7, 1, 7, 3, 3, 7, 9, 1, 3, 3, 7, 1, 7, 3, 9, 1, 9, 1, 9, 3, 7, 9, 9, 1, 7, 1, 7, 1, 1, 7, 9, 3, 7, 3, 9, 7, 1, 3, 7, 7, 3, 7, 9, 3, 9, 7, 9, 7, 3, 9, 3, 9, 7, 9, 1, 7, 7, 3, 9, 1, 3, 7, 1, 3, 3, 1, 1, 3, 9, 1, 7, 1, 1, 3, 3, 1, 9, 7, 3, 1, 7, 1, 7, 9, 1, 3, 7, 3, 3, 7, 9, 1, 3, 7, 3, 9, 9, 7, 9, 1, 1, 9, 1, 7, 9, 3, 9, 7, 3, 7, 3, 9, 3, 9, 9, 7, 1, 3, 7, 3, 9, 3, 1, 3, 9, 9, 1, 1, 9, 3, 1, 9, 7, 3, 7, 3, 9, 1, 7, 1, 7, 1, 7, 1, 7, 3, 3, 7, 7, 9, 3, 7, 1, 7, 1, 9, 3, 9, 1, 9, 7, 7, 9, 3, 7, 3, 9, 9, 1, 7, 1, 9, 7, 3, 9, 3, 7, 7, 3, 1, 1, 7, 1, 1, 7, 9, 9, 1, 1, 7, 9, 3, 3, 7, 9, 3, 7, 3, 9, 9, 3, 1, 7, 9, 3, 9, 3, 9, 1, 3, 9, 1, 7, 1, 1, 9, 1, 3, 7, 9, 7, 9, 1, 7, 3, 7, 9, 1, 9, 7, 7, 9, 3, 7, 9, 1, 3, 1, 3, 3, 9, 1, 3, 9, 7, 1, 3, 7, 1, 7, 7, 7, 7, 3, 9, 9, 3, 7, 9, 7, 1, 7, 3, 9, 1, 3, 9, 9, 1, 7, 9, 3, 1, 1, 9, 1, 7, 3, 7, 9, 1, 3, 9, 3, 1, 3, 7, 3, 7, 9, 1, 7, 3, 1, 9, 3, 9, 7, 3, 9, 9, 9, 1, 7, 3, 9, 3, 1, 3, 9, 7, 7, 1, 7, 9, 3, 9, 1, 9, 1, 7, 3, 3, 3, 3, 7, 3, 9, 7, 9, 1, 7, 3, 9, 7, 9, 1, 7, 1, 7, 3, 3, 1, 7, 7, 3, 7, 9, 1, 7, 9, 3, 7, 3, 1, 3, 1, 9, 3, 7, 9, 7, 9, 1, 3, 7, 7, 1, 7, 1, 9, 3, 1, 3, 9, 3, 1, 3, 3, 7, 1, 9, 3, 7, 1, 9, 3, 3, 7, 9, 7, 3, 9, 3, 1, 7, 3, 9, 1, 7, 7, 7, 9, 1, 3, 9, 1, 9, 3, 7, 1, 1, 1, 9, 7, 3, 7, 7, 1, 9, 9, 1, 7, 3, 7, 9, 3, 9, 1, 7, 9, 3, 9, 1, 3, 7, 3, 1, 9, 3, 3, 9, 7, 9, 1, 3, 7, 3, 9, 7, 1, 3, 1, 9, 7, 3, 7, 1, 3, 1, 3, 1, 1, 1, 7, 9, 3, 3, 1, 9, 7, 1, 7, 1, 3, 3, 9, 1, 1, 7, 3, 9, 1, 9, 1, 1, 3, 1, 7, 1, 3, 3, 3, 7, 3, 9, 3, 9, 7, 9, 3, 7, 3, 1, 3, 7, 3, 1, 7, 9, 1, 7, 3, 3, 9, 1, 3, 1, 3, 1, 3, 9, 7, 7, 1, 9, 7, 1, 9, 3, 7, 3, 1, 1, 3, 1, 3, 1, 7, 9, 1, 3, 7, 3, 7, 3, 7, 7, 3, 9, 3, 7, 1, 9, 7, 7, 1, 3, 1, 7, 3, 9, 1, 1, 7, 3, 1, 7, 3, 9, 3, 9, 1, 7, 3, 3, 1, 3, 9, 9, 7, 3, 1, 1, 7, 7, 3, 3, 7, 1, 3, 9, 1, 7, 7, 3, 9, 1, 9, 1, 1, 7, 3, 3, 7, 3, 1, 7, 1, 9, 3, 1, 7, 3, 1, 3, 9, 3, 9, 1, 1, 7, 9, 7, 9, 9, 3, 7, 3, 3, 3, 9, 7, 9, 1, 7, 9, 3, 1, 9, 1, 7, 1, 3, 3, 1, 1, 9, 3, 3, 1, 1, 9, 3, 7, 1, 1, 3, 1, 7, 9, 1, 1, 9, 3, 9, 1, 7, 9, 1, 7, 9, 1, 3, 9, 3, 9, 3, 7, 9, 1, 3, 7, 7, 1, 9, 7, 7, 7, 3, 1, 7, 9, 3, 9, 1, 3, 9, 3, 7, 3, 1, 1, 1, 3, 9, 9, 1, 7, 3, 9, 3, 9, 9, 7, 9, 3, 7, 1, 7, 1, 1, 9, 3, 3, 7, 3, 9, 9, 7, 7, 1, 3, 9, 7, 9, 1, 3, 3, 3, 9, 7, 9, 1, 7, 1, 3, 9, 1, 9, 9, 7, 7, 3, 7, 9, 9, 7, 1, 3, 9, 3, 7, 1, 7, 7, 7, 3, 7, 9, 7, 3, 3, 7, 3, 9, 9, 3, 3, 9, 7, 3, 9, 3, 7, 3, 3, 9, 1, 3, 3, 3, 9, 9, 1, 9, 7, 3, 9, 1, 7, 3, 3, 9, 3, 9, 1, 3, 9, 1, 9, 9, 1, 3, 7, 3, 9, 3, 3, 7, 3, 1, 3, 3, 3, 7, 7, 7, 9, 3, 1, 3, 9, 1, 7, 9, 7, 3, 9, 7, 3, 9, 7, 1, 9, 7, 3, 3, 9, 7, 1, 1, 7, 9, 9, 1, 7, 9, 1, 3, 7, 9, 1, 7, 3, 3, 9, 1, 9, 1, 7, 9, 9, 9, 1, 3, 7, 1, 9, 3, 1, 9, 1, 9, 1, 7, 3, 7, 1, 7, 1, 9, 3, 7, 1, 7, 1, 9, 7, 1, 1, 7, 9, 1, 1, 7, 1, 1, 7, 9, 1, 7, 1, 3, 7, 9, 3, 9, 1, 7, 1, 3, 7, 9, 1, 7, 1, 1, 7, 3, 7, 9, 1, 9, 3, 7, 7, 3, 9, 7, 1, 3, 7, 1, 3, 1, 9, 1, 7, 3, 9, 7, 3, 9, 1, 7, 3, 7, 1, 9, 7, 9, 1, 9, 3, 3, 1, 9, 1, 1, 3, 1, 7, 1, 1, 9, 9, 3, 7, 7, 9, 9, 7, 9, 3, 7, 1, 7, 7, 9, 3, 7, 9, 3, 1, 7, 1, 3, 9, 7, 9, 9, 1, 3, 1, 1, 7, 3, 7, 1, 3, 9, 7, 9, 3, 9, 9, 3, 9, 1, 7, 9, 9, 7, 3, 9, 1, 3, 9, 7, 7, 1, 7, 1, 3, 1, 9, 7, 3, 1, 7, 9, 1, 3, 1, 7, 7, 9, 7, 1, 9, 1, 3, 9, 1, 3, 9, 1, 7, 9, 3, 9, 1, 9, 3, 3, 9, 1, 7, 7, 1, 3, 3, 7, 1, 3, 9, 9, 1, 7, 9, 1, 7, 3, 7, 3, 9, 1, 3, 7, 9, 3, 7, 1, 1, 9, 3, 3, 3, 1, 3, 3, 7, 9, 1, 7, 7, 3, 3, 9, 1, 1, 9, 9, 1, 3, 1, 7, 1, 7, 3, 7, 7, 3, 7, 3, 7, 9, 7, 3, 7, 3, 7, 9, 3, 1, 3, 1, 1, 7, 9, 3, 9, 7, 3, 9, 7, 7, 1, 3, 1, 9, 7, 3, 9, 1, 9, 1, 3, 3, 1, 9, 7, 3, 1, 7, 9, 1, 7, 1, 1, 3, 9, 1, 1, 9, 3, 3, 9, 9, 7, 3, 7, 9, 7, 1, 1, 3, 3, 1, 3, 3, 3, 7, 9, 7, 3, 3, 3, 9, 1, 7, 7, 1, 3, 9, 9, 3, 7, 7, 9, 9, 1, 7, 9, 1, 3, 7, 9, 1, 3, 1, 9, 3, 1, 1, 3, 9, 7, 3, 9, 3, 1, 7, 9, 1, 9, 1, 9, 3, 1, 7, 7, 9, 7, 3, 7, 3, 9, 7, 7, 1, 7, 9, 1, 7, 3, 3, 1, 1, 7, 9, 1, 3, 3, 9, 3, 7, 3, 1, 9, 1, 7, 3, 3, 3, 9, 9, 1, 3, 9, 9, 3, 1, 7, 3, 9, 1, 7, 3, 9, 9, 9, 1, 9, 3, 9, 3, 1, 7, 1, 1, 7, 1, 7, 9, 9, 1, 7, 9, 1, 1, 3, 9, 1, 7, 3, 3, 9, 9, 3, 9, 9, 1, 1, 9, 3, 7, 1, 9, 1, 9, 3, 9, 7, 7, 3, 1, 1, 3, 7, 9, 1, 3, 9, 1, 7, 1, 9, 3, 1, 9, 9, 3, 7, 7, 9, 1, 1, 3, 9, 3, 9, 3, 1, 7, 9, 3, 3, 9, 3, 7, 1, 7, 1, 9, 1, 7, 9, 7, 1, 7, 7, 9, 7, 9, 3, 1, 3, 1, 7, 7, 7, 3, 9, 9, 7, 9, 1, 7, 1, 7, 7, 9, 9, 1, 1, 9, 9, 1, 3, 3, 9, 7, 7, 9, 1, 3, 9, 7, 7, 9, 9, 7, 3, 1, 7, 1, 1, 3, 7, 3, 1, 1, 3, 9, 7, 1, 3, 3, 7, 7, 3, 9, 1, 9, 3, 7, 9, 9, 7, 3, 9, 1, 9, 1, 9, 7, 9, 3, 9, 1, 3, 7, 3, 7, 1, 7, 3, 7, 7, 1, 7, 9, 3, 1, 3, 3, 9, 7, 1, 1, 9, 7, 9, 9, 3, 3, 7, 3, 9, 1, 7, 9, 1, 7, 9, 1, 3, 9, 3, 1, 1, 9, 3, 1, 9, 3, 9, 7, 1, 3, 1, 3, 3, 3, 1, 7, 9, 9, 7, 7, 9, 9, 7, 1, 9, 3, 7, 1, 3, 9, 7, 7, 9, 3, 7, 9, 1, 3, 7, 9, 1, 1, 7, 1, 7, 9, 1, 3, 1, 1, 3, 1, 7, 9, 9, 1, 7, 9, 3, 1, 9, 1, 9, 7, 9, 7, 9, 9, 1, 3, 9, 1, 3, 1, 1, 1, 3, 7, 3, 3, 9, 1, 1, 3, 9, 1, 7, 3, 7, 7, 1, 3, 3, 1, 7, 3, 7, 1, 1, 7, 7, 3, 9, 7, 9, 9, 1, 3, 3, 9, 7, 1, 9, 7, 1, 3, 1, 3, 9, 7, 1, 1, 3, 7, 1, 7, 3, 9, 1, 1, 7, 3, 1, 7, 9, 3, 9, 7, 3, 9, 9, 7, 7, 1, 3, 3, 9, 1, 7, 7, 1, 7, 9, 9, 7, 9, 3, 1, 1, 7, 7, 1, 9, 1, 7, 1, 7, 9, 1, 3, 1, 7, 7, 9, 9, 7, 9, 7, 1, 7, 9, 3, 7, 7, 9, 3, 3, 9, 1, 9, 1, 3, 7, 1, 3, 7, 3, 1, 9, 3, 1, 3, 7, 3, 1, 1, 9, 3, 9, 1, 9, 3, 9, 9, 7, 1, 3, 1, 1, 7, 3, 9, 3, 1, 3, 9, 9, 1, 3, 3, 9, 3, 7, 3, 7, 7, 3, 9, 7, 3, 9, 3, 9, 1, 7, 9, 9, 7, 7, 3, 1, 3, 3, 9, 1, 7, 1, 3, 7, 9, 7, 9, 1, 1, 1, 3, 1, 1, 3, 3, 1, 7, 3, 3, 7, 9, 3, 1, 1, 1, 9, 7, 3, 1, 9, 7, 1, 9, 3, 1, 3, 7, 3, 7, 7, 9, 1, 1, 7, 3, 3, 1, 7, 9, 7, 9, 3, 1, 1, 3, 7, 9, 9, 1, 9, 3, 3, 3, 1, 3, 3, 7, 7, 9, 7, 1, 7, 3, 3, 7, 9, 1, 9, 3, 9, 1, 9, 3, 1, 3, 1, 1, 3, 1, 7, 1, 7, 9, 1, 9, 9, 7, 1, 7, 1, 3, 7, 1, 7, 9, 9, 9, 1, 7, 9, 3, 1, 3, 9, 7, 9, 3, 9, 1, 7, 9, 1, 7, 3, 3, 3, 9, 3, 9, 1, 7, 7, 9, 1, 1, 3, 7, 3, 9, 1, 7, 1, 9, 7, 3, 7, 3, 1, 9, 7, 9, 3, 1, 7, 3, 7, 9, 7, 1, 9, 3, 9, 9, 1, 9, 1, 7, 3, 3, 9, 3, 3, 9, 1, 7, 3, 1, 3, 9, 3, 7, 1, 9, 9, 1, 1, 9, 3, 9, 7, 3, 1, 7, 1, 9, 1, 1, 3, 1, 3, 9, 7, 7, 9, 7, 3, 3, 9, 7, 7, 7, 3, 3, 7, 9, 7, 9, 9, 9, 3, 9, 7, 3, 9, 9, 7, 1, 9, 3, 9, 7, 3, 1, 7, 9, 9, 3, 7, 9, 7, 1, 7, 1, 1, 9, 3, 7, 1, 3, 9, 9, 1, 3, 1, 3, 1, 3, 9, 1, 7, 1, 3, 7, 3, 1, 3, 7, 1, 9, 1, 7, 7, 3, 7, 7, 9, 3, 1, 3, 9, 1, 3, 9, 1, 3, 1, 9, 3, 3, 7, 9, 1, 3, 3, 7, 3, 1, 9, 1, 7, 1, 7, 9, 1, 3, 7, 7, 3, 7, 1, 1, 7, 7, 1, 3, 7, 9, 3, 7, 1, 9, 1, 9, 9, 1, 9, 3, 7, 9, 3, 9, 9, 3, 7, 3, 7, 1, 3, 1, 9, 7, 3, 1, 9, 3, 9, 7, 9, 1, 7, 7, 3, 1, 9, 7, 3, 7, 7, 3, 1, 9, 1, 7, 3, 3, 7, 3, 7, 3, 3, 1, 7, 1, 7, 9, 9, 7, 9, 1, 3, 9, 9, 1, 3, 7, 9, 3, 7, 1, 7, 3, 1, 7, 9, 1, 7, 3, 1, 3, 9, 1, 3, 7, 3, 1, 9, 9, 7, 1, 3, 1, 7, 9, 3, 9, 1, 3, 7, 7, 9, 1, 1, 3, 7, 7, 9, 1, 7, 1, 7, 7, 9, 1, 9, 1, 3, 3, 3, 7, 1, 3, 9, 9, 7, 3, 9, 3, 9, 3, 1, 9, 3, 1, 3, 9, 7, 9, 7, 1, 3, 3, 7, 9, 1, 3, 9, 9, 3, 7, 9, 1, 7, 7, 1, 3, 9, 7, 7, 9, 9, 1, 3, 9, 1, 7, 9, 1, 3, 9, 7, 1, 9, 7, 9, 1, 7, 9, 7, 3, 1, 7, 3, 7, 3, 9, 9, 9, 1, 1, 9, 7, 3, 7, 1, 9, 3, 9, 7, 1, 7, 1, 3, 3, 7, 9, 9, 7, 1, 7, 1, 3, 1, 7, 3, 1, 3, 7, 7, 3, 9, 7, 7, 9, 7, 7, 7, 3, 7, 7, 3, 7, 9, 7, 9, 1, 1, 3, 1, 3, 7, 1, 1, 3, 9, 9, 3, 1, 7, 9, 7, 3, 3, 1, 7, 9, 3, 9, 9, 1, 9, 7, 7, 7, 1, 7, 3, 9, 7, 3, 7, 9, 1, 3, 1, 9, 3, 3, 9, 3, 1, 3, 7, 9, 7, 9, 7, 3, 7, 3, 9, 1, 3, 7, 9, 3, 7, 9, 9, 3, 7, 7, 1, 3, 9, 3, 9, 1, 3, 9, 1, 3, 7, 1, 7, 9, 7, 9, 3, 1, 3, 9, 1, 1, 7, 1, 1, 9, 1, 3, 9, 3, 3, 1, 7, 1, 3, 3, 9, 3, 7, 9, 1, 3, 1, 3, 7, 9, 3, 1, 7, 7, 9, 7, 3, 7, 1, 1, 7, 9, 1, 1, 3, 9, 3, 9, 3, 7, 3, 7, 1, 7, 1, 9, 1, 1, 9, 1, 3, 1, 3, 3, 9, 1, 7, 3, 9, 9, 1, 3, 7, 1, 9, 3, 7, 3, 1, 7, 9, 1, 1, 9, 1, 1, 9, 7, 1, 7, 7, 3, 3, 1, 3, 1, 3, 3, 9, 7, 1, 3, 7, 3, 7, 3, 1, 9, 1, 7, 3, 9, 1, 7, 9, 3, 3, 7, 7, 1, 7, 1, 3, 1, 3, 3, 1, 1, 7, 9, 7, 9, 3, 1, 3, 3, 9, 1, 3, 7, 3, 7, 1, 9, 9, 1, 1, 1, 9, 9, 1, 3, 7, 3, 7, 3, 3, 7, 1, 3, 9, 3, 7, 9, 7, 9, 9, 7, 1, 1, 3, 9, 1, 7, 3, 9, 9, 7, 3, 1, 7, 3, 9, 7, 3, 3, 1, 7, 1, 1, 9, 9, 7, 1, 9, 9, 9, 7, 7, 1, 3, 9, 3, 3, 7, 9, 3, 9, 1, 7, 3, 3, 7, 9, 1, 9, 1, 1, 9, 3, 7, 1, 9, 9, 7, 3, 9, 7, 3, 9, 7, 1, 1, 3, 7, 1, 3, 9, 3, 3, 9, 9, 3, 7, 7, 9, 1, 7, 3, 1, 1, 9, 7, 3, 3, 9, 3, 3, 7, 9, 1, 9, 7, 9, 7, 9, 9, 1, 3, 7, 9, 1, 1, 3, 3, 1, 1, 1, 3, 9, 7, 3, 3, 3, 9, 3, 1, 3, 7, 7, 3, 9, 9, 3, 1, 7, 3, 9, 9, 1, 1, 7, 9, 3, 1, 3, 7, 9, 7, 1, 9, 9, 3, 1, 7, 9, 1, 3, 1, 3, 9, 1, 7, 1, 7, 1, 3, 7, 7, 9, 1, 7, 9, 7, 3, 1, 3, 9, 1, 9, 3, 7, 9, 9, 3, 1, 3, 1, 7, 3, 9, 1, 7, 9, 1, 3, 7, 3, 7, 3, 9, 1, 1, 3, 3, 9, 1, 3, 9, 3, 1, 7, 3, 1, 7, 9, 3, 9, 3, 7, 9, 1, 3, 9, 1, 3, 9, 3, 3, 1, 1, 3, 3, 7, 9, 9, 9, 1, 1, 1, 3, 3, 9, 7, 9, 7, 1, 7, 9, 9, 1, 3, 7, 9, 1, 3, 1, 7, 7, 9, 3, 9, 9, 3, 1, 7, 7, 3, 1, 7, 9, 3, 7, 1, 7, 7, 9, 1, 3, 7, 9, 9, 7, 3, 7, 9, 1, 7, 1, 1, 3, 9, 1, 7, 1, 9, 3, 9, 3, 3, 9, 7, 9, 1, 7, 9, 3, 3, 3, 7, 7, 9, 9, 1, 7, 1, 7, 1, 3, 3, 9, 7, 9, 3, 9, 7, 9, 9, 1, 7, 1, 3, 3, 9, 3, 9, 7, 7, 9, 1, 3, 9, 9, 1, 1, 1, 1, 7, 9, 1, 1, 7, 7, 3, 9, 7, 1, 3, 9, 7, 1, 3, 9, 7, 3, 1, 3, 9, 3, 1, 3, 7, 1, 3, 7, 3, 3, 3, 3, 1, 7, 9, 3, 9, 1, 3, 7, 3, 9, 1, 7, 1, 3, 7, 3, 3, 7, 9, 1, 7, 1, 7, 9, 3, 9, 7, 7, 1, 9, 3, 7, 1, 7, 9, 1, 3, 9, 3, 1, 1, 3, 9, 7, 7, 9, 7, 9, 3, 1, 7, 9, 1, 7, 1, 7, 9, 3, 1, 3, 9, 3, 7, 1, 3, 7, 1, 7, 9, 1, 3, 3, 9, 3, 9, 1, 3, 1, 9, 7, 9, 7, 7, 1, 9, 1, 9, 7, 1, 3, 1, 7, 1, 3, 1, 7, 9, 7, 3, 9, 1, 1, 1, 3, 3, 9, 1, 7, 3, 7, 1, 3, 3, 9, 1, 7, 1, 7, 3, 9, 1, 3, 7, 1, 9, 3, 9, 7, 3, 9, 1, 3, 3, 7, 1, 7, 1, 9, 1, 1, 9, 7, 1, 7, 9, 3, 1, 1, 3, 1, 7, 3, 7, 7, 3, 1, 3, 9, 7, 7, 3, 3, 9, 1, 7, 3, 9, 1, 7, 1, 9, 1, 3, 9, 7, 3, 1, 7, 9, 3, 7, 7, 3, 9, 7, 9, 1, 3, 9, 7, 1, 3, 9, 3, 1, 7, 3, 7, 9, 1, 3, 3, 1, 1, 3, 9, 9, 1, 3, 9, 3, 9, 3, 1, 3, 7, 9, 1, 7, 1, 7, 1, 7, 3, 9, 1, 1, 3, 9, 7, 7, 9, 3, 7, 1, 3, 9, 9, 1, 3, 7, 1, 3, 7, 3, 7, 9, 9, 7, 1, 7, 1, 7, 9, 3, 3, 3, 9, 1, 3, 1, 7, 9, 7, 1, 7, 9, 3, 1, 7, 9, 9, 3, 1, 3, 7, 1, 7, 1, 9, 7, 3, 9, 7, 9, 9, 7, 1, 9, 3, 7, 9, 3, 9, 1, 7, 3, 9, 7, 7, 9, 9, 3, 1, 3, 1, 3, 3, 1, 7, 1, 3, 3, 1, 7, 9, 1, 1, 3, 3, 7, 7, 9, 1, 3, 1, 9, 9, 9, 3, 3, 3, 3, 7, 9, 3, 1, 9, 7, 9, 3, 1, 1, 7, 9, 9, 1, 1, 3, 1, 7, 7, 3, 9, 9, 9, 7, 7, 9, 9, 7, 3, 1, 1, 3, 1, 7, 7, 9, 1, 1, 7, 9, 1, 7, 1, 3, 9, 3, 3, 7, 1, 3, 9, 3, 1, 7, 7, 3, 1, 7, 3, 9, 3, 9, 1, 3, 9, 7, 9, 3, 7, 1, 3, 1, 7, 9, 9, 3, 9, 3, 1, 7, 3, 1, 7, 3, 9, 1, 3, 9, 1, 1, 7, 1, 1, 3, 9, 1, 3, 9, 9, 7, 7, 9, 1, 7, 7, 9, 1, 9, 1, 7, 3, 9, 7, 1, 7, 7, 9, 3, 1, 9, 1, 7, 3, 9, 1, 7, 1, 7, 7, 1, 1, 9, 9, 9, 3, 7, 7, 9, 1, 3, 7, 3, 1, 1, 9, 9, 3, 1, 9, 1, 9, 9, 9, 7, 1, 9, 7, 3, 7, 7, 9, 3, 7, 7, 9, 3, 9, 1, 3, 7, 9, 1, 1, 7, 9, 1, 7, 1, 7, 3, 7, 3, 1, 7, 3, 3, 3, 7, 1, 7, 9, 9, 7, 9, 1, 7, 1, 1, 7, 7, 1, 3, 7, 3, 1, 7, 9, 9, 7, 1, 9, 7, 1, 1, 3, 1, 3, 7, 9, 3, 7, 1, 3, 7, 1, 7, 7, 1, 9, 7, 3, 9, 1, 3, 3, 1, 3, 7, 1, 7, 3, 7, 3, 1, 7, 3, 9, 3, 9, 1, 7, 7, 9, 1, 7, 1, 1, 3, 3, 1, 1, 3, 9, 3, 9, 1, 7, 7, 1, 3, 9, 9, 7, 9, 9, 1, 9, 1, 7, 9, 1, 7, 1, 3, 9, 1, 3, 1, 7, 9, 3, 1, 7, 7, 3, 1, 7, 9, 3, 7, 9, 1, 7, 9, 7, 3, 9, 3, 7, 7, 9, 9, 7, 3, 7, 9, 1, 9, 7, 9, 3, 9, 7, 3, 9, 7, 3, 1, 7, 9, 7, 9, 7, 9, 1, 3, 7, 3, 3, 1, 3, 9, 9, 9, 9, 7, 9, 3, 1, 7, 1, 1, 1, 1, 7, 7, 1, 1, 3, 9, 7, 1, 1, 3, 3, 1, 7, 3, 9, 9, 7, 3, 9, 7, 3, 7, 3, 7, 9, 3, 7, 7, 3, 7, 1, 3, 7, 1, 9, 1, 7, 1, 9, 3, 1, 3, 7, 9, 3, 3, 9, 3, 1, 1, 9, 3, 9, 7, 1, 7, 9, 1, 7, 9, 1, 3, 3, 9, 7, 7, 7, 1, 1, 7, 9, 1, 1, 9, 3, 1, 3, 7, 3, 9, 9, 1, 9, 9, 9, 9, 1, 9, 7, 1, 3, 9, 3, 7, 1, 1, 1, 9, 3, 3, 7, 7, 1, 9, 7, 3, 3, 1, 7, 3, 7, 9, 3, 9, 9, 9, 1, 7, 9, 7, 3, 7, 9, 9, 7, 9, 1, 1, 7, 1, 1, 3, 3, 9, 1, 1, 7, 3, 9, 7, 9, 7, 1, 7, 1, 9, 3, 1, 1, 3, 7, 9, 9, 7, 1, 9, 1, 3, 1, 1, 7, 1, 7, 9, 1, 9, 1, 3, 7, 3, 7, 9, 9, 3, 1, 1, 9, 3, 9, 1, 3, 1, 9, 1, 3, 7, 3, 7, 3, 7, 3, 7, 9, 9, 9, 1, 9, 7, 7, 3, 1, 7, 9, 1, 9, 1, 1, 1, 3, 7, 3, 7, 3, 1, 9, 3, 9, 3, 3, 1, 7, 1, 7, 3, 1, 3, 7, 3, 9, 1, 7, 9, 3, 1, 9, 1, 3, 7, 3, 9, 1, 7, 9, 3, 1, 1, 3, 9, 1, 9, 7, 1, 7, 7, 9, 9, 1, 3, 3, 1, 1, 9, 9, 1, 3, 3, 7, 3, 7, 7, 3, 9, 7, 9, 1, 7, 1, 3, 3, 3, 7, 1, 1, 3, 1, 3, 7, 9, 3, 7, 1, 7, 3, 9, 1, 7, 3, 7, 9, 3, 9, 1, 9, 1, 1, 7, 3, 9, 7, 1, 3, 7, 7, 3, 7, 9, 7, 1, 7, 9, 3, 1, 3, 3, 7, 7, 9, 7, 1, 7, 7, 3, 3, 3, 7, 1, 9, 9, 3, 9, 7, 7, 1, 3, 9, 3, 7, 7, 3, 1, 3, 9, 1, 1, 3, 9, 1, 1, 7, 7, 9, 9, 9, 9, 3, 1, 3, 3, 1, 7, 9, 3, 7, 9, 7, 7, 3, 7, 3, 1, 7, 1, 3, 1, 7, 9, 7, 9, 1, 1, 3, 7, 9, 7, 1, 9, 1, 7, 9, 7, 7, 1, 7, 9, 7, 1, 7, 1, 3, 3, 9, 3, 3, 7, 9, 1, 7, 9, 9, 3, 7, 3, 1, 1, 9, 9, 1, 3, 3, 1, 1, 3, 3, 9, 9, 3, 1, 7, 9, 7, 1, 9, 9, 1, 3, 7, 9, 9, 7, 1, 3, 3, 9, 3, 3, 9, 3, 1, 7, 3, 1, 1, 3, 9, 3, 1, 7, 7, 3, 3, 9, 7, 3, 9, 3, 3, 7, 3, 9, 7, 1, 7, 1, 1, 7, 9, 1, 7, 9, 3, 9, 3, 9, 1, 7, 9, 3, 9, 9, 1, 3, 7, 3, 3, 1, 9, 1, 7, 1, 3, 9, 7, 7, 3, 7, 1, 9, 1, 7, 1, 7, 9, 1, 1, 7, 3, 1, 9, 9, 3, 1, 9, 1, 7, 1, 9, 1, 3, 1, 1, 3, 3, 7, 9, 1, 1, 1, 7, 9, 7, 1, 9, 1, 3, 1, 9, 3, 9, 7, 1, 9, 7, 7, 3, 1, 3, 9, 3, 7, 3, 7, 9, 1, 9, 7, 9, 3, 1, 1, 1, 1, 9, 1, 3, 3, 9, 7, 3, 7, 9, 3, 7, 3, 9, 9, 1, 3, 9, 1, 9, 7, 3, 1, 1, 3, 3, 7, 3, 7, 1, 3, 9, 7, 9, 1, 7, 9, 1, 3, 7, 7, 9, 3, 3, 7, 9, 3, 7, 1, 3, 1, 9, 1, 7, 3, 3, 7, 1, 3, 7, 9, 3, 3, 9, 9, 3, 9, 7, 9, 3, 3, 7, 9, 1, 7, 1, 7, 1, 9, 9, 1, 3, 7, 9, 7, 7, 1, 3, 3, 7, 9, 7, 9, 7, 9, 1, 1, 1, 7, 1, 9, 1, 1, 1, 7, 9, 9, 1, 7, 3, 3, 3, 7, 9, 7, 9, 9, 7, 3, 7, 9, 9, 7, 1, 9, 1, 1, 7, 1, 3, 1, 9, 3, 1, 3, 7, 1, 7, 9, 1, 3, 7, 9, 1, 7, 3, 1, 7, 1, 3, 9, 9, 1, 7, 9, 1, 9, 3, 9, 9, 7, 7, 9, 3, 3, 1, 7, 1, 7, 9, 7, 1, 7, 9, 3, 3, 3, 3, 3, 1, 7, 1, 7, 7, 9, 7, 3, 9, 3, 9, 3, 1, 3, 9, 7, 1, 3, 1, 7, 9, 1, 3, 7, 7, 9, 7, 9, 1, 3, 7, 1, 3, 9, 1, 7, 9, 3, 7, 1, 7, 3, 9, 7, 3, 1, 9, 3, 7, 1, 1, 9, 1, 7, 1, 1, 3, 7, 1, 1, 3, 9, 3, 9, 9, 7, 9, 9, 7, 9, 7, 9, 3, 7, 3, 7, 3, 7, 1, 7, 7, 1, 3, 1, 7, 7, 9, 1, 3, 9, 7, 3, 7, 1, 9, 9, 1, 9, 3, 9, 9, 1, 3, 7, 3, 1, 9, 3, 7, 1, 9, 7, 3, 7, 3, 1, 3, 7, 9, 1, 3, 7, 1, 7, 3, 9, 9, 7, 1, 9, 3, 1, 1, 3, 7, 1, 7, 3, 9, 1, 3, 7, 9, 1, 3, 7, 7, 9, 1, 3, 9, 1, 3, 7, 1, 3, 7, 3, 7, 1, 7, 1, 9, 7, 7, 9, 3, 7, 9, 9, 1, 7, 9, 9, 9, 7, 1, 3, 9, 3, 1, 7, 1, 7, 7, 1, 1, 7, 9, 7, 1, 9, 7, 1, 9, 7, 3, 7, 3, 1, 3, 9, 9, 1, 7, 3, 3, 9, 3, 3, 7, 9, 7, 3, 1, 9, 3, 9, 7, 1, 3, 3, 9, 3, 9, 7, 9, 1, 3, 9, 7, 7, 3, 1, 9, 3, 9, 3, 9, 3, 3, 7, 9, 1, 3, 9, 1, 7, 3, 1, 3, 1, 7, 1, 1, 3, 1, 7, 7, 7, 3, 9, 1, 7, 9, 1, 3, 7, 1, 9, 3, 9, 1, 1, 7, 3, 7, 9, 1, 7, 7, 9, 3, 9, 7, 3, 9, 7, 9, 1, 1, 1, 3, 9, 1, 3, 9, 3, 9, 1, 1, 3, 3, 9, 1, 3, 9, 1, 3, 9, 3, 9, 1, 3, 7, 3, 9, 7, 9, 7, 9, 7, 1, 1, 1, 3, 7, 9, 1, 3, 7, 9, 7, 3, 7, 7, 9, 1, 1, 3, 7, 3, 9, 1, 7, 3, 9, 7, 1, 7, 3, 7, 1, 3, 3, 7, 3, 7, 3, 7, 9, 3, 7, 1, 3, 1, 3, 9, 1, 1, 9, 3, 7, 7, 7, 9, 7, 9, 3, 1, 3, 7, 1, 1, 1, 3, 9, 7, 3, 9, 3, 7, 3, 1, 3, 9, 7, 7, 1, 3, 9, 3, 7, 1, 7, 9, 1, 9, 9, 1, 9, 1, 3, 3, 1, 7, 3, 9, 3, 9, 3, 1, 1, 7, 3, 7, 3, 7, 3, 9, 1, 1, 3, 1, 1, 9, 9, 1, 7, 7, 3, 9, 1, 9, 1, 7, 1, 3, 9, 1, 3, 9, 1, 7, 3, 9, 3, 9, 3, 1, 7, 3, 7, 1, 1, 9, 1, 7, 3, 9, 3, 1, 3, 3, 7, 9, 1, 7, 3, 1, 7, 9, 9, 1, 7, 9, 9, 1, 1, 3, 1, 9, 3, 1, 9, 7, 1, 7, 3, 1, 1, 9, 9, 1, 7, 7, 9, 1, 3, 1, 7, 9, 3, 1, 7, 1, 7, 3, 1, 7, 3, 7, 1, 3, 9, 9, 3, 9, 3, 7, 9, 9, 1, 7, 1, 7, 1, 3, 7, 3, 1, 1, 9, 3, 7, 9, 3, 9, 1, 7, 9, 1, 1, 7, 9, 1, 7, 3, 9, 9, 7, 9, 7, 1, 9, 1, 7, 1, 3, 7, 1, 9, 3, 1, 7, 3, 3, 9, 1, 7, 1, 3, 1, 1, 9, 1, 7, 1, 1, 1, 7, 9, 7, 7, 9, 3, 3, 9, 9, 7, 1, 3, 1, 3, 3, 9, 3, 7, 7, 9, 1, 1, 9, 7, 9, 1, 7, 1, 3, 9, 1, 9, 7, 1, 3, 9, 9, 1, 3, 3, 1, 1, 7, 1, 7, 9, 3, 1, 3, 9, 7, 3, 9, 3, 7, 7, 9, 3, 7, 1, 3, 7, 3, 1, 1, 3, 9, 7, 9, 3, 7, 9, 3, 7, 3, 9, 1, 7, 9, 1, 1, 3, 9, 3, 9, 3, 7, 7, 1, 7, 9, 9, 7, 1, 7, 9, 3, 1, 3, 9, 3, 7, 3, 7, 3, 1, 7, 7, 9, 1, 9, 7, 7, 3, 9, 7, 1, 7, 3, 9, 3, 9, 1, 3, 7, 9, 1, 7, 1, 7, 1, 1, 3, 3, 9, 9, 1, 1, 7, 9, 7, 3, 3, 7, 9, 9, 3, 9, 9, 1, 3, 9, 9, 1, 1, 9, 1, 3, 9, 1, 3, 9, 1, 3, 7, 7, 9, 3, 7, 3, 9, 1, 7, 3, 7, 7, 9, 9, 9, 1, 7, 1, 7, 3, 7, 7, 1, 3, 1, 7, 7, 3, 7, 3, 1, 3, 9, 9, 7, 9, 7, 9, 3, 9, 3, 1, 9, 1, 3, 3, 9, 7, 1, 3, 3, 1, 9, 1, 7, 1, 7, 7, 1, 1, 9, 1, 3, 9, 7, 9, 7, 9, 9, 3, 1, 7, 9, 1, 7, 9, 3, 9, 1, 9, 3, 9, 1, 7, 7, 1, 3, 9, 1, 3, 1, 9, 9, 1, 1, 7, 9, 1, 9, 7, 7, 1, 3, 3, 1, 7, 7, 3, 9, 1, 1, 3, 9, 7, 3, 7, 1, 7, 3, 7, 1, 7, 1, 1, 1, 1, 7, 7, 9, 1, 9, 3, 7, 1, 3, 9, 3, 7, 1, 1, 7, 9, 3, 1, 3, 7, 1, 3, 9, 3, 1, 1, 3, 7, 9, 1, 7, 1, 9, 7, 7, 3, 9, 7, 7, 7, 9, 1, 1, 3, 3, 1, 1, 9, 3, 7, 3, 7, 1, 7, 7, 3, 9, 9, 9, 1, 9, 1, 1, 7, 9, 7, 9, 1, 3, 1, 1, 3, 9, 7, 1, 3, 9, 3, 9, 1, 7, 9, 1, 9, 7, 3, 7, 9, 3, 7, 9, 9, 1, 3, 1, 9, 7, 9, 1, 7, 7, 1, 7, 1, 1, 7, 3, 9, 1, 7, 1, 7, 1, 7, 1, 1, 3, 3, 1, 3, 9, 1, 9, 3, 3, 1, 1, 7, 1, 7, 1, 9, 1, 9, 7, 3, 1, 3, 9, 1, 3, 9, 3, 9, 1, 1, 3, 3, 9, 3, 1, 3, 7, 3, 1, 3, 9, 3, 9, 9, 9, 7, 7, 9, 3, 1, 1, 1, 7, 7, 3, 3, 3, 1, 7, 3, 9, 1, 1, 3, 3, 9, 9, 7, 3, 1, 3, 1, 7, 9, 3, 1, 9, 9, 7, 9, 3, 9, 7, 3, 9, 7, 1, 3, 3, 9, 3, 9, 7, 1, 7, 3, 9, 9, 7, 3, 3, 7, 1, 1, 3, 1, 9, 1, 7, 9, 9, 3, 9, 1, 9, 3, 9, 7, 1, 3, 3, 9, 9, 3, 7, 9, 3, 3, 1, 9, 9, 1, 7, 3, 1, 1, 9, 7, 1, 3, 9, 3, 9, 1, 7, 9, 9, 3, 1, 3, 7, 3, 1, 7, 3, 7, 9, 3, 3, 7, 1, 3, 7, 9, 7, 3, 3, 9, 9, 7, 7, 9, 9, 3, 3, 7, 9, 9, 1, 9, 3, 9, 1, 1, 3, 3, 7, 1, 9, 1, 9, 7, 3, 9, 3, 9, 3, 9, 1, 9, 3, 7, 1, 3, 9, 7, 9, 1, 1, 3, 9, 7, 1, 3, 7, 7, 1, 9, 1, 9, 1, 1, 3, 1, 1, 9, 1, 3, 3, 9, 7, 9, 9, 1, 9, 1, 7, 3, 9, 1, 3, 1, 3, 3, 7, 7, 9, 9, 1, 9, 9, 1, 1, 9, 3, 7, 3, 7, 7, 9, 7, 7, 1, 3, 9, 9, 3, 3, 7, 3, 9, 1, 1, 3, 3, 7, 1, 7, 3, 9, 7, 1, 9, 1, 3, 7, 3, 7, 7, 9, 9, 9, 1, 9, 1, 1, 3, 7, 7, 1, 7, 9, 1, 3, 3, 1, 3, 9, 1, 7, 7, 3, 9, 3, 9, 1, 1, 7, 1, 7, 3, 1, 9, 1, 7, 3, 9, 1, 3, 9, 1, 1, 3, 3, 9, 7, 9, 1, 7, 9, 3, 3, 3, 1, 7, 9, 7, 3, 1, 3, 3, 9, 7, 9, 7, 3, 7, 1, 7, 9, 7, 3, 3, 1, 9, 1, 1, 9, 7, 3, 7, 7, 7, 3, 3, 7, 3, 9, 1, 1, 9, 7, 1, 9, 1, 1, 7, 9, 1, 1, 3, 9, 1, 9, 9, 1, 7, 7, 9, 3, 7, 7, 9, 3, 9, 1, 7, 9, 3, 9, 1, 7, 3, 7, 7, 1, 3, 9, 1, 3, 9, 1, 1, 3, 1, 7, 7, 1, 3, 1, 7, 3, 7, 9, 9, 1, 3, 7, 1, 9, 1, 1, 3, 9, 7, 1, 7, 9, 3, 7, 9, 1, 9, 7, 9, 9, 1, 1, 7, 3, 3, 1, 7, 7, 1, 3, 3, 7, 3, 9, 7, 1, 3, 7, 3, 9, 7, 1, 7, 1, 7, 9, 3, 1, 3, 7, 3, 9, 9, 9, 1, 3, 1, 7, 9, 1, 7, 9, 7, 1, 7, 1, 9, 3, 7, 1, 1, 9, 3, 9, 3, 1, 1, 7, 9, 1, 1, 9, 3, 7, 1, 3, 7, 3, 1, 1, 9, 3, 3, 9, 9, 3, 9, 1, 1, 9, 3, 7, 9, 9, 7, 3, 9, 3, 1, 7, 3, 7, 9, 3, 1, 7, 1, 3, 9, 3, 3, 7, 1, 9, 9, 1, 3, 1, 7, 1, 9, 1, 3, 9, 3, 7, 9, 1, 3, 7, 1, 3, 9, 1, 1, 7, 3, 3, 9, 3, 3, 7, 9, 1, 7, 1, 7, 1, 3, 9, 1, 3, 7, 9, 3, 9, 7, 1, 3, 1, 7, 9, 3, 9, 3, 9, 1, 7, 9, 1, 1, 7, 1, 7, 9, 1, 7, 7, 9, 7, 3, 9, 1, 3, 3, 9, 1, 7, 7, 3, 9, 7, 1, 7, 3, 9, 3, 1, 9, 3, 7, 7, 1, 1, 3, 9, 1, 7, 9, 9, 9, 3, 7, 1, 9, 9, 3, 7, 9, 7, 9, 1, 3, 7, 3, 9, 7, 9, 7, 7, 9, 1, 7, 9, 3, 9, 9, 7, 1, 3, 1, 3, 9, 3, 1, 3, 9, 1, 1, 3, 1, 7, 3, 9, 1, 9, 7, 7, 7, 7, 3, 7, 7, 9, 9, 1, 3, 9, 1, 3, 1, 1, 9, 3, 3, 7, 9, 1, 3, 3, 9, 7, 1, 3, 7, 7, 9, 9, 1, 3, 7, 1, 7, 9, 3, 7, 3, 7, 7, 1, 7, 1, 7, 7, 3, 3, 7, 9, 9, 1, 9, 1, 7, 1, 7, 7, 7, 7, 3, 9, 3, 1, 7, 9, 9, 3, 1, 7, 3, 1, 7, 3, 1, 7, 3, 9, 7, 3, 9, 7, 7, 9, 1, 7, 7, 1, 9, 3, 9, 7, 1, 3, 7, 3, 1, 3, 7, 3, 1, 9, 1, 7, 7, 9, 3, 1, 7, 9, 7, 9, 1, 3, 9, 3, 1, 7, 3, 9, 7, 3, 3, 9, 9, 1, 3, 1, 3, 1, 7, 3, 3, 9, 1, 7, 3, 1, 3, 1, 3, 9, 7, 9, 1, 9, 1, 3, 7, 9, 3, 7, 3, 1, 3, 7, 1, 3, 9, 7, 3, 1, 7, 1, 9, 9, 3, 7, 9, 3, 7, 3, 9, 1, 3, 7, 9, 1, 7, 7, 9, 1, 7, 3, 9, 1, 1, 9, 9, 3, 9, 1, 7, 3, 9, 3, 7, 9, 9, 9, 1, 3, 3, 3, 7, 3, 9, 3, 9, 1, 3, 9, 1, 7, 9, 3, 9, 7, 3, 7, 3, 9, 1, 3, 1, 1, 7, 7, 9, 9, 1, 1, 1, 3, 3, 1, 3, 3, 1, 9, 3, 9, 7, 9, 1, 9, 3, 7, 1, 7, 7, 9, 7, 1, 3, 1, 7, 9, 3, 7, 9, 9, 1, 7, 1, 3, 7, 7, 1, 3, 9, 7, 1, 7, 9, 3, 3, 1, 9, 1, 1, 7, 1, 3, 3, 7, 3, 1, 3, 1, 3, 7, 9, 9, 1, 3, 9, 7, 3, 9, 7, 1, 7, 9, 1, 9, 9, 7, 3, 7, 9, 1, 3, 7, 9, 9, 9, 7, 7, 9, 1, 1, 9, 9, 7, 1, 9, 1, 3, 3, 7, 9, 7, 3, 7, 9, 7, 9, 7, 9, 3, 3, 9, 7, 7, 1, 7, 9, 3, 9, 1, 1, 3, 7, 9, 1, 3, 3, 7, 7, 7, 3, 7, 9, 3, 3, 9, 1, 3, 9, 3, 7, 1, 7, 9, 3, 9, 3, 9, 1, 3, 7, 7, 1, 7, 9, 7, 9, 7, 3, 1, 3, 7, 7, 1, 9, 7, 1, 9, 7, 9, 9, 7, 1, 7, 1, 3, 9, 1, 7, 9, 9, 3, 7, 3, 1, 7, 3, 1, 3, 3, 9, 7, 1, 9, 3, 1, 9, 1, 1, 1, 7, 9, 1, 9, 3, 7, 9, 3, 7, 9, 9, 1, 7, 1, 7, 3, 7, 3, 1, 3, 7, 3, 7, 9, 1, 1, 7, 1, 3, 3, 7, 3, 1, 7, 9, 7, 3, 7, 9, 7, 3, 7, 9, 7, 1, 3, 7, 1, 3, 9, 1, 9, 3, 1, 3, 9, 9, 3, 9, 7, 7, 3, 7, 1, 7, 1, 3, 9, 3, 9, 1, 9, 7, 9, 1, 7, 3, 1, 7, 3, 9, 9, 7, 1, 1, 9, 3, 9, 3, 1, 3, 9, 9, 9, 9, 7, 3, 7, 1, 3, 3, 9, 7, 3, 1, 3, 3, 1, 7, 3, 3, 9, 1, 7, 3, 7, 9, 1, 1, 7, 7, 9, 1, 7, 9, 7, 1, 3, 3, 3, 3, 1, 3, 9, 3, 7, 3, 9, 1, 9, 3, 9, 9, 1, 7, 7, 9, 9, 1, 7, 1, 7, 1, 9, 7, 3, 9, 3, 3, 9, 7, 1, 1, 9, 3, 7, 3, 9, 3, 9, 1, 3, 9, 1, 7, 9, 9, 7, 3, 7, 3, 7, 1, 7, 9, 7, 3, 7, 3, 9, 9, 3, 3, 1, 3, 3, 3, 3, 1, 3, 9, 1, 1, 7, 3, 1, 3, 9, 1, 7, 7, 9, 9, 9, 3, 1, 1, 9, 1, 3, 1, 3, 9, 3, 1, 3, 7, 3, 7, 9, 7, 3, 9, 7, 1, 3, 3, 7, 1, 3, 9, 3, 9, 7, 1, 3, 9, 3, 3, 3, 7, 1, 9, 7, 3, 1, 7, 1, 7, 1, 3, 3, 1, 9, 1, 3, 7, 7, 9, 9, 7, 7, 9, 1, 1, 7, 1, 3, 9, 7, 9, 3, 1, 9, 3, 1, 9, 7, 9, 3, 7, 3, 9, 7, 1, 1, 9, 1, 7, 3, 3, 7, 3, 3, 9, 1, 3, 1, 9, 9, 1, 9, 1, 1, 7, 3, 7, 1, 9, 7, 3, 9, 1, 1, 7, 9, 7, 7, 7, 9, 9, 7, 9, 7, 3, 9, 7, 9, 3, 1, 7, 9, 9, 3, 9, 7, 1, 7, 9, 9, 7, 1, 7, 9, 7, 1, 3, 7, 3, 7, 9, 1, 3, 9, 7, 1, 7, 7, 1, 1, 7, 7, 9, 1, 1, 3, 3, 1, 7, 1, 3, 9, 1, 9, 9, 3, 7, 1, 1, 1, 7, 1, 7, 9, 1, 3, 7, 3, 7, 9, 1, 3, 7, 9, 1, 3, 9, 1, 7, 1, 7, 9, 1, 3, 9, 3, 1, 7, 7, 3, 1, 1, 3, 9, 7, 3, 9, 9, 1, 7, 3, 7, 3, 1, 3, 7, 9, 1, 3, 9, 9, 7, 7, 9, 3, 7, 9, 3, 3, 1, 7, 3, 9, 3, 9, 3, 1, 7, 1, 9, 9, 7, 3, 7, 7, 3, 9, 1, 7, 3, 7, 3, 9, 3, 1, 1, 7, 9, 7, 1, 3, 7, 1, 3, 7, 7, 1, 3, 7, 9, 9, 1, 1, 9, 7, 3, 3, 9, 1, 3, 9, 7, 1, 9, 1, 9, 1, 9, 9, 1, 7, 7, 9, 1, 3, 3, 9, 7, 7, 3, 9, 7, 7, 9, 9, 1, 3, 7, 1, 3, 1, 9, 3, 1, 9, 7, 1, 1, 1, 9, 1, 3, 3, 9, 1, 7, 7, 3, 7, 9, 9, 7, 9, 3, 1, 3, 3, 9, 7, 3, 1, 1, 1, 3, 1, 1, 3, 9, 7, 1, 3, 9, 1, 7, 3, 7, 7, 7, 7, 9, 3, 9, 1, 3, 9, 1, 9, 9, 1, 9, 7, 1, 9, 7, 9, 1, 1, 9, 9, 3, 1, 9, 7, 3, 1, 3, 9, 1, 3, 7, 9, 3, 3, 7, 9, 9, 9, 1, 3, 1, 7, 3, 9, 9, 1, 3, 7, 1, 3, 7, 9, 3, 1, 9, 9, 3, 3, 1, 1, 9, 7, 1, 3, 9, 1, 3, 7, 1, 3, 9, 7, 9, 3, 1, 3, 9, 7, 9, 1, 7, 9, 1, 9, 1, 3, 7, 9, 9, 3, 9, 1, 9, 3, 7, 9, 1, 9, 3, 1, 7, 1, 9, 1, 3, 9, 3, 9, 7, 7, 1, 3, 3, 9, 9, 7, 1, 3, 3, 9, 1, 3, 1, 3, 7, 1, 7, 3, 1, 1, 3, 9, 1, 9, 3, 1, 9, 3, 7, 1, 1, 9, 9, 3, 7, 1, 7, 1, 3, 9, 1, 9, 1, 1, 3, 3, 3, 7, 9, 7, 9, 7, 3, 7, 7, 9, 1, 1, 3, 7, 1, 7, 1, 1, 3, 7, 9, 9, 9, 9, 1, 7, 1, 9, 7, 3, 3, 7, 7, 3, 9, 1, 1, 9, 9, 7, 9, 3, 9, 7, 1, 7, 7, 3, 7, 9, 9, 3, 9, 9, 1, 7, 3, 9, 3, 3, 9, 3, 1, 3, 7, 3, 9, 1, 1, 7, 7, 9, 3, 7, 3, 9, 3, 9, 1, 9, 3, 7, 9, 1, 3, 7, 1, 3, 7, 3, 7, 3, 7, 3, 9, 1, 9, 1, 7, 9, 1, 1, 3, 7, 1, 9, 1, 3, 7, 1, 3, 9, 9, 1, 1, 7, 3, 9, 7, 1, 3, 9, 1, 9, 7, 1, 3, 9, 1, 3, 9, 3, 1, 1, 7, 3, 7, 9, 9, 1, 7, 3, 7, 3, 7, 9, 1, 9, 1, 3, 9, 7, 1, 3, 7, 9, 9, 9, 7, 9, 3, 9, 7, 9, 1, 3, 7, 3, 1, 7, 9, 1, 7, 3, 3, 1, 1, 3, 9, 1, 9, 1, 1, 9, 7, 7, 9, 1, 1, 7, 9, 1, 3, 7, 3, 1, 3, 7, 3, 7, 3, 7, 9, 9, 3, 3, 9, 7, 1, 7, 9, 9, 3, 3, 1, 9, 9, 1, 7, 3, 9, 3, 1, 1, 9, 9, 7, 7, 9, 1, 7, 9, 1, 7, 3, 3, 9, 1, 1, 7, 7, 7, 9, 1, 9, 1, 7, 1, 3, 7, 1, 1, 3, 9, 7, 7, 9, 9, 1, 7, 3, 1, 1, 3, 7, 9, 7, 9, 7, 1, 3, 9, 1, 3, 3, 1, 1, 7, 9, 1, 1, 3, 9, 1, 3, 3, 3, 7, 3, 7, 3, 9, 3, 1, 7, 7, 1, 7, 9, 1, 7, 1, 7, 3, 9, 9, 7, 9, 7, 1, 3, 9, 3, 9, 7, 1, 3, 7, 9, 1, 7, 7, 7, 3, 1, 3, 9, 3, 1, 9, 3, 3, 9, 1, 3, 7, 1, 9, 1, 3, 9, 1, 9, 7, 3, 7, 7, 3, 3, 9, 9, 7, 1, 3, 7, 3, 9, 3, 9, 7, 1, 1, 7, 9, 7, 1, 3, 9, 7, 1, 3, 7, 3, 1, 9, 3, 1, 9, 9, 1, 9, 3, 1, 7, 1, 7, 1, 9, 7, 1, 9, 9, 1, 3, 7, 3, 3, 3, 3, 9, 3, 1, 7, 1, 3, 3, 1, 7, 7, 9, 3, 7, 7, 9, 9, 1, 9, 3, 1, 7, 9, 1, 3, 9, 9, 1, 9, 3, 7, 7, 3, 3, 1, 7, 3, 7, 1, 9, 7, 1, 1, 3, 7, 7, 9, 3, 9, 7, 9, 7, 7, 3, 7, 1, 7, 1, 3, 9, 1, 7, 3, 1, 9, 7, 7, 9, 9, 7, 3, 7, 7, 1, 7, 9, 3, 7, 1, 3, 9, 1, 9, 1, 3, 7, 3, 1, 1, 1, 9, 7, 3, 9, 1, 1, 3, 1, 3, 3, 1, 3, 7, 1, 7, 1, 9, 3, 7, 9, 1, 1, 3, 1, 7, 3, 7, 3, 7, 3, 9, 7, 9, 1, 1, 3, 3, 9, 1, 7, 3, 7, 1, 9, 3, 9, 1, 7, 9, 1, 9, 3, 9, 1, 3, 1, 7, 9, 1, 7, 1, 7, 3, 9, 7, 7, 9, 3, 9, 9, 1, 1, 3, 9, 1, 9, 1, 7, 9, 7, 1, 7, 1, 3, 9, 1, 9, 1, 9, 3, 7, 7, 3, 3, 1, 3, 7, 9, 1, 3, 9, 3, 7, 1, 7, 9, 7, 1, 7, 9, 1, 7, 3, 9, 7, 1, 1, 9, 3, 9, 7, 3, 7, 3, 3, 3, 1, 9, 3, 9, 7, 9, 7, 9, 9, 1, 7, 3, 7, 3, 9, 3, 1, 9, 3, 9, 7, 3, 9, 1, 9, 9, 1, 1, 7, 9, 1, 1, 1, 3, 1, 9, 7, 1, 3, 9, 1, 1, 3, 1, 7, 3, 9, 7, 3, 7, 7, 9, 9, 9, 1, 7, 3, 7, 1, 1, 3, 9, 3, 7, 1, 7, 9, 9, 9, 7, 9, 1, 7, 1, 3, 9, 1, 9, 7, 3, 1, 1, 3, 9, 7, 7, 1, 9, 7, 7, 3, 7, 7, 1, 7, 3, 9, 1, 1, 3, 9, 3, 9, 7, 9, 9, 7, 3, 7, 9, 1, 7, 3, 9, 3, 9, 1, 7, 3, 9, 9, 1, 7, 7, 3, 1, 7, 9, 3, 3, 7, 9, 9, 7, 7, 9, 1, 7, 1, 9, 9, 1, 3, 1, 9, 1, 3, 3, 9, 3, 9, 3, 7, 3, 1, 7, 3, 7, 3, 7, 7, 9, 1, 7, 3, 9, 1, 3, 7, 1, 3, 1, 1, 9, 1, 9, 1, 1, 7, 3, 1, 3, 7, 1, 3, 1, 7, 9, 1, 7, 3, 3, 3, 7, 1, 3, 7, 1, 9, 3, 1, 7, 3, 1, 9, 7, 1, 1, 1, 9, 7, 1, 7, 3, 9, 1, 1, 1, 1, 3, 1, 7, 3, 9, 1, 9, 7, 3, 7, 1, 7, 1, 3, 7, 7, 3, 1, 3, 9, 7, 7, 1, 3, 9, 1, 9, 3, 7, 9, 3, 9, 7, 7, 7, 9, 3, 7, 7, 9, 1, 9, 3, 1, 1, 9, 1, 7, 9, 7, 9, 1, 9, 9, 3, 1, 9, 1, 7, 7, 3, 9, 7, 3, 7, 3, 7, 9, 7, 1, 3, 7, 9, 1, 1, 7, 3, 9, 1, 3, 7, 9, 1, 7, 9, 1, 1, 3, 1, 3, 3, 7, 9, 7, 3, 3, 3, 1, 7, 3, 3, 1, 7, 1, 7, 7, 9, 3, 9, 3, 7, 3, 9, 1, 3, 9, 1, 7, 9, 7, 1, 3, 1, 1, 1, 1, 7, 3, 9, 7, 3, 7, 9, 1, 7, 9, 9, 7, 1, 3, 7, 3, 9, 1, 3, 9, 3, 1, 1, 9, 7, 9, 1, 7, 3, 7, 7, 1, 3, 3, 1, 7, 3, 7, 3, 9, 3, 7, 7, 1, 7, 1, 9, 3, 1, 3, 1, 1, 3, 7, 7, 3, 7, 3, 9, 1, 9, 7, 3, 3, 1, 9, 7, 7, 3, 9, 9, 3, 3, 9, 9, 9, 1, 1, 3, 9, 1, 1, 3, 9, 9, 1, 1, 3, 7, 3, 9, 1, 7, 1, 3, 9, 1, 1, 7, 7, 9, 9, 3, 9, 1, 9, 1, 3, 1, 1, 1, 7, 3, 9, 7, 1, 7, 9, 1, 3, 9, 3, 9, 1, 3, 9, 9, 7, 3, 7, 3, 7, 9, 1, 1, 1, 3, 9, 1, 3, 9, 1, 1, 1, 9, 3, 1, 1, 3, 1, 1, 7, 9, 7, 7, 9, 3, 9, 7, 1, 7, 1, 9, 3, 9, 1, 7, 3, 1, 3, 1, 9, 3, 3, 3, 3, 9, 1, 9, 3, 9, 7, 3, 9, 3, 1, 7, 1, 7, 9, 1, 3, 3, 9, 9, 1, 7, 9, 1, 9, 3, 1, 3, 7, 9, 3, 7, 9, 7, 7, 7, 9, 3, 9, 7, 3, 9, 9, 7, 7, 7, 9, 9, 3, 9, 1, 7, 3, 7, 1, 1, 1, 3, 7, 3, 7, 3, 9, 3, 3, 9, 1, 3, 9, 9, 3, 3, 7, 9, 9, 7, 7, 3, 7, 9, 9, 3, 3, 9, 1, 3, 9, 7, 3, 9, 9, 1, 7, 1, 3, 7, 9, 9, 3, 1, 9, 7, 3, 7, 7, 9, 7, 1, 9, 9, 3, 7, 9, 3, 9, 1, 9, 1, 3, 7, 9, 3, 9, 7, 1, 1, 7, 1, 7, 3, 9, 7, 9, 1, 9, 3, 9, 7, 9, 1, 1, 7, 9, 1, 3, 1, 9, 7, 9, 1, 9, 3, 9, 9, 1, 1, 3, 3, 3, 9, 9, 7, 3, 7, 9, 1, 3, 7, 9, 1, 7, 3, 1, 7, 3, 7, 9, 7, 7, 1, 3, 9, 7, 3, 3, 3, 9, 9, 3, 3, 9, 1, 7, 1, 1, 7, 3, 9, 1, 3, 1, 3, 3, 7, 9, 3, 7, 1, 7, 9, 9, 7, 3, 3, 9, 1, 1, 7, 9, 3, 7, 9, 1, 1, 3, 3, 7, 3, 3, 9, 9, 3, 7, 9, 7, 7, 1, 3, 9, 7, 7, 1, 9, 1, 7, 9, 7, 1, 3, 9, 7, 3, 7, 3, 7, 1, 3, 9, 7, 1, 3, 9, 3, 9, 7, 7, 9, 7, 3, 9, 1, 3, 7, 1, 7, 3, 1, 1, 9, 7, 7, 3, 7, 3, 1, 1, 3, 9, 1, 3, 1, 1, 3, 7, 9, 9, 1, 1, 7, 7, 3, 7, 3, 7, 7, 3, 9, 1, 3, 3, 7, 1, 1, 7, 9, 1, 1, 7, 7, 3, 9, 7, 3, 1, 9, 7, 3, 9, 7, 3, 7, 3, 9, 1, 7, 1, 3, 7, 3, 7, 9, 3, 9, 1, 7, 7, 9, 1, 7, 9, 3, 9, 1, 1, 9, 3, 1, 3, 9, 1, 3, 7, 7, 3, 1, 3, 3, 3, 1, 7, 1, 1, 3, 7, 9, 1, 3, 3, 9, 1, 1, 3, 1, 1, 3, 9, 7, 9, 7, 9, 7, 1, 1, 1, 7, 9, 9, 1, 1, 7, 9, 3, 3, 9, 7, 9, 1, 1, 7, 9, 9, 1, 1, 1, 3, 9, 3, 9, 1, 7, 9, 1, 7, 3, 1, 7, 9, 1, 3, 3, 3, 9, 9, 1, 7, 9, 9, 1, 7, 3, 1, 3, 9, 7, 3, 7, 9, 3, 9, 1, 7, 3, 9, 7, 3, 9, 3, 9, 1, 7, 3, 3, 7, 3, 3, 3, 9, 1, 7, 7, 9, 1, 9, 1, 7, 3, 9, 9, 7, 1, 9, 3, 7, 3, 1, 3, 7, 3, 7, 3, 3, 9, 1, 1, 9, 3, 9, 7, 3, 7, 3, 9, 7, 9, 3, 1, 3, 7, 9, 7, 9, 1, 3, 7, 1, 7, 1, 1, 7, 9, 9, 1, 7, 1, 7, 3, 9, 7, 1, 3, 7, 9, 7, 9, 9, 1, 7, 1, 3, 9, 3, 3, 7, 3, 1, 7, 9, 3, 1, 7, 3, 1, 1, 3, 9, 7, 9, 7, 1, 9, 9, 3, 7, 9, 1, 1, 3, 1, 7, 3, 7, 3, 3, 9, 3, 9, 1, 3, 9, 1, 9, 3, 9, 9, 7, 1, 7, 9, 1, 1, 7, 3, 1, 7, 1, 3, 7, 3, 9, 3, 7, 7, 3, 3, 7, 9, 9, 1, 9, 9, 1, 9, 3, 1, 1, 9, 9, 1, 7, 7, 7, 3, 3, 7, 9, 1, 3, 9, 1, 7, 7, 1, 1, 3, 7, 3, 9, 1, 3, 3, 7, 3, 9, 3, 7, 1, 1, 1, 7, 3, 9, 9, 1, 1, 9, 9, 1, 1, 9, 9, 1, 9, 7, 9, 1, 7, 3, 9, 1, 3, 1, 7, 7, 9, 1, 1, 9, 1, 3, 1, 7, 1, 9, 7, 3, 7, 7, 3, 7, 3, 9, 9, 1, 9, 1, 3, 3, 1, 7, 9, 3, 1, 3, 7, 9, 3, 7, 3, 9, 1, 7, 1, 1, 9, 9, 3, 7, 1, 7, 1, 3, 9, 1, 1, 3, 7, 7, 1, 7, 9, 3, 7, 3, 7, 9, 1, 3, 7, 3, 1, 9, 1, 1, 9, 3, 3, 7, 1, 9, 9, 3, 1, 7, 9, 7, 9, 1, 3, 9, 1, 7, 7, 7, 3, 3, 1, 7, 9, 3, 9, 9, 3, 9, 1, 1, 1, 9, 9, 7, 1, 7, 9, 7, 9, 1, 7, 9, 9, 3, 1, 1, 7, 1, 9, 1, 3, 7, 9, 3, 1, 9, 7, 9, 1, 3, 9, 3, 7, 9, 1, 1, 1, 3, 7, 9, 7, 3, 7, 1, 1, 3, 3, 7, 1, 7, 1, 7, 3, 9, 3, 9, 9, 3, 9, 7, 1, 7, 1, 7, 9, 3, 9, 1, 3, 7, 3, 7, 1, 7, 9, 1, 1, 3, 9, 7, 9, 7, 1, 9, 3, 9, 7, 9, 7, 1, 3, 1, 1, 3, 9, 7, 1, 1, 3, 7, 1, 3, 7, 9, 1, 7, 7, 9, 1, 7, 9, 7, 3, 3, 1, 1, 1, 3, 3, 1, 7, 7, 9, 1, 3, 7, 9, 1, 3, 3, 3, 3, 3, 7, 7, 7, 9, 1, 7, 7, 7, 9, 3, 9, 3, 7, 9, 7, 9, 1, 7, 7, 3, 3, 9, 7, 9, 3, 1, 7, 9, 7, 7, 9, 1, 7, 9, 9, 1, 3, 3, 7, 3, 9, 1, 1, 3, 9, 3, 1, 7, 7, 7, 7, 1, 3, 3, 9, 1, 1, 9, 9, 3, 7, 1, 1, 7, 9, 1, 9, 9, 1, 3, 9, 3, 1, 1, 3, 1, 9, 1, 3, 9, 1, 9, 1, 3, 3, 3, 9, 3, 3, 3, 9, 7, 3, 1, 3, 1, 7, 3, 9, 3, 7, 1, 3, 9, 1, 9, 7, 1, 9, 1, 7, 9, 1, 7, 1, 9, 1, 3, 9, 1, 1, 3, 7, 1, 3, 7, 9, 1, 7, 9, 9, 3, 1, 7, 3, 9, 9, 7, 3, 7, 3, 3, 3, 7, 9, 7, 1, 3, 9, 3, 1, 3, 3, 7, 7, 1, 9, 1, 3, 3, 7, 9, 1, 9, 3, 1, 1, 7, 3, 9, 3, 7, 3, 7, 9, 7, 9, 1, 1, 3, 7, 7, 1, 1, 3, 1, 3, 1, 7, 7, 9, 3, 1, 9, 9, 1, 9, 7, 7, 3, 3, 7, 9, 3, 9, 1, 1, 3, 7, 3, 7, 7, 9, 1, 1, 9, 9, 7, 3, 9, 7, 7, 1, 1, 7, 1, 7, 9, 1, 1, 7, 7, 9, 1, 7, 9, 1, 3, 3, 7, 3, 1, 7, 1, 9, 7, 3, 9, 3, 1, 3, 3, 9, 7, 3, 7, 3, 7, 9, 1, 7, 7, 9, 9, 3, 9, 1, 9, 3, 9, 3, 7, 9, 9, 3, 7, 1, 1, 7, 9, 1, 7, 3, 9, 3, 9, 7, 7, 3, 1, 7, 9, 1, 7, 3, 1, 1, 9, 1, 3, 7, 7, 1, 3, 7, 7, 9, 1, 3, 3, 9, 1, 7, 9, 1, 3, 7, 3, 9, 7, 1, 3, 7, 7, 9, 9, 1, 7, 3, 9, 9, 1, 7, 9, 3, 1, 3, 9, 3, 1, 7, 1, 7, 3, 9, 7, 7, 9, 3, 7, 1, 7, 3, 3, 3, 7, 9, 3, 9, 1, 7, 3, 9, 3, 3, 7, 9, 1, 3, 1, 3, 1, 9, 9, 9, 3, 9, 1, 1, 1, 1, 1, 9, 3, 7, 3, 1, 3, 7, 7, 7, 9, 3, 9, 1, 7, 1, 3, 7, 7, 1, 9, 3, 3, 9, 1, 3, 3, 9, 7, 7, 7, 7, 7, 3, 1, 1, 3, 1, 9, 1, 3, 7, 9, 1, 9, 3, 1, 9, 7, 3, 7, 1, 7, 3, 9, 1, 3, 7, 3, 9, 1, 1, 1, 7, 1, 7, 9, 3, 9, 9, 9, 1, 7, 7, 9, 7, 3, 9, 3, 3, 9, 9, 3, 1, 7, 1, 1, 3, 7, 7, 9, 7, 7, 7, 9, 7, 3, 1, 3, 9, 3, 9, 3, 7, 9, 9, 3, 1, 7, 9, 3, 9, 7, 1, 3, 7, 7, 7, 3, 1, 9, 7, 1, 3, 9, 1, 9, 1, 1, 3, 9, 3, 7, 1, 1, 3, 3, 9, 1, 9, 1, 1, 7, 3, 7, 1, 1, 7, 1, 7, 1, 7, 1, 9, 3, 7, 1, 3, 7, 9, 1, 3, 9, 1, 7, 9, 1, 3, 9, 7, 3, 3, 9, 9, 7, 3, 7, 3, 7, 3, 7, 9, 9, 9, 3, 3, 7, 9, 7, 3, 3, 9, 1, 1, 1, 1, 9, 9, 1, 7, 9, 3, 7, 3, 9, 7, 3, 7, 3, 9, 3, 7, 9, 1, 9, 1, 3, 3, 1, 3, 7, 7, 1, 7, 3, 7, 1, 9, 1, 7, 1, 3, 3, 3, 9, 7, 9, 3, 1, 7, 9, 1, 7, 1, 9, 9, 1, 3, 3, 1, 3, 7, 3, 7, 3, 1, 9, 3, 9, 3, 3, 9, 7, 1, 1, 9, 9, 1, 3, 9, 3, 7, 1, 1, 9, 7, 7, 7, 7, 7, 9, 1, 3, 3, 9, 7, 9, 1, 9, 9, 7, 7, 7, 9, 1, 1, 7, 7, 1, 7, 9, 9, 3, 9, 7, 9, 9, 1, 3, 9, 1, 7, 3, 7, 3, 1, 7, 3, 1, 9, 9, 1, 9, 1, 3, 9, 7, 9, 7, 1, 3, 9, 1, 1, 7, 7, 9, 1, 7, 9, 9, 1, 3, 1, 3, 7, 1, 1, 7, 3, 7, 9, 9, 1, 1, 7, 3, 9, 1, 7, 3, 7, 9, 1, 7, 3, 7, 1, 3, 7, 9, 1, 3, 7, 9, 9, 1, 1, 3, 1, 3, 7, 9, 1, 1, 9, 3, 7, 1, 7, 9, 7, 9, 3, 1, 7, 3, 1, 3, 7, 3, 7, 9, 7, 7, 9, 1, 3, 7, 3, 3, 1, 7, 3, 7, 3, 1, 9, 7, 9, 1, 7, 3, 7, 9, 3, 9, 1, 7, 9, 1, 9, 3, 1, 7, 1, 3, 7, 7, 7, 9, 3, 7, 3, 7, 1, 1, 3, 7, 1, 3, 7, 1, 1, 3, 1, 1, 7, 9, 3, 1, 3, 1, 3, 3, 3, 9, 3, 9, 1, 3, 7, 9, 3, 3, 1, 3, 3, 7, 3, 7, 3, 1, 9, 9, 7, 3, 9, 1, 9, 9, 1, 3, 7, 7, 1, 3, 9, 1, 9, 7, 3, 1, 3, 9, 3, 3, 9, 3, 1, 1, 9, 3, 3, 9, 9, 7, 9, 3, 9, 3, 1, 7, 9, 7, 7, 9, 7, 3, 1, 7, 7, 9, 1, 1, 3, 7, 9, 1, 1, 3, 9, 7, 1, 3, 7, 9, 1, 7, 7, 9, 9, 1, 7, 1, 7, 3, 9, 1, 3, 9, 3, 9, 9, 1, 3, 1, 1, 3, 9, 1, 7, 3, 7, 7, 7, 7, 9, 3, 1, 9, 1, 7, 9, 7, 9, 1, 1, 3, 9, 1, 7, 3, 9, 7, 1, 9, 3, 9, 7, 3, 1, 7, 7, 3, 1, 7, 7, 7, 1, 1, 1, 7, 9, 1, 3, 3, 7, 3, 1, 7, 7, 9, 1, 3, 7, 3, 9, 7, 1, 7, 7, 3, 9, 7, 1, 1, 3, 7, 3, 1, 7, 9, 3, 7, 3, 7, 7, 3, 9, 7, 9, 1, 9, 1, 7, 1, 3, 9, 3, 7, 9, 1, 1, 7, 1, 9, 1, 9, 9, 3, 7, 3, 7, 1, 3, 1, 3, 7, 3, 9, 9, 9, 1, 7, 1, 7, 1, 3, 1, 9, 7, 7, 9, 3, 9, 3, 9, 1, 9, 1, 3, 9, 7, 9, 7, 1, 7, 3, 1, 7, 1, 9, 3, 9, 1, 1, 3, 7, 3, 7, 3, 1, 1, 3, 1, 7, 3, 7, 9, 7, 9, 1, 7, 7, 3, 9, 7, 7, 1, 7, 3, 9, 1, 9, 1, 7, 9, 7, 1, 7, 7, 7, 9, 9, 3, 3, 3, 7, 9, 1, 3, 7, 9, 7, 3, 1, 9, 3, 7, 7, 9, 9, 7, 9, 9, 7, 9, 1, 3, 9, 7, 9, 1, 7, 3, 7, 9, 3, 1, 9, 3, 1, 3, 9, 3, 3, 9, 3, 3, 1, 7, 9, 3, 9, 7, 1, 7, 3, 1, 3, 9, 9, 1, 7, 1, 3, 9, 3, 3, 1, 3, 1, 3, 7, 3, 3, 1, 9, 3, 3, 1, 9, 7, 3, 9, 7, 1, 9, 7, 3, 9, 3, 7, 3, 9, 1, 1, 9, 1, 3, 9, 1, 1, 9, 3, 1, 7, 7, 1, 3, 1, 1, 7, 9, 3, 9, 1, 9, 7, 7, 9, 3, 7, 9, 1, 7, 3, 1, 9, 7, 3, 9, 1, 3, 7, 7, 9, 7, 9, 3, 9, 3, 9, 1, 1, 1, 9, 1, 7, 9, 3, 1, 7, 3, 9, 1, 1, 1, 3, 1, 7, 3, 9, 3, 3, 9, 9, 7, 9, 9, 1, 7, 1, 9, 7, 1, 3, 9, 1, 9, 9, 1, 1, 9, 9, 3, 1, 3, 1, 9, 9, 1, 9, 3, 9, 1, 3, 7, 1, 7, 3, 7, 1, 1, 9, 3, 1, 7, 7, 9, 7, 3, 7, 1, 9, 1, 3, 9, 1, 7, 3, 1, 7, 9, 3, 9, 3, 1, 7, 3, 7, 3, 7, 1, 7, 9, 9, 3, 7, 9, 7, 1, 9, 9, 1, 9, 1, 7, 1, 9, 1, 3, 3, 7, 3, 3, 7, 1, 3, 9, 9, 1, 1, 9, 9, 7, 1, 7, 9, 3, 7, 3, 3, 9, 1, 9, 9, 1, 1, 7, 3, 9, 7, 3, 9, 7, 7, 3, 1, 3, 9, 7, 9, 9, 3, 9, 1, 7, 3, 3, 7, 9, 3, 1, 7, 7, 9, 9, 1, 1, 1, 7, 9, 3, 7, 3, 3, 1, 7, 3, 9, 9, 7, 1, 7, 3, 7, 3, 9, 3, 9, 1, 7, 9, 7, 1, 1, 7, 1, 7, 3, 9, 1, 3, 3, 7, 3, 7, 1, 7, 9, 7, 9, 7, 3, 3, 3, 9, 1, 1, 1, 7, 7, 9, 3, 7, 9, 1, 3, 3, 1, 3, 3, 3, 7, 3, 3, 1, 1, 7, 1, 7, 7, 1, 3, 3, 9, 1, 9, 7, 1, 3, 1, 7, 1, 3, 9, 1, 7, 9, 1, 1, 3, 1, 7, 1, 3, 9, 1, 3, 9, 3, 9, 1, 9, 3, 7, 9, 1, 9, 7, 7, 9, 3, 1, 3, 7, 9, 7, 1, 9, 1, 3, 1, 9, 9, 1, 1, 3, 9, 3, 3, 9, 9, 1, 7, 3, 7, 7, 1, 9, 9, 3, 7, 1, 3, 7, 1, 3, 7, 3, 1, 7, 3, 3, 1, 1, 7, 9, 3, 9, 3, 7, 1, 7, 9, 7, 9, 3, 1, 7, 3, 1, 7, 3, 9, 3, 7, 9, 3, 1, 7, 7, 1, 7, 1, 7, 1, 7, 9, 1, 3, 7, 1, 7, 9, 1, 7, 7, 9, 3, 9, 3, 3, 9, 1, 3, 1, 3, 7, 1, 1, 9, 7, 3, 7, 3, 9, 3, 1, 7, 3, 7, 3, 7, 9, 1, 7, 9, 3, 7, 3, 1, 3, 1, 3, 3, 9, 9, 7, 1, 7, 9, 1, 7, 3, 7, 9, 9, 1, 7, 9, 3, 9, 1, 3, 7, 7, 3, 7, 1, 9, 1, 9, 9, 1, 1, 9, 3, 3, 1, 7, 3, 7, 1, 9, 9, 1, 7, 3, 1, 9, 3, 1, 3, 7, 1, 7, 3, 7, 1, 9, 1, 7, 3, 7, 3, 9, 3, 1, 7, 9, 3, 1, 3, 1, 7, 9, 7, 7, 3, 9, 7, 7, 3, 3, 3, 7, 9, 9, 1, 7, 3, 9, 7, 1, 7, 9, 1, 3, 7, 1, 1, 3, 1, 9, 9, 1, 7, 3, 7, 1, 3, 1, 3, 1, 1, 3, 9, 7, 9, 3, 9, 7, 7, 3, 1, 1, 3, 1, 7, 3, 9, 7, 1, 7, 9, 3, 7, 9, 1, 1, 9, 9, 7, 3, 9, 9, 3, 7, 1, 7, 9, 3, 7, 7, 9, 1, 3, 7, 3, 1, 3, 1, 1, 3, 9, 1, 7, 3, 7, 9, 1, 1, 7, 1, 9, 9, 1, 3, 1, 9, 1, 7, 9, 1, 7, 7, 9, 9, 3, 9, 3, 1, 3, 1, 1, 7, 7, 9, 1, 1, 3, 7, 9, 3, 7, 3, 9, 1, 3, 9, 1, 7, 3, 7, 9, 1, 1, 7, 9, 3, 9, 1, 1, 3, 1, 7, 1, 3, 3, 1, 7, 9, 7, 9, 7, 3, 9, 7, 9, 9, 7, 3, 3, 7, 9, 9, 1, 7, 3, 9, 3, 3, 1, 1, 7, 3, 3, 3, 9, 7, 9, 7, 7, 9, 1, 3, 1, 3, 9, 7, 9, 1, 1, 9, 3, 3, 7, 1, 3, 7, 9, 9, 1, 7, 3, 9, 1, 3, 3, 1, 9, 7, 7, 9, 9, 1, 7, 3, 1, 7, 7, 1, 7, 7, 1, 3, 9, 7, 3, 3, 1, 7, 1, 9, 3, 7, 1, 9, 1, 9, 3, 9, 3, 1, 7, 3, 7, 7, 9, 1, 1, 7, 3, 9, 3, 1, 3, 1, 7, 9, 7, 7, 3, 9, 9, 9, 3, 9, 1, 9, 3, 7, 1, 7, 9, 7, 7, 1, 7, 1, 7, 9, 3, 9, 7, 3, 9, 3, 9, 7, 3, 1, 1, 3, 9, 9, 1, 9, 7, 1, 3, 9, 9, 7, 7, 9, 1, 9, 1, 7, 9, 1, 3, 7, 1, 1, 9, 1, 9, 1, 3, 3, 9, 1, 3, 3, 1, 3, 7, 1, 3, 1, 7, 9, 3, 9, 3, 9, 3, 3, 3, 7, 7, 1, 3, 9, 1, 9, 3]\n"
          ],
          "name": "stdout"
        }
      ]
    },
    {
      "cell_type": "code",
      "metadata": {
        "id": "PfQus5LAzO6w"
      },
      "source": [
        "last_digit=numpy.array(L)"
      ],
      "execution_count": null,
      "outputs": []
    },
    {
      "cell_type": "code",
      "metadata": {
        "colab": {
          "base_uri": "https://localhost:8080/",
          "height": 350
        },
        "id": "rK39rCN1ycbV",
        "outputId": "3c9c4e7a-f1b5-405b-86b0-eed5128aa666"
      },
      "source": [
        "%matplotlib inline\n",
        "plt.figure(figsize=(8, 5))  #  Makes the resulting figure 12in by 5in.\n",
        "plt.hist(last_digit, bins=range(1,11)) #  Makes a histogram with one bin for each possible gap from 1 to 114.\n",
        "plt.ylabel('Frequency')\n",
        "plt.xlabel('Digit')\n",
        "plt.grid(True)\n",
        "plt.title('The frequency of last digits')\n",
        "plt.show()"
      ],
      "execution_count": null,
      "outputs": [
        {
          "output_type": "display_data",
          "data": {
            "image/png": "[encoded data removed]",
            "text/plain": [
              "<Figure size 576x360 with 1 Axes>"
            ]
          },
          "metadata": {
            "tags": [],
            "needs_background": "light"
          }
        }
      ]
    },
    {
      "cell_type": "markdown",
      "metadata": {
        "id": "e30ABp4Z1p-h"
      },
      "source": [
        "From this histogram, there does not appear to be a bias. Nevertheless, there does appear to be a slight bias in favor of three, though it's so slight that it is probably true, not in general, but for the particular subset of primes we're considering."
      ]
    },
    {
      "cell_type": "code",
      "metadata": {
        "id": "PGSt3nvN1P5E"
      },
      "source": [
        "one=[p for p in L if p==1]\n",
        "three=[p for p in L if p==3]\n",
        "seven=[p for p in L if p==7]\n",
        "nine=[p for p in L if p==9]"
      ],
      "execution_count": null,
      "outputs": []
    },
    {
      "cell_type": "code",
      "metadata": {
        "colab": {
          "base_uri": "https://localhost:8080/"
        },
        "id": "IMqs_Jex1Pwu",
        "outputId": "19a71acc-65a8-46b5-af9d-7d7ec51effb5"
      },
      "source": [
        "print(len(one))\n",
        "print(len(three))\n",
        "print(len(seven))\n",
        "print(len(nine))"
      ],
      "execution_count": null,
      "outputs": [
        {
          "output_type": "stream",
          "text": [
            "19617\n",
            "19665\n",
            "19621\n",
            "19593\n"
          ],
          "name": "stdout"
        }
      ]
    },
    {
      "cell_type": "markdown",
      "metadata": {
        "id": "XP8K-qxr7OS1"
      },
      "source": [
        "3. It is glaringly apparent. The frequency with which a last digit of 3 is followed by a last digit of nine is quite high in comparison to the frequencies with which a one, three, or seven follows:"
      ]
    },
    {
      "cell_type": "code",
      "metadata": {
        "colab": {
          "base_uri": "https://localhost:8080/"
        },
        "id": "yovtQUZ01mgz",
        "outputId": "9f38f51c-0ebd-48d2-a767-f1ba50a025d8"
      },
      "source": [
        "\n",
        "\n",
        "on=[]\n",
        "for n in range(1,78497):\n",
        "  if L[n]==3 and L[n+1]==1:\n",
        "    on.append(1)\n",
        "print(len(on))  \n",
        "\n",
        "tr=[]\n",
        "for n in range(1,78497):\n",
        "  if L[n]==3 and L[n+1]==3:\n",
        "    tr.append(3)\n",
        "print(len(tr)) \n",
        "\n",
        "sev=[]\n",
        "for n in range(1,78497):\n",
        "  if L[n]==3 and L[n+1]==7:\n",
        "    sev.append(7)\n",
        "print(len(sev)) \n",
        "\n",
        "nin=[]\n",
        "for n in range(1,78497):\n",
        "  if L[n]==3 and L[n+1]==9:\n",
        "    nin.append(9)\n",
        "print(len(nin)) "
      ],
      "execution_count": null,
      "outputs": [
        {
          "output_type": "stream",
          "text": [
            "4387\n",
            "2810\n",
            "5819\n",
            "6647\n"
          ],
          "name": "stdout"
        }
      ]
    },
    {
      "cell_type": "code",
      "metadata": {
        "id": "g2XnvRJg6lLL"
      },
      "source": [
        ""
      ],
      "execution_count": null,
      "outputs": []
    }
  ]
}