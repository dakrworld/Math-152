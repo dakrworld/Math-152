{
  "nbformat": 4,
  "nbformat_minor": 0,
  "metadata": {
    "colab": {
      "name": "Exploration 1.ipynb",
      "provenance": [],
      "collapsed_sections": [],
      "authorship_tag": "ABX9TyMhfwHDNMdzwb0KG5acKOnh",
      "include_colab_link": true
    },
    "kernelspec": {
      "name": "python3",
      "display_name": "Python 3"
    },
    "language_info": {
      "name": "python"
    }
  },
  "cells": [
    {
      "cell_type": "markdown",
      "metadata": {
        "id": "view-in-github",
        "colab_type": "text"
      },
      "source": [
        "<a href=\"https://colab.research.google.com/github/dakrworld/Math-152/blob/main/Exploration_1.ipynb\" target=\"_parent\"><img src=\"https://colab.research.google.com/assets/colab-badge.svg\" alt=\"Open In Colab\"/></a>"
      ]
    },
    {
      "cell_type": "markdown",
      "metadata": {
        "id": "A9zArJA8NsNC"
      },
      "source": [
        "Our first task is to check the Collatz conjecture for all positive integers up to a big number. That is, we need to show that the sequence produced by applying the Collatz algorithm to any positive integer between, say, 1 and 1000000 will eventually reach the cycle 4,2,1,4,2,1,....\n",
        "\n",
        "Initially, one might have the thought that the best approach to take is to, for each intger one wishes to check, print the sequence and then manually verify that, past a certain point, all one sees is 4,2,1 repeated over and over again. There is, however, a better way. We know that, for 4, 2, and 1, the Collatz algorithm generates, as the first term in the sequence, 2, 1, and 4, respectively. What this means is that when 4 makes its first appearance in the sequence, the cylcle 2,1,4,2,1,...is guarenteed to follow. Thus, we don't need to show that the sequence eventually reaches the cycle 4,2,1,4,2,1,...; we just need to show that the sequence gives rise to a 4 (or a 2 or a 1).\n",
        "\n",
        "There are various ways to do this. Obviously, we can code a function that takes as its input the value of n we wish to verify the conjecture for and, for its output, prints terms of the sequence until a 4 arises. This, in theory, works. If terms stop getting printed, then the conjecture holds; if they don't, then it doesn't. But is it really necessary to print each term? In this case, it isn't. Printing is a demanding, time consuming process that, if possible, should be avoided. Since we're only really interested in showing that a 4 pops up at some point, there isn't any need for the other terms of the sequence to be printed; we don't even need to print the 4. We just need a function of positive integers that internally runs through the terms of the sequence, and returns true when it lands on 4. \n",
        "\n",
        "This, it appears, is the best approach to take. We just need to be careful to make sure that 4 arises out of a consideration of each term of the sequence, not some other process. In other words, we need to be certain that out function is (a) looking at the terms of the sequence and (b) returning true only when it finds a 4. \n",
        "\n",
        "To that end, consider the following function:"
      ]
    },
    {
      "cell_type": "code",
      "metadata": {
        "id": "fvQudC_eJ2_F"
      },
      "source": [
        "def collatz_1(n):\n",
        "  def integer(n):\n",
        "    j=0\n",
        "    while j<(n/2):\n",
        "      j=j+1\n",
        "    return j\n",
        "  while n!=4:\n",
        "    if integer(n)==(n/2):\n",
        "      n=n/2\n",
        "    else:\n",
        "      n=3*n+1    \n",
        "  return (True)   "
      ],
      "execution_count": 160,
      "outputs": []
    },
    {
      "cell_type": "markdown",
      "metadata": {
        "id": "Y7hM8CvNW3Nd"
      },
      "source": [
        "It takes, as its input, a positive integer n. The first thing that happens next is another function is defined. This function returns the smallest integer not less than half of n (why we need this value will become clear). Then we have a while loop. It perpetuates as long as n is not equal to 4. First, it checks if n is even. (It does this by integer(n) is equal to one half of n: integer(n) is the smallest integer not less than half of n. Clearly, if n is an even number, this number is equal to one half of n; if, however, it is odd, it is not, for one half of an odd number is not an integer. Thus, checking that integer(n) is equal to one half of n is a valid way of determining the parity of n.) If it is, n is, accordingly, set to one half n. It, however, it is determined that n is not even, then n must be odd, in which case n is, as the Collatz conjecture dictates, set to three times n plus 1.  \n",
        "\n",
        "At this point, it is easy to see that our function suffices: it returns true when the Collatz conjecture is verified. This works great for individual positive integers: if you plug in a number and get true, then you're done. However, we can't use this function as it is to verify the conjecture for all values between 1 and 1000000; we'd have to consider each number separately, which would take a really long time, to say the least. Thus, we need to make some modifications to our code:"
      ]
    },
    {
      "cell_type": "code",
      "metadata": {
        "id": "xcv1KiYXKXRT"
      },
      "source": [
        "def collatz_2(n):\n",
        "  m=0\n",
        "  for j in range(1,n+1):\n",
        "    if collatz_1(j)==True:\n",
        "      m=m+1\n",
        "  if m==n:\n",
        "    return True\n",
        "  else:\n",
        "    return False     \n",
        "\n",
        "\n"
      ],
      "execution_count": 161,
      "outputs": []
    },
    {
      "cell_type": "markdown",
      "metadata": {
        "id": "G-9UZuyXiGHI"
      },
      "source": [
        "The first thing that happens is a variable m is set to 0. Then, the conjecture is checked for every positive integer between 1 and n. Every time the conjecture is verified, 1 is added to the value of m. Thus, if the conjecture holds for all positive integers between 1 and n, m should equal n after the loop runs its course; and if the conjecture doesn't hold for some values in the range, m will differ from n. If there is equality, True is returned; and if there isn't, the function returns False.\n",
        "\n",
        "Assuming our function does what we think it does, we can now conclude that the conjecture holds for all positive integers up to 1000."
      ]
    },
    {
      "cell_type": "markdown",
      "metadata": {
        "id": "_czpU7DuocrI"
      },
      "source": [
        "For our next task, we explore the behavior of the dropping time. The first thing we need to do is code a function that gives the dropping time of a positive integer. For this, we can make use of Collatz_1. This function, as we've explained, internally considers each term of the sequence generated by its input, and then stops when a 4 arises. What we want our dropping time function to do is similar: consider each term, and then stop when a term that is less than its input is found:"
      ]
    },
    {
      "cell_type": "code",
      "metadata": {
        "id": "uA_AnKr0yK5f"
      },
      "source": [
        "def drop_time(n):\n",
        "  def integer(n):\n",
        "    j=0\n",
        "    while j<(n/2):\n",
        "      j=j+1\n",
        "    return j\n",
        "  m=n\n",
        "  v=1\n",
        "  if integer(m)==(n/2):\n",
        "    return 1\n",
        "  else:\n",
        "    m=3*n+1\n",
        "  while m>n or m==n:\n",
        "    if integer(m)==(m/2):\n",
        "      m=m/2\n",
        "    else:\n",
        "      m=3*m+1\n",
        "    v=v+1\n",
        "  print(v)  "
      ],
      "execution_count": 136,
      "outputs": []
    },
    {
      "cell_type": "markdown",
      "metadata": {
        "id": "ZFvpL1PmyMU7"
      },
      "source": [
        "To see that our function behaves as it should, let's consider a few cases. If n is even, then the first term in the Collatz sequence that it generates is less than it. Thus, drop_time should return 1. Indeed, that is what happens. If n equals 1, then drop_time runs indefinitely, never returning anything. This is consistent with is not being defined for 1. And if n is odd, drop_time internally generates the terms of the sequence, counts how many terms there are between n and the first term smaller than n, and then returns that number. Accordingly, when n=17, we get 3. \n",
        "\n",
        "Unfortunately, our attempts to link the dropping time to modular arithmetic were not fruitful.\n",
        "\n"
      ]
    },
    {
      "cell_type": "markdown",
      "metadata": {
        "id": "tbul4X_A7EQr"
      },
      "source": [
        "For our final task, we \"change the rules\" of the Collatz conjecture. The most obvious change we can make is to substitute 3n-1 for 3n+1. To get an idea of what this sequence looks like, we code a function that generates its first 30 terms"
      ]
    },
    {
      "cell_type": "code",
      "metadata": {
        "id": "aTLFDX_7_HD4"
      },
      "source": [
        "def collatz_mod(n):\n",
        "  j=0\n",
        "  def integer(n):\n",
        "    j=0\n",
        "    while j<(n/2):\n",
        "      j=j+1\n",
        "    return j\n",
        "  while j<30:\n",
        "    if integer(n)==(n/2):\n",
        "      n=n/2\n",
        "    else:\n",
        "      n=3*n-1 \n",
        "    j=j+1  \n",
        "    print(n)     \n",
        "   "
      ],
      "execution_count": 155,
      "outputs": []
    },
    {
      "cell_type": "markdown",
      "metadata": {
        "id": "uq272yh8AR0P"
      },
      "source": [
        "and then try out some values for n. For n=5, we get"
      ]
    },
    {
      "cell_type": "code",
      "metadata": {
        "colab": {
          "base_uri": "https://localhost:8080/"
        },
        "id": "FKv4XQRv_JWq",
        "outputId": "5cabbd30-67b6-4e9b-efb9-c2ae598e48c5"
      },
      "source": [
        "collatz_mod(5)"
      ],
      "execution_count": 149,
      "outputs": [
        {
          "output_type": "stream",
          "text": [
            "14\n",
            "7.0\n",
            "20.0\n",
            "10.0\n",
            "5.0\n",
            "14.0\n",
            "7.0\n",
            "20.0\n",
            "10.0\n",
            "5.0\n",
            "14.0\n",
            "7.0\n",
            "20.0\n",
            "10.0\n",
            "5.0\n",
            "14.0\n",
            "7.0\n",
            "20.0\n",
            "10.0\n",
            "5.0\n",
            "14.0\n",
            "7.0\n",
            "20.0\n",
            "10.0\n",
            "5.0\n",
            "14.0\n",
            "7.0\n",
            "20.0\n",
            "10.0\n",
            "5.0\n"
          ],
          "name": "stdout"
        }
      ]
    },
    {
      "cell_type": "markdown",
      "metadata": {
        "id": "otBiLBldAoMV"
      },
      "source": [
        "Right away, a pattern emerges. For this particular value of n, the sequence eventually reaches the cycle 14,7,20,10,5,.... This may just be a one-off, so let's try some more values. For n=6, we get"
      ]
    },
    {
      "cell_type": "code",
      "metadata": {
        "colab": {
          "base_uri": "https://localhost:8080/"
        },
        "id": "jWMu3Lf7_KaY",
        "outputId": "b1a636f1-c8d9-4857-c712-638f71f730fb"
      },
      "source": [
        "collatz_mod(6)"
      ],
      "execution_count": 150,
      "outputs": [
        {
          "output_type": "stream",
          "text": [
            "3.0\n",
            "8.0\n",
            "4.0\n",
            "2.0\n",
            "1.0\n",
            "2.0\n",
            "1.0\n",
            "2.0\n",
            "1.0\n",
            "2.0\n",
            "1.0\n",
            "2.0\n",
            "1.0\n",
            "2.0\n",
            "1.0\n",
            "2.0\n",
            "1.0\n",
            "2.0\n",
            "1.0\n",
            "2.0\n",
            "1.0\n",
            "2.0\n",
            "1.0\n",
            "2.0\n",
            "1.0\n",
            "2.0\n",
            "1.0\n",
            "2.0\n",
            "1.0\n",
            "2.0\n"
          ],
          "name": "stdout"
        }
      ]
    },
    {
      "cell_type": "markdown",
      "metadata": {
        "id": "7r6ZgDdIBWKR"
      },
      "source": [
        "Once again, the sequence eventually reaches a cycle. This time, however, it's 1,2,1,2,....\n",
        "\n",
        "For the sake of space, we won't show the results of plugging in anymore values for n. We did, however, test some more, and it does appear to be the case that that a pattern always emerges. For n=10, we got the same value that we got for n=5; and for n=11, the same as n=6. But for n=99, we got an entirely different pattern. \n",
        "\n",
        "Let's try one more change. Substitute 5n+1 for 3n+1:"
      ]
    },
    {
      "cell_type": "code",
      "metadata": {
        "id": "uxlKvkVaDbIf"
      },
      "source": [
        "def collatz_mod_2(n):\n",
        "  j=0\n",
        "  def integer(n):\n",
        "    j=0\n",
        "    while j<(n/2):\n",
        "      j=j+1\n",
        "    return j\n",
        "  while j<30:\n",
        "    if integer(n)==(n/2):\n",
        "      n=n/2\n",
        "    else:\n",
        "      n=5*n+1 \n",
        "    j=j+1  \n",
        "    print(n)  "
      ],
      "execution_count": 202,
      "outputs": []
    },
    {
      "cell_type": "markdown",
      "metadata": {
        "id": "QEbh2OUUInY4"
      },
      "source": [
        "For n=5, we eventually reach a cycle:"
      ]
    },
    {
      "cell_type": "code",
      "metadata": {
        "colab": {
          "base_uri": "https://localhost:8080/"
        },
        "id": "DUy7mTO0BhPV",
        "outputId": "83697b56-926c-4869-99f8-53827e39dfe4"
      },
      "source": [
        "collatz_mod_2(5)"
      ],
      "execution_count": 201,
      "outputs": [
        {
          "output_type": "stream",
          "text": [
            "26\n",
            "13.0\n",
            "66.0\n",
            "33.0\n",
            "166.0\n",
            "83.0\n",
            "416.0\n",
            "208.0\n",
            "104.0\n",
            "52.0\n",
            "26.0\n",
            "13.0\n",
            "66.0\n",
            "33.0\n",
            "166.0\n",
            "83.0\n",
            "416.0\n",
            "208.0\n",
            "104.0\n",
            "52.0\n",
            "26.0\n",
            "13.0\n",
            "66.0\n",
            "33.0\n",
            "166.0\n",
            "83.0\n",
            "416.0\n",
            "208.0\n",
            "104.0\n",
            "52.0\n",
            "26.0\n",
            "13.0\n",
            "66.0\n",
            "33.0\n",
            "166.0\n",
            "83.0\n",
            "416.0\n",
            "208.0\n",
            "104.0\n",
            "52.0\n",
            "26.0\n",
            "13.0\n",
            "66.0\n",
            "33.0\n",
            "166.0\n",
            "83.0\n",
            "416.0\n",
            "208.0\n",
            "104.0\n",
            "52.0\n",
            "26.0\n",
            "13.0\n",
            "66.0\n",
            "33.0\n",
            "166.0\n",
            "83.0\n",
            "416.0\n",
            "208.0\n",
            "104.0\n",
            "52.0\n"
          ],
          "name": "stdout"
        }
      ]
    },
    {
      "cell_type": "markdown",
      "metadata": {
        "id": "gsSAXne4ItoO"
      },
      "source": [
        "For n=7, however, we don't:"
      ]
    },
    {
      "cell_type": "code",
      "metadata": {
        "colab": {
          "base_uri": "https://localhost:8080/"
        },
        "id": "wzoPwbD-D5v4",
        "outputId": "f7c70433-4e1c-4bf5-b80f-3760b4b0c666"
      },
      "source": [
        "collatz_mod_2(7)"
      ],
      "execution_count": 203,
      "outputs": [
        {
          "output_type": "stream",
          "text": [
            "36\n",
            "18.0\n",
            "9.0\n",
            "46.0\n",
            "23.0\n",
            "116.0\n",
            "58.0\n",
            "29.0\n",
            "146.0\n",
            "73.0\n",
            "366.0\n",
            "183.0\n",
            "916.0\n",
            "458.0\n",
            "229.0\n",
            "1146.0\n",
            "573.0\n",
            "2866.0\n",
            "1433.0\n",
            "7166.0\n",
            "3583.0\n",
            "17916.0\n",
            "8958.0\n",
            "4479.0\n",
            "22396.0\n",
            "11198.0\n",
            "5599.0\n",
            "27996.0\n",
            "13998.0\n",
            "6999.0\n"
          ],
          "name": "stdout"
        }
      ]
    },
    {
      "cell_type": "markdown",
      "metadata": {
        "id": "xPZRp8l2I8PW"
      },
      "source": [
        "For 3n+1 and 3n-1, all values of n seem to give rise to a sequence that eventually reaches a cycle. This suggested that when one value has this property, all do. Evidently, however, this is not so. "
      ]
    },
    {
      "cell_type": "code",
      "metadata": {
        "id": "mcnm7YgJIzkq"
      },
      "source": [
        ""
      ],
      "execution_count": null,
      "outputs": []
    }
  ]
}